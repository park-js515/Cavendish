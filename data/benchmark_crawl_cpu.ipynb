{
 "cells": [
  {
   "cell_type": "code",
   "execution_count": 1,
   "id": "d58c51ad-bc6f-4fcc-989e-4112d3638cc6",
   "metadata": {
    "tags": []
   },
   "outputs": [],
   "source": [
    "from selenium import webdriver\n",
    "from selenium.webdriver.chrome.service import Service\n",
    "from selenium.webdriver.chrome.options import Options\n",
    "from selenium.webdriver.support.select import Select\n",
    "from selenium.webdriver.common.keys import Keys\n",
    "from selenium.webdriver.common.by import By\n",
    "import urllib.request\n",
    "import time\n",
    "import re\n",
    "\n",
    "import pandas as pd\n",
    "import pprint\n",
    "\n",
    "from bs4 import BeautifulSoup"
   ]
  },
  {
   "cell_type": "code",
   "execution_count": 2,
   "id": "91b4c37e-e5f1-416c-9133-f9360213f2ba",
   "metadata": {
    "tags": []
   },
   "outputs": [],
   "source": [
    "# 크롬 드라이버 자동 업데이트\n",
    "from webdriver_manager.chrome import ChromeDriverManager\n",
    "\n",
    "# 브라우저 꺼짐 방지\n",
    "chrome_options = Options()\n",
    "chrome_options.add_experimental_option(\"detach\", True)\n",
    "\n",
    "# 불필요한 에러 메세지 없애기\n",
    "chrome_options.add_experimental_option(\"excludeSwitches\", [\"enable-logging\"])\n",
    "service = Service(executable_path=ChromeDriverManager().install())"
   ]
  },
  {
   "cell_type": "code",
   "execution_count": 3,
   "id": "697b36d3-1f11-4504-809f-a2d1ca2dda8b",
   "metadata": {
    "tags": []
   },
   "outputs": [],
   "source": [
    "user_agent =\"Mozilla/5.0 (Windows NT 10.0; Win64; x64) AppleWebKit/537.36 (KHTML, like Gecko) Chrome/116.0.0.0 Safari/537.36\"\n",
    "chrome_options.add_argument(f'user-agent={user_agent}')\n",
    "\n",
    "driver = webdriver.Chrome(options=chrome_options)"
   ]
  },
  {
   "cell_type": "code",
   "execution_count": 4,
   "id": "268babc0-85fa-442c-a9bd-eb193a0dbd93",
   "metadata": {
    "tags": []
   },
   "outputs": [],
   "source": [
    "sub_urls = ['high_end_gpus.html', 'mid_range_gpus.html', 'midlow_range_gpus.html', 'low_end_gpus.html']\n",
    "\n",
    "save_file = False  # 파일 저장 여부\n",
    "waiting_sec = 2\n",
    "\n",
    "prd_dict = {\n",
    "    \"name\":[],\n",
    "    \"count\":[]\n",
    "    }\n",
    "\n",
    "\n",
    "for sub in sub_urls:\n",
    "    url = f'https://www.videocardbenchmark.net/{sub}'\n",
    "\n",
    "    driver.get(url)\n",
    "    driver.implicitly_wait(10)\n",
    "    \n",
    "    time.sleep(waiting_sec)\n",
    "\n",
    "    soup = BeautifulSoup(driver.page_source, 'html.parser')\n",
    "    prds = soup.select('#mark > div > div.chart_body > ul > li > a')\n",
    "    for prd in prds:\n",
    "        prdname = prd.select_one('a>span.prdname').get_text()\n",
    "        prdcount = prd.select_one('a>span.count').get_text().replace(',','')\n",
    "        \n",
    "        if prdname not in prd_dict['name']:\n",
    "            prd_dict['name'].append(str(prdname))\n",
    "            prd_dict['count'].append(int(prdcount))\n",
    "        else: continue"
   ]
  },
  {
   "cell_type": "code",
   "execution_count": 5,
   "id": "c9ee5730-5a0c-436b-bf8c-2f05ec412aa3",
   "metadata": {
    "tags": []
   },
   "outputs": [],
   "source": [
    "gpu_df = pd.DataFrame(prd_dict)"
   ]
  },
  {
   "cell_type": "code",
   "execution_count": 6,
   "id": "30ac294c-14a7-420c-af40-3f1999985fd4",
   "metadata": {
    "tags": []
   },
   "outputs": [
    {
     "data": {
      "text/html": [
       "<div>\n",
       "<style scoped>\n",
       "    .dataframe tbody tr th:only-of-type {\n",
       "        vertical-align: middle;\n",
       "    }\n",
       "\n",
       "    .dataframe tbody tr th {\n",
       "        vertical-align: top;\n",
       "    }\n",
       "\n",
       "    .dataframe thead th {\n",
       "        text-align: right;\n",
       "    }\n",
       "</style>\n",
       "<table border=\"1\" class=\"dataframe\">\n",
       "  <thead>\n",
       "    <tr style=\"text-align: right;\">\n",
       "      <th></th>\n",
       "      <th>name</th>\n",
       "      <th>count</th>\n",
       "    </tr>\n",
       "  </thead>\n",
       "  <tbody>\n",
       "    <tr>\n",
       "      <th>0</th>\n",
       "      <td>GeForce RTX 4090</td>\n",
       "      <td>38968</td>\n",
       "    </tr>\n",
       "    <tr>\n",
       "      <th>1</th>\n",
       "      <td>GeForce RTX 4080</td>\n",
       "      <td>34841</td>\n",
       "    </tr>\n",
       "    <tr>\n",
       "      <th>2</th>\n",
       "      <td>Radeon PRO W7800</td>\n",
       "      <td>32146</td>\n",
       "    </tr>\n",
       "    <tr>\n",
       "      <th>3</th>\n",
       "      <td>GeForce RTX 4070 Ti</td>\n",
       "      <td>31652</td>\n",
       "    </tr>\n",
       "    <tr>\n",
       "      <th>4</th>\n",
       "      <td>Radeon RX 7900 XTX</td>\n",
       "      <td>31173</td>\n",
       "    </tr>\n",
       "  </tbody>\n",
       "</table>\n",
       "</div>"
      ],
      "text/plain": [
       "                  name  count\n",
       "0     GeForce RTX 4090  38968\n",
       "1     GeForce RTX 4080  34841\n",
       "2     Radeon PRO W7800  32146\n",
       "3  GeForce RTX 4070 Ti  31652\n",
       "4   Radeon RX 7900 XTX  31173"
      ]
     },
     "execution_count": 6,
     "metadata": {},
     "output_type": "execute_result"
    }
   ],
   "source": [
    "gpu_df.head()"
   ]
  },
  {
   "cell_type": "code",
   "execution_count": 7,
   "id": "328f60c4-583e-42d5-91a6-4c7c88184e1e",
   "metadata": {
    "tags": []
   },
   "outputs": [
    {
     "data": {
      "text/plain": [
       "2555"
      ]
     },
     "execution_count": 7,
     "metadata": {},
     "output_type": "execute_result"
    }
   ],
   "source": [
    "len(gpu_df)"
   ]
  },
  {
   "cell_type": "code",
   "execution_count": 8,
   "id": "3683833d-e9ad-4b9c-9ae7-27cdf4e9f1a7",
   "metadata": {
    "tags": []
   },
   "outputs": [],
   "source": [
    "gpu_df.to_csv(\"bench_mark_gpu.csv\", index=None)"
   ]
  },
  {
   "cell_type": "code",
   "execution_count": 9,
   "id": "225a1f61-2251-4109-b174-4263cbdd8203",
   "metadata": {
    "tags": []
   },
   "outputs": [],
   "source": [
    "#rk4606 > a > span.count"
   ]
  }
 ],
 "metadata": {
  "kernelspec": {
   "display_name": "Python 3 (ipykernel)",
   "language": "python",
   "name": "python3"
  },
  "language_info": {
   "codemirror_mode": {
    "name": "ipython",
    "version": 3
   },
   "file_extension": ".py",
   "mimetype": "text/x-python",
   "name": "python",
   "nbconvert_exporter": "python",
   "pygments_lexer": "ipython3",
   "version": "3.11.4"
  }
 },
 "nbformat": 4,
 "nbformat_minor": 5
}
