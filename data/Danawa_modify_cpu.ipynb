{
 "cells": [
  {
   "cell_type": "code",
   "execution_count": 1,
   "id": "8017fc7e",
   "metadata": {
    "tags": []
   },
   "outputs": [],
   "source": [
    "import pandas as pd\n",
    "import numpy as np\n",
    "import time\n",
    "import re"
   ]
  },
  {
   "cell_type": "code",
   "execution_count": 13,
   "id": "a29cdc90-5582-46c3-8bf4-38a2f5c2cec4",
   "metadata": {},
   "outputs": [],
   "source": [
    "cpu = pd.read_csv('CPU_final.csv')"
   ]
  },
  {
   "cell_type": "code",
   "execution_count": 14,
   "id": "e2c61abe-f45d-4ca5-9e41-4cedca43584e",
   "metadata": {},
   "outputs": [
    {
     "data": {
      "text/plain": [
       "array(['DDR5', 'DDR5, DDR4', 'DDR4', 'DDR4, DDR3L', nan, 'DDR3',\n",
       "       'DDR3, DDR2'], dtype=object)"
      ]
     },
     "execution_count": 14,
     "metadata": {},
     "output_type": "execute_result"
    }
   ],
   "source": [
    "col = 'memory_type'\n",
    "cpu[col].unique()"
   ]
  },
  {
   "cell_type": "code",
   "execution_count": 15,
   "id": "11ea614c-37c5-469b-98a5-658a4af34ca1",
   "metadata": {},
   "outputs": [],
   "source": [
    "mt_bitmask = ['DDR5', 'DDR4', 'DDR3L', 'DDR3', 'DDR2']"
   ]
  },
  {
   "cell_type": "code",
   "execution_count": 16,
   "id": "42b242fb-919c-4327-891f-a5ca08d07fe8",
   "metadata": {},
   "outputs": [],
   "source": [
    "for i in range(len(cpu[col])):\n",
    "    if pd.isnull(cpu[col][i]): continue\n",
    "    mt_bit = 0\n",
    "    for j in range(len(mt_bitmask)):\n",
    "        if mt_bitmask[j] in cpu.loc[i, col]:\n",
    "            mt_bit |= 1 << j\n",
    "    cpu.loc[i, col] = mt_bit"
   ]
  },
  {
   "cell_type": "code",
   "execution_count": 17,
   "id": "a7ee06db-8b79-4173-bb90-bdce31d672e7",
   "metadata": {},
   "outputs": [
    {
     "data": {
      "text/plain": [
       "array([1, 3, 2, 14, nan, 8, 24], dtype=object)"
      ]
     },
     "execution_count": 17,
     "metadata": {},
     "output_type": "execute_result"
    }
   ],
   "source": [
    "cpu[col].unique()"
   ]
  },
  {
   "cell_type": "code",
   "execution_count": 22,
   "id": "dbce5b0d-6575-49ce-8703-58df2c9a6341",
   "metadata": {},
   "outputs": [
    {
     "name": "stdout",
     "output_type": "stream",
     "text": [
      "memory_clock\n",
      "memory_clock\n",
      "memory_clock\n"
     ]
    }
   ],
   "source": [
    "for col in cpu.columns:\n",
    "    for i in range(len(cpu[col])):\n",
    "        if pd.isnull(cpu[col][i]): continue\n",
    "        if '최대' in str(cpu.loc[i, col]):\n",
    "            print(col)"
   ]
  },
  {
   "cell_type": "code",
   "execution_count": 23,
   "id": "18877e95-5060-4e9b-aa64-76f97324a163",
   "metadata": {},
   "outputs": [
    {
     "data": {
      "text/plain": [
       "array(['5200', '4800, 3200', '3200', '5600, 3200', '2933', '2666', '2400',\n",
       "       nan, '최대 2133', '2667', '2133', '최대 2400', '1333', '1066', '2000',\n",
       "       '800', '최대 1866'], dtype=object)"
      ]
     },
     "execution_count": 23,
     "metadata": {},
     "output_type": "execute_result"
    }
   ],
   "source": [
    "col = 'memory_clock'\n",
    "cpu[col].unique()"
   ]
  },
  {
   "cell_type": "code",
   "execution_count": 24,
   "id": "c2a8423d-4861-4847-ad3e-35cebe685635",
   "metadata": {},
   "outputs": [],
   "source": [
    "for i in range(len(cpu[col])):\n",
    "    if pd.isnull(cpu[col][i]): continue\n",
    "    if '최대 ' in cpu.loc[i, col]:\n",
    "        cpu.loc[i, col] = cpu.loc[i, col].replace('최대 ', '')"
   ]
  },
  {
   "cell_type": "code",
   "execution_count": 25,
   "id": "8c3ee675-52f6-4bc8-b0ca-90396eb16150",
   "metadata": {},
   "outputs": [],
   "source": [
    "today = time.strftime('%y%m%d')\n",
    "pd.DataFrame(cpu).to_csv(f'part_cpu{today}.csv', index=None)"
   ]
  },
  {
   "cell_type": "code",
   "execution_count": null,
   "id": "3384dde8-8dda-42a9-a88e-24c81ff57b4d",
   "metadata": {},
   "outputs": [],
   "source": []
  }
 ],
 "metadata": {
  "kernelspec": {
   "display_name": "Python 3 (ipykernel)",
   "language": "python",
   "name": "python3"
  },
  "language_info": {
   "codemirror_mode": {
    "name": "ipython",
    "version": 3
   },
   "file_extension": ".py",
   "mimetype": "text/x-python",
   "name": "python",
   "nbconvert_exporter": "python",
   "pygments_lexer": "ipython3",
   "version": "3.9.12"
  }
 },
 "nbformat": 4,
 "nbformat_minor": 5
}
