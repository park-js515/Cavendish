{
 "cells": [
  {
   "cell_type": "code",
   "execution_count": 1,
   "id": "f60f6f9d",
   "metadata": {
    "tags": []
   },
   "outputs": [],
   "source": [
    "from selenium import webdriver\n",
    "from selenium.webdriver.chrome.service import Service\n",
    "from selenium.webdriver.chrome.options import Options\n",
    "from selenium.webdriver.common.by import By\n",
    "from selenium.webdriver.support.select import Select\n",
    "from selenium.webdriver.support.ui import WebDriverWait\n",
    "from selenium.webdriver.support import expected_conditions as EC\n",
    "from selenium.common.exceptions import NoSuchElementException\n",
    "from selenium.common.exceptions import StaleElementReferenceException\n",
    "from bs4 import BeautifulSoup\n",
    "import numpy as np\n",
    "import pandas as pd\n",
    "import pprint\n",
    "import time\n",
    "import csv\n",
    "import re\n",
    "\n",
    "# 크롬 드라이버 자동 업데이트\n",
    "from webdriver_manager.chrome import ChromeDriverManager"
   ]
  },
  {
   "cell_type": "code",
   "execution_count": 2,
   "id": "58be2346",
   "metadata": {
    "tags": []
   },
   "outputs": [],
   "source": [
    "class RetriesExceededError(Exception):\n",
    "    def __init__(self, message):\n",
    "        super().__init__(message)\n",
    "\n",
    "        \n",
    "def find_element_with_retry(driver_, by, value, waiting_sec=2.5, max_retries=10):\n",
    "    retries = 0\n",
    "    while retries < max_retries:\n",
    "        try:\n",
    "            element = WebDriverWait(driver_, waiting_sec).until(EC.presence_of_element_located((by, value)))\n",
    "            return element\n",
    "        except (NoSuchElementException, StaleElementReferenceException):\n",
    "            retries += 1\n",
    "            \n",
    "    raise RetriesExceededError(f'{value}를 찾을 수 없음\\n재시도 횟수 초과: {waiting_sec}초로 {max_retries}회 시도')"
   ]
  },
  {
   "cell_type": "code",
   "execution_count": 3,
   "id": "3d4e4c0f",
   "metadata": {
    "tags": []
   },
   "outputs": [],
   "source": [
    "# 브라우저 꺼짐 방지\n",
    "chrome_options = Options()\n",
    "chrome_options.add_experimental_option(\"detach\", True)\n",
    "\n",
    "user_agent = \"Mozilla/5.0 (Windows NT 10.0; Win64; x64) AppleWebKit/537.36 (KHTML, like Gecko) Chrome/116.0.0.0 Safari/537.36\"\n",
    "chrome_options.add_argument(f'user-agent={user_agent}')\n",
    "# 불필요한 에러 메세지 없애기\n",
    "chrome_options.add_experimental_option(\"excludeSwitches\", [\"enable-logging\"])\n",
    "driver = webdriver.Chrome(ChromeDriverManager().install(), options=chrome_options)\n",
    "# service = Service(executable_path=ChromeDriverManager().install())\n",
    "# driver = webdriver.Chrome(service=service, options=chrome_options)\n",
    "\n",
    "save_file = True  # 파일 저장 여부\n",
    "waiting_sec = 2"
   ]
  },
  {
   "cell_type": "code",
   "execution_count": 4,
   "id": "e74b15d6",
   "metadata": {
    "tags": []
   },
   "outputs": [
    {
     "data": {
      "text/html": [
       "<div>\n",
       "<style scoped>\n",
       "    .dataframe tbody tr th:only-of-type {\n",
       "        vertical-align: middle;\n",
       "    }\n",
       "\n",
       "    .dataframe tbody tr th {\n",
       "        vertical-align: top;\n",
       "    }\n",
       "\n",
       "    .dataframe thead th {\n",
       "        text-align: right;\n",
       "    }\n",
       "</style>\n",
       "<table border=\"1\" class=\"dataframe\">\n",
       "  <thead>\n",
       "    <tr style=\"text-align: right;\">\n",
       "      <th></th>\n",
       "      <th>cpu</th>\n",
       "      <th>mainboard</th>\n",
       "      <th>ram</th>\n",
       "      <th>gpu</th>\n",
       "      <th>case</th>\n",
       "      <th>power</th>\n",
       "      <th>cooler</th>\n",
       "      <th>ssd</th>\n",
       "    </tr>\n",
       "  </thead>\n",
       "  <tbody>\n",
       "    <tr>\n",
       "      <th>0</th>\n",
       "      <td>18640280.0</td>\n",
       "      <td>18652877.0</td>\n",
       "      <td>16443341.0</td>\n",
       "      <td>27613427.0</td>\n",
       "      <td>21583046.0</td>\n",
       "      <td>19813847.0</td>\n",
       "      <td>21550985.0</td>\n",
       "      <td>12338942.0</td>\n",
       "    </tr>\n",
       "    <tr>\n",
       "      <th>1</th>\n",
       "      <td>18039569.0</td>\n",
       "      <td>18652877.0</td>\n",
       "      <td>18700841.0</td>\n",
       "      <td>18021914.0</td>\n",
       "      <td>18419840.0</td>\n",
       "      <td>19023932.0</td>\n",
       "      <td>NaN</td>\n",
       "      <td>13538642.0</td>\n",
       "    </tr>\n",
       "    <tr>\n",
       "      <th>2</th>\n",
       "      <td>19627808.0</td>\n",
       "      <td>18021440.0</td>\n",
       "      <td>18911780.0</td>\n",
       "      <td>18668606.0</td>\n",
       "      <td>12969350.0</td>\n",
       "      <td>21206702.0</td>\n",
       "      <td>18714860.0</td>\n",
       "      <td>17454683.0</td>\n",
       "    </tr>\n",
       "    <tr>\n",
       "      <th>3</th>\n",
       "      <td>19174175.0</td>\n",
       "      <td>21628184.0</td>\n",
       "      <td>18911780.0</td>\n",
       "      <td>21629063.0</td>\n",
       "      <td>NaN</td>\n",
       "      <td>19814027.0</td>\n",
       "      <td>NaN</td>\n",
       "      <td>17001050.0</td>\n",
       "    </tr>\n",
       "    <tr>\n",
       "      <th>4</th>\n",
       "      <td>17913710.0</td>\n",
       "      <td>18021491.0</td>\n",
       "      <td>18911780.0</td>\n",
       "      <td>18303401.0</td>\n",
       "      <td>16571885.0</td>\n",
       "      <td>18442058.0</td>\n",
       "      <td>18076145.0</td>\n",
       "      <td>16587443.0</td>\n",
       "    </tr>\n",
       "  </tbody>\n",
       "</table>\n",
       "</div>"
      ],
      "text/plain": [
       "          cpu   mainboard         ram         gpu        case       power  \\\n",
       "0  18640280.0  18652877.0  16443341.0  27613427.0  21583046.0  19813847.0   \n",
       "1  18039569.0  18652877.0  18700841.0  18021914.0  18419840.0  19023932.0   \n",
       "2  19627808.0  18021440.0  18911780.0  18668606.0  12969350.0  21206702.0   \n",
       "3  19174175.0  21628184.0  18911780.0  21629063.0         NaN  19814027.0   \n",
       "4  17913710.0  18021491.0  18911780.0  18303401.0  16571885.0  18442058.0   \n",
       "\n",
       "       cooler         ssd  \n",
       "0  21550985.0  12338942.0  \n",
       "1         NaN  13538642.0  \n",
       "2  18714860.0  17454683.0  \n",
       "3         NaN  17001050.0  \n",
       "4  18076145.0  16587443.0  "
      ]
     },
     "execution_count": 4,
     "metadata": {},
     "output_type": "execute_result"
    }
   ],
   "source": [
    "# seq 파일 읽기\n",
    "cate_dict = {'cpu': 112747, 'mainboard': 112751, 'ram': 112752, 'gpu': 112753, 'case': 112775,\n",
    "             'power': 112777, 'cooler': 11236855, 'ssd': 112760}\n",
    "quotations = pd.read_csv(f'../quotations231001.csv').drop(columns='sys_cooler')\n",
    "quotations.head()"
   ]
  },
  {
   "cell_type": "code",
   "execution_count": 5,
   "id": "17fd1553",
   "metadata": {
    "tags": []
   },
   "outputs": [],
   "source": [
    "ntime = 0\n",
    "total = len(quotations)\n",
    "start = time.time()"
   ]
  },
  {
   "cell_type": "code",
   "execution_count": 6,
   "id": "51ba1ac6-b182-4fec-8ae2-a82edfb2ba63",
   "metadata": {
    "tags": []
   },
   "outputs": [],
   "source": [
    "headers = ['cpu', 'mainboard', 'gpu', 'case', 'power', 'cooler', 'ssd']"
   ]
  },
  {
   "cell_type": "code",
   "execution_count": 7,
   "id": "6d99892c-4c8a-4abc-aa2b-6aa195fbad43",
   "metadata": {
    "tags": []
   },
   "outputs": [],
   "source": [
    "prices = dict()\n",
    "\n",
    "for col in headers:\n",
    "    prices[col] = []"
   ]
  },
  {
   "cell_type": "code",
   "execution_count": 8,
   "id": "a71345a4-1e4d-4d6e-a52f-d73776b4814c",
   "metadata": {
    "tags": []
   },
   "outputs": [
    {
     "data": {
      "text/plain": [
       "{'cpu': [],\n",
       " 'mainboard': [],\n",
       " 'gpu': [],\n",
       " 'case': [],\n",
       " 'power': [],\n",
       " 'cooler': [],\n",
       " 'ssd': []}"
      ]
     },
     "execution_count": 8,
     "metadata": {},
     "output_type": "execute_result"
    }
   ],
   "source": [
    "prices"
   ]
  },
  {
   "cell_type": "markdown",
   "id": "80dd0ebd-51a1-49b5-8e43-654a85594fa2",
   "metadata": {},
   "source": [
    "# 제품 번호만 뽑아서 번호 - 가격 연결 테이블 만들기"
   ]
  },
  {
   "cell_type": "code",
   "execution_count": 9,
   "id": "22568d90-e7d5-4c6a-b2d8-0e2e64ef0cc5",
   "metadata": {
    "tags": []
   },
   "outputs": [],
   "source": [
    "tbl = dict()"
   ]
  },
  {
   "cell_type": "code",
   "execution_count": 10,
   "id": "da317ee2",
   "metadata": {
    "tags": []
   },
   "outputs": [
    {
     "name": "stdout",
     "output_type": "stream",
     "text": [
      "1080/1080 (100.00%) (남은 시간: 0:0:0)\n",
      "걸린 시간: 6675.79 sec\n"
     ]
    }
   ],
   "source": [
    "# 크롤링 시작\n",
    "for i in range(len(quotations[ntime:])):\n",
    "    quo = quotations.loc[i]\n",
    "    for col in headers:\n",
    "        category = cate_dict[col]\n",
    "        pcode = quo[col]\n",
    "        if pcode in tbl.keys():\n",
    "            continue\n",
    "        if np.isnan(pcode):\n",
    "            prices[col].append(None)\n",
    "            continue\n",
    "        url = f'https://prod.danawa.com/info/?pcode={pcode}&cate={category}'\n",
    "        driver.get(url)\n",
    "        driver.implicitly_wait(10)\n",
    "    \n",
    "        time.sleep(waiting_sec)\n",
    "        soup = BeautifulSoup(driver.page_source, 'html.parser')\n",
    "\n",
    "        price = soup.select_one(\"#blog_content > div.summary_info > div.detail_summary > div.summary_left > div.lowest_area > div.lowest_top > div.row.lowest_price > span.lwst_prc > a > em\")\n",
    "        tbl[pcode] = price.get_text().replace(',', '') if price is not None else None\n",
    "    ## 테스트용\n",
    "    ntime += 1\n",
    "    rest_time = int((time.time() - start) / ntime) * (total - ntime)\n",
    "    print(f'\\r{ntime}/{total} ({ntime/total*100:.2f}%) (남은 시간: {rest_time//3600}:{rest_time//3600%60}:{rest_time%60})', end='')\n",
    "    # if ntime == 3: break\n",
    "    \n",
    "end = time.time()\n",
    "print(f'\\n걸린 시간: {end-start:.2f} sec')\n",
    "driver.quit()\n",
    "# 크롤링 끝"
   ]
  },
  {
   "cell_type": "code",
   "execution_count": 21,
   "id": "de6c8a7a-1dc9-411f-8813-d92f664d1595",
   "metadata": {
    "tags": []
   },
   "outputs": [
    {
     "data": {
      "text/html": [
       "<div>\n",
       "<style scoped>\n",
       "    .dataframe tbody tr th:only-of-type {\n",
       "        vertical-align: middle;\n",
       "    }\n",
       "\n",
       "    .dataframe tbody tr th {\n",
       "        vertical-align: top;\n",
       "    }\n",
       "\n",
       "    .dataframe thead th {\n",
       "        text-align: right;\n",
       "    }\n",
       "</style>\n",
       "<table border=\"1\" class=\"dataframe\">\n",
       "  <thead>\n",
       "    <tr style=\"text-align: right;\">\n",
       "      <th></th>\n",
       "      <th>0</th>\n",
       "    </tr>\n",
       "  </thead>\n",
       "  <tbody>\n",
       "    <tr>\n",
       "      <th>18640280.0</th>\n",
       "      <td>269780</td>\n",
       "    </tr>\n",
       "    <tr>\n",
       "      <th>18652877.0</th>\n",
       "      <td>248980</td>\n",
       "    </tr>\n",
       "    <tr>\n",
       "      <th>27613427.0</th>\n",
       "      <td>545910</td>\n",
       "    </tr>\n",
       "    <tr>\n",
       "      <th>21583046.0</th>\n",
       "      <td>104160</td>\n",
       "    </tr>\n",
       "    <tr>\n",
       "      <th>19813847.0</th>\n",
       "      <td>118490</td>\n",
       "    </tr>\n",
       "    <tr>\n",
       "      <th>...</th>\n",
       "      <td>...</td>\n",
       "    </tr>\n",
       "    <tr>\n",
       "      <th>11578097.0</th>\n",
       "      <td>None</td>\n",
       "    </tr>\n",
       "    <tr>\n",
       "      <th>10285407.0</th>\n",
       "      <td>None</td>\n",
       "    </tr>\n",
       "    <tr>\n",
       "      <th>18894161.0</th>\n",
       "      <td>93250</td>\n",
       "    </tr>\n",
       "    <tr>\n",
       "      <th>18874781.0</th>\n",
       "      <td>201370</td>\n",
       "    </tr>\n",
       "    <tr>\n",
       "      <th>18840155.0</th>\n",
       "      <td>1120540</td>\n",
       "    </tr>\n",
       "  </tbody>\n",
       "</table>\n",
       "<p>960 rows × 1 columns</p>\n",
       "</div>"
      ],
      "text/plain": [
       "                  0\n",
       "18640280.0   269780\n",
       "18652877.0   248980\n",
       "27613427.0   545910\n",
       "21583046.0   104160\n",
       "19813847.0   118490\n",
       "...             ...\n",
       "11578097.0     None\n",
       "10285407.0     None\n",
       "18894161.0    93250\n",
       "18874781.0   201370\n",
       "18840155.0  1120540\n",
       "\n",
       "[960 rows x 1 columns]"
      ]
     },
     "execution_count": 21,
     "metadata": {},
     "output_type": "execute_result"
    }
   ],
   "source": [
    "pd.DataFrame.from_dict([tbl]).T"
   ]
  },
  {
   "cell_type": "code",
   "execution_count": 107,
   "id": "847a27f5-8399-40b8-9dda-f9519d6e9178",
   "metadata": {
    "tags": []
   },
   "outputs": [],
   "source": [
    "import pickle"
   ]
  },
  {
   "cell_type": "code",
   "execution_count": 108,
   "id": "f632ca5e-e429-401e-bb5a-1650a842e939",
   "metadata": {
    "tags": []
   },
   "outputs": [],
   "source": [
    "pickle.dump(tbl, open(\"../quotation_price.pkl\", \"wb\"))"
   ]
  },
  {
   "cell_type": "code",
   "execution_count": 105,
   "id": "cc8af698",
   "metadata": {
    "tags": []
   },
   "outputs": [],
   "source": [
    "# 파일 저장\n",
    "if save_file:\n",
    "    today = time.strftime('%y%m%d')\n",
    "    pd.DataFrame.from_dict([tbl]).to_csv(f'../price{today}.csv', index=None)"
   ]
  },
  {
   "cell_type": "code",
   "execution_count": 23,
   "id": "261827ba-d8c4-4918-aa85-be09989e41d1",
   "metadata": {
    "tags": []
   },
   "outputs": [
    {
     "data": {
      "text/html": [
       "<div>\n",
       "<style scoped>\n",
       "    .dataframe tbody tr th:only-of-type {\n",
       "        vertical-align: middle;\n",
       "    }\n",
       "\n",
       "    .dataframe tbody tr th {\n",
       "        vertical-align: top;\n",
       "    }\n",
       "\n",
       "    .dataframe thead th {\n",
       "        text-align: right;\n",
       "    }\n",
       "</style>\n",
       "<table border=\"1\" class=\"dataframe\">\n",
       "  <thead>\n",
       "    <tr style=\"text-align: right;\">\n",
       "      <th></th>\n",
       "      <th>cpu</th>\n",
       "      <th>mainboard</th>\n",
       "      <th>ram</th>\n",
       "      <th>gpu</th>\n",
       "      <th>case</th>\n",
       "      <th>power</th>\n",
       "      <th>cooler</th>\n",
       "      <th>ssd</th>\n",
       "    </tr>\n",
       "  </thead>\n",
       "  <tbody>\n",
       "    <tr>\n",
       "      <th>0</th>\n",
       "      <td>18640280.0</td>\n",
       "      <td>18652877.0</td>\n",
       "      <td>16443341.0</td>\n",
       "      <td>27613427.0</td>\n",
       "      <td>21583046.0</td>\n",
       "      <td>19813847.0</td>\n",
       "      <td>21550985.0</td>\n",
       "      <td>12338942.0</td>\n",
       "    </tr>\n",
       "    <tr>\n",
       "      <th>1</th>\n",
       "      <td>18039569.0</td>\n",
       "      <td>18652877.0</td>\n",
       "      <td>18700841.0</td>\n",
       "      <td>18021914.0</td>\n",
       "      <td>18419840.0</td>\n",
       "      <td>19023932.0</td>\n",
       "      <td>NaN</td>\n",
       "      <td>13538642.0</td>\n",
       "    </tr>\n",
       "    <tr>\n",
       "      <th>2</th>\n",
       "      <td>19627808.0</td>\n",
       "      <td>18021440.0</td>\n",
       "      <td>18911780.0</td>\n",
       "      <td>18668606.0</td>\n",
       "      <td>12969350.0</td>\n",
       "      <td>21206702.0</td>\n",
       "      <td>18714860.0</td>\n",
       "      <td>17454683.0</td>\n",
       "    </tr>\n",
       "    <tr>\n",
       "      <th>3</th>\n",
       "      <td>19174175.0</td>\n",
       "      <td>21628184.0</td>\n",
       "      <td>18911780.0</td>\n",
       "      <td>21629063.0</td>\n",
       "      <td>NaN</td>\n",
       "      <td>19814027.0</td>\n",
       "      <td>NaN</td>\n",
       "      <td>17001050.0</td>\n",
       "    </tr>\n",
       "    <tr>\n",
       "      <th>4</th>\n",
       "      <td>17913710.0</td>\n",
       "      <td>18021491.0</td>\n",
       "      <td>18911780.0</td>\n",
       "      <td>18303401.0</td>\n",
       "      <td>16571885.0</td>\n",
       "      <td>18442058.0</td>\n",
       "      <td>18076145.0</td>\n",
       "      <td>16587443.0</td>\n",
       "    </tr>\n",
       "  </tbody>\n",
       "</table>\n",
       "</div>"
      ],
      "text/plain": [
       "          cpu   mainboard         ram         gpu        case       power  \\\n",
       "0  18640280.0  18652877.0  16443341.0  27613427.0  21583046.0  19813847.0   \n",
       "1  18039569.0  18652877.0  18700841.0  18021914.0  18419840.0  19023932.0   \n",
       "2  19627808.0  18021440.0  18911780.0  18668606.0  12969350.0  21206702.0   \n",
       "3  19174175.0  21628184.0  18911780.0  21629063.0         NaN  19814027.0   \n",
       "4  17913710.0  18021491.0  18911780.0  18303401.0  16571885.0  18442058.0   \n",
       "\n",
       "       cooler         ssd  \n",
       "0  21550985.0  12338942.0  \n",
       "1         NaN  13538642.0  \n",
       "2  18714860.0  17454683.0  \n",
       "3         NaN  17001050.0  \n",
       "4  18076145.0  16587443.0  "
      ]
     },
     "execution_count": 23,
     "metadata": {},
     "output_type": "execute_result"
    }
   ],
   "source": [
    "quotations = pd.read_csv(\"../quotations231001.csv\").drop(columns='sys_cooler')\n",
    "quotations.head()"
   ]
  },
  {
   "cell_type": "code",
   "execution_count": 24,
   "id": "8db24158-5fc0-403c-8452-3be64db81d79",
   "metadata": {
    "tags": []
   },
   "outputs": [],
   "source": [
    "cpus = quotations.cpu"
   ]
  },
  {
   "cell_type": "code",
   "execution_count": 25,
   "id": "770beb40-eec3-4fb4-aad4-704cc7acec4d",
   "metadata": {
    "tags": []
   },
   "outputs": [],
   "source": [
    "cpu_df = pd.read_csv(\"../part_cpu_wb230922.csv\")\n",
    "mainboard_df = pd.read_csv(\"../part_mainboard230926.csv\")\n",
    "ram_df = pd.read_csv(\"../part_ram230921.csv\")\n",
    "gpu_df = pd.read_csv(\"../part_gpu_wb230921.csv\")\n",
    "case_df = pd.read_csv(\"../part_case230920.csv\")\n",
    "power_df = pd.read_csv(\"../part_power230920.csv\")\n",
    "cooler_df = pd.read_csv(\"../part_cooler230920.csv\")\n",
    "ssd_df = pd.read_csv(\"../part_ssd230926.csv\")"
   ]
  },
  {
   "cell_type": "code",
   "execution_count": 26,
   "id": "65d77ad6-f7be-4187-a1b4-e10d6688a52a",
   "metadata": {
    "tags": []
   },
   "outputs": [],
   "source": [
    "mcb = max(cpu_df['bench_mark'])\n",
    "mgb = max(gpu_df['bench_mark'])\n",
    "mrc = max(ram_df['capacity'])\n",
    "mncb = min(cpu_df['bench_mark'])\n",
    "mngb = min(gpu_df['bench_mark'])\n",
    "mnrc = min(ram_df['capacity'])\n",
    "mmp = max(mainboard_df['price'])\n",
    "mnmp = min(mainboard_df['price'])\n",
    "mpp = max(power_df['price'])\n",
    "mnpp = min(power_df['price'])\n",
    "mcap = max(case_df['price'])\n",
    "mncap = min(case_df['price'])\n",
    "mcop = max(cooler_df['price'])\n",
    "mncop = min(cooler_df['price'])\n",
    "msp = max(ssd_df['price'])\n",
    "mnsp = min(ssd_df['price'])"
   ]
  },
  {
   "cell_type": "code",
   "execution_count": 47,
   "id": "4ae83a1d-319f-4a0e-afab-a9f4a332b1f9",
   "metadata": {
    "tags": []
   },
   "outputs": [
    {
     "data": {
      "text/plain": [
       "numpy.float64"
      ]
     },
     "execution_count": 47,
     "metadata": {},
     "output_type": "execute_result"
    }
   ],
   "source": [
    "type(quotations.values[0][0])"
   ]
  },
  {
   "cell_type": "code",
   "execution_count": 55,
   "id": "bf3add7b-4cbb-480d-8478-78a40033475d",
   "metadata": {
    "tags": []
   },
   "outputs": [
    {
     "data": {
      "text/plain": [
       "False"
      ]
     },
     "execution_count": 55,
     "metadata": {},
     "output_type": "execute_result"
    }
   ],
   "source": [
    "pd.isnull(tbl[quotations.values[0][0]])"
   ]
  },
  {
   "cell_type": "code",
   "execution_count": 61,
   "id": "b5329de0-1d9e-4cd6-90c3-983e765ae9bf",
   "metadata": {
    "tags": []
   },
   "outputs": [
    {
     "data": {
      "text/plain": [
       "True"
      ]
     },
     "execution_count": 61,
     "metadata": {},
     "output_type": "execute_result"
    }
   ],
   "source": [
    "row[0] in tbl.keys()"
   ]
  },
  {
   "cell_type": "code",
   "execution_count": 93,
   "id": "a6d3d96a-efc7-4ccf-9ac2-344387cab0b5",
   "metadata": {
    "tags": []
   },
   "outputs": [],
   "source": [
    "prices_r = dict({'cpu': [], 'gpu': [], 'ram': [], 'mainboard': [], 'power': [], 'case': [], 'cooler': [], 'ssd': [], 'total': []})\n",
    "prices = dict({'cpu': [], 'gpu': [], 'ram': [], 'mainboard': [], 'power': [], 'case': [], 'cooler': [], 'ssd': [], 'total': []})\n",
    "pseqs = dict({'cpu': [], 'gpu': [], 'ram': [], 'mainboard': [], 'power': [], 'case': [], 'cooler': [], 'ssd': []})\n",
    "bench_r = dict({'cpu': [], 'gpu': [], 'ram': [], 'total': []})\n",
    "bench_rr = dict({'cpu': [], 'gpu': [], 'ram': [], 'total': []})\n",
    "\n",
    "for row in quotations.values:\n",
    "    try:\n",
    "        cpu_bench = cpu_df.loc[cpu_df['product_seq'] == row[0], 'bench_mark'].iloc[0]\n",
    "        ram_capa = ram_df.loc[ram_df['product_seq'] == row[2], 'capacity'].iloc[0]\n",
    "        gpu_bench = gpu_df.loc[gpu_df['product_seq'] == row[3], 'bench_mark'].iloc[0]\n",
    "        \n",
    "        cpu_price = int(tbl[row[0]]) if row[0] in tbl.keys() else 0\n",
    "        ram_price = int(tbl[row[2]]) if row[2] in tbl.keys() else 0\n",
    "        gpu_price = int(tbl[row[3]]) if row[3] in tbl.keys() else 0\n",
    "        mainboard_price = int(tbl[row[1]]) if row[1] in tbl.keys() else 0\n",
    "        case_price = int(tbl[row[4]]) if row[4] in tbl.keys() else 0\n",
    "        power_price = int(tbl[row[5]]) if row[5] in tbl.keys() else 0\n",
    "        cooler_price = int(tbl[row[6]]) if row[6] in tbl.keys() else 0\n",
    "        ssd_price = int(tbl[row[7]]) if row[7] in tbl.keys() else 0\n",
    "        \n",
    "        total = cpu_price+gpu_price+ram_price+mainboard_price+case_price+power_price+cooler_price+ssd_price\n",
    "        prices_r['cpu'].append(cpu_price / total)\n",
    "        prices_r['gpu'].append(gpu_price / total)\n",
    "        prices_r['ram'].append(ram_price / total)\n",
    "        prices_r['mainboard'].append(mainboard_price / total)\n",
    "        prices_r['case'].append(case_price / total)\n",
    "        prices_r['cooler'].append(cooler_price / total)\n",
    "        prices_r['ssd'].append(ssd_price / total)\n",
    "        prices_r['power'].append(power_price / total)\n",
    "        prices_r['total'].append(np.log(total / 10000000))\n",
    "        \n",
    "        bench_r['cpu'].append(np.log((cpu_bench - mncb) / (mcb - mncb) + 1))\n",
    "        bench_r['gpu'].append(np.log((gpu_bench - mngb) / (mgb - mngb) + 1))\n",
    "        bench_r['ram'].append(np.log((ram_capa - mnrc) / (mrc - mnrc) + 1))\n",
    "        bench_r['total'].append(np.log(total / 10000000 + 2))\n",
    "        clog = np.log((cpu_bench - mncb) / (mcb - mncb) + 1)\n",
    "        glog = np.log((gpu_bench - mngb) / (mgb - mngb) + 1)\n",
    "        rlog = np.log((ram_capa - mnrc) / (mrc - mnrc) + 1)\n",
    "        tlog = np.log(total / 10000000 + 2)\n",
    "        total_log = clog + glog + rlog\n",
    "        bench_rr['cpu'].append(clog / total_log)\n",
    "        bench_rr['gpu'].append(glog / total_log)\n",
    "        bench_rr['ram'].append(rlog / total_log)\n",
    "        bench_rr['total'].append(tlog / total_log)\n",
    "        \n",
    "        prices['cpu'].append(cpu_price)\n",
    "        prices['gpu'].append(gpu_price)\n",
    "        prices['ram'].append(ram_price)\n",
    "        prices['mainboard'].append(mainboard_price)\n",
    "        prices['case'].append(case_price)\n",
    "        prices['cooler'].append(cooler_price)\n",
    "        prices['ssd'].append(ssd_price)\n",
    "        prices['power'].append(power_price)\n",
    "        prices['total'].append(total)\n",
    "    except Exception as e:\n",
    "        continue"
   ]
  },
  {
   "cell_type": "code",
   "execution_count": 94,
   "id": "c5b3a834-c304-4487-b33e-a5e39bfd8917",
   "metadata": {
    "tags": []
   },
   "outputs": [],
   "source": [
    "bdata = np.array(pd.DataFrame(bench_rr))"
   ]
  },
  {
   "cell_type": "code",
   "execution_count": 95,
   "id": "ee5140b2-a640-48b2-82b9-099164c442a6",
   "metadata": {
    "tags": []
   },
   "outputs": [
    {
     "data": {
      "text/plain": [
       "array([[0.27222218, 0.54496674, 0.18281108, 0.91556764],\n",
       "       [0.35896017, 0.5249914 , 0.11604843, 0.66269804],\n",
       "       [0.30823763, 0.61068437, 0.08107799, 0.82250058],\n",
       "       ...,\n",
       "       [0.51326222, 0.38183498, 0.1049028 , 1.00129261],\n",
       "       [0.33609368, 0.5860932 , 0.07781313, 0.79815448],\n",
       "       [0.45078159, 0.40348498, 0.14573343, 0.75960378]])"
      ]
     },
     "execution_count": 95,
     "metadata": {},
     "output_type": "execute_result"
    }
   ],
   "source": [
    "bdata"
   ]
  },
  {
   "cell_type": "code",
   "execution_count": 97,
   "id": "06da369c-5dbc-4c90-a6da-8774647dae12",
   "metadata": {
    "tags": []
   },
   "outputs": [],
   "source": [
    "price_rate = np.array(pd.DataFrame(prices_r))"
   ]
  },
  {
   "cell_type": "code",
   "execution_count": 100,
   "id": "60a0b0c6-c4e4-4205-9e65-d3c846d9e02c",
   "metadata": {
    "tags": []
   },
   "outputs": [
    {
     "data": {
      "text/plain": [
       "630"
      ]
     },
     "execution_count": 100,
     "metadata": {},
     "output_type": "execute_result"
    }
   ],
   "source": [
    "len(bdata)"
   ]
  },
  {
   "cell_type": "code",
   "execution_count": 99,
   "id": "5986dbf1-6e86-42d6-8ca8-b62a93657272",
   "metadata": {
    "tags": []
   },
   "outputs": [
    {
     "data": {
      "text/plain": [
       "630"
      ]
     },
     "execution_count": 99,
     "metadata": {},
     "output_type": "execute_result"
    }
   ],
   "source": [
    "len(price_rate)"
   ]
  },
  {
   "cell_type": "code",
   "execution_count": 96,
   "id": "fafab750-2d1f-4684-812b-9925c23e3ccc",
   "metadata": {
    "tags": []
   },
   "outputs": [],
   "source": [
    "for i, row in enumerate(bdata):\n",
    "    if 0 in row:\n",
    "        print(i)"
   ]
  },
  {
   "cell_type": "code",
   "execution_count": 78,
   "id": "7d12bc54-a240-4876-8491-f3f1c8e1e267",
   "metadata": {
    "tags": []
   },
   "outputs": [
    {
     "name": "stdout",
     "output_type": "stream",
     "text": [
      "cpu\n",
      "948\n",
      "948\n",
      "\n",
      "gpu\n",
      "948\n",
      "948\n",
      "\n",
      "ram\n",
      "948\n",
      "948\n",
      "\n",
      "mainboard\n",
      "948\n",
      "948\n",
      "\n",
      "power\n",
      "948\n",
      "948\n",
      "\n",
      "case\n",
      "948\n",
      "948\n",
      "\n",
      "cooler\n",
      "948\n",
      "948\n",
      "\n",
      "ssd\n",
      "948\n",
      "948\n",
      "\n",
      "total\n",
      "948\n",
      "948\n",
      "\n",
      "948\n"
     ]
    }
   ],
   "source": [
    "for key in prices_r.keys():\n",
    "    print(key)\n",
    "    print(len(prices_r[key]))\n",
    "    print(len(prices[key]))\n",
    "    print()\n",
    "print(len(prices['total']))"
   ]
  },
  {
   "cell_type": "code",
   "execution_count": 80,
   "id": "e914fbd9-32ad-497a-adc8-9bc12a4e3261",
   "metadata": {
    "tags": []
   },
   "outputs": [
    {
     "data": {
      "text/html": [
       "<div>\n",
       "<style scoped>\n",
       "    .dataframe tbody tr th:only-of-type {\n",
       "        vertical-align: middle;\n",
       "    }\n",
       "\n",
       "    .dataframe tbody tr th {\n",
       "        vertical-align: top;\n",
       "    }\n",
       "\n",
       "    .dataframe thead th {\n",
       "        text-align: right;\n",
       "    }\n",
       "</style>\n",
       "<table border=\"1\" class=\"dataframe\">\n",
       "  <thead>\n",
       "    <tr style=\"text-align: right;\">\n",
       "      <th></th>\n",
       "      <th>cpu</th>\n",
       "      <th>gpu</th>\n",
       "      <th>ram</th>\n",
       "      <th>mainboard</th>\n",
       "      <th>power</th>\n",
       "      <th>case</th>\n",
       "      <th>cooler</th>\n",
       "      <th>ssd</th>\n",
       "      <th>total</th>\n",
       "    </tr>\n",
       "  </thead>\n",
       "  <tbody>\n",
       "    <tr>\n",
       "      <th>0</th>\n",
       "      <td>0.175094</td>\n",
       "      <td>0.354310</td>\n",
       "      <td>0.0</td>\n",
       "      <td>0.161595</td>\n",
       "      <td>0.076903</td>\n",
       "      <td>0.067603</td>\n",
       "      <td>0.113288</td>\n",
       "      <td>0.051208</td>\n",
       "      <td>-1.870303</td>\n",
       "    </tr>\n",
       "    <tr>\n",
       "      <th>1</th>\n",
       "      <td>0.200560</td>\n",
       "      <td>0.596670</td>\n",
       "      <td>0.0</td>\n",
       "      <td>0.062435</td>\n",
       "      <td>0.074971</td>\n",
       "      <td>0.019374</td>\n",
       "      <td>0.000000</td>\n",
       "      <td>0.045990</td>\n",
       "      <td>-0.919338</td>\n",
       "    </tr>\n",
       "    <tr>\n",
       "      <th>2</th>\n",
       "      <td>0.263238</td>\n",
       "      <td>0.484896</td>\n",
       "      <td>0.0</td>\n",
       "      <td>0.112338</td>\n",
       "      <td>0.064798</td>\n",
       "      <td>0.021555</td>\n",
       "      <td>0.019747</td>\n",
       "      <td>0.033428</td>\n",
       "      <td>-1.481383</td>\n",
       "    </tr>\n",
       "    <tr>\n",
       "      <th>3</th>\n",
       "      <td>0.279504</td>\n",
       "      <td>0.513668</td>\n",
       "      <td>0.0</td>\n",
       "      <td>0.095678</td>\n",
       "      <td>0.057944</td>\n",
       "      <td>0.000000</td>\n",
       "      <td>0.000000</td>\n",
       "      <td>0.053205</td>\n",
       "      <td>-1.416927</td>\n",
       "    </tr>\n",
       "    <tr>\n",
       "      <th>4</th>\n",
       "      <td>0.144311</td>\n",
       "      <td>0.574209</td>\n",
       "      <td>0.0</td>\n",
       "      <td>0.098758</td>\n",
       "      <td>0.063479</td>\n",
       "      <td>0.024472</td>\n",
       "      <td>0.038592</td>\n",
       "      <td>0.056180</td>\n",
       "      <td>-1.266015</td>\n",
       "    </tr>\n",
       "    <tr>\n",
       "      <th>...</th>\n",
       "      <td>...</td>\n",
       "      <td>...</td>\n",
       "      <td>...</td>\n",
       "      <td>...</td>\n",
       "      <td>...</td>\n",
       "      <td>...</td>\n",
       "      <td>...</td>\n",
       "      <td>...</td>\n",
       "      <td>...</td>\n",
       "    </tr>\n",
       "    <tr>\n",
       "      <th>943</th>\n",
       "      <td>0.359504</td>\n",
       "      <td>0.276888</td>\n",
       "      <td>0.0</td>\n",
       "      <td>0.159570</td>\n",
       "      <td>0.041915</td>\n",
       "      <td>0.034728</td>\n",
       "      <td>0.000000</td>\n",
       "      <td>0.127395</td>\n",
       "      <td>-1.502950</td>\n",
       "    </tr>\n",
       "    <tr>\n",
       "      <th>944</th>\n",
       "      <td>0.242494</td>\n",
       "      <td>0.531932</td>\n",
       "      <td>0.0</td>\n",
       "      <td>0.097784</td>\n",
       "      <td>0.048209</td>\n",
       "      <td>0.037284</td>\n",
       "      <td>0.000000</td>\n",
       "      <td>0.042298</td>\n",
       "      <td>-1.573965</td>\n",
       "    </tr>\n",
       "    <tr>\n",
       "      <th>945</th>\n",
       "      <td>0.241134</td>\n",
       "      <td>0.483620</td>\n",
       "      <td>0.0</td>\n",
       "      <td>0.109239</td>\n",
       "      <td>0.101603</td>\n",
       "      <td>0.024973</td>\n",
       "      <td>0.000000</td>\n",
       "      <td>0.039430</td>\n",
       "      <td>-1.478749</td>\n",
       "    </tr>\n",
       "    <tr>\n",
       "      <th>946</th>\n",
       "      <td>0.228898</td>\n",
       "      <td>0.455157</td>\n",
       "      <td>0.0</td>\n",
       "      <td>0.119844</td>\n",
       "      <td>0.095259</td>\n",
       "      <td>0.051407</td>\n",
       "      <td>0.000000</td>\n",
       "      <td>0.049434</td>\n",
       "      <td>-1.729880</td>\n",
       "    </tr>\n",
       "    <tr>\n",
       "      <th>947</th>\n",
       "      <td>0.184594</td>\n",
       "      <td>0.522033</td>\n",
       "      <td>0.0</td>\n",
       "      <td>0.093813</td>\n",
       "      <td>0.087521</td>\n",
       "      <td>0.025758</td>\n",
       "      <td>0.000000</td>\n",
       "      <td>0.086280</td>\n",
       "      <td>-1.538749</td>\n",
       "    </tr>\n",
       "  </tbody>\n",
       "</table>\n",
       "<p>948 rows × 9 columns</p>\n",
       "</div>"
      ],
      "text/plain": [
       "          cpu       gpu  ram  mainboard     power      case    cooler  \\\n",
       "0    0.175094  0.354310  0.0   0.161595  0.076903  0.067603  0.113288   \n",
       "1    0.200560  0.596670  0.0   0.062435  0.074971  0.019374  0.000000   \n",
       "2    0.263238  0.484896  0.0   0.112338  0.064798  0.021555  0.019747   \n",
       "3    0.279504  0.513668  0.0   0.095678  0.057944  0.000000  0.000000   \n",
       "4    0.144311  0.574209  0.0   0.098758  0.063479  0.024472  0.038592   \n",
       "..        ...       ...  ...        ...       ...       ...       ...   \n",
       "943  0.359504  0.276888  0.0   0.159570  0.041915  0.034728  0.000000   \n",
       "944  0.242494  0.531932  0.0   0.097784  0.048209  0.037284  0.000000   \n",
       "945  0.241134  0.483620  0.0   0.109239  0.101603  0.024973  0.000000   \n",
       "946  0.228898  0.455157  0.0   0.119844  0.095259  0.051407  0.000000   \n",
       "947  0.184594  0.522033  0.0   0.093813  0.087521  0.025758  0.000000   \n",
       "\n",
       "          ssd     total  \n",
       "0    0.051208 -1.870303  \n",
       "1    0.045990 -0.919338  \n",
       "2    0.033428 -1.481383  \n",
       "3    0.053205 -1.416927  \n",
       "4    0.056180 -1.266015  \n",
       "..        ...       ...  \n",
       "943  0.127395 -1.502950  \n",
       "944  0.042298 -1.573965  \n",
       "945  0.039430 -1.478749  \n",
       "946  0.049434 -1.729880  \n",
       "947  0.086280 -1.538749  \n",
       "\n",
       "[948 rows x 9 columns]"
      ]
     },
     "execution_count": 80,
     "metadata": {},
     "output_type": "execute_result"
    }
   ],
   "source": [
    "pd.DataFrame(prices_r)"
   ]
  },
  {
   "cell_type": "code",
   "execution_count": null,
   "id": "a74a30e7-dafc-401f-a331-5b5bd52fc07d",
   "metadata": {},
   "outputs": [],
   "source": []
  },
  {
   "cell_type": "code",
   "execution_count": null,
   "id": "a2037dda-660c-406d-a6d2-d3890aee45b2",
   "metadata": {},
   "outputs": [],
   "source": []
  }
 ],
 "metadata": {
  "kernelspec": {
   "display_name": "Python 3 (ipykernel)",
   "language": "python",
   "name": "python3"
  },
  "language_info": {
   "codemirror_mode": {
    "name": "ipython",
    "version": 3
   },
   "file_extension": ".py",
   "mimetype": "text/x-python",
   "name": "python",
   "nbconvert_exporter": "python",
   "pygments_lexer": "ipython3",
   "version": "3.11.4"
  }
 },
 "nbformat": 4,
 "nbformat_minor": 5
}
