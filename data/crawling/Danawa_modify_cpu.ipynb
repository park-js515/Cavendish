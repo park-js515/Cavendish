{
 "cells": [
  {
   "cell_type": "code",
   "execution_count": 110,
   "id": "8017fc7e",
   "metadata": {
    "tags": []
   },
   "outputs": [],
   "source": [
    "import pandas as pd\n",
    "import numpy as np\n",
    "import time\n",
    "import re"
   ]
  },
  {
   "cell_type": "code",
   "execution_count": 111,
   "id": "a29cdc90-5582-46c3-8bf4-38a2f5c2cec4",
   "metadata": {
    "tags": []
   },
   "outputs": [],
   "source": [
    "cpu = pd.read_csv('../CPU_final.csv')"
   ]
  },
  {
   "cell_type": "code",
   "execution_count": 112,
   "id": "e2c61abe-f45d-4ca5-9e41-4cedca43584e",
   "metadata": {
    "tags": []
   },
   "outputs": [
    {
     "data": {
      "text/plain": [
       "array(['DDR5', 'DDR5, DDR4', 'DDR4', 'DDR4, DDR3L', nan, 'DDR3',\n",
       "       'DDR3, DDR2'], dtype=object)"
      ]
     },
     "execution_count": 112,
     "metadata": {},
     "output_type": "execute_result"
    }
   ],
   "source": [
    "col = 'memory_type'\n",
    "cpu[col].unique()"
   ]
  },
  {
   "cell_type": "code",
   "execution_count": 113,
   "id": "11ea614c-37c5-469b-98a5-658a4af34ca1",
   "metadata": {
    "tags": []
   },
   "outputs": [],
   "source": [
    "mt_bitmask = ['DDR5', 'DDR4', 'DDR3L', 'DDR3', 'DDR2']"
   ]
  },
  {
   "cell_type": "code",
   "execution_count": 114,
   "id": "42b242fb-919c-4327-891f-a5ca08d07fe8",
   "metadata": {
    "tags": []
   },
   "outputs": [],
   "source": [
    "for i in range(len(cpu[col])):\n",
    "    if pd.isnull(cpu[col][i]): continue\n",
    "    mt_bit = 0\n",
    "    for j in range(len(mt_bitmask)):\n",
    "        if mt_bitmask[j] in cpu.loc[i, col]:\n",
    "            mt_bit |= 1 << j\n",
    "    cpu.loc[i, col] = mt_bit"
   ]
  },
  {
   "cell_type": "code",
   "execution_count": 115,
   "id": "a7ee06db-8b79-4173-bb90-bdce31d672e7",
   "metadata": {
    "tags": []
   },
   "outputs": [
    {
     "data": {
      "text/plain": [
       "array([1, 3, 2, 14, nan, 8, 24], dtype=object)"
      ]
     },
     "execution_count": 115,
     "metadata": {},
     "output_type": "execute_result"
    }
   ],
   "source": [
    "cpu[col].unique()"
   ]
  },
  {
   "cell_type": "code",
   "execution_count": 116,
   "id": "dbce5b0d-6575-49ce-8703-58df2c9a6341",
   "metadata": {
    "tags": []
   },
   "outputs": [
    {
     "name": "stdout",
     "output_type": "stream",
     "text": [
      "memory_clock\n",
      "memory_clock\n",
      "memory_clock\n"
     ]
    }
   ],
   "source": [
    "for col in cpu.columns:\n",
    "    for i in range(len(cpu[col])):\n",
    "        if pd.isnull(cpu[col][i]): continue\n",
    "        if '최대' in str(cpu.loc[i, col]):\n",
    "            print(col)"
   ]
  },
  {
   "cell_type": "code",
   "execution_count": 117,
   "id": "18877e95-5060-4e9b-aa64-76f97324a163",
   "metadata": {
    "tags": []
   },
   "outputs": [
    {
     "data": {
      "text/plain": [
       "array(['5200', '4800, 3200', '3200', '5600, 3200', '2933', '2666', '2400',\n",
       "       nan, '최대 2133', '2667', '2133', '최대 2400', '1333', '1066', '2000',\n",
       "       '800', '최대 1866'], dtype=object)"
      ]
     },
     "execution_count": 117,
     "metadata": {},
     "output_type": "execute_result"
    }
   ],
   "source": [
    "col = 'memory_clock'\n",
    "cpu[col].unique()"
   ]
  },
  {
   "cell_type": "code",
   "execution_count": 118,
   "id": "c2a8423d-4861-4847-ad3e-35cebe685635",
   "metadata": {
    "tags": []
   },
   "outputs": [],
   "source": [
    "for i in range(len(cpu[col])):\n",
    "    if pd.isnull(cpu[col][i]): continue\n",
    "    if '최대 ' in cpu.loc[i, col]:\n",
    "        cpu.loc[i, col] = cpu.loc[i, col].replace('최대 ', '')"
   ]
  },
  {
   "cell_type": "code",
   "execution_count": 119,
   "id": "ac796584-afff-4a81-b169-d392b566afff",
   "metadata": {
    "tags": []
   },
   "outputs": [
    {
     "data": {
      "text/plain": [
       "array(['6', '8', '6+4', '8+16', '6+8', '8+8', '8+4', '4', '16', '12', '2',\n",
       "       '64', '32', '24', '18', '10', '14', '10 ', '28', '14 ', '20', '22',\n",
       "       '3'], dtype=object)"
      ]
     },
     "execution_count": 119,
     "metadata": {},
     "output_type": "execute_result"
    }
   ],
   "source": [
    "col = 'core_number'\n",
    "cpu[col].unique()"
   ]
  },
  {
   "cell_type": "code",
   "execution_count": 120,
   "id": "14c14f69-407b-4a0b-b5bb-c5d5a5780789",
   "metadata": {
    "tags": []
   },
   "outputs": [],
   "source": [
    "for i in range(len(cpu[col])):\n",
    "    if pd.isnull(cpu[col][i]): continue\n",
    "    cpu.loc[i, col] = str(eval(cpu.loc[i, col]))"
   ]
  },
  {
   "cell_type": "code",
   "execution_count": 121,
   "id": "fafb558d-4858-4168-a6c8-0d179db7c984",
   "metadata": {
    "tags": []
   },
   "outputs": [
    {
     "data": {
      "text/plain": [
       "array(['6', '8', '10', '24', '14', '16', '12', '4', '2', '64', '32', '18',\n",
       "       '28', '20', '22', '3'], dtype=object)"
      ]
     },
     "execution_count": 121,
     "metadata": {},
     "output_type": "execute_result"
    }
   ],
   "source": [
    "cpu[col].unique()"
   ]
  },
  {
   "cell_type": "code",
   "execution_count": 122,
   "id": "3e6e757f-fd22-4d8e-be53-c77f396939a7",
   "metadata": {
    "tags": []
   },
   "outputs": [
    {
     "data": {
      "text/plain": [
       "array(['12', '16', '12+4', '16+16', '12+8', '16+8', '16+4', '8', '32',\n",
       "       '24', '4', '6', '2', '128', '64', '48', '36', '20', '28', '56',\n",
       "       '40', '44', '3'], dtype=object)"
      ]
     },
     "execution_count": 122,
     "metadata": {},
     "output_type": "execute_result"
    }
   ],
   "source": [
    "col = 'thread_number'\n",
    "cpu[col].unique()"
   ]
  },
  {
   "cell_type": "code",
   "execution_count": 123,
   "id": "24108067-8bb0-4989-8937-50db6f7ef407",
   "metadata": {
    "tags": []
   },
   "outputs": [
    {
     "data": {
      "text/plain": [
       "array(['12', '16', '32', '20', '24', '8', '4', '6', '2', '128', '64',\n",
       "       '48', '36', '28', '56', '40', '44', '3'], dtype=object)"
      ]
     },
     "execution_count": 123,
     "metadata": {},
     "output_type": "execute_result"
    }
   ],
   "source": [
    "for i in range(len(cpu[col])):\n",
    "    if pd.isnull(cpu[col][i]): continue\n",
    "    cpu.loc[i, col] = str(eval(cpu.loc[i, col]))\n",
    "cpu[col].unique()"
   ]
  },
  {
   "cell_type": "code",
   "execution_count": 124,
   "id": "5af643b3-6f79-4930-b29c-74b6e42787f2",
   "metadata": {
    "tags": []
   },
   "outputs": [
    {
     "name": "stdout",
     "output_type": "stream",
     "text": [
      "['65' '120' nan '105' '65~117' '65~180' '60~89' '170' '46' '125~150'\n",
      " '125~190' '125~241' '280' '58' '65~202' '165' '125' '95' '150~241' '73'\n",
      " '54' '72' '85' '250' '180' '84' '35' '71' '51' '88' '77' '55' '100' '91'\n",
      " '205' '80' '185' '150' '53' '135' '140' '69' '130' '225' '155' '127'\n",
      " '115']\n",
      "['65' '120' nan '105' '117' '180' '89' '170' '46' '150' '190' '241' '280'\n",
      " '58' '202' '165' '125' '95' '73' '54' '72' '85' '250' '84' '35' '71' '51'\n",
      " '88' '77' '55' '100' '91' '205' '80' '185' '53' '135' '140' '69' '130'\n",
      " '225' '155' '127' '115']\n"
     ]
    }
   ],
   "source": [
    "col = 'tdp'\n",
    "print(cpu[col].unique())\n",
    "for i in range(len(cpu[col])):\n",
    "    if pd.isnull(cpu[col][i]): continue\n",
    "    if '~' in cpu.loc[i, col]:\n",
    "        cpu.loc[i, col] = cpu.loc[i, col][cpu.loc[i, col].index('~')+1:]\n",
    "print(cpu[col].unique())"
   ]
  },
  {
   "cell_type": "code",
   "execution_count": 125,
   "id": "41206cb8-05dd-414a-a67b-de479262a485",
   "metadata": {
    "tags": []
   },
   "outputs": [],
   "source": [
    "cpu = cpu.rename(columns={'pbtmtp': 'pbpmtp'})"
   ]
  },
  {
   "cell_type": "code",
   "execution_count": 126,
   "id": "4ac61d99-1991-4e41-a48f-3d096e476101",
   "metadata": {
    "tags": []
   },
   "outputs": [
    {
     "name": "stdout",
     "output_type": "stream",
     "text": [
      "[nan '65~148' '125~253' '125~181' '65~154' '65~219' '150~253' '60~89'\n",
      " '58~89' '35~106' '35~92' '35~69']\n",
      "[nan '148' '253' '181' '154' '219' '89' '106' '92' '69']\n"
     ]
    }
   ],
   "source": [
    "col = 'pbpmtp'\n",
    "print(cpu[col].unique())\n",
    "for i in range(len(cpu[col])):\n",
    "    if pd.isnull(cpu[col][i]): continue\n",
    "    if '~' in cpu.loc[i, col]:\n",
    "        cpu.loc[i, col] = cpu.loc[i, col][cpu.loc[i, col].index('~')+1:]\n",
    "print(cpu[col].unique())"
   ]
  },
  {
   "cell_type": "code",
   "execution_count": 127,
   "id": "7347525a-db91-4ff9-a22a-6aa764368702",
   "metadata": {
    "tags": []
   },
   "outputs": [],
   "source": [
    "col = 'has_graphic'\n",
    "cpu[col] = np.where(pd.isnull(cpu['graphic_name']), 0, 1)"
   ]
  },
  {
   "cell_type": "code",
   "execution_count": 128,
   "id": "12a1ed44-1d16-4b13-8d14-9335f5658aa0",
   "metadata": {
    "tags": []
   },
   "outputs": [],
   "source": [
    "col = 'memory_capacity'\n",
    "for i in range(len(cpu[col])):\n",
    "    if pd.isnull(cpu[col][i]): continue\n",
    "    if 'TB' in cpu.loc[i, col]:\n",
    "        tb = float(cpu.loc[i, col].replace('TB', ''))\n",
    "        cpu.loc[i, col] = f'{tb * 1024:.0f}'"
   ]
  },
  {
   "cell_type": "code",
   "execution_count": 129,
   "id": "46b9c65a-a0b9-4c81-9dfd-98d0dbcdfad4",
   "metadata": {
    "tags": []
   },
   "outputs": [
    {
     "data": {
      "text/plain": [
       "array(['128', nan, '64', '2048', '256', '1024', '4096', '6144', '4608'],\n",
       "      dtype=object)"
      ]
     },
     "execution_count": 129,
     "metadata": {},
     "output_type": "execute_result"
    }
   ],
   "source": [
    "cpu[col].unique()"
   ]
  },
  {
   "cell_type": "code",
   "execution_count": 130,
   "id": "738b6f20-7b30-429d-9ab1-3848bfed644d",
   "metadata": {
    "tags": []
   },
   "outputs": [
    {
     "name": "stdout",
     "output_type": "stream",
     "text": [
      "['5200' '4800, 3200' '3200' '5600, 3200' '2933' '2666' '2400' nan '2133'\n",
      " '2667' '1333' '1066' '2000' '800' '1866']\n",
      "['5200' '4800' '3200' '5600' '2933' '2666' '2400' nan '2133' '2667' '1333'\n",
      " '1066' '2000' '800' '1866']\n"
     ]
    }
   ],
   "source": [
    "col = 'memory_clock'\n",
    "print(cpu[col].unique())\n",
    "for i in range(len(cpu[col])):\n",
    "    if pd.isnull(cpu[col][i]): continue\n",
    "    if ',' in cpu.loc[i, col]:\n",
    "        cpu.loc[i, col] = cpu.loc[i, col][:cpu.loc[i, col].index(',')]\n",
    "print(cpu[col].unique())"
   ]
  },
  {
   "cell_type": "code",
   "execution_count": 132,
   "id": "6648d7a3-0177-43f6-93b9-06fb4bfb5900",
   "metadata": {
    "tags": []
   },
   "outputs": [
    {
     "name": "stdout",
     "output_type": "stream",
     "text": [
      "['PCIe5.0' 'PCIe5.0, 4.0' 'PCIe3.0' 'PCIe4.0' nan]\n",
      "[1 3 4 2 nan]\n"
     ]
    }
   ],
   "source": [
    "col = 'pcie_version'\n",
    "print(cpu[col].unique())\n",
    "pv_bitmask = ['5.0', '4.0', '3.0']\n",
    "for i in range(len(cpu[col])):\n",
    "    if pd.isnull(cpu[col][i]): continue\n",
    "    pv_bit = 0\n",
    "    for j in range(len(pv_bitmask)):\n",
    "        if pv_bitmask[j] in cpu.loc[i, col]:\n",
    "            pv_bit |= 1 << j\n",
    "    cpu.loc[i, col] = pv_bit\n",
    "print(cpu[col].unique())"
   ]
  },
  {
   "cell_type": "code",
   "execution_count": 135,
   "id": "29382334-08f1-420c-8609-8e328921f2a9",
   "metadata": {
    "tags": []
   },
   "outputs": [
    {
     "name": "stdout",
     "output_type": "stream",
     "text": [
      "['3.8' '4.2' '2.5' '3.7' '4.7' '3.9' '3.0' '3.5' '3.4' '4.5' '2.1' '3.3'\n",
      " '3.2' '2.9' '2.80' '2.0' '4.4' '3.6' '2.6' '2.7' '4.1' '2.4' '4.0' '3.20'\n",
      " '3.70' '2.8' '3.1' '3.60' '4.3' '2.2' '1.1' '2.45' '1.4' '3.5 ' '2.66'\n",
      " '2.50' '2.10' '3.16' '1.70' '2.93' '2.20' '3.0 ' '2.3' '2.60' '3.80'\n",
      " '2.33' '2.40' '1.90' '2.30' '2.5 ' '2.83' '3.06' '3.33' '2.25' '1.8'\n",
      " '4.00' '2.5 ~ 2.99' '2.35' '1.7' '2.53' '2.00' '3.40' '1.6' '2.90' '3.50']\n",
      "['3.8' '4.2' '2.5' '3.7' '4.7' '3.9' '3.0' '3.5' '3.4' '4.5' '2.1' '3.3'\n",
      " '3.2' '2.9' '2.80' '2.0' '4.4' '3.6' '2.6' '2.7' '4.1' '2.4' '4.0' '3.20'\n",
      " '3.70' '2.8' '3.1' '3.60' '4.3' '2.2' '1.1' '2.45' '1.4' '3.5 ' '2.66'\n",
      " '2.50' '2.10' '3.16' '1.70' '2.93' '2.20' '3.0 ' '2.3' '2.60' '3.80'\n",
      " '2.33' '2.40' '1.90' '2.30' '2.5 ' '2.83' '3.06' '3.33' '2.25' '1.8'\n",
      " '4.00' '2.35' '1.7' '2.53' '2.00' '3.40' '1.6' '2.90' '3.50']\n"
     ]
    }
   ],
   "source": [
    "col = 'clock_basic'\n",
    "print(cpu[col].unique())\n",
    "for i in range(len(cpu[col])):\n",
    "    if pd.isnull(cpu[col][i]): continue\n",
    "    if ' ~' in cpu.loc[i, col]:\n",
    "        cpu.loc[i, col] = cpu.loc[i, col][:cpu.loc[i, col].index(' ~')]\n",
    "print(cpu[col].unique())"
   ]
  },
  {
   "cell_type": "code",
   "execution_count": 137,
   "id": "afed8132-414d-4210-8cae-6d300bee62da",
   "metadata": {
    "tags": []
   },
   "outputs": [
    {
     "name": "stdout",
     "output_type": "stream",
     "text": [
      "['5.1' '5.0' '4.6' '5.3' '4.4' '5.8' '5.4' '4.8' '4.2' '5.2' '4.9' '4.3'\n",
      " '5.7' '4.7' '6.0' '4.5' '4.0' '5.6' nan '4.00' '4.1' '4' '4.60' '4.70'\n",
      " '5.5' '5.00' '3.7' '4.50' '3.9' '3.1' '4.25' '3.6' '3.8' '3.4' '3.46'\n",
      " '3.2' '3.5' '3.3' '4.35' ' 3.49' '3.90' '3.70' '3.20' '3.00' '1.90'\n",
      " '3.35' '1.7' '3.33' '3.7  / 3.8' '2.66' '4.30']\n",
      "['5.1' '5.0' '4.6' '5.3' '4.4' '5.8' '5.4' '4.8' '4.2' '5.2' '4.9' '4.3'\n",
      " '5.7' '4.7' '6.0' '4.5' '4.0' '5.6' nan '4.00' '4.1' '4' '4.60' '4.70'\n",
      " '5.5' '5.00' '3.7' '4.50' '3.9' '3.1' '4.25' '3.6' '3.8' '3.4' '3.46'\n",
      " '3.2' '3.5' '3.3' '4.35' ' 3.49' '3.90' '3.70' '3.20' '3.00' '1.90'\n",
      " '3.35' '1.7' '3.33' ' 3.8' '2.66' '4.30']\n"
     ]
    }
   ],
   "source": [
    "col = 'clock_max'\n",
    "print(cpu[col].unique())\n",
    "for i in range(len(cpu[col])):\n",
    "    if pd.isnull(cpu[col][i]): continue\n",
    "    if '~' in cpu.loc[i, col]:\n",
    "        cpu.loc[i, col] = cpu.loc[i, col][cpu.loc[i, col].index('~ ')+1:]\n",
    "    if '/' in cpu.loc[i, col]:\n",
    "        cpu.loc[i, col] = cpu.loc[i, col][cpu.loc[i, col].index('/ ')+1:]\n",
    "print(cpu[col].unique())"
   ]
  },
  {
   "cell_type": "code",
   "execution_count": 138,
   "id": "8c3ee675-52f6-4bc8-b0ca-90396eb16150",
   "metadata": {
    "tags": []
   },
   "outputs": [],
   "source": [
    "today = time.strftime('%y%m%d')\n",
    "pd.DataFrame(cpu).to_csv(f'../part_cpu{today}.csv', index=None)"
   ]
  },
  {
   "cell_type": "code",
   "execution_count": null,
   "id": "3384dde8-8dda-42a9-a88e-24c81ff57b4d",
   "metadata": {},
   "outputs": [],
   "source": []
  }
 ],
 "metadata": {
  "kernelspec": {
   "display_name": "Python 3 (ipykernel)",
   "language": "python",
   "name": "python3"
  },
  "language_info": {
   "codemirror_mode": {
    "name": "ipython",
    "version": 3
   },
   "file_extension": ".py",
   "mimetype": "text/x-python",
   "name": "python",
   "nbconvert_exporter": "python",
   "pygments_lexer": "ipython3",
   "version": "3.11.4"
  }
 },
 "nbformat": 4,
 "nbformat_minor": 5
}
