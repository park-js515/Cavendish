{
 "cells": [
  {
   "cell_type": "code",
   "execution_count": 3,
   "id": "8017fc7e",
   "metadata": {
    "tags": []
   },
   "outputs": [],
   "source": [
    "import pandas as pd\n",
    "import numpy as np\n",
    "import time\n",
    "import re"
   ]
  },
  {
   "cell_type": "code",
   "execution_count": 2,
   "id": "a29cdc90-5582-46c3-8bf4-38a2f5c2cec4",
   "metadata": {
    "tags": []
   },
   "outputs": [],
   "source": [
    "ram = pd.read_csv('ram_final.csv')"
   ]
  },
  {
   "cell_type": "code",
   "execution_count": 25,
   "id": "69a707c0-65d9-4904-bce7-db323237ae30",
   "metadata": {
    "tags": []
   },
   "outputs": [
    {
     "data": {
      "text/plain": [
       "array(['16', '32', '8', '64', '48', '128', '96', '4', '192', '2', '1',\n",
       "       '256MB'], dtype=object)"
      ]
     },
     "execution_count": 25,
     "metadata": {},
     "output_type": "execute_result"
    }
   ],
   "source": [
    "col = 'capacity'\n",
    "ram[col].unique()"
   ]
  },
  {
   "cell_type": "code",
   "execution_count": 29,
   "id": "363f4cc6-fd37-43e8-ab32-12f7e9b689e6",
   "metadata": {
    "tags": []
   },
   "outputs": [
    {
     "data": {
      "text/plain": [
       "array(['3200MHz (PC4-25600)', '5600MHz (PC5-44800)',\n",
       "       '6000MHz (PC5-48000)', '5200MHz (PC5-41600)',\n",
       "       '4800MHz (PC5-38400)', '6400MHz (PC5-51200)',\n",
       "       '1600MHz (PC3-12800)', '3600MHz (PC4-28800)',\n",
       "       '2666MHz (PC4-21300)', '8000MHz (PC5-64000)',\n",
       "       '8200MHz (PC5-65600)', '4000MHz (PC4-32000)',\n",
       "       '7200MHz (PC5-57600)', '2400MHz (PC4-19200)',\n",
       "       '2133MHz (PC4-17000)', '6800MHz (PC5-54400)',\n",
       "       '7600MHz (PC5-60800)', '6600MHz (PC5-52800)',\n",
       "       '7800MHz (PC5-62400)', '6200MHz (PC5-49600)',\n",
       "       '3000MHz (PC4-24000)', '4266MHz (PC4-34100)',\n",
       "       '4300MHz (PC4-34400)', '4133MHz (PC4-33000)',\n",
       "       '4600MHz (PC4-36800)', '4500MHz (PC4-36000)',\n",
       "       '4800MHz (PC4-38400)', '3800MHz (PC4-30400)',\n",
       "       '7000MHz (PC5-56000)', '4400MHz (PC4-35200)',\n",
       "       '3466MHz (PC4-27700)', '2800MHz (PC4-22400)',\n",
       "       '3866MHz (PC4-30900)', '1333MHz (PC3-10600)', '800MHz (PC2-6400)',\n",
       "       '1866MHz (PC3-14900)', '1066MHz (PC3-8500)', '2933MHz (PC4-23400)',\n",
       "       '667MHz (PC2-5300)', '333MHz', '2400MHz (PC3-19200)',\n",
       "       '3400MHz (PC4-27200)', '2800MHz (PC3-22400)'], dtype=object)"
      ]
     },
     "execution_count": 29,
     "metadata": {},
     "output_type": "execute_result"
    }
   ],
   "source": [
    "col = 'clock'\n",
    "ram[col].unique()"
   ]
  },
  {
   "cell_type": "code",
   "execution_count": 30,
   "id": "276fa115-6857-4ac9-9b7f-7a44131342fe",
   "metadata": {
    "tags": []
   },
   "outputs": [],
   "source": [
    "for i in range(len(ram[col])):\n",
    "    if pd.isnull(ram[col][i]): continue\n",
    "    ram.loc[i, col] = re.sub('(MHz| |\\([^)]*\\))', '', ram.loc[i, col])"
   ]
  },
  {
   "cell_type": "code",
   "execution_count": 31,
   "id": "198d890d-de62-4b6d-932f-0640569c7d31",
   "metadata": {
    "tags": []
   },
   "outputs": [
    {
     "data": {
      "text/plain": [
       "array(['3200', '5600', '6000', '5200', '4800', '6400', '1600', '3600',\n",
       "       '2666', '8000', '8200', '4000', '7200', '2400', '2133', '6800',\n",
       "       '7600', '6600', '7800', '6200', '3000', '4266', '4300', '4133',\n",
       "       '4600', '4500', '3800', '7000', '4400', '3466', '2800', '3866',\n",
       "       '1333', '800', '1866', '1066', '2933', '667', '333', '3400'],\n",
       "      dtype=object)"
      ]
     },
     "execution_count": 31,
     "metadata": {},
     "output_type": "execute_result"
    }
   ],
   "source": [
    "ram[col].unique()"
   ]
  },
  {
   "cell_type": "code",
   "execution_count": 47,
   "id": "d1fa4a3d-a5c8-4a88-882f-13241f7e5912",
   "metadata": {
    "tags": []
   },
   "outputs": [],
   "source": [
    "today = time.strftime('%y%m%d')"
   ]
  },
  {
   "cell_type": "code",
   "execution_count": 32,
   "id": "6671890c-2cc8-45cf-915d-38396c3958a8",
   "metadata": {
    "tags": []
   },
   "outputs": [],
   "source": [
    "\n",
    "pd.DataFrame(ram).to_csv(f'part_ram{today}.csv', index=None)"
   ]
  },
  {
   "cell_type": "code",
   "execution_count": 11,
   "id": "452db919-e390-472b-8faf-0d8dbdf60f63",
   "metadata": {
    "tags": []
   },
   "outputs": [],
   "source": [
    "mb = pd.read_csv('../part_mainboard230920.csv')"
   ]
  },
  {
   "cell_type": "code",
   "execution_count": 46,
   "id": "145cbb17-d088-4da6-9ff5-472bd2ae4f06",
   "metadata": {
    "tags": []
   },
   "outputs": [
    {
     "data": {
      "text/plain": [
       "array(['M-ATX', 'ATX', 'M-iTX', 'E-ATX', 'EEB', 'CEB', 'Pico-iTX',\n",
       "       'U-ATX', nan, 'XL-ATX', '8.5x5.6cm', '기타', '(30.48x26.67cm)',\n",
       "       '(31.24x25.65cm)', '기타 (10x7.9cm)', 'M-DTX', '11.5x7.8x1.4cm',\n",
       "       '6.96x4.5cm'], dtype=object)"
      ]
     },
     "execution_count": 46,
     "metadata": {},
     "output_type": "execute_result"
    }
   ],
   "source": [
    "mb.form_factor.unique()"
   ]
  },
  {
   "cell_type": "code",
   "execution_count": 45,
   "id": "69be9d0a-440c-4f43-9777-74f5b8e41e14",
   "metadata": {
    "tags": []
   },
   "outputs": [],
   "source": [
    "for i in range(len(mb)):\n",
    "    ff = mb.loc[i, 'form_factor']\n",
    "    if type(ff) == float: continue\n",
    "    if ff.startswith('CEB'):\n",
    "        mb.loc[i, 'form_factor'] = 'CEB'"
   ]
  },
  {
   "cell_type": "code",
   "execution_count": 48,
   "id": "e41321e3-c76f-46bf-aa97-09ad55c567f4",
   "metadata": {
    "tags": []
   },
   "outputs": [],
   "source": [
    "pd.DataFrame(mb).to_csv(f'../part_mainboard{today}.csv', index=None)"
   ]
  },
  {
   "cell_type": "code",
   "execution_count": 54,
   "id": "9f01d87b-a47d-4968-9dc3-f2a2d6347143",
   "metadata": {
    "tags": []
   },
   "outputs": [],
   "source": [
    "ssd = pd.read_csv('../part_ssd230920.csv')"
   ]
  },
  {
   "cell_type": "code",
   "execution_count": 55,
   "id": "7ec0cd20-6b83-4f6e-9057-0b9b08f6e979",
   "metadata": {
    "tags": []
   },
   "outputs": [
    {
     "data": {
      "text/plain": [
       "array(['M.2 (2280)', '6.4cm(2.5형)', 'M.2 (2230)', 'Mini SATA(mSATA)',\n",
       "       'M.2 (2242)', nan, 'PCIe 카드', 'SATADOM', 'M.2 (22110)',\n",
       "       'Mac Pro용(2019년형)', '4.6cm(1.8형)'], dtype=object)"
      ]
     },
     "execution_count": 55,
     "metadata": {},
     "output_type": "execute_result"
    }
   ],
   "source": [
    "ssd.form_factor.unique()"
   ]
  },
  {
   "cell_type": "code",
   "execution_count": 58,
   "id": "0f9a2c5e-96b6-40be-a8f4-b3839b971054",
   "metadata": {
    "tags": []
   },
   "outputs": [],
   "source": [
    "for i in range(len(ssd)):\n",
    "    v = ssd.loc[i, 'volume']\n",
    "    if type(v) == float: continue\n",
    "    if 'TB' in v:\n",
    "        ssd.loc[i, 'volume'] = str(float(ssd.loc[i, 'volume'].replace('TB', '')) * 1024)\n",
    "    elif 'GB' in v:\n",
    "        ssd.loc[i, 'volume'] = ssd.loc[i, 'volume'].replace('GB', '')"
   ]
  },
  {
   "cell_type": "code",
   "execution_count": 61,
   "id": "75f1a3d5-16e3-46ef-a815-c3008368d6ee",
   "metadata": {
    "tags": []
   },
   "outputs": [],
   "source": [
    "pd.DataFrame(ssd).to_csv(f'../part_ssd{today}.csv', index=None)"
   ]
  },
  {
   "cell_type": "code",
   "execution_count": 63,
   "id": "c1dc39d2-202d-4c34-9e1d-fd3a09b4784b",
   "metadata": {
    "tags": []
   },
   "outputs": [
    {
     "data": {
      "text/plain": [
       "'2280'"
      ]
     },
     "execution_count": 63,
     "metadata": {},
     "output_type": "execute_result"
    }
   ],
   "source": [
    "k = 'M.2 (2280)'\n",
    "k[k.index('22'):-1]"
   ]
  },
  {
   "cell_type": "code",
   "execution_count": 66,
   "id": "8d8d5440-d2e1-46df-9de2-d6d6fa735419",
   "metadata": {
    "tags": []
   },
   "outputs": [
    {
     "data": {
      "text/plain": [
       "array(['PCIe4.0x4 (64GT/s)', 'PCIe3.0x4 (32GT/s)', 'SATA3 (6Gb/s)',\n",
       "       'PCIe5.0x4 (128GT/s)', 'U.2 (PCIe3.0x4)', 'PCIe3.1x4 (32GT/s)',\n",
       "       'PCIe3.0x2 (16GT/s)', nan, 'SATA3(6Gb/s)', 'PCIe3.0x8 (64GT/s)',\n",
       "       'PCIe2.0x4 (20GT/s)', 'PCIe4.0x8 (128GT/s)', 'E-IDE',\n",
       "       'PCIe3.0x16 (128GT/s)', 'U.2 (PCIe4.0x4)', 'PCIe2.0x1 (5GT/s)',\n",
       "       'ZIF'], dtype=object)"
      ]
     },
     "execution_count": 66,
     "metadata": {},
     "output_type": "execute_result"
    }
   ],
   "source": [
    "ssd.interface.unique()"
   ]
  },
  {
   "cell_type": "code",
   "execution_count": 65,
   "id": "194ea1a8-87aa-4230-a0a4-fa221f8fd5fa",
   "metadata": {
    "tags": []
   },
   "outputs": [
    {
     "data": {
      "text/plain": [
       "array([ 4.,  6.,  2.,  7.,  8.,  3., nan, 10.,  5., 11., 16., 13., 21.])"
      ]
     },
     "execution_count": 65,
     "metadata": {},
     "output_type": "execute_result"
    }
   ],
   "source": [
    "mb.sata3_number.unique()"
   ]
  },
  {
   "cell_type": "code",
   "execution_count": null,
   "id": "f5975288-b415-4336-a569-57fb7fb7f4a1",
   "metadata": {},
   "outputs": [],
   "source": []
  }
 ],
 "metadata": {
  "kernelspec": {
   "display_name": "Python 3 (ipykernel)",
   "language": "python",
   "name": "python3"
  },
  "language_info": {
   "codemirror_mode": {
    "name": "ipython",
    "version": 3
   },
   "file_extension": ".py",
   "mimetype": "text/x-python",
   "name": "python",
   "nbconvert_exporter": "python",
   "pygments_lexer": "ipython3",
   "version": "3.11.4"
  }
 },
 "nbformat": 4,
 "nbformat_minor": 5
}
