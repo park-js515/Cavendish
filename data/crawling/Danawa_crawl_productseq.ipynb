{
 "cells": [
  {
   "cell_type": "code",
   "execution_count": 1,
   "id": "9caa0e29-faca-4ea9-8c11-5e0f0ac9cc50",
   "metadata": {
    "tags": []
   },
   "outputs": [],
   "source": [
    "from selenium import webdriver\n",
    "from selenium.webdriver.chrome.service import Service\n",
    "from selenium.webdriver.chrome.options import Options\n",
    "from selenium.webdriver.common.by import By\n",
    "from selenium.webdriver.support.select import Select\n",
    "from selenium.webdriver.support.ui import WebDriverWait\n",
    "from selenium.webdriver.support import expected_conditions as EC\n",
    "from selenium.common.exceptions import NoSuchElementException\n",
    "from selenium.common.exceptions import StaleElementReferenceException\n",
    "from bs4 import BeautifulSoup\n",
    "import time\n",
    "import csv\n",
    "\n",
    "# 크롬 드라이버 자동 업데이트\n",
    "from webdriver_manager.chrome import ChromeDriverManager"
   ]
  },
  {
   "cell_type": "code",
   "execution_count": 2,
   "id": "604bdfb5-2a23-4856-b690-e31ed5b9f9f6",
   "metadata": {
    "tags": []
   },
   "outputs": [],
   "source": [
    "class RetriesExceededError(Exception):\n",
    "    def __init__(self, message):\n",
    "        super().__init__(message)\n",
    "\n",
    "        \n",
    "def find_element_with_retry(driver_, by, value, waiting_sec=2.5, max_retries=10):\n",
    "    retries = 0\n",
    "    while retries < max_retries:\n",
    "        try:\n",
    "            element = WebDriverWait(driver_, waiting_sec).until(EC.presence_of_element_located((by, value)))\n",
    "            return element\n",
    "        except (NoSuchElementException, StaleElementReferenceException):\n",
    "            retries += 1\n",
    "            \n",
    "    raise RetriesExceededError(f'{value}를 찾을 수 없음\\n재시도 횟수 초과: {waiting_sec}초로 {max_retries}회 시도')"
   ]
  },
  {
   "cell_type": "code",
   "execution_count": 3,
   "id": "bb03318e-f851-4347-a963-c1849b8a91da",
   "metadata": {},
   "outputs": [],
   "source": [
    "# 브라우저 꺼짐 방지\n",
    "chrome_options = Options()\n",
    "chrome_options.add_experimental_option(\"detach\", True)\n",
    "\n",
    "user_agent = \"Mozilla/5.0 (Windows NT 10.0; Win64; x64) AppleWebKit/537.36 (KHTML, like Gecko) Chrome/116.0.0.0 Safari/537.36\"\n",
    "chrome_options.add_argument(f'user-agent={user_agent}')\n",
    "\n",
    "# 불필요한 에러 메세지 없애기\n",
    "chrome_options.add_experimental_option(\"excludeSwitches\", [\"enable-logging\"])\n",
    "driver = webdriver.Chrome(ChromeDriverManager().install(), options=chrome_options)\n",
    "\n",
    "category = 112747  # CPU\n",
    "# category = 112751  # 메인보드\n",
    "# category = 112752  # 램\n",
    "# category = 112753  # 그래픽카드\n",
    "# category = 112760  # SSD\n",
    "# category = 112763  # HDD\n",
    "# category = 112775  # 케이스\n",
    "# category = 112777  # 파워\n",
    "# category = 11236855  # 쿨러\n",
    "save_file = True  # 파일 저장 여부\n",
    "waiting_sec = 3"
   ]
  },
  {
   "cell_type": "code",
   "execution_count": 4,
   "id": "c14c0b5a-0a3f-410d-8142-c203ac3a3130",
   "metadata": {},
   "outputs": [
    {
     "name": "stdout",
     "output_type": "stream",
     "text": [
      "Message: \n",
      "\n"
     ]
    }
   ],
   "source": [
    "# 크롤링 시작\n",
    "driver.get(f'https://prod.danawa.com/list/?cate={category}')\n",
    "driver.implicitly_wait(10)\n",
    "\n",
    "# 한번에 보기 90개 설정\n",
    "qnt_element = find_element_with_retry(driver, By.CSS_SELECTOR, '#productListArea > div.prod_list_opts > div.view_opt > div.view_item.view_qnt > select')\n",
    "Select(qnt_element).select_by_value(\"90\")\n",
    "# Select(driver.find_element(By.CSS_SELECTOR, '#productListArea > div.prod_list_opts > div.view_opt > div.view_item.view_qnt > select')).select_by_value(\"90\")\n",
    "time.sleep(waiting_sec)\n",
    "\n",
    "# 제품 번호 리스트 초기화\n",
    "p_seq_list = []\n",
    "\n",
    "while True:\n",
    "    # bs 초기화\n",
    "    soup = BeautifulSoup(driver.page_source, 'html.parser')\n",
    "\n",
    "    page_list = soup.select('div.number_wrap > a')  # 페이지 네비게이션 바\n",
    "\n",
    "    for i in range(1, len(page_list)+1):\n",
    "        target_page = find_element_with_retry(driver, By.CSS_SELECTOR, f'#productListArea > div.prod_num_nav > div > div > a:nth-child({i})')\n",
    "        target_page.click()\n",
    "        time.sleep(waiting_sec)\n",
    "\n",
    "        soup = BeautifulSoup(driver.page_source, 'html.parser')\n",
    "        product_list = soup.select('li.prod_item.prod_layer')  # 제품 리스트\n",
    "        for product in product_list:\n",
    "            if 'id' in product.attrs:\n",
    "                p_seq_list.append(product['id'][11:])  # 제품 번호\n",
    "\n",
    "    try:\n",
    "        nav_next = find_element_with_retry(driver, By.CLASS_NAME, 'nav_next')\n",
    "        nav_next.click()\n",
    "        time.sleep(waiting_sec)\n",
    "    except NoSuchElementException as e:\n",
    "        print('다음 버튼이 없음')\n",
    "        break\n",
    "    except Exception as e:\n",
    "        print(e)\n",
    "        break\n",
    "        \n",
    "driver.quit()\n",
    "# 크롤링 끝"
   ]
  },
  {
   "cell_type": "code",
   "execution_count": 5,
   "id": "4fb5e152-5a1d-4276-9153-33723f9dad75",
   "metadata": {
    "tags": []
   },
   "outputs": [
    {
     "name": "stdout",
     "output_type": "stream",
     "text": [
      "425\n"
     ]
    }
   ],
   "source": [
    "print(len(p_seq_list))"
   ]
  },
  {
   "cell_type": "code",
   "execution_count": 6,
   "id": "57ba4522-b2c9-43b1-bafe-7beab80b0c21",
   "metadata": {
    "tags": []
   },
   "outputs": [],
   "source": [
    "# 제품 번호 텍스트로 저장\n",
    "if save_file:\n",
    "    with open(f'seq_{category}.csv', 'w') as f:\n",
    "        writer = csv.writer(f)\n",
    "\n",
    "        writer.writerow([\"seq\"])\n",
    "        for seq in p_seq_list:\n",
    "            writer.writerow([seq])"
   ]
  },
  {
   "cell_type": "code",
   "execution_count": 2,
   "id": "b31ecf50-f81a-4a45-8594-7b6ba2472e09",
   "metadata": {},
   "outputs": [
    {
     "name": "stdout",
     "output_type": "stream",
     "text": [
      "A 1\n",
      "B 2\n",
      "C 3\n"
     ]
    }
   ],
   "source": [
    "a = ['A', 'B', 'C']\n",
    "b = [1, 2, 3]\n",
    "for q, w in zip(a, b):\n",
    "    print(q, w)"
   ]
  },
  {
   "cell_type": "code",
   "execution_count": null,
   "id": "580fd762-85f8-4fad-a1d6-958f831859c2",
   "metadata": {},
   "outputs": [],
   "source": []
  }
 ],
 "metadata": {
  "kernelspec": {
   "display_name": "Python 3 (ipykernel)",
   "language": "python",
   "name": "python3"
  },
  "language_info": {
   "codemirror_mode": {
    "name": "ipython",
    "version": 3
   },
   "file_extension": ".py",
   "mimetype": "text/x-python",
   "name": "python",
   "nbconvert_exporter": "python",
   "pygments_lexer": "ipython3",
   "version": "3.9.12"
  }
 },
 "nbformat": 4,
 "nbformat_minor": 5
}
