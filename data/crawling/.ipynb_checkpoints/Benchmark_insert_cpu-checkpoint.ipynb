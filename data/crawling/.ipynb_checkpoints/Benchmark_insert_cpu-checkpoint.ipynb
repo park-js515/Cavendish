{
 "cells": [
  {
   "cell_type": "code",
   "execution_count": 1,
   "metadata": {
    "tags": []
   },
   "outputs": [],
   "source": [
    "import pandas as pd\n",
    "import numpy as np\n",
    "import time"
   ]
  },
  {
   "cell_type": "code",
   "execution_count": 2,
   "metadata": {
    "tags": []
   },
   "outputs": [],
   "source": [
    "cpu = pd.read_csv('../part_cpu230921.csv')\n",
    "cpu_bench = pd.read_csv('../benchmark_cpu.csv')"
   ]
  },
  {
   "cell_type": "code",
   "execution_count": 3,
   "metadata": {
    "tags": []
   },
   "outputs": [
    {
     "data": {
      "text/plain": [
       "0         AMD 라이젠5-5세대 7600\n",
       "1      AMD 라이젠7-5세대 7800X3D\n",
       "2       인텔 코어i5-13세대 13400F\n",
       "3        AMD 라이젠5-5세대 7500F\n",
       "4        AMD 라이젠5-5세대 7600X\n",
       "               ...         \n",
       "420             인텔 펜티엄 G870\n",
       "421             인텔 펜티엄 G850\n",
       "422             인텔 펜티엄 G840\n",
       "423            인텔 펜티엄 E2200\n",
       "424          인텔 코어2듀오 E6600\n",
       "Name: name, Length: 425, dtype: object"
      ]
     },
     "execution_count": 3,
     "metadata": {},
     "output_type": "execute_result"
    }
   ],
   "source": [
    "cpu.name"
   ]
  },
  {
   "cell_type": "code",
   "execution_count": 4,
   "metadata": {
    "tags": []
   },
   "outputs": [
    {
     "data": {
      "text/plain": [
       "2       인텔 코어i5-13세대 13400F\n",
       "6       인텔 코어i9-13세대 13900K\n",
       "7       인텔 코어i5-12세대 12400F\n",
       "8      인텔 코어i5-13세대 13600KF\n",
       "9       인텔 코어i7-13세대 13700K\n",
       "               ...         \n",
       "412        인텔 코어i3-4세대 4330\n",
       "413       인텔 코어i3-7세대 7300T\n",
       "414          인텔 코어2듀오 E8200\n",
       "415          인텔 코어2듀오 E6750\n",
       "424          인텔 코어2듀오 E6600\n",
       "Name: name, Length: 205, dtype: object"
      ]
     },
     "execution_count": 4,
     "metadata": {},
     "output_type": "execute_result"
    }
   ],
   "source": [
    "cpu.loc[cpu['name'].str.contains('코어'), 'name']"
   ]
  },
  {
   "cell_type": "code",
   "execution_count": 21,
   "metadata": {
    "tags": []
   },
   "outputs": [
    {
     "data": {
      "text/plain": [
       "41       Intel Xeon Platinum 8380 @ 2.30GHz\n",
       "50              Intel Xeon W-3375 @ 2.50GHz\n",
       "51              Intel Xeon W-3365 @ 2.70GHz\n",
       "60      Intel Xeon Platinum 8375C @ 2.90GHz\n",
       "66       Intel Xeon Platinum 8358 @ 2.60GHz\n",
       "                       ...                 \n",
       "4404                  Intel Celeron 1.70GHz\n",
       "4407                  Intel Celeron 1.80GHz\n",
       "4410                Intel Pentium 4 1.70GHz\n",
       "4411                Intel Pentium 4 1.50GHz\n",
       "4412                Intel Pentium 4 1.60GHz\n",
       "Name: name, Length: 2217, dtype: object"
      ]
     },
     "execution_count": 21,
     "metadata": {},
     "output_type": "execute_result"
    }
   ],
   "source": [
    "cpu_bench.loc[cpu_bench['name'].str.contains('GHz'), 'name']"
   ]
  },
  {
   "cell_type": "code",
   "execution_count": 6,
   "metadata": {
    "tags": []
   },
   "outputs": [],
   "source": [
    "unique_values = set()\n",
    "\n",
    "for row in cpu.name.str.split(r' |-'):\n",
    "    for value in row:\n",
    "        if '+' in value: unique_values.add(value)"
   ]
  },
  {
   "cell_type": "code",
   "execution_count": 7,
   "metadata": {
    "tags": []
   },
   "outputs": [
    {
     "data": {
      "text/plain": [
       "{'+'}"
      ]
     },
     "execution_count": 7,
     "metadata": {},
     "output_type": "execute_result"
    }
   ],
   "source": [
    "unique_values"
   ]
  },
  {
   "cell_type": "code",
   "execution_count": 8,
   "metadata": {
    "tags": []
   },
   "outputs": [],
   "source": [
    "cpu_regex_map = {'인텔': 'Intel ', '라이젠': 'Ryzen ', '코어2': 'Core2 ', '코어': 'Core ', '스레드리퍼': 'Threadripper ',\n",
    "          r'-\\d+세대': ' ', '펜티엄': 'Pentium ', '셀러론': 'Celeron ', '골드': 'Gold ',\n",
    "          'X-시리즈': ' ', '어벤져스 에디션': ' ', '제온': 'Xeon ', '브론즈': 'Beonze ',\n",
    "          '스케일러블': ' ', '실버': 'Silver ', '애슬론': 'Athlon', '듀오': ' Duo', '쿼드 ': ' Quad ',\n",
    "          '플래티넘': 'Platinum ', '\\+ ': ' ', 'V6': ' v6 ', 'V5': ' v5 ', 'V2': ' v2 ', 'V4': ' v4 ',\n",
    "                'V3': ' v3 '}\n",
    "bench_regex_map = {'@': ' ', '\\+': '', 'GHz': ''}\n",
    "none_regex_map = {r' +': ' '}"
   ]
  },
  {
   "cell_type": "code",
   "execution_count": 9,
   "metadata": {
    "tags": []
   },
   "outputs": [],
   "source": [
    "cpu_reg = cpu.replace(regex=cpu_regex_map).replace(regex=none_regex_map)\n",
    "ben_reg = cpu_bench.replace(regex=bench_regex_map).replace(regex=none_regex_map)"
   ]
  },
  {
   "cell_type": "code",
   "execution_count": 10,
   "metadata": {},
   "outputs": [],
   "source": [
    "c_names = cpu_reg.name.str.split(r' |-')\n",
    "bench_names = ben_reg.name.str.split(r' |-')"
   ]
  },
  {
   "cell_type": "code",
   "execution_count": 11,
   "metadata": {
    "tags": []
   },
   "outputs": [
    {
     "data": {
      "text/plain": [
       "0           [AMD, Ryzen, 5, 7600]\n",
       "1        [AMD, Ryzen, 7, 7800X3D]\n",
       "2       [Intel, Core, i5, 13400F]\n",
       "3          [AMD, Ryzen, 5, 7500F]\n",
       "4          [AMD, Ryzen, 5, 7600X]\n",
       "                  ...            \n",
       "420        [Intel, Pentium, G870]\n",
       "421        [Intel, Pentium, G850]\n",
       "422        [Intel, Pentium, G840]\n",
       "423       [Intel, Pentium, E2200]\n",
       "424    [Intel, Core2, Duo, E6600]\n",
       "Name: name, Length: 425, dtype: object"
      ]
     },
     "execution_count": 11,
     "metadata": {},
     "output_type": "execute_result"
    }
   ],
   "source": [
    "c_names"
   ]
  },
  {
   "cell_type": "code",
   "execution_count": 12,
   "metadata": {
    "tags": []
   },
   "outputs": [
    {
     "data": {
      "text/plain": [
       "0                             [AMD, EPYC, 9654]\n",
       "1                            [AMD, EPYC, 9554P]\n",
       "2                            [AMD, EPYC, 9474F]\n",
       "3                      [Intel, Xeon, w9, 3495X]\n",
       "4       [AMD, Ryzen, Threadripper, PRO, 5995WX]\n",
       "                         ...                   \n",
       "4412               [Intel, Pentium, 4, 1.60GHz]\n",
       "4413               [Intel, Pentium, 4, 1400MHz]\n",
       "4414               [Intel, Pentium, 4, 1500MHz]\n",
       "4415                       [VIA, Eden, 1000MHz]\n",
       "4416               [Intel, Pentium, 4, 1300MHz]\n",
       "Name: name, Length: 4417, dtype: object"
      ]
     },
     "execution_count": 12,
     "metadata": {},
     "output_type": "execute_result"
    }
   ],
   "source": [
    "bench_names"
   ]
  },
  {
   "cell_type": "code",
   "execution_count": 13,
   "metadata": {
    "tags": []
   },
   "outputs": [],
   "source": [
    "cmc = cpu_reg['memory_clock'].mul(0.001)\n",
    "\n",
    "for cn, cm in zip(c_names, cmc):\n",
    "    cn.append(cm)"
   ]
  },
  {
   "cell_type": "code",
   "execution_count": 14,
   "metadata": {
    "tags": []
   },
   "outputs": [
    {
     "name": "stdout",
     "output_type": "stream",
     "text": [
      "cpu: 425/425 (100%)"
     ]
    }
   ],
   "source": [
    "name_list = [''] * len(c_names)\n",
    "bench_list = [0] * len(c_names)\n",
    "for i in range(len(c_names)):\n",
    "    cn = c_names.loc[i]\n",
    "    max_val = 0\n",
    "    for j in range(len(bench_names)):\n",
    "        bn = bench_names.loc[j]\n",
    "        res = len(set(cn) & set(bn))\n",
    "        val = res / float(len(set(cn) | set(bn))) * 100\n",
    "        if val >= max_val:\n",
    "            max_val = val\n",
    "            bench_list[i] = cpu_bench.loc[j, 'count']\n",
    "            name_list[i] = cpu_bench.loc[j, 'name']\n",
    "    percent = i / len(c_names) * 100\n",
    "    print(f'\\rcpu: {i+1}/{len(c_names)} ({percent:.0f}%)', end='')"
   ]
  },
  {
   "cell_type": "code",
   "execution_count": 15,
   "metadata": {
    "tags": []
   },
   "outputs": [],
   "source": [
    "cpu['bench_mark'] = bench_list"
   ]
  },
  {
   "cell_type": "code",
   "execution_count": 16,
   "metadata": {
    "tags": []
   },
   "outputs": [],
   "source": [
    "today = time.strftime('%y%m%d')\n",
    "pd.DataFrame(cpu).to_csv(f'../part_cpu_wb{today}.csv', index=None)"
   ]
  },
  {
   "cell_type": "code",
   "execution_count": 17,
   "metadata": {
    "tags": []
   },
   "outputs": [
    {
     "data": {
      "text/plain": [
       "293    Intel Core i5-13400F\n",
       "Name: name, dtype: object"
      ]
     },
     "execution_count": 17,
     "metadata": {},
     "output_type": "execute_result"
    }
   ],
   "source": [
    "cpu_bench.loc[cpu_bench['count'] == 25588, 'name']"
   ]
  },
  {
   "cell_type": "code",
   "execution_count": 18,
   "metadata": {
    "tags": []
   },
   "outputs": [
    {
     "name": "stdout",
     "output_type": "stream",
     "text": [
      ":27651::AMD Ryzen 5 7600                   ::AMD 라이젠5-5세대 7600:\n",
      ":34740::AMD Ryzen 7 7800X3D                ::AMD 라이젠7-5세대 7800X3D:\n",
      ":25588::Intel Core i5-13400F               ::인텔 코어i5-13세대 13400F:\n",
      ":25578::AMD Ryzen 5 7500F                  ::AMD 라이젠5-5세대 7500F:\n",
      ":28830::AMD Ryzen 5 7600X                  ::AMD 라이젠5-5세대 7600X:\n",
      ":19922::AMD Ryzen 5 5600G                  ::AMD 라이젠5-4세대 5600G:\n",
      ":59769::Intel Core i9-13900K               ::인텔 코어i9-13세대 13900K:\n",
      ":19639::Intel Core i5-12400F               ::인텔 코어i5-12세대 12400F:\n",
      ":38230::Intel Core i5-13600KF              ::인텔 코어i5-13세대 13600KF:\n",
      ":46838::Intel Core i7-13700K               ::인텔 코어i7-13세대 13700K:\n",
      ":21936::AMD Ryzen 5 5600X                  ::AMD 라이젠5-4세대 5600X:\n",
      ":21618::AMD Ryzen 5 5600                   ::AMD 라이젠5-4세대 5600:\n",
      ":19483::Intel Core i5-12400                ::인텔 코어i5-12세대 12400:\n",
      ":32496::Intel Core i5-13500                ::인텔 코어i5-13세대 13500:\n",
      ":16267::AMD Ryzen 5 PRO 4650G              ::AMD 라이젠5 PRO 4650G:\n",
      ":36365::AMD Ryzen 7 7700X                  ::AMD 라이젠7-5세대 7700X:\n",
      ":38350::Intel Core i5-13600K               ::인텔 코어i5-13세대 13600K:\n",
      ":46597::Intel Core i7-13700KF              ::인텔 코어i7-13세대 13700KF:\n",
      ":26795::AMD Ryzen 7 5700X                  ::AMD 라이젠7-4세대 5700X:\n",
      ":40237::Intel Core i7-13700F               ::인텔 코어i7-13세대 13700F:\n",
      ":30992::Intel Core i7-12700F               ::인텔 코어i7-12세대 12700F:\n",
      ":14252::Intel Core i3-12100F               ::인텔 코어i3-12세대 12100F:\n",
      ":38654::Intel Core i7-13700                ::인텔 코어i7-13세대 13700:\n",
      ":13852::Intel Core i3-12100                ::인텔 코어i3-12세대 12100:\n",
      ":62682::AMD Ryzen 9 7950X3D                ::AMD 라이젠9-5세대 7950X3D:\n",
      ":28018::AMD Ryzen 7 5800X                  ::AMD 라이젠7-4세대 5800X:\n",
      ":62024::Intel Core i9-13900KS              ::인텔 코어i9-13세대 13900KS:\n",
      ":14917::Intel Core i3-13100                ::인텔 코어i3-13세대 13100:\n",
      ":25341::Intel Core i5-13400                ::인텔 코어i5-13세대 13400:\n",
      ":10961::AMD Ryzen 3 PRO 4350G              ::AMD 라이젠3 PRO 4350G:\n",
      ":49350::AMD Ryzen 9 7900                   ::AMD 라이젠9-5세대 7900:\n",
      ":52222::AMD Ryzen 9 7900X                  ::AMD 라이젠9-5세대 7900X:\n",
      ":63392::AMD Ryzen 9 7950X                  ::AMD 라이젠9-5세대 7950X:\n",
      ":28222::AMD Ryzen 7 5800X3D                ::AMD 라이젠7-4세대 5800X3D:\n",
      ": 6746::Intel Pentium Gold G7400           ::인텔 펜티엄 골드 G7400:\n",
      ":16678::Intel Core i7-10700F @ 2.90GHz     ::인텔 코어i7-10세대 10700F:\n",
      ":11060::AMD Ryzen 3 4100                   ::AMD 라이젠3-3세대 4100:\n",
      ":35159::AMD Ryzen 7 7700                   ::AMD 라이젠7-5세대 7700:\n",
      ":59012::Intel Core i9-13900KF              ::인텔 코어i9-13세대 13900KF:\n",
      ": 9257::Intel Core i5-8400 @ 2.80GHz       ::인텔 코어i5-8세대 8400:\n",
      ":24676::AMD Ryzen 7 5700G                  ::AMD 라이젠7-4세대 5700G:\n",
      ":14727::Intel Core i3-13100F               ::인텔 코어i3-13세대 13100F:\n",
      ":27793::Intel Core i5-12600K               ::인텔 코어i5-12세대 12600K:\n",
      ":45854::AMD Ryzen 9 5950X                  ::AMD 라이젠9-4세대 5950X:\n",
      ":52877::Intel Core i9-13900F               ::인텔 코어i9-13세대 13900F:\n",
      ":50740::AMD Ryzen 9 7900X3D                ::AMD 라이젠9-5세대 7900X3D:\n",
      ":30976::Intel Core i7-12700                ::인텔 코어i7-12세대 12700:\n",
      ":49578::Intel Core i9-13900                ::인텔 코어i9-13세대 13900:\n",
      ":34748::Intel Core i7-12700K               ::인텔 코어i7-12세대 12700K:\n",
      ":16004::AMD Ryzen 5 4600G                  ::AMD 라이젠5-3세대 4600G:\n",
      ":27463::Intel Core i5-12600KF              ::인텔 코어i5-12세대 12600KF:\n",
      ":12263::Intel Core i5-10400F @ 2.90GHz     ::인텔 코어i5-10세대 10400F:\n",
      ":19567::AMD Ryzen 5 5500                   ::AMD 라이젠5-4세대 5500:\n",
      ":39270::AMD Ryzen 9 5900X                  ::AMD 라이젠9-4세대 5900X:\n",
      ":34519::Intel Core i7-12700KF              ::인텔 코어i7-12세대 12700KF:\n",
      ":41482::Intel Core i9-12900K               ::인텔 코어i9-12세대 12900K:\n",
      ":41248::Intel Core i9-12900KF              ::인텔 코어i9-12세대 12900KF:\n",
      ":17092::Intel Core i5-11400 @ 2.60GHz      ::인텔 코어i5-11세대 11400:\n",
      ": 4541::Intel Celeron G6900                ::인텔 셀러론 G6900:\n",
      ":98215::AMD Ryzen Threadripper PRO 5995WX  ::AMD 라이젠 스레드리퍼 PRO 5995WX:\n",
      ":17785::AMD Ryzen 5 3600                   ::AMD 라이젠5-3세대 3600:\n",
      ":12201::Intel Core i5-10400 @ 2.90GHz      ::인텔 코어i5-10세대 10400:\n",
      ": 2796::Intel Celeron G5905 @ 3.50GHz      ::인텔 셀러론 G5905:\n",
      ":16225::AMD Ryzen 5 4500                   ::AMD 라이젠5-3세대 4500:\n",
      ": 4257::Intel Pentium Gold G6405 @ 4.10GHz ::인텔 펜티엄 골드 G6405:\n",
      ":75802::AMD Ryzen Threadripper PRO 5975WX  ::AMD 라이젠 스레드리퍼 PRO 5975WX:\n",
      ": 9500::Intel Core i5-9400F @ 2.90GHz      ::인텔 코어i5-9세대 9400F:\n",
      ":34517::Intel Core i9-12900                ::인텔 코어i9-12세대 12900:\n",
      ":40430::AMD Ryzen Threadripper PRO 3955WX  ::AMD 라이젠 스레드리퍼 PRO 3955WX:\n",
      ":66613::AMD Ryzen Threadripper PRO 5965WX  ::AMD 라이젠 스레드리퍼 PRO 5965WX:\n",
      ":19998::Intel Core i7-11700 @ 2.50GHz      ::인텔 코어i7-11세대 11700:\n",
      ":32859::Intel Core i9-10980XE @ 3.00GHz    ::인텔 코어X-시리즈 i9-10980XE Extreme Edition:\n",
      ":16589::Intel Core i7-10700 @ 2.90GHz      ::인텔 코어i7-10세대 10700:\n",
      ":49680::AMD Ryzen Threadripper PRO 5955WX  ::AMD 라이젠 스레드리퍼 PRO 5955WX:\n",
      ":20005::Intel Core i5-12500                ::인텔 코어i5-12세대 12500:\n",
      ":21394::Intel Core i5-12600                ::인텔 코어i5-12세대 12600:\n",
      ":37072::Intel Core i9-12900F               ::인텔 코어i9-12세대 12900F:\n",
      ":32700::AMD Ryzen 9 3900X                  ::AMD 라이젠9-3세대 3900X:\n",
      ": 7163::AMD Ryzen 3 3200G                  ::AMD 라이젠3-2세대 3200G:\n",
      ":23019::Intel Core i9-11900 @ 2.50GHz      ::인텔 코어i9-11세대 11900:\n",
      ":19718::Intel Core i5-11600K @ 3.90GHz     ::인텔 코어i5-11세대 11600K:\n",
      ": 4140::Intel Pentium Gold G6400 @ 4.00GHz ::인텔 펜티엄 골드 G6400:\n",
      ":26357::Intel Core i9-10920X @ 3.50GHz     ::인텔 코어X-시리즈 i9-10920X:\n",
      ":14382::Intel Core i7-9700KF @ 3.60GHz     ::인텔 코어i7-9세대 9700KF:\n",
      ":25425::Intel Core i9-11900K @ 3.50GHz     ::인텔 코어i9-11세대 11900K:\n",
      ":17455::Intel Core i5-11500 @ 2.70GHz      ::인텔 코어i5-11세대 11500:\n",
      ":12921::Intel Core i7-8700 @ 3.20GHz       ::인텔 코어i7-8세대 8700:\n",
      ":13721::Intel Core i7-8700K @ 3.70GHz      ::인텔 코어i7-8세대 8700K:\n",
      ":14377::Intel Core i5-10600K @ 4.10GHz     ::인텔 코어i5-10세대 10600K:\n",
      ":24674::Intel Core i7-11700K @ 3.60GHz     ::인텔 코어i7-11세대 11700K:\n",
      ": 9604::Intel Core i5-8500 @ 3.00GHz       ::인텔 코어i5-8세대 8500:\n",
      ":22632::AMD Ryzen 7 3700X                  ::AMD 라이젠7-3세대 3700X:\n",
      ":18962::Intel Core i7-10700K @ 3.80GHz     ::인텔 코어i7-10세대 10700K:\n",
      ":10771::Intel Core i5-9600KF @ 3.70GHz     ::인텔 코어i5-9세대 9600KF:\n",
      ":20079::Intel Core i9-10900 @ 2.80GHz      ::인텔 코어i9-10세대 10900:\n",
      ":23153::Intel Core i9-10900K @ 3.70GHz     ::인텔 코어i9-10세대 10900K:\n",
      ":18962::Intel Core i7-10700K @ 3.80GHz     ::인텔 코어i7-10세대 10700K 어벤져스 에디션:\n",
      ":18436::Intel Core i9-9900KF @ 3.60GHz     ::인텔 코어i9-9세대 9900KF:\n",
      ":13292::Intel Core i7-9700 @ 3.00GHz       ::인텔 코어i7-9세대 9700:\n",
      ":10745::Intel Core i5-9600K @ 3.70GHz      ::인텔 코어i5-9세대 9600K:\n",
      ":44306::Intel Core i9-12900KS              ::인텔 코어i9-12세대 12900KS:\n",
      ":22847::Intel Core i9-10900KF @ 3.70GHz    ::인텔 코어i9-10세대 10900KF:\n",
      ":20329::Intel Core i9-10900F @ 2.80GHz     ::인텔 코어i9-10세대 10900F:\n",
      ":12823::Intel Core i5-10500 @ 3.10GHz      ::인텔 코어i5-10세대 10500:\n",
      ": 6753::Intel Core i3-9100F @ 3.60GHz      ::인텔 코어i3-9세대 9100F:\n",
      ":18427::Intel Core i9-9900K @ 3.60GHz      ::인텔 코어i9-9세대 9900K:\n",
      ":22493::Intel Core i9-10900X @ 3.70GHz     ::인텔 코어X-시리즈 i9-10900X:\n",
      ":18807::Intel Core i7-10700KF @ 3.80GHz    ::인텔 코어i7-10세대 10700KF:\n",
      ": 8693::Intel Core i3-10100 @ 3.60GHz      ::인텔 코어i3-10세대 10100:\n",
      ":13310::Intel Core i7-9700F @ 3.00GHz      ::인텔 코어i7-9세대 9700F:\n",
      ": 9302::Intel Xeon E3-1275 v6 @ 3.80GHz    ::인텔 제온 E3-1275V6:\n",
      ":27826::Intel Core i9-10940X @ 3.30GHz     ::인텔 코어X-시리즈 i9-10940X:\n",
      ": 2572::Intel Celeron G4930 @ 3.20GHz      ::인텔 셀러론 G4930:\n",
      ": 9298::AMD Ryzen 5 3400G                  ::AMD 라이젠5-2세대 3400G:\n",
      ":14391::Intel Core i5-10600KF @ 4.10GHz    ::인텔 코어i5-10세대 10600KF:\n",
      ":13732::Intel Core i5-10600 @ 3.30GHz      ::인텔 코어i5-10세대 10600:\n",
      ":28011::Intel Core i9-9940X @ 3.30GHz      ::인텔 코어X-시리즈 i9-9940X:\n",
      ": 6768::AMD Ryzen 3 2200G                  ::AMD 라이젠3-1세대 2200G:\n",
      ": 4465::Intel Pentium Gold G6605 @ 4.30GHz ::인텔 펜티엄 골드 G6605:\n",
      ":12677::AMD Ryzen 3 3300X                  ::AMD 라이젠3-3세대 3300X:\n",
      ":20544::AMD Ryzen 7 PRO 4750G              ::AMD 라이젠7 PRO 4750G:\n",
      ":18154::Intel Core i7-9800X @ 3.80GHz      ::인텔 코어X-시리즈 i7-9800X:\n",
      ": 6321::Intel Xeon E3-1225 v6 @ 3.30GHz    ::인텔 제온 E3-1225V6:\n",
      ": 8218::Intel Xeon E3-1230 v6 @ 3.50GHz    ::인텔 제온 E3-1230V6:\n",
      ": 8688::Intel Xeon E3-1240 v6 @ 3.70GHz    ::인텔 제온 E3-1240V6:\n",
      ":11732::Intel Xeon E5-2630 v4 @ 2.20GHz    ::인텔 제온 E5-2630 v4:\n",
      ":13966::AMD Ryzen 5 2600X                  ::AMD 라이젠5-2세대 2600X:\n",
      ":11634::AMD Ryzen 3 3100                   ::AMD 라이젠3-3세대 3100:\n",
      ":23227::AMD Ryzen 7 3800X                  ::AMD 라이젠7-3세대 3800X:\n",
      ":62838::AMD Ryzen Threadripper PRO 3975WX  ::AMD 라이젠 스레드리퍼 PRO 3975WX:\n",
      ":12826::AMD Ryzen 5 3500                   ::AMD 라이젠5-3세대 3500:\n",
      ":14821::AMD Ryzen 7 1700                   ::AMD 라이젠7-1세대 1700:\n",
      ":23710::AMD Ryzen 7 3800XT                 ::AMD 라이젠7-3세대 3800XT:\n",
      ":83273::AMD Ryzen Threadripper PRO 3995WX  ::AMD 라이젠 스레드리퍼 PRO 3995WX:\n",
      ":16414::AMD Ryzen 7 1800X                  ::AMD 라이젠7-1세대 1800X:\n",
      ":63282::AMD Ryzen Threadripper 3970X       ::AMD 라이젠 스레드리퍼 3970X:\n",
      ":38925::AMD Ryzen 9 3950X                  ::AMD 라이젠9-3세대 3950X:\n",
      ": 9099::AMD Ryzen 5 1500X                  ::AMD 라이젠5-1세대 1500X:\n",
      ":32761::AMD Ryzen 9 3900XT                 ::AMD 라이젠9-3세대 3900XT:\n",
      ":18245::AMD Ryzen 5 3600X                  ::AMD 라이젠5-3세대 3600X:\n",
      ":32416::AMD Ryzen Threadripper 2990WX      ::AMD 라이젠 스레드리퍼 2990WX:\n",
      ":17016::AMD Ryzen Threadripper 1900X       ::AMD 라이젠 스레드리퍼 1900X:\n",
      ":29396::AMD Ryzen Threadripper 2950X       ::AMD 라이젠 스레드리퍼 2950X:\n",
      ": 6968::AMD Ryzen 3 1300X                  ::AMD 라이젠3-1세대 1300X:\n",
      ":29851::AMD Ryzen Threadripper 2970WX      ::AMD 라이젠 스레드리퍼 2970WX:\n",
      ":25031::AMD Ryzen Threadripper 2920X       ::AMD 라이젠 스레드리퍼 2920X:\n",
      ": 5599::Intel Core i5-4690 @ 3.50GHz       ::인텔 코어i5-4세대 4690:\n",
      ": 7256::Intel Core i7-4790 @ 3.60GHz       ::인텔 코어i7-4세대 4790:\n",
      ":12299::AMD Ryzen 5 1600                   ::AMD 라이젠5-1세대 1600:\n",
      ": 6036::Intel Core i5-6600 @ 3.30GHz       ::인텔 코어i5-6세대 6600:\n",
      ": 4490::AMD Athlon 3000G                   ::AMD 애슬론 3000G:\n",
      ": 1339::Intel Pentium G640 @ 2.80GHz       ::인텔 펜티엄 G640:\n",
      ": 8642::Intel Core i3-10105 @ 3.70GHz      ::인텔 코어i3-10세대 10105:\n",
      ": 7623::Intel Xeon E-2224G @ 3.50GHz       ::인텔 제온 E 2224G:\n",
      ": 8657::Intel Core i7-7700 @ 3.60GHz       ::인텔 코어i7-7세대 7700:\n",
      ": 5367::Intel Core i5-4590 @ 3.30GHz       ::인텔 코어i5-4세대 4590:\n",
      ": 4358::Intel Core i3-7100 @ 3.90GHz       ::인텔 코어i3-7세대 7100:\n",
      ": 8061::Intel Core i7-4790K @ 4.00GHz      ::인텔 코어i7-4세대 4790K:\n",
      ": 5639::Intel Core i5-6500 @ 3.20GHz       ::인텔 코어i5-6세대 6500:\n",
      ": 8796::Intel Core i3-10100F @ 3.60GHz     ::인텔 코어i3-10세대 10100F:\n",
      ": 3318::Intel Core i3-4130 @ 3.40GHz       ::인텔 코어i3-4세대 4130:\n",
      ": 8090::Intel Core i7-6700 @ 3.40GHz       ::인텔 코어i7-6세대 6700:\n",
      ": 5526::Intel Core i5-4670 @ 3.40GHz       ::인텔 코어i5-4세대 4670:\n",
      ": 4152::Intel Core i3-6100 @ 3.70GHz       ::인텔 코어i3-6세대 6100:\n",
      ": 6398::Intel Core i7-3770 @ 3.40GHz       ::인텔 코어i7-3세대 3770:\n",
      ": 4110::Intel Core i5-2500 @ 3.30GHz       ::인텔 코어i5-2세대 2500:\n",
      ": 9021::Intel Core i3-10105F @ 3.70GHz     ::인텔 코어i3-10세대 10105F:\n",
      ": 3580::Intel Core i3-4170 @ 3.70GHz       ::인텔 코어i3-4세대 4170:\n",
      ": 2259::Intel Core i3-3220 @ 3.30GHz       ::인텔 코어i3-3세대 3220:\n",
      ":22709::Intel Core i9-11900F @ 2.50GHz     ::인텔 코어i9-11세대 11900F:\n",
      ":17147::Intel Core i5-11400F @ 2.60GHz     ::인텔 코어i5-11세대 11400F:\n",
      ":21138::Intel Core i7-11700F @ 2.50GHz     ::인텔 코어i7-11세대 11700F:\n",
      ":24038::Intel Core i7-11700KF @ 3.60GHz    ::인텔 코어i7-11세대 11700KF:\n",
      ": 2314::Intel Core i3-3240 @ 3.40GHz       ::인텔 코어i3-3세대 3240:\n",
      ": 3720::Intel Pentium Gold G5400 @ 3.70GHz ::인텔 펜티엄 골드 G5400:\n",
      ": 6028::Intel Core i5-7500 @ 3.40GHz       ::인텔 코어i5-7세대 7500:\n",
      ":13208::AMD Ryzen 5 3500X                  ::AMD 라이젠5-3세대 3500X:\n",
      ":25394::Intel Core i9-11900KF @ 3.50GHz    ::인텔 코어i9-11세대 11900KF:\n",
      ": 7777::AMD Ryzen 5 1400                   ::AMD 라이젠5-1세대 1400:\n",
      ": 6144::Intel Core i3-8100 @ 3.60GHz       ::인텔 코어i3-8세대 8100:\n",
      ": 2972::Intel Core i7-860 @ 2.80GHz        ::인텔 코어i7-1세대 860:\n",
      ": 2727::Intel Celeron G5925 @ 3.60GHz      ::인텔 셀러론 G5925:\n",
      ": 4920::Intel Core i5-3570 @ 3.40GHz       ::인텔 코어i5-3세대 3570:\n",
      ": 4353::Intel Core i3-6300 @ 3.80GHz       ::인텔 코어i3-6세대 6300:\n",
      ": 2580::Intel Pentium G4400 @ 3.30GHz      ::인텔 펜티엄 G4400:\n",
      ": 4953::Intel Core i5-3570K @ 3.40GHz      ::인텔 코어i5-3세대 3570K:\n",
      ": 9388::Intel Core i5-9400 @ 2.90GHz       ::인텔 코어i5-9세대 9400:\n",
      ":15149::Intel Xeon Silver 4210R @ 2.40GHz  ::인텔 제온 스케일러블 실버 4210R:\n",
      ": 7055::Intel Core i7-4770 @ 3.40GHz       ::인텔 코어i7-4세대 4770:\n",
      ": 5330::Intel Core i7-2600 @ 3.40GHz       ::인텔 코어i7-2세대 2600:\n",
      ":10212::Intel Core i5-9500F @ 3.00GHz      ::인텔 코어i5-9세대 9500F:\n",
      ": 9799::Intel Core i5-9500 @ 3.00GHz       ::인텔 코어i5-9세대 9500:\n",
      ":44200::Intel Core i9-13900T               ::인텔 코어i9-13세대 13900T:\n",
      ":86194::AMD EPYC 7763                      ::AMD EPYC 7763:\n",
      ": 6635::Intel Core i3-9100 @ 3.60GHz       ::인텔 코어i3-9세대 9100:\n",
      ": 2230::Intel Celeron G3930 @ 2.90GHz      ::인텔 셀러론 G3930:\n",
      ": 3379::Intel Core i3-4150 @ 3.50GHz       ::인텔 코어i3-4세대 4150:\n",
      ": 1848::Intel Core i3-2100 @ 3.10GHz       ::인텔 코어i3-2세대 2100:\n",
      ": 8946::Intel Core i7-6700K @ 4.00GHz      ::인텔 코어i7-6세대 6700K:\n",
      ": 2172::Intel Celeron G3900 @ 2.80GHz      ::인텔 셀러론 G3900:\n",
      ": 5502::Intel Core i5-7400 @ 3.00GHz       ::인텔 코어i5-7세대 7400:\n",
      ": 3518::Intel Pentium G4560 @ 3.50GHz      ::인텔 펜티엄 G4560:\n",
      ":14524::Intel Core i7-9700K @ 3.60GHz      ::인텔 코어i7-9세대 9700K:\n",
      ": 6036::Intel Core i5-6600 @ 3.30GHz       ::인텔 코어i5-6세대 6600 + H110 패키지:\n",
      ":43056::Intel Xeon Gold 6330 @ 2.00GHz     ::인텔 제온 스케일러블 골드 6330:\n",
      ": 3610::Intel Pentium G4600 @ 3.60GHz      ::인텔 펜티엄 G4600:\n",
      ": 4677::Intel Core i5-3470 @ 3.20GHz       ::인텔 코어i5-3세대 3470:\n",
      ":22797::Intel Xeon Silver 4310 @ 2.10GHz   ::인텔 제온 스케일러블 실버 4310:\n",
      ": 3508::Intel Core i3-4160 @ 3.60GHz       ::인텔 코어i3-4세대 4160:\n",
      ":23904::Intel Core i5-13500T               ::인텔 코어i5-13세대 13500T:\n",
      ":17568::AMD Ryzen 7 2700X                  ::AMD 라이젠7-2세대 2700X:\n",
      ": 3854::Intel Core i5-2400 @ 3.10GHz       ::인텔 코어i5-2세대 2400:\n",
      ":29837::Intel Core i7-13700T               ::인텔 코어i7-13세대 13700T:\n",
      ": 4869::Intel Core i5-4460 @ 3.20GHz       ::인텔 코어i5-4세대 4460:\n",
      ": 1899::Intel Pentium G3220 @ 3.00GHz      ::인텔 펜티엄 G3220:\n",
      ": 5477::Intel Core i7-2600K @ 3.40GHz      ::인텔 코어i7-2세대 2600K:\n",
      ": 4750::Intel Core i5-4440 @ 3.10GHz       ::인텔 코어i5-4세대 4440:\n",
      ": 5227::Intel Core i5-4570 @ 3.20GHz       ::인텔 코어i5-4세대 4570:\n",
      ": 7023::Intel Xeon E3-1231 v3 @ 3.40GHz    ::인텔 제온 E3-1231V3:\n",
      ":45517::Intel Xeon Gold 6336Y @ 2.40GHz    ::인텔 제온 스케일러블 골드 6336Y:\n",
      ": 6468::Intel Core i7-3770K @ 3.50GHz      ::인텔 코어i7-3세대 3770K:\n",
      ": 6561::Intel Core i5-7600 @ 3.50GHz       ::인텔 코어i5-7세대 7600:\n",
      ":17951::Intel Xeon E5-2680 v4 @ 2.40GHz    ::인텔 제온 E5-2680 v4:\n",
      ": 4795::Intel Core i5-3550 @ 3.30GHz       ::인텔 코어i5-3세대 3550:\n",
      ": 1117::Intel Celeron G530 @ 2.40GHz       ::인텔 셀러론 G530:\n",
      ": 2599::Intel Core i5-760 @ 2.80GHz        ::인텔 코어i5-1세대 760:\n",
      ": 2106::Intel Core2 Quad Q9400 @ 2.66GHz   ::인텔 코어2쿼드 Q9400:\n",
      ":29504::Intel Xeon Gold 6248 @ 2.50GHz     ::인텔 제온 스케일러블 골드 6248:\n",
      ": 2079::Intel Pentium G3260 @ 3.30GHz      ::인텔 펜티엄 G3260:\n",
      ": 1954::Intel Core i3-2120 @ 3.30GHz       ::인텔 코어i3-2세대 2120:\n",
      ":74982::Intel Xeon Platinum 8461V          ::인텔 제온 스케일러블 플래티넘 8280L:\n",
      ":26288::Intel Xeon Gold 6242 @ 2.80GHz     ::인텔 제온 스케일러블 골드 6242:\n",
      ": 9655::Intel Core i7-7700K @ 4.20GHz      ::인텔 코어i7-7세대 7700K:\n",
      ": 6325::Intel Core i5-6600K @ 3.50GHz      ::인텔 코어i5-6세대 6600K:\n",
      ":29283::Intel Xeon Silver 4314 @ 2.40GHz   ::인텔 제온 스케일러블 실버 4314:\n",
      ": 1191::Intel Core2 Duo E8400 @ 3.00GHz    ::인텔 코어2듀오 E8400:\n",
      ": 5599::Intel Core i5-4690 @ 3.50GHz       ::인텔 코어i5-4세대 4690 + H81 패키지:\n",
      ": 1761::Intel Celeron G1840 @ 2.80GHz      ::인텔 셀러론 G1840:\n",
      ": 5169::Intel Core i5-6400 @ 2.70GHz       ::인텔 코어i5-6세대 6400:\n",
      ":24680::Intel Xeon Gold 6152 @ 2.10GHz     ::인텔 제온 스케일러블 골드 6152:\n",
      ": 2434::Intel Celeron G4900 @ 3.10GHz      ::인텔 셀러론 G4900:\n",
      ": 4111::AMD Athlon 200GE                   ::AMD 애슬론 200GE:\n",
      ": 1247::Intel Core2 Duo E8500 @ 3.16GHz    ::인텔 코어2듀오 E8500:\n",
      ": 4576::Intel Xeon Bronze 3104 @ 1.70GHz   ::인텔 제온 스케일러블 브론즈 3104:\n",
      ": 2522::Intel Core i5-750 @ 2.67GHz        ::인텔 코어i5-1세대 750:\n",
      ":27069::Intel Xeon Gold 6230 @ 2.10GHz     ::인텔 제온 스케일러블 골드 6230:\n",
      ":11136::Intel Xeon Silver 4208 @ 2.10GHz   ::인텔 제온 스케일러블 실버 4208:\n",
      ": 4124::Intel Core i5-2500K @ 3.30GHz      ::인텔 코어i5-2세대 2500K:\n",
      ":27148::Intel Xeon Gold 6252 @ 2.10GHz     ::인텔 제온 스케일러블 골드 6252:\n",
      ": 1126::Intel Core2 Duo E7500 @ 2.93GHz    ::인텔 코어2듀오 E7500:\n",
      ": 5088::Intel Xeon E3-1230 @ 3.20GHz       ::인텔 제온 E3-1230V2:\n",
      ": 1941::Intel Pentium G3240 @ 3.10GHz      ::인텔 펜티엄 G3240:\n",
      ":13908::Intel Xeon Silver 4210 @ 2.20GHz   ::인텔 제온 스케일러블 실버 4210:\n",
      ": 1874::Intel Core2 Quad Q8300 @ 2.50GHz   ::인텔 코어2쿼드 Q8300:\n",
      ":12988::Intel Xeon Silver 4114 @ 2.20GHz   ::인텔 제온 스케일러블 실버 4114:\n",
      ":16651::Intel Xeon Gold 6134 @ 3.20GHz     ::인텔 제온 스케일러블 골드 6134:\n",
      ": 4089::Intel Core i5-3330 @ 3.00GHz       ::인텔 코어i5-3세대 3330:\n",
      ":37264::Intel Xeon Silver 4316 @ 2.30GHz   ::인텔 제온 스케일러블 실버 4316:\n",
      ": 1224::Intel Celeron G550 @ 2.60GHz       ::인텔 셀러론 G550:\n",
      ":25033::Intel Xeon Gold 5415+              ::인텔 제온 스케일러블 골드 6240:\n",
      ":20613::Intel Xeon Silver 4216 @ 2.10GHz   ::인텔 제온 스케일러블 실버 4216:\n",
      ": 1810::Intel Core2 Quad Q6600 @ 2.40GHz   ::인텔 코어2쿼드 Q6600:\n",
      ": 3667::Intel Pentium Gold G5420 @ 3.80GHz ::인텔 펜티엄 골드 G5420:\n",
      ": 4657::Intel Core i5-4430 @ 3.00GHz       ::인텔 코어i5-4세대 4430:\n",
      ":13187::Intel Core i3-13100T               ::인텔 코어i3-13세대 13100T:\n",
      ":17752::Intel Xeon Gold 6234 @ 3.30GHz     ::인텔 제온 스케일러블 골드 6234:\n",
      ": 9959::Intel Core i5-8600 @ 3.10GHz       ::인텔 코어i5-8세대 8600:\n",
      ": 2238::Intel Core i5-650 @ 3.20GHz        ::인텔 코어i5-1세대 650:\n",
      ":24154::Intel Xeon Gold 5220 @ 2.20GHz     ::인텔 제온 스케일러블 골드 5220:\n",
      ":27617::Intel Xeon Gold 6238 @ 2.10GHz     ::인텔 제온 스케일러블 골드 6238:\n",
      ":16190::Intel Xeon Silver 4214 @ 2.20GHz   ::인텔 제온 스케일러블 실버 4214:\n",
      ":35224::Intel Xeon Gold 6326 @ 2.90GHz     ::인텔 제온 스케일러블 골드 6326:\n",
      ": 9166::Intel Xeon E-2134 @ 3.50GHz        ::인텔 제온 E 2134:\n",
      ":23782::Intel Xeon Gold 6140 @ 2.30GHz     ::인텔 제온 스케일러블 골드 6140:\n",
      ": 1777::Intel Core2 Quad Q8200 @ 2.33GHz   ::인텔 코어2쿼드 Q8200:\n",
      ": 1459::Intel Pentium G860 @ 3.00GHz       ::인텔 펜티엄 G860:\n",
      ": 9504::Intel Xeon Gold 5222 @ 3.80GHz     ::인텔 제온 스케일러블 골드 5222:\n",
      ":27114::Intel Xeon Gold 6142 @ 2.60GHz     ::인텔 제온 스케일러블 골드 6142:\n",
      ":28993::Intel Xeon Gold 6148 @ 2.40GHz     ::인텔 제온 스케일러블 골드 6148:\n",
      ": 4804::Intel Xeon Bronze 3204 @ 1.90GHz   ::인텔 제온 스케일러블 브론즈 3204:\n",
      ": 2060::Intel Core2 Quad Q8400 @ 2.66GHz   ::인텔 코어2쿼드 Q8400:\n",
      ":22022::Intel Xeon Gold 5218 @ 2.30GHz     ::인텔 제온 스케일러블 골드 5218:\n",
      ": 7130::Intel Core i7-4770K @ 3.50GHz      ::인텔 코어i7-4세대 4770K:\n",
      ": 1217::Intel Pentium G620 @ 2.60GHz       ::인텔 펜티엄 G620:\n",
      ": 1172::Intel Celeron G540 @ 2.50GHz       ::인텔 셀러론 G540:\n",
      ":15146::Intel Xeon Silver 4116 @ 2.10GHz   ::인텔 제온 스케일러블 실버 4116:\n",
      ": 2696::Intel Celeron G5900 @ 3.40GHz      ::인텔 셀러론 G5900:\n",
      ": 2208::Intel Core2 Quad Q9500 @ 2.83GHz   ::인텔 코어2쿼드 Q9500:\n",
      ": 1529::Intel Core i3-540 @ 3.07GHz        ::인텔 코어i3-1세대 540:\n",
      ": 1608::Intel Core i3-550 @ 3.20GHz        ::인텔 코어i3-1세대 550:\n",
      ": 1687::Intel Pentium G2020 @ 2.90GHz      ::인텔 펜티엄 G2020:\n",
      ": 2766::Intel Pentium G4500 @ 3.50GHz      ::인텔 펜티엄 G4500:\n",
      ":16786::Intel Core i5-12500T               ::인텔 코어i5-12세대 12500T:\n",
      ":12784::Intel Core i3-12100T               ::인텔 코어i3-12세대 12100T:\n",
      ":34963::Intel Xeon Gold 6242R @ 3.10GHz    ::인텔 제온 스케일러블 골드 6242R:\n",
      ": 1696::Intel Celeron G1820 @ 2.70GHz      ::인텔 셀러론 G1820:\n",
      ": 5298::AMD FX-8300 Eight-Core             ::AMD FX 8300:\n",
      ": 1899::Intel Celeron G1850 @ 2.90GHz      ::인텔 셀러론 G1850:\n",
      ": 3287::AMD Phenom II X6 1055T             ::AMD 페넘II-X6 1055T:\n",
      ": 5639::Intel Core i5-6500 @ 3.20GHz       ::인텔 코어i5-6세대 6500 + H110 패키지:\n",
      ": 2484::AMD Phenom II X4 955               ::AMD 페넘II-X4 955:\n",
      ": 3120::Intel Core i7-870 @ 2.93GHz        ::인텔 코어i7-1세대 870:\n",
      ": 3403::Intel Core i5-2300 @ 2.80GHz       ::인텔 코어i5-2세대 2300:\n",
      ": 5732::Intel Core i7-2700K @ 3.50GHz      ::인텔 코어i7-2세대 2700K:\n",
      ":22611::Intel Core i9-10850K @ 3.60GHz     ::인텔 코어i9-10세대 10850K:\n",
      ": 4844::Intel Core i3-7320 @ 4.10GHz       ::인텔 코어i3-7세대 7320:\n",
      ": 5544::Intel Core i5-4670K @ 3.40GHz      ::인텔 코어i5-4세대 4670K:\n",
      ": 1551::AMD Phenom II X3 710               ::AMD 페넘II-X3 710:\n",
      ": 5678::Intel Core i5-4690K @ 3.50GHz      ::인텔 코어i5-4세대 4690K:\n",
      ": 3609::Intel Core i3-4360 @ 3.70GHz       ::인텔 코어i3-4세대 4360:\n",
      ": 4398::Intel Core i3-6320 @ 3.90GHz       ::인텔 코어i3-6세대 6320:\n",
      ": 1560::Intel Celeron G1830 @ 2.80GHz      ::인텔 셀러론 G1830:\n",
      ": 6836::Intel Xeon X5680 @ 3.33GHz         ::인텔 제온 X5680:\n",
      ": 5526::Intel Core i5-4670 @ 3.40GHz       ::인텔 코어i5-4세대 4670 + H81 패키지:\n",
      ": 6814::Intel Core i5-7600K @ 3.80GHz      ::인텔 코어i5-7세대 7600K:\n",
      ": 1536::AMD A4-7300 APU                    ::AMD A4 7300:\n",
      ": 1968::Intel Pentium G3250 @ 3.20GHz      ::인텔 펜티엄 G3250:\n",
      ":56562::AMD EPYC 7543                      ::AMD EPYC 7543:\n",
      ":67625::AMD EPYC 7742                      ::AMD EPYC 7742:\n",
      ": 1311::Intel Pentium G630 @ 2.70GHz       ::인텔 펜티엄 G630:\n",
      ":37722::Intel Xeon Gold 6346 @ 3.10GHz     ::인텔 제온 스케일러블 골드 6346:\n",
      ": 2424::Intel Core i3-3250 @ 3.50GHz       ::인텔 코어i3-3세대 3250:\n",
      ":32606::AMD EPYC 7302P                     ::AMD EPYC 7302P:\n",
      ": 2322::Intel Celeron G3950 @ 3.00GHz      ::인텔 셀러론 G3950:\n",
      ": 1135::Intel Pentium E6500 @ 2.93GHz      ::인텔 펜티엄 E6500:\n",
      ": 2323::Intel Core2 Quad Q9550 @ 2.83GHz   ::인텔 코어2쿼드 Q9550:\n",
      ":  997::Intel Core2 Duo E8300 @ 2.83GHz    ::인텔 코어2듀오 E8300:\n",
      ": 1495::Intel Core i3-530 @ 2.93GHz        ::인텔 코어i3-1세대 530:\n",
      ": 1367::Intel Pentium G645 @ 2.90GHz       ::인텔 펜티엄 G645:\n",
      ": 2365::AMD Phenom II X4 945               ::AMD 페넘II-X4 945:\n",
      ":10098::Intel Xeon Silver 4110 @ 2.10GHz   ::인텔 제온 스케일러블 실버 4110:\n",
      ": 5701::Intel Xeon X5650 @ 2.67GHz         ::인텔 제온 X5650:\n",
      ":15656::AMD Ryzen 7 1700X                  ::AMD 라이젠7-1세대 1700X:\n",
      ":30078::Intel Core i9-12900T               ::인텔 코어i9-12세대 12900T:\n",
      ":16400::Intel Core i5-12400T               ::인텔 코어i5-12세대 12400T:\n",
      ": 4481::Intel Core i5-3450 @ 3.10GHz       ::인텔 코어i5-3세대 3450:\n",
      ":17017::AMD EPYC 7232P                     ::AMD EPYC 7232P:\n",
      ":32930::AMD EPYC 7302                      ::AMD EPYC 7302:\n",
      ": 1557::Intel Celeron G1620 @ 2.70GHz      ::인텔 셀러론 G1620:\n",
      ":21542::Intel Core i7-12700T               ::인텔 코어i7-12세대 12700T:\n",
      ": 1078::AMD A4-3400 APU                    ::AMD A4 3400:\n",
      ":19703::Intel Core i5-11600KF @ 3.90GHz    ::인텔 코어i5-11세대 11600KF:\n",
      ":31971::Intel Core i9-9980XE @ 3.00GHz     ::인텔 코어X-시리즈 i9-9980XE:\n",
      ":10063::Intel Core i3-10320 @ 3.80GHz      ::인텔 코어i3-10세대 10320:\n",
      ": 6928::Intel Core i3-8350K @ 4.00GHz      ::인텔 코어i3-8세대 8350K:\n",
      ": 1954::Intel Core2 Quad Q9300 @ 2.50GHz   ::인텔 코어2쿼드 Q9300:\n",
      ": 1521::Intel Celeron G1610 @ 2.60GHz      ::인텔 셀러론 G1610:\n",
      ": 1810::AMD Athlon X4 620                  ::AMD 애슬론II-X4 620:\n",
      ":  967::AMD A4-3300 APU                    ::AMD A4 3300:\n",
      ": 7027::Intel Xeon E-2124 @ 3.30GHz        ::인텔 제온 E 2124:\n",
      ": 4102::Intel Pentium Gold G5620 @ 4.00GHz ::인텔 펜티엄 골드 G5620:\n",
      ":49061::AMD EPYC 7452                      ::AMD EPYC 7452:\n",
      ": 6446::Intel Xeon Silver 4112 @ 2.60GHz   ::인텔 제온 스케일러블 실버 4112:\n",
      ": 7285::Intel Xeon E-2224 @ 3.40GHz        ::인텔 제온 E 2224:\n",
      ": 1938::Intel Pentium G3420 @ 3.20GHz      ::인텔 펜티엄 G3420:\n",
      ":  593::Intel Core2 Duo E4300 @ 1.80GHz    ::인텔 코어2듀오 E4300:\n",
      ": 8357::Intel Xeon E3-1270 v5 @ 3.60GHz    ::인텔 제온 E3-1270V5:\n",
      ":25170::Intel Core i9-9920X @ 3.50GHz      ::인텔 코어X-시리즈 i9-9920X:\n",
      ":30010::Intel Core i9-9960X @ 3.10GHz      ::인텔 코어X-시리즈 i9-9960X:\n",
      ": 2070::Intel Pentium G3258 @ 3.20GHz      ::인텔 펜티엄 G3258:\n",
      ":  885::Intel Pentium E5200 @ 2.50GHz      ::인텔 펜티엄 E5200:\n",
      ": 2207::Intel Pentium G3440 @ 3.30GHz      ::인텔 펜티엄 G3440:\n",
      ": 1887::Intel Pentium G2120 @ 3.10GHz      ::인텔 펜티엄 G2120:\n",
      ": 4695::Intel Xeon E5-2603 v4 @ 1.70GHz    ::인텔 제온 E5-2603 v4:\n",
      ": 2362::Intel Xeon E5-2603 @ 1.80GHz       ::인텔 제온 E5-2603:\n",
      ":16673::Intel Core i9-9900 @ 3.10GHz       ::인텔 코어i9-9세대 9900:\n",
      ":20795::AMD EPYC 7262                      ::AMD EPYC 7262:\n",
      ": 3842::Intel Core i3-4370 @ 3.80GHz       ::인텔 코어i3-4세대 4370:\n",
      ": 1732::Intel Pentium G2030 @ 3.00GHz      ::인텔 펜티엄 G2030:\n",
      ":13586::Intel Xeon E-2176G @ 3.70GHz       ::인텔 제온 E 2176G:\n",
      ": 1516::AMD Athlon X3 425                  ::AMD 애슬론II-X3 425:\n",
      ": 2167::Intel Pentium G3450 @ 3.40GHz      ::인텔 펜티엄 G3450:\n",
      ":17686::Intel Xeon Gold 5120 @ 2.20GHz     ::인텔 제온 스케일러블 골드 5120:\n",
      ": 1072::Intel Pentium E5700 @ 3.00GHz      ::인텔 펜티엄 E5700:\n",
      ": 1011::Intel Core2 Duo E7400 @ 2.80GHz    ::인텔 코어2듀오 E7400:\n",
      ":  984::Intel Core2 Duo E7200 @ 2.53GHz    ::인텔 코어2듀오 E7200:\n",
      ": 8690::Intel Xeon E3-1245 v6 @ 3.70GHz    ::인텔 제온 E3-1245V6:\n",
      ":21863::Intel Core i9-9900X @ 3.50GHz      ::인텔 코어X-시리즈 i9-9900X:\n",
      ":19548::Intel Core i9-9900KS @ 4.00GHz     ::인텔 코어i9-9세대 9900KS:\n",
      ": 3874::Intel Xeon E3-1220 @ 3.10GHz       ::인텔 제온 E3-1220:\n",
      ":20880::Intel Xeon Gold 6130 @ 2.10GHz     ::인텔 제온 스케일러블 골드 6130:\n",
      ":20017::Intel Xeon Gold 6138 @ 2.00GHz     ::인텔 제온 스케일러블 골드 6138:\n",
      ":  885::Intel Core2 Duo E6550 @ 2.33GHz    ::인텔 코어2듀오 E6550:\n",
      ": 1036::Intel Pentium E6300 @ 2.80GHz      ::인텔 펜티엄 E6300:\n",
      ":18107::Intel Core i5-11600 @ 2.80GHz      ::인텔 코어i5-11세대 11600:\n",
      ": 2428::Intel Pentium G3470 @ 3.60GHz      ::인텔 펜티엄 G3470:\n",
      ": 3261::Intel Xeon X5570 @ 2.93GHz         ::인텔 제온 X5570:\n",
      ":  974::Intel Core2 Duo E7300 @ 2.66GHz    ::인텔 코어2듀오 E7300:\n",
      ": 5744::Intel Xeon E3-1220 v6 @ 3.00GHz    ::인텔 제온 E3-1220V6:\n",
      ":  960::Intel Pentium E5400 @ 2.70GHz      ::인텔 펜티엄 E5400:\n",
      ":13605::Intel Xeon Gold 6128 @ 3.40GHz     ::인텔 제온 스케일러블 골드 6128:\n",
      ": 1015::Intel Pentium E5500 @ 2.80GHz      ::인텔 펜티엄 E5500:\n",
      ": 2127::Intel Pentium G3430 @ 3.30GHz      ::인텔 펜티엄 G3430:\n",
      ": 7446::Intel Xeon E-2124G @ 3.40GHz       ::인텔 제온 E 2124G:\n",
      ":19890::Intel Core i9-9820X @ 3.30GHz      ::인텔 코어X-시리즈 i9-9820X:\n",
      ": 3735::Intel Pentium G4620 @ 3.70GHz      ::인텔 펜티엄 G4620:\n",
      ": 4529::Intel Core i3-7300 @ 4.00GHz       ::인텔 코어i3-7세대 7300:\n",
      ": 2191::Intel Pentium G3460 @ 3.50GHz      ::인텔 펜티엄 G3460:\n",
      ": 8857::Intel Xeon Gold 5122 @ 3.60GHz     ::인텔 제온 스케일러블 골드 5122:\n",
      ":  561::Intel Pentium E2140 @ 1.60GHz      ::인텔 펜티엄 E2140:\n",
      ":  641::Intel Pentium E2160 @ 1.80GHz      ::인텔 펜티엄 E2160:\n",
      ": 4250::Intel Core i5-3340 @ 3.10GHz       ::인텔 코어i5-3세대 3340:\n",
      ": 2590::AMD FX-4100 Quad-Core              ::AMD FX 4100:\n",
      ": 2346::Intel Celeron G3920 @ 2.90GHz      ::인텔 셀러론 G3920:\n",
      ": 5769::Intel Xeon Bronze 3106 @ 1.70GHz   ::인텔 제온 스케일러블 브론즈 3106:\n",
      ": 2134::AMD Athlon II X4 630               ::AMD 애슬론II-X4 630:\n",
      ": 2707::Intel Xeon E5530 @ 2.40GHz         ::인텔 제온 E5530:\n",
      ":23575::Intel Core i9-7920X @ 2.90GHz      ::인텔 코어X-시리즈 i9-7920X:\n",
      ":18696::AMD Ryzen 5 3600XT                 ::AMD 라이젠5-3세대 3600XT:\n",
      ": 2482::Intel Celeron G5920 @ 3.50GHz      ::인텔 셀러론 G5920:\n",
      ": 9389::Intel Core i3-10300 @ 3.70GHz      ::인텔 코어i3-10세대 10300:\n",
      ": 2707::Intel Pentium G4520 @ 3.60GHz      ::인텔 펜티엄 G4520:\n",
      ": 3549::Intel Core i3-4330 @ 3.50GHz       ::인텔 코어i3-4세대 4330:\n",
      ": 4211::Intel Core i3-7300T @ 3.50GHz      ::인텔 코어i3-7세대 7300T:\n",
      ": 1107::Intel Core2 Duo E8200 @ 2.66GHz    ::인텔 코어2듀오 E8200:\n",
      ": 1009::Intel Core2 Duo E6750 @ 2.66GHz    ::인텔 코어2듀오 E6750:\n",
      ": 1097::Intel Pentium E6600 @ 3.06GHz      ::인텔 펜티엄 E6600:\n",
      ": 1178::Intel Pentium E6700 @ 3.20GHz      ::인텔 펜티엄 E6700:\n",
      ": 1707::Intel Celeron G1630 @ 2.80GHz      ::인텔 셀러론 G1630:\n",
      ": 1915::Intel Pentium G2130 @ 3.20GHz      ::인텔 펜티엄 G2130:\n",
      ": 1523::Intel Pentium G870 @ 3.10GHz       ::인텔 펜티엄 G870:\n",
      ": 1412::Intel Pentium G850 @ 2.90GHz       ::인텔 펜티엄 G850:\n",
      ": 1238::Intel Pentium G840 @ 2.80GHz       ::인텔 펜티엄 G840:\n",
      ":  712::Intel Pentium E2200 @ 2.20GHz      ::인텔 펜티엄 E2200:\n",
      ":  937::Intel Core2 Duo E6600 @ 2.40GHz    ::인텔 코어2듀오 E6600:\n"
     ]
    }
   ],
   "source": [
    "for c_name, name, bench in zip(cpu.name, name_list, bench_list):\n",
    "    print(f':{bench:5d}::{name:35s}::{c_name}:')"
   ]
  },
  {
   "cell_type": "code",
   "execution_count": null,
   "metadata": {},
   "outputs": [],
   "source": []
  }
 ],
 "metadata": {
  "kernelspec": {
   "display_name": "Python 3",
   "language": "python",
   "name": "python3"
  },
  "language_info": {
   "codemirror_mode": {
    "name": "ipython",
    "version": 3
   },
   "file_extension": ".py",
   "mimetype": "text/x-python",
   "name": "python",
   "nbconvert_exporter": "python",
   "pygments_lexer": "ipython3",
   "version": "3.8.5"
  }
 },
 "nbformat": 4,
 "nbformat_minor": 5
}
