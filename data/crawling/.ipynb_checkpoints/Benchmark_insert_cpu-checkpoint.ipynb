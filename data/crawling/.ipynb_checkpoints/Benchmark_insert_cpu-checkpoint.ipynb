{
 "cells": [
  {
   "cell_type": "code",
   "execution_count": 141,
   "id": "62b1585f-0168-4447-bb60-a18845a19066",
   "metadata": {
    "tags": []
   },
   "outputs": [],
   "source": [
    "import pandas as pd\n",
    "import numpy as np\n",
    "import time"
   ]
  },
  {
   "cell_type": "code",
   "execution_count": 98,
   "id": "b25269e0-22b8-4667-8c1d-d59022f8e553",
   "metadata": {
    "tags": []
   },
   "outputs": [],
   "source": [
    "cpu = pd.read_csv('../part_cpu230921.csv')\n",
    "cpu_bench = pd.read_csv('../benchmark_cpu.csv')"
   ]
  },
  {
   "cell_type": "code",
   "execution_count": 99,
   "id": "65b6e4e5-cf7d-43c4-9fda-f4cd0c3e7d91",
   "metadata": {
    "tags": []
   },
   "outputs": [
    {
     "data": {
      "text/html": [
       "<div>\n",
       "<style scoped>\n",
       "    .dataframe tbody tr th:only-of-type {\n",
       "        vertical-align: middle;\n",
       "    }\n",
       "\n",
       "    .dataframe tbody tr th {\n",
       "        vertical-align: top;\n",
       "    }\n",
       "\n",
       "    .dataframe thead th {\n",
       "        text-align: right;\n",
       "    }\n",
       "</style>\n",
       "<table border=\"1\" class=\"dataframe\">\n",
       "  <thead>\n",
       "    <tr style=\"text-align: right;\">\n",
       "      <th></th>\n",
       "      <th>name</th>\n",
       "      <th>count</th>\n",
       "    </tr>\n",
       "  </thead>\n",
       "  <tbody>\n",
       "    <tr>\n",
       "      <th>0</th>\n",
       "      <td>AMD EPYC 9654</td>\n",
       "      <td>126045</td>\n",
       "    </tr>\n",
       "    <tr>\n",
       "      <th>1</th>\n",
       "      <td>AMD EPYC 9554P</td>\n",
       "      <td>109858</td>\n",
       "    </tr>\n",
       "    <tr>\n",
       "      <th>2</th>\n",
       "      <td>AMD EPYC 9474F</td>\n",
       "      <td>104895</td>\n",
       "    </tr>\n",
       "    <tr>\n",
       "      <th>3</th>\n",
       "      <td>Intel Xeon w9-3495X</td>\n",
       "      <td>98285</td>\n",
       "    </tr>\n",
       "    <tr>\n",
       "      <th>4</th>\n",
       "      <td>AMD Ryzen Threadripper PRO 5995WX</td>\n",
       "      <td>98215</td>\n",
       "    </tr>\n",
       "    <tr>\n",
       "      <th>...</th>\n",
       "      <td>...</td>\n",
       "      <td>...</td>\n",
       "    </tr>\n",
       "    <tr>\n",
       "      <th>4412</th>\n",
       "      <td>Intel Pentium 4 1.60GHz</td>\n",
       "      <td>84</td>\n",
       "    </tr>\n",
       "    <tr>\n",
       "      <th>4413</th>\n",
       "      <td>Intel Pentium 4 1400MHz</td>\n",
       "      <td>83</td>\n",
       "    </tr>\n",
       "    <tr>\n",
       "      <th>4414</th>\n",
       "      <td>Intel Pentium 4 1500MHz</td>\n",
       "      <td>81</td>\n",
       "    </tr>\n",
       "    <tr>\n",
       "      <th>4415</th>\n",
       "      <td>VIA Eden 1000MHz</td>\n",
       "      <td>80</td>\n",
       "    </tr>\n",
       "    <tr>\n",
       "      <th>4416</th>\n",
       "      <td>Intel Pentium 4 1300MHz</td>\n",
       "      <td>77</td>\n",
       "    </tr>\n",
       "  </tbody>\n",
       "</table>\n",
       "<p>4417 rows × 2 columns</p>\n",
       "</div>"
      ],
      "text/plain": [
       "                                   name   count\n",
       "0                         AMD EPYC 9654  126045\n",
       "1                        AMD EPYC 9554P  109858\n",
       "2                        AMD EPYC 9474F  104895\n",
       "3                   Intel Xeon w9-3495X   98285\n",
       "4     AMD Ryzen Threadripper PRO 5995WX   98215\n",
       "...                                 ...     ...\n",
       "4412            Intel Pentium 4 1.60GHz      84\n",
       "4413            Intel Pentium 4 1400MHz      83\n",
       "4414            Intel Pentium 4 1500MHz      81\n",
       "4415                   VIA Eden 1000MHz      80\n",
       "4416            Intel Pentium 4 1300MHz      77\n",
       "\n",
       "[4417 rows x 2 columns]"
      ]
     },
     "execution_count": 99,
     "metadata": {},
     "output_type": "execute_result"
    }
   ],
   "source": [
    "cpu_bench"
   ]
  },
  {
   "cell_type": "code",
   "execution_count": 101,
   "id": "d62558e4-1d21-402a-a126-326cf153f0a3",
   "metadata": {
    "tags": []
   },
   "outputs": [
    {
     "data": {
      "text/plain": [
       "Series([], Name: name, dtype: object)"
      ]
     },
     "execution_count": 101,
     "metadata": {},
     "output_type": "execute_result"
    }
   ],
   "source": [
    "cpu.loc[cpu['name'].str.contains('GHz'), 'name']"
   ]
  },
  {
   "cell_type": "code",
   "execution_count": 102,
   "id": "a1045782-28d5-45c5-a278-c5b10d29d165",
   "metadata": {
    "tags": []
   },
   "outputs": [
    {
     "data": {
      "text/plain": [
       "39     AMD Ryzen 9 7950X3D\n",
       "72     AMD Ryzen 9 7900X3D\n",
       "157    AMD Ryzen 7 7800X3D\n",
       "239    AMD Ryzen 7 5800X3D\n",
       "392    AMD Ryzen 5 5600X3D\n",
       "Name: name, dtype: object"
      ]
     },
     "execution_count": 102,
     "metadata": {},
     "output_type": "execute_result"
    }
   ],
   "source": [
    "cpu_bench.loc[cpu_bench['name'].str.contains('X3D'), 'name']"
   ]
  },
  {
   "cell_type": "code",
   "execution_count": 110,
   "id": "bb33ccd7-535f-45e4-a0aa-27179e53fbf2",
   "metadata": {
    "tags": []
   },
   "outputs": [],
   "source": [
    "unique_values = set()\n",
    "\n",
    "for row in cpu.name.str.split(r' |-'):\n",
    "    for value in row:\n",
    "        if '+' in value: unique_values.add(value)"
   ]
  },
  {
   "cell_type": "code",
   "execution_count": 111,
   "id": "9da1ae67-eb8d-44e4-834f-4807ead7737f",
   "metadata": {
    "tags": []
   },
   "outputs": [
    {
     "data": {
      "text/plain": [
       "{'+'}"
      ]
     },
     "execution_count": 111,
     "metadata": {},
     "output_type": "execute_result"
    }
   ],
   "source": [
    "unique_values"
   ]
  },
  {
   "cell_type": "code",
   "execution_count": 112,
   "id": "96768e5d-54ec-4ee0-825e-f2cfabb6f1c7",
   "metadata": {
    "tags": []
   },
   "outputs": [],
   "source": [
    "cpu_regex_map = {'인텔': 'Intel ', '라이젠': 'Ryzen ', '코어': 'Core ', '스레드리퍼': 'Threadripper ',\n",
    "          r'-\\d+세대': ' ', '펜티엄': 'Pentium ', '셀러론': 'Celeron ', '골드': 'Gold ',\n",
    "          'X-시리즈': ' ', '어벤져스 에디션': ' ', '제온': 'Xeon ', '브론즈': 'Beonze ',\n",
    "          '스케일러블': ' ', '실버': 'Silver ', '애슬론': 'Athlon', '듀오': ' Duo', '쿼드 ': ' Quad ',\n",
    "          '플래티넘': 'Platinum ', '\\+ ': ' '}\n",
    "bench_regex_map = {'@': ' ', '\\+': ''}\n",
    "none_regex_map = {r' +': ' '}"
   ]
  },
  {
   "cell_type": "code",
   "execution_count": 113,
   "id": "0d43ce1d-d00a-46da-8fd2-a514a49c985d",
   "metadata": {
    "tags": []
   },
   "outputs": [],
   "source": [
    "cpu_reg = cpu.replace(regex=cpu_regex_map).replace(regex=none_regex_map)\n",
    "ben_reg = cpu_bench.replace(regex=bench_regex_map).replace(regex=none_regex_map)"
   ]
  },
  {
   "cell_type": "code",
   "execution_count": 116,
   "id": "e8a2fe8f-8da2-41bf-bd8d-c6257b7a6cd2",
   "metadata": {
    "tags": []
   },
   "outputs": [],
   "source": [
    "cmc = cpu_reg['memory_clock'].mul(0.001)"
   ]
  },
  {
   "cell_type": "code",
   "execution_count": 135,
   "id": "53aa0760-2af8-404d-910e-95dfdd1f4a2b",
   "metadata": {
    "tags": []
   },
   "outputs": [
    {
     "data": {
      "text/plain": [
       "0               [AMD, Ryzen, 5, 7600, 5.2]\n",
       "1            [AMD, Ryzen, 7, 7800X3D, 5.2]\n",
       "2           [Intel, Core, i5, 13400F, 4.8]\n",
       "3              [AMD, Ryzen, 5, 7500F, 5.2]\n",
       "4              [AMD, Ryzen, 5, 7600X, 5.2]\n",
       "                      ...                 \n",
       "420            [Intel, Pentium, G870, nan]\n",
       "421            [Intel, Pentium, G850, nan]\n",
       "422            [Intel, Pentium, G840, nan]\n",
       "423           [Intel, Pentium, E2200, 0.8]\n",
       "424    [Intel, Core, 2, Duo, E6600, 1.066]\n",
       "Name: name, Length: 425, dtype: object"
      ]
     },
     "execution_count": 135,
     "metadata": {},
     "output_type": "execute_result"
    }
   ],
   "source": [
    "c_names"
   ]
  },
  {
   "cell_type": "code",
   "execution_count": 136,
   "id": "8e632f68-0746-4ef2-ae46-5a660deb5c9a",
   "metadata": {
    "tags": []
   },
   "outputs": [
    {
     "data": {
      "text/plain": [
       "0                             [AMD, EPYC, 9654]\n",
       "1                            [AMD, EPYC, 9554P]\n",
       "2                            [AMD, EPYC, 9474F]\n",
       "3                      [Intel, Xeon, w9, 3495X]\n",
       "4       [AMD, Ryzen, Threadripper, PRO, 5995WX]\n",
       "                         ...                   \n",
       "4412               [Intel, Pentium, 4, 1.60GHz]\n",
       "4413               [Intel, Pentium, 4, 1400MHz]\n",
       "4414               [Intel, Pentium, 4, 1500MHz]\n",
       "4415                       [VIA, Eden, 1000MHz]\n",
       "4416               [Intel, Pentium, 4, 1300MHz]\n",
       "Name: name, Length: 4417, dtype: object"
      ]
     },
     "execution_count": 136,
     "metadata": {},
     "output_type": "execute_result"
    }
   ],
   "source": [
    "bench_names"
   ]
  },
  {
   "cell_type": "code",
   "execution_count": 150,
   "id": "50396094-7a55-4335-aab2-3f2d82cf9eac",
   "metadata": {
    "tags": []
   },
   "outputs": [
    {
     "name": "stdout",
     "output_type": "stream",
     "text": [
      "cpu: 425/425 (100%)"
     ]
    }
   ],
   "source": [
    "c_names = cpu_reg.name.str.split(r' |-')\n",
    "bench_names = ben_reg.name.str.split(r' |-')\n",
    "\n",
    "for cn, cm in zip(c_names, cmc):\n",
    "    cn.append(cm)\n",
    "    \n",
    "bench_list = [0] * len(c_names)\n",
    "for i in range(len(c_names)):\n",
    "    cn = c_names.loc[i]\n",
    "    max_val = 0\n",
    "    for j in range(len(bench_names)):\n",
    "        bn = bench_names.loc[j]\n",
    "        res = len(set(cn) & set(bn))\n",
    "        val = res / float(len(set(cn) | set(bn))) * 100\n",
    "        if val >= max_val:\n",
    "            max_val = val\n",
    "            bench_list[i] = cpu_bench.loc[j, 'count']\n",
    "    percent = i / len(c_names) * 100\n",
    "    print(f'\\rcpu: {i+1}/{len(c_names)} ({percent:.0f}%)', end='')"
   ]
  },
  {
   "cell_type": "code",
   "execution_count": 151,
   "id": "67922948-4a48-4596-9873-f9088ce41952",
   "metadata": {
    "tags": []
   },
   "outputs": [],
   "source": [
    "cpu['bench_mark'] = bench_list"
   ]
  },
  {
   "cell_type": "code",
   "execution_count": 152,
   "id": "3326ddfc-04a5-4e00-a43b-453c3e54e90c",
   "metadata": {
    "tags": []
   },
   "outputs": [],
   "source": [
    "today = time.strftime('%y%m%d')\n",
    "pd.DataFrame(cpu).to_csv(f'../part_cpu_wb{today}.csv', index=None)"
   ]
  },
  {
   "cell_type": "code",
   "execution_count": 153,
   "id": "93c1d1eb-fc6e-488c-a2c7-19c09f6fe4d0",
   "metadata": {
    "tags": []
   },
   "outputs": [
    {
     "data": {
      "text/plain": [
       "293    Intel Core i5-13400F\n",
       "Name: name, dtype: object"
      ]
     },
     "execution_count": 153,
     "metadata": {},
     "output_type": "execute_result"
    }
   ],
   "source": [
    "cpu_bench.loc[cpu_bench['count'] == 25588, 'name']"
   ]
  },
  {
   "cell_type": "code",
   "execution_count": 154,
   "id": "d018f1cb-9871-4c59-9ff8-60a1db55a275",
   "metadata": {
    "tags": []
   },
   "outputs": [
    {
     "data": {
      "text/html": [
       "<div>\n",
       "<style scoped>\n",
       "    .dataframe tbody tr th:only-of-type {\n",
       "        vertical-align: middle;\n",
       "    }\n",
       "\n",
       "    .dataframe tbody tr th {\n",
       "        vertical-align: top;\n",
       "    }\n",
       "\n",
       "    .dataframe thead th {\n",
       "        text-align: right;\n",
       "    }\n",
       "</style>\n",
       "<table border=\"1\" class=\"dataframe\">\n",
       "  <thead>\n",
       "    <tr style=\"text-align: right;\">\n",
       "      <th></th>\n",
       "      <th>name</th>\n",
       "      <th>price</th>\n",
       "      <th>link</th>\n",
       "      <th>company</th>\n",
       "      <th>product_seq</th>\n",
       "      <th>image</th>\n",
       "      <th>code</th>\n",
       "      <th>socket</th>\n",
       "      <th>core_number</th>\n",
       "      <th>thread_number</th>\n",
       "      <th>...</th>\n",
       "      <th>pcie_channel_number</th>\n",
       "      <th>pcie_version</th>\n",
       "      <th>has_cooler</th>\n",
       "      <th>clock_basic</th>\n",
       "      <th>clock_max</th>\n",
       "      <th>nm</th>\n",
       "      <th>tech_support</th>\n",
       "      <th>bench_mark</th>\n",
       "      <th>reg_date</th>\n",
       "      <th>bookmark</th>\n",
       "    </tr>\n",
       "  </thead>\n",
       "  <tbody>\n",
       "    <tr>\n",
       "      <th>0</th>\n",
       "      <td>AMD 라이젠5-5세대 7600</td>\n",
       "      <td>267300.0</td>\n",
       "      <td>https://prod.danawa.com/info/?pcode=18718496&amp;c...</td>\n",
       "      <td>AMD</td>\n",
       "      <td>18718496</td>\n",
       "      <td>//img.danawa.com/prod_img/500000/496/718/img/1...</td>\n",
       "      <td>라파엘</td>\n",
       "      <td>AMD(소켓AM5)</td>\n",
       "      <td>6</td>\n",
       "      <td>12</td>\n",
       "      <td>...</td>\n",
       "      <td>28.0</td>\n",
       "      <td>1.0</td>\n",
       "      <td>1</td>\n",
       "      <td>3.8</td>\n",
       "      <td>5.1</td>\n",
       "      <td>5.0</td>\n",
       "      <td>NaN</td>\n",
       "      <td>27651</td>\n",
       "      <td>202301</td>\n",
       "      <td>NaN</td>\n",
       "    </tr>\n",
       "    <tr>\n",
       "      <th>1</th>\n",
       "      <td>AMD 라이젠7-5세대 7800X3D</td>\n",
       "      <td>575670.0</td>\n",
       "      <td>https://prod.danawa.com/info/?pcode=19627808&amp;c...</td>\n",
       "      <td>AMD</td>\n",
       "      <td>19627808</td>\n",
       "      <td>//img.danawa.com/prod_img/500000/808/627/img/1...</td>\n",
       "      <td>라파엘</td>\n",
       "      <td>AMD(소켓AM5)</td>\n",
       "      <td>8</td>\n",
       "      <td>16</td>\n",
       "      <td>...</td>\n",
       "      <td>28.0</td>\n",
       "      <td>1.0</td>\n",
       "      <td>1</td>\n",
       "      <td>4.2</td>\n",
       "      <td>5.0</td>\n",
       "      <td>5.0</td>\n",
       "      <td>NaN</td>\n",
       "      <td>34740</td>\n",
       "      <td>202304</td>\n",
       "      <td>NaN</td>\n",
       "    </tr>\n",
       "    <tr>\n",
       "      <th>2</th>\n",
       "      <td>인텔 코어i5-13세대 13400F</td>\n",
       "      <td>258090.0</td>\n",
       "      <td>https://prod.danawa.com/info/?pcode=18640280&amp;c...</td>\n",
       "      <td>인텔</td>\n",
       "      <td>18640280</td>\n",
       "      <td>//img.danawa.com/prod_img/500000/280/640/img/1...</td>\n",
       "      <td>랩터레이크</td>\n",
       "      <td>인텔(소켓1700)</td>\n",
       "      <td>10</td>\n",
       "      <td>16</td>\n",
       "      <td>...</td>\n",
       "      <td>20.0</td>\n",
       "      <td>3.0</td>\n",
       "      <td>1</td>\n",
       "      <td>2.5</td>\n",
       "      <td>4.6</td>\n",
       "      <td>10.0</td>\n",
       "      <td>NaN</td>\n",
       "      <td>25588</td>\n",
       "      <td>202301</td>\n",
       "      <td>NaN</td>\n",
       "    </tr>\n",
       "    <tr>\n",
       "      <th>3</th>\n",
       "      <td>AMD 라이젠5-5세대 7500F</td>\n",
       "      <td>221160.0</td>\n",
       "      <td>https://prod.danawa.com/info/?pcode=21694499&amp;c...</td>\n",
       "      <td>AMD</td>\n",
       "      <td>21694499</td>\n",
       "      <td>//img.danawa.com/prod_img/500000/499/694/img/2...</td>\n",
       "      <td>라파엘</td>\n",
       "      <td>AMD(소켓AM5)</td>\n",
       "      <td>6</td>\n",
       "      <td>12</td>\n",
       "      <td>...</td>\n",
       "      <td>28.0</td>\n",
       "      <td>1.0</td>\n",
       "      <td>1</td>\n",
       "      <td>3.7</td>\n",
       "      <td>5.0</td>\n",
       "      <td>5.0</td>\n",
       "      <td>NaN</td>\n",
       "      <td>25578</td>\n",
       "      <td>202307</td>\n",
       "      <td>NaN</td>\n",
       "    </tr>\n",
       "    <tr>\n",
       "      <th>4</th>\n",
       "      <td>AMD 라이젠5-5세대 7600X</td>\n",
       "      <td>291800.0</td>\n",
       "      <td>https://prod.danawa.com/info/?pcode=17913311&amp;c...</td>\n",
       "      <td>AMD</td>\n",
       "      <td>17913311</td>\n",
       "      <td>//img.danawa.com/prod_img/500000/311/913/img/1...</td>\n",
       "      <td>라파엘</td>\n",
       "      <td>AMD(소켓AM5)</td>\n",
       "      <td>6</td>\n",
       "      <td>12</td>\n",
       "      <td>...</td>\n",
       "      <td>28.0</td>\n",
       "      <td>1.0</td>\n",
       "      <td>1</td>\n",
       "      <td>4.7</td>\n",
       "      <td>5.3</td>\n",
       "      <td>5.0</td>\n",
       "      <td>NaN</td>\n",
       "      <td>28830</td>\n",
       "      <td>202209</td>\n",
       "      <td>NaN</td>\n",
       "    </tr>\n",
       "    <tr>\n",
       "      <th>...</th>\n",
       "      <td>...</td>\n",
       "      <td>...</td>\n",
       "      <td>...</td>\n",
       "      <td>...</td>\n",
       "      <td>...</td>\n",
       "      <td>...</td>\n",
       "      <td>...</td>\n",
       "      <td>...</td>\n",
       "      <td>...</td>\n",
       "      <td>...</td>\n",
       "      <td>...</td>\n",
       "      <td>...</td>\n",
       "      <td>...</td>\n",
       "      <td>...</td>\n",
       "      <td>...</td>\n",
       "      <td>...</td>\n",
       "      <td>...</td>\n",
       "      <td>...</td>\n",
       "      <td>...</td>\n",
       "      <td>...</td>\n",
       "      <td>...</td>\n",
       "    </tr>\n",
       "    <tr>\n",
       "      <th>420</th>\n",
       "      <td>인텔 펜티엄 G870</td>\n",
       "      <td>2200.0</td>\n",
       "      <td>https://prod.danawa.com/info/?pcode=1704944&amp;ca...</td>\n",
       "      <td>인텔</td>\n",
       "      <td>1704944</td>\n",
       "      <td>//img.danawa.com/prod_img/500000/944/704/img/1...</td>\n",
       "      <td>샌디브릿지</td>\n",
       "      <td>인텔(소켓1155)</td>\n",
       "      <td>2</td>\n",
       "      <td>2</td>\n",
       "      <td>...</td>\n",
       "      <td>16.0</td>\n",
       "      <td>NaN</td>\n",
       "      <td>0</td>\n",
       "      <td>3.1</td>\n",
       "      <td>NaN</td>\n",
       "      <td>32.0</td>\n",
       "      <td>NaN</td>\n",
       "      <td>1523</td>\n",
       "      <td>201206</td>\n",
       "      <td>NaN</td>\n",
       "    </tr>\n",
       "    <tr>\n",
       "      <th>421</th>\n",
       "      <td>인텔 펜티엄 G850</td>\n",
       "      <td>1500.0</td>\n",
       "      <td>https://prod.danawa.com/info/?pcode=1376176&amp;ca...</td>\n",
       "      <td>인텔</td>\n",
       "      <td>1376176</td>\n",
       "      <td>//img.danawa.com/prod_img/500000/176/376/img/1...</td>\n",
       "      <td>샌디브릿지</td>\n",
       "      <td>인텔(소켓1155)</td>\n",
       "      <td>2</td>\n",
       "      <td>2</td>\n",
       "      <td>...</td>\n",
       "      <td>16.0</td>\n",
       "      <td>NaN</td>\n",
       "      <td>0</td>\n",
       "      <td>2.9</td>\n",
       "      <td>NaN</td>\n",
       "      <td>32.0</td>\n",
       "      <td>NaN</td>\n",
       "      <td>1412</td>\n",
       "      <td>201106</td>\n",
       "      <td>NaN</td>\n",
       "    </tr>\n",
       "    <tr>\n",
       "      <th>422</th>\n",
       "      <td>인텔 펜티엄 G840</td>\n",
       "      <td>1500.0</td>\n",
       "      <td>https://prod.danawa.com/info/?pcode=1376038&amp;ca...</td>\n",
       "      <td>인텔</td>\n",
       "      <td>1376038</td>\n",
       "      <td>//img.danawa.com/prod_img/500000/038/376/img/1...</td>\n",
       "      <td>샌디브릿지</td>\n",
       "      <td>인텔(소켓1155)</td>\n",
       "      <td>2</td>\n",
       "      <td>2</td>\n",
       "      <td>...</td>\n",
       "      <td>16.0</td>\n",
       "      <td>NaN</td>\n",
       "      <td>0</td>\n",
       "      <td>2.8</td>\n",
       "      <td>NaN</td>\n",
       "      <td>32.0</td>\n",
       "      <td>NaN</td>\n",
       "      <td>1238</td>\n",
       "      <td>201106</td>\n",
       "      <td>NaN</td>\n",
       "    </tr>\n",
       "    <tr>\n",
       "      <th>423</th>\n",
       "      <td>인텔 펜티엄 E2200</td>\n",
       "      <td>NaN</td>\n",
       "      <td>https://prod.danawa.com/info/?pcode=686573&amp;cat...</td>\n",
       "      <td>인텔</td>\n",
       "      <td>686573</td>\n",
       "      <td>//img.danawa.com/prod_img/500000/573/686/img/6...</td>\n",
       "      <td>콘로</td>\n",
       "      <td>인텔(소켓775)</td>\n",
       "      <td>2</td>\n",
       "      <td>2</td>\n",
       "      <td>...</td>\n",
       "      <td>NaN</td>\n",
       "      <td>NaN</td>\n",
       "      <td>0</td>\n",
       "      <td>2.2</td>\n",
       "      <td>NaN</td>\n",
       "      <td>65.0</td>\n",
       "      <td>NaN</td>\n",
       "      <td>712</td>\n",
       "      <td>200807</td>\n",
       "      <td>NaN</td>\n",
       "    </tr>\n",
       "    <tr>\n",
       "      <th>424</th>\n",
       "      <td>인텔 코어2듀오 E6600</td>\n",
       "      <td>NaN</td>\n",
       "      <td>https://prod.danawa.com/info/?pcode=472410&amp;cat...</td>\n",
       "      <td>인텔</td>\n",
       "      <td>472410</td>\n",
       "      <td>//img.danawa.com/prod_img/large/group_944/4724...</td>\n",
       "      <td>콘로</td>\n",
       "      <td>인텔(소켓775)</td>\n",
       "      <td>2</td>\n",
       "      <td>2</td>\n",
       "      <td>...</td>\n",
       "      <td>NaN</td>\n",
       "      <td>NaN</td>\n",
       "      <td>0</td>\n",
       "      <td>2.4</td>\n",
       "      <td>NaN</td>\n",
       "      <td>65.0</td>\n",
       "      <td>NaN</td>\n",
       "      <td>220</td>\n",
       "      <td>200705</td>\n",
       "      <td>NaN</td>\n",
       "    </tr>\n",
       "  </tbody>\n",
       "</table>\n",
       "<p>425 rows × 31 columns</p>\n",
       "</div>"
      ],
      "text/plain": [
       "                     name     price  \\\n",
       "0       AMD 라이젠5-5세대 7600  267300.0   \n",
       "1    AMD 라이젠7-5세대 7800X3D  575670.0   \n",
       "2     인텔 코어i5-13세대 13400F  258090.0   \n",
       "3      AMD 라이젠5-5세대 7500F  221160.0   \n",
       "4      AMD 라이젠5-5세대 7600X  291800.0   \n",
       "..                    ...       ...   \n",
       "420           인텔 펜티엄 G870    2200.0   \n",
       "421           인텔 펜티엄 G850    1500.0   \n",
       "422           인텔 펜티엄 G840    1500.0   \n",
       "423          인텔 펜티엄 E2200       NaN   \n",
       "424        인텔 코어2듀오 E6600       NaN   \n",
       "\n",
       "                                                  link company  product_seq  \\\n",
       "0    https://prod.danawa.com/info/?pcode=18718496&c...     AMD     18718496   \n",
       "1    https://prod.danawa.com/info/?pcode=19627808&c...     AMD     19627808   \n",
       "2    https://prod.danawa.com/info/?pcode=18640280&c...      인텔     18640280   \n",
       "3    https://prod.danawa.com/info/?pcode=21694499&c...     AMD     21694499   \n",
       "4    https://prod.danawa.com/info/?pcode=17913311&c...     AMD     17913311   \n",
       "..                                                 ...     ...          ...   \n",
       "420  https://prod.danawa.com/info/?pcode=1704944&ca...      인텔      1704944   \n",
       "421  https://prod.danawa.com/info/?pcode=1376176&ca...      인텔      1376176   \n",
       "422  https://prod.danawa.com/info/?pcode=1376038&ca...      인텔      1376038   \n",
       "423  https://prod.danawa.com/info/?pcode=686573&cat...      인텔       686573   \n",
       "424  https://prod.danawa.com/info/?pcode=472410&cat...      인텔       472410   \n",
       "\n",
       "                                                 image   code      socket  \\\n",
       "0    //img.danawa.com/prod_img/500000/496/718/img/1...    라파엘  AMD(소켓AM5)   \n",
       "1    //img.danawa.com/prod_img/500000/808/627/img/1...    라파엘  AMD(소켓AM5)   \n",
       "2    //img.danawa.com/prod_img/500000/280/640/img/1...  랩터레이크  인텔(소켓1700)   \n",
       "3    //img.danawa.com/prod_img/500000/499/694/img/2...    라파엘  AMD(소켓AM5)   \n",
       "4    //img.danawa.com/prod_img/500000/311/913/img/1...    라파엘  AMD(소켓AM5)   \n",
       "..                                                 ...    ...         ...   \n",
       "420  //img.danawa.com/prod_img/500000/944/704/img/1...  샌디브릿지  인텔(소켓1155)   \n",
       "421  //img.danawa.com/prod_img/500000/176/376/img/1...  샌디브릿지  인텔(소켓1155)   \n",
       "422  //img.danawa.com/prod_img/500000/038/376/img/1...  샌디브릿지  인텔(소켓1155)   \n",
       "423  //img.danawa.com/prod_img/500000/573/686/img/6...     콘로   인텔(소켓775)   \n",
       "424  //img.danawa.com/prod_img/large/group_944/4724...     콘로   인텔(소켓775)   \n",
       "\n",
       "     core_number  thread_number  ...  pcie_channel_number  pcie_version  \\\n",
       "0              6             12  ...                 28.0           1.0   \n",
       "1              8             16  ...                 28.0           1.0   \n",
       "2             10             16  ...                 20.0           3.0   \n",
       "3              6             12  ...                 28.0           1.0   \n",
       "4              6             12  ...                 28.0           1.0   \n",
       "..           ...            ...  ...                  ...           ...   \n",
       "420            2              2  ...                 16.0           NaN   \n",
       "421            2              2  ...                 16.0           NaN   \n",
       "422            2              2  ...                 16.0           NaN   \n",
       "423            2              2  ...                  NaN           NaN   \n",
       "424            2              2  ...                  NaN           NaN   \n",
       "\n",
       "     has_cooler  clock_basic  clock_max    nm  tech_support  bench_mark  \\\n",
       "0             1          3.8        5.1   5.0           NaN       27651   \n",
       "1             1          4.2        5.0   5.0           NaN       34740   \n",
       "2             1          2.5        4.6  10.0           NaN       25588   \n",
       "3             1          3.7        5.0   5.0           NaN       25578   \n",
       "4             1          4.7        5.3   5.0           NaN       28830   \n",
       "..          ...          ...        ...   ...           ...         ...   \n",
       "420           0          3.1        NaN  32.0           NaN        1523   \n",
       "421           0          2.9        NaN  32.0           NaN        1412   \n",
       "422           0          2.8        NaN  32.0           NaN        1238   \n",
       "423           0          2.2        NaN  65.0           NaN         712   \n",
       "424           0          2.4        NaN  65.0           NaN         220   \n",
       "\n",
       "     reg_date  bookmark  \n",
       "0      202301       NaN  \n",
       "1      202304       NaN  \n",
       "2      202301       NaN  \n",
       "3      202307       NaN  \n",
       "4      202209       NaN  \n",
       "..        ...       ...  \n",
       "420    201206       NaN  \n",
       "421    201106       NaN  \n",
       "422    201106       NaN  \n",
       "423    200807       NaN  \n",
       "424    200705       NaN  \n",
       "\n",
       "[425 rows x 31 columns]"
      ]
     },
     "execution_count": 154,
     "metadata": {},
     "output_type": "execute_result"
    }
   ],
   "source": [
    "cpu"
   ]
  },
  {
   "cell_type": "code",
   "execution_count": null,
   "id": "b3a84d1b-4634-48d9-b840-aa9e440ccdd5",
   "metadata": {},
   "outputs": [],
   "source": []
  }
 ],
 "metadata": {
  "kernelspec": {
   "display_name": "Python 3 (ipykernel)",
   "language": "python",
   "name": "python3"
  },
  "language_info": {
   "codemirror_mode": {
    "name": "ipython",
    "version": 3
   },
   "file_extension": ".py",
   "mimetype": "text/x-python",
   "name": "python",
   "nbconvert_exporter": "python",
   "pygments_lexer": "ipython3",
   "version": "3.11.4"
  }
 },
 "nbformat": 4,
 "nbformat_minor": 5
}
