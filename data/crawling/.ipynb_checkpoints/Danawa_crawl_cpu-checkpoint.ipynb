{
 "cells": [
  {
   "cell_type": "code",
   "execution_count": 1,
   "id": "db565b3a-e597-451a-b9db-a764efef9cc8",
   "metadata": {
    "tags": []
   },
   "outputs": [
    {
     "name": "stdout",
     "output_type": "stream",
     "text": [
      "Requirement already satisfied: Beautifulsoup4 in c:\\users\\jeong\\anaconda3\\lib\\site-packages (4.12.2)\n",
      "Requirement already satisfied: soupsieve>1.2 in c:\\users\\jeong\\anaconda3\\lib\\site-packages (from Beautifulsoup4) (2.4)\n",
      "Requirement already satisfied: selenium in c:\\users\\jeong\\anaconda3\\lib\\site-packages (4.12.0)\n",
      "Requirement already satisfied: urllib3[socks]<3,>=1.26 in c:\\users\\jeong\\anaconda3\\lib\\site-packages (from selenium) (1.26.16)\n",
      "Requirement already satisfied: trio~=0.17 in c:\\users\\jeong\\anaconda3\\lib\\site-packages (from selenium) (0.22.2)\n",
      "Requirement already satisfied: trio-websocket~=0.9 in c:\\users\\jeong\\anaconda3\\lib\\site-packages (from selenium) (0.10.4)\n",
      "Requirement already satisfied: certifi>=2021.10.8 in c:\\users\\jeong\\anaconda3\\lib\\site-packages (from selenium) (2023.7.22)\n",
      "Requirement already satisfied: attrs>=20.1.0 in c:\\users\\jeong\\anaconda3\\lib\\site-packages (from trio~=0.17->selenium) (22.1.0)\n",
      "Requirement already satisfied: sortedcontainers in c:\\users\\jeong\\anaconda3\\lib\\site-packages (from trio~=0.17->selenium) (2.4.0)\n",
      "Requirement already satisfied: idna in c:\\users\\jeong\\anaconda3\\lib\\site-packages (from trio~=0.17->selenium) (3.4)\n",
      "Requirement already satisfied: outcome in c:\\users\\jeong\\anaconda3\\lib\\site-packages (from trio~=0.17->selenium) (1.2.0)\n",
      "Requirement already satisfied: sniffio in c:\\users\\jeong\\anaconda3\\lib\\site-packages (from trio~=0.17->selenium) (1.2.0)\n",
      "Requirement already satisfied: cffi>=1.14 in c:\\users\\jeong\\anaconda3\\lib\\site-packages (from trio~=0.17->selenium) (1.15.1)\n",
      "Requirement already satisfied: exceptiongroup in c:\\users\\jeong\\anaconda3\\lib\\site-packages (from trio-websocket~=0.9->selenium) (1.1.3)\n",
      "Requirement already satisfied: wsproto>=0.14 in c:\\users\\jeong\\anaconda3\\lib\\site-packages (from trio-websocket~=0.9->selenium) (1.2.0)\n",
      "Requirement already satisfied: PySocks!=1.5.7,<2.0,>=1.5.6 in c:\\users\\jeong\\anaconda3\\lib\\site-packages (from urllib3[socks]<3,>=1.26->selenium) (1.7.1)\n",
      "Requirement already satisfied: pycparser in c:\\users\\jeong\\anaconda3\\lib\\site-packages (from cffi>=1.14->trio~=0.17->selenium) (2.21)\n",
      "Requirement already satisfied: h11<1,>=0.9.0 in c:\\users\\jeong\\anaconda3\\lib\\site-packages (from wsproto>=0.14->trio-websocket~=0.9->selenium) (0.14.0)\n",
      "Requirement already satisfied: webdriver_manager in c:\\users\\jeong\\anaconda3\\lib\\site-packages (4.0.0)\n",
      "Requirement already satisfied: requests in c:\\users\\jeong\\anaconda3\\lib\\site-packages (from webdriver_manager) (2.31.0)\n",
      "Requirement already satisfied: python-dotenv in c:\\users\\jeong\\anaconda3\\lib\\site-packages (from webdriver_manager) (1.0.0)\n",
      "Requirement already satisfied: packaging in c:\\users\\jeong\\anaconda3\\lib\\site-packages (from webdriver_manager) (23.0)\n",
      "Requirement already satisfied: charset-normalizer<4,>=2 in c:\\users\\jeong\\anaconda3\\lib\\site-packages (from requests->webdriver_manager) (2.0.4)\n",
      "Requirement already satisfied: idna<4,>=2.5 in c:\\users\\jeong\\anaconda3\\lib\\site-packages (from requests->webdriver_manager) (3.4)\n",
      "Requirement already satisfied: urllib3<3,>=1.21.1 in c:\\users\\jeong\\anaconda3\\lib\\site-packages (from requests->webdriver_manager) (1.26.16)\n",
      "Requirement already satisfied: certifi>=2017.4.17 in c:\\users\\jeong\\anaconda3\\lib\\site-packages (from requests->webdriver_manager) (2023.7.22)\n",
      "Requirement already satisfied: pandas in c:\\users\\jeong\\anaconda3\\lib\\site-packages (1.5.3)\n",
      "Requirement already satisfied: python-dateutil>=2.8.1 in c:\\users\\jeong\\anaconda3\\lib\\site-packages (from pandas) (2.8.2)\n",
      "Requirement already satisfied: pytz>=2020.1 in c:\\users\\jeong\\anaconda3\\lib\\site-packages (from pandas) (2022.7)\n",
      "Requirement already satisfied: numpy>=1.21.0 in c:\\users\\jeong\\anaconda3\\lib\\site-packages (from pandas) (1.24.3)\n",
      "Requirement already satisfied: six>=1.5 in c:\\users\\jeong\\anaconda3\\lib\\site-packages (from python-dateutil>=2.8.1->pandas) (1.16.0)\n"
     ]
    }
   ],
   "source": [
    "!pip install Beautifulsoup4\n",
    "!pip install selenium\n",
    "!pip install webdriver_manager\n",
    "!pip install pandas"
   ]
  },
  {
   "cell_type": "code",
   "execution_count": 2,
   "id": "73ce0097-eda2-40d1-8ea3-69b175e5282b",
   "metadata": {
    "tags": []
   },
   "outputs": [],
   "source": [
    "from selenium import webdriver\n",
    "from selenium.webdriver.chrome.service import Service\n",
    "from selenium.webdriver.chrome.options import Options\n",
    "from selenium.webdriver.support.select import Select\n",
    "from selenium.webdriver.common.keys import Keys\n",
    "from selenium.webdriver.common.by import By\n",
    "import urllib.request\n",
    "import time\n",
    "import re\n",
    "\n",
    "import pandas as pd\n",
    "import pprint\n",
    "\n",
    "from bs4 import BeautifulSoup\n",
    "\n",
    "# 크롬 드라이버 자동 업데이트\n",
    "from webdriver_manager.chrome import ChromeDriverManager\n",
    "\n",
    "# 브라우저 꺼짐 방지\n",
    "chrome_options = Options()\n",
    "chrome_options.add_experimental_option(\"detach\", True)\n",
    "\n",
    "# 불필요한 에러 메세지 없애기\n",
    "chrome_options.add_experimental_option(\"excludeSwitches\", [\"enable-logging\"])\n",
    "service = Service(executable_path=ChromeDriverManager().install())"
   ]
  },
  {
   "cell_type": "code",
   "execution_count": 3,
   "id": "6f709548-71ae-4975-9141-8042eef0ff8c",
   "metadata": {},
   "outputs": [],
   "source": [
    "# driver = webdriver.Chrome(options=chrome_options)\n",
    "\n",
    "# driver.get(\"https://prod.danawa.com/list/?cate=112747&15main_11_02\")\n",
    "# driver.implicitly_wait(10)\n",
    "\n",
    "# Select(driver.find_element(By.CSS_SELECTOR, '#productListArea > div.prod_list_opts > div.view_opt > div.view_item.view_qnt > select')).select_by_value(\"90\")\n",
    "# waiting_sec = 3\n",
    "# time.sleep(waiting_sec)\n",
    "\n",
    "# soup = BeautifulSoup(driver.page_source, \"html.parser\")\n"
   ]
  },
  {
   "cell_type": "code",
   "execution_count": 4,
   "id": "f988b568-7651-4a44-8bf6-2c52ebd1a70f",
   "metadata": {
    "tags": []
   },
   "outputs": [],
   "source": [
    "# prod_names = soup.select(\"li.prod_layer > div > div.prod_info > p > a\")\n",
    "# spec = soup.select(\"li.prod_layer > div > div.prod_info > dl > dd > div.spec_list\")\n",
    "# prices = soup.select(\"li.prod_layer > div > div.prod_pricelist> ul > li > p.price_sect > a > strong\")\n",
    "\n",
    "# name_list = []\n",
    "# for prod_name in prod_names[:-1]:\n",
    "#     name_list.append(prod_name.get_text().strip())\n",
    "\n",
    "# # pprint.pprint(name_list)"
   ]
  },
  {
   "cell_type": "code",
   "execution_count": 5,
   "id": "4f0827a0-0b31-4937-bb2e-e16af41de522",
   "metadata": {
    "tags": []
   },
   "outputs": [],
   "source": [
    "# # print(type(spec))\n",
    "# spec_list = []\n",
    "# for element in spec[:-1]:\n",
    "#     element_spec = element.get_text()\n",
    "#     element_list = element_spec.strip().split(' / ')\n",
    "#     spec_list.append(element_list)\n",
    "# # pprint.pprint(spec_list)"
   ]
  },
  {
   "cell_type": "code",
   "execution_count": 6,
   "id": "b112f31d-89a9-4ea8-832c-e3c819c36f49",
   "metadata": {
    "tags": []
   },
   "outputs": [],
   "source": [
    "# price_list=[]\n",
    "# for price in prices:\n",
    "#     price = price.get_text()\n",
    "#     price_list.append(price)\n"
   ]
  },
  {
   "cell_type": "code",
   "execution_count": 7,
   "id": "e3fc1296-952f-41fc-89c5-1ee7cac96c92",
   "metadata": {
    "tags": []
   },
   "outputs": [],
   "source": [
    "# zip_prod = zip(name_list,spec_list, price_list)\n",
    "\n",
    "# dic_prod = dict()\n",
    "\n",
    "# for name,spec,price in zip_prod:\n",
    "#     dic_prod[name] = spec+[\"가격: \"+ price]\n",
    "\n",
    "# # pprint.pprint(dic_prod)\n",
    "    "
   ]
  },
  {
   "cell_type": "markdown",
   "id": "1308de7e-e2f3-46c0-b050-0c4836c27482",
   "metadata": {},
   "source": [
    "### 다나와 상세페이지에서 테이블 내용을 불러오기"
   ]
  },
  {
   "cell_type": "code",
   "execution_count": 8,
   "id": "b0672391-870f-4ddf-92a2-84a8243c253a",
   "metadata": {
    "tags": []
   },
   "outputs": [],
   "source": [
    "# 상세페이로 접근\n",
    "# seq = 19627808  # 해당 상품 코드\n",
    "# category = 112747  # CPU\n",
    "\n",
    "# url = f'https://prod.danawa.com/info/?pcode={seq}&cate={category}'\n",
    "\n",
    "user_agent =\"Mozilla/5.0 (Windows NT 10.0; Win64; x64) AppleWebKit/537.36 (KHTML, like Gecko) Chrome/116.0.0.0 Safari/537.36\"\n",
    "chrome_options.add_argument(f'user-agent={user_agent}')\n",
    "\n",
    "driver = webdriver.Chrome(options=chrome_options)\n",
    "\n",
    "# driver.get(url)\n",
    "# driver.implicitly_wait(10)\n"
   ]
  },
  {
   "cell_type": "code",
   "execution_count": 9,
   "id": "13d0b411-2a4f-4212-b6b9-926a847f6b10",
   "metadata": {
    "tags": []
   },
   "outputs": [],
   "source": [
    "# soup = BeautifulSoup(driver.page_source, \"html.parser\")"
   ]
  },
  {
   "cell_type": "code",
   "execution_count": 10,
   "id": "92eeb015-c955-437c-a434-124830d888c6",
   "metadata": {
    "tags": []
   },
   "outputs": [],
   "source": [
    "# # table에서 각 항목의 제목과 내용을 선택해서 가져옴\n",
    "# spec_tbl = soup.select(\"#productDescriptionArea > div > div.prod_spec > table > tbody\")\n",
    "# spec_tbl_tit = soup.select(\"#productDescriptionArea > div > div.prod_spec > table > tbody > tr > th.tit\")\n",
    "# spec_tbl_dsc = soup.select(\"#productDescriptionArea > div > div.prod_spec > table > tbody > tr > td.dsc\")\n",
    "\n",
    "# name = soup.select_one(\"#blog_content > div.summary_info > div.top_summary > h3 > span\")\n",
    "# price = soup.select_one(\"#blog_content > div.summary_info > div.detail_summary > div.summary_left > div.lowest_area > div.lowest_top > div.row.lowest_price > span.lwst_prc > a > em\")\n",
    "# image_url = soup.select_one(\"#baseImage\")\n",
    "\n",
    "# print(image_url['src'])\n",
    "\n",
    "\n",
    "\n",
    "# # 제목과 내용을 zip을 이용해 그룹화\n",
    "# tbl = zip(spec_tbl_tit, spec_tbl_dsc)\n",
    "\n",
    "# # dict 형태로 자료 저장\n",
    "# info = dict()\n",
    "# for tit,dsc in tbl:\n",
    "#     if tit.get_text() in ['안전확인인증','적합성평가인증'] or tit.get_text()=='':\n",
    "#         continue\n",
    "#     text = dsc.get_text()\n",
    "#     text = text.replace('\\n','')\n",
    "#     text = text.replace('\\t','')\n",
    "#     text = text.replace('(제조사 웹사이트 바로가기)','')\n",
    "#     info[tit.get_text()] = text\n",
    "\n",
    "# info['제품명'] = name.get_text()\n",
    "# info['최저가'] = price.get_text()\n",
    "# info['링크'] = url\n",
    "# info['이미지'] = image_url['src']\n",
    "# info['제품번호'] = seq\n",
    "    \n",
    "# pprint.pprint(info)\n",
    "\n",
    "# driver.quit()\n",
    "    "
   ]
  },
  {
   "cell_type": "code",
   "execution_count": 11,
   "id": "59911a3c-38a7-4b91-bc07-0163b68e4854",
   "metadata": {},
   "outputs": [],
   "source": [
    "# df = pd.DataFrame(info.items(), columns=['속성', '값'])\n",
    "\n",
    "# # 스타일을 지정하여 중앙 정렬\n",
    "# styled_df = df.style.set_properties(**{'text-align': 'center'})\n",
    "\n",
    "# # 출력\n",
    "# styled_df.hide_index()  # 인덱스 숨기기\n",
    "# styled_df"
   ]
  },
  {
   "cell_type": "code",
   "execution_count": 12,
   "id": "f9266243-4379-4a15-868c-e180fd4d45c5",
   "metadata": {
    "tags": []
   },
   "outputs": [],
   "source": [
    "# header_match_dic = {\"제품명\":\"name\", \"최저가\":\"price\", \"링크\":\"link\", \"제조회사\":\"company\", \"제품번호\":\"product_seq\", \"이미지\":\"image\", \"코드명\":\"code\",\n",
    "#                     \"코어 수\":\"core_number\", \"쓰레드 수\":\"thread_number\", \"L2 캐시\":\"l2_cache\", \"L3 캐시\":\"l3_cache\", \"TDP\":\"tdp\", \"PBP/MTP\":\"pbtmtp\", \"내장그래픽\":\"has_graphic\",\n",
    "#          \"GPU 모델명\":\"graphic_name\", \"GPU 코어 속도\":\"graphic_core_speed\", \"쿨러\":\"has_cooler\", \"기본 클럭\":\"clock_basic\", \"최대 클럭\":\"clock_max\", \"제조 공정\":\"nm\", \"기술 지원\":\"tech_support\",\n",
    "#           \"벤치마크\":\"bench_mark\", \"등록년월\":\"reg_date\", \"북마크\":\"bookmark\"}\n"
   ]
  },
  {
   "cell_type": "code",
   "execution_count": 13,
   "id": "2337d82b-d9f7-4f86-a2f6-9633dc35506e",
   "metadata": {
    "tags": []
   },
   "outputs": [],
   "source": [
    "# pprint.pprint(header_match_dic)"
   ]
  },
  {
   "cell_type": "code",
   "execution_count": 16,
   "id": "cd65a0dd-3d76-492c-abd9-a2fcb53ada4a",
   "metadata": {
    "tags": []
   },
   "outputs": [],
   "source": [
    "# 크롤링 참고 (헤더)\n",
    "\n",
    "header = [\"name\", \"price\", \"link\", \"company\", \"product_seq\", \"image\", \"code\", \"socket\",\n",
    "          \"core_number\", \"thread_number\", \"l2_cache\", \"l3_cache\", \"tdp\", \"pbtmtp\", \"has_graphic\",\n",
    "         \"graphic_name\", \"graphic_core_speed\", \"memory_capacity\", \"memory_type\", \"memory_clock\",\"memory_channel\",\n",
    "          \"pcie_channel_number\", \"pcie_version\",\"has_cooler\", \"clock_basic\", \"clock_max\", \"nm\", \"tech_support\",\n",
    "          \"bench_mark\", \"reg_date\", \"bookmark\"]\n"
   ]
  },
  {
   "cell_type": "code",
   "execution_count": 17,
   "id": "3a3abc44-2178-4a1e-9a6c-8ad0452de27c",
   "metadata": {
    "tags": []
   },
   "outputs": [
    {
     "name": "stdout",
     "output_type": "stream",
     "text": [
      "425\n"
     ]
    }
   ],
   "source": [
    "save_file = False  # 파일 저장 여부\n",
    "waiting_sec = 3\n",
    "\n",
    "# seq 파일 읽기\n",
    "category = 112747  # CPU\n",
    "# category = 112751  # 메인보드\n",
    "# category = 112752  # 램\n",
    "# category = 112753  # 그래픽카드\n",
    "# category = 112760  # SSD\n",
    "# category = 112763  # HDD\n",
    "# category = 112775  # 케이스\n",
    "# category = 112777  # 파워\n",
    "# category = 11236855  # 쿨러\n",
    "\n",
    "seq_file = f'./seq_{category}.csv'\n",
    "seq_df = pd.read_csv(seq_file)\n",
    "len_seq = len(seq_df)\n",
    "print(len_seq)\n",
    "\n",
    "# 비트마스킹\n",
    "m2i_bitmask = ['SATA', 'NVMe', 'PCIe', 'PCIe4.0', 'PCIe5.0']\n",
    "m2f_bitmask = ['2230', '2242', '2260', '2280', '2580', '22110', '25110']\n",
    "wl_bitmask = ['무선 LAN', '블루투스', 'M.2 Key-E(모듈별매)']\n",
    "\n",
    "# 딕셔너리 초기화\n",
    "cpu = dict()\n",
    "\n",
    "for col in header:\n",
    "    cpu[col] = []"
   ]
  },
  {
   "cell_type": "code",
   "execution_count": 18,
   "id": "71ee8b41-b4e1-4061-b21b-e9ae4e26250c",
   "metadata": {
    "tags": []
   },
   "outputs": [
    {
     "name": "stdout",
     "output_type": "stream",
     "text": [
      "425 / 425 : 100%"
     ]
    }
   ],
   "source": [
    "# 크롤링 참고 (크롤링, 딕셔너리로 저장)\n",
    "\n",
    "# chrome_options = Options()\n",
    "\n",
    "user_agent =\"Mozilla/5.0 (Windows NT 10.0; Win64; x64) AppleWebKit/537.36 (KHTML, like Gecko) Chrome/116.0.0.0 Safari/537.36\"\n",
    "chrome_options.add_argument(f'user-agent={user_agent}')\n",
    "\n",
    "driver = webdriver.Chrome(options=chrome_options)\n",
    "\n",
    "\n",
    "# 크롤링 시작\n",
    "ntime = 1\n",
    "\n",
    "for seq in seq_df.seq:\n",
    "    url = f'https://prod.danawa.com/info/?pcode={seq}&cate={category}'\n",
    "    driver.get(url)\n",
    "    driver.implicitly_wait(10)\n",
    "\n",
    "    time.sleep(waiting_sec)\n",
    "    soup = BeautifulSoup(driver.page_source, 'html.parser')\n",
    "    \n",
    "    spec_tbl = soup.select(\"#productDescriptionArea > div > div.prod_spec > table > tbody\")\n",
    "    spec_tbl_tit = soup.select(\"#productDescriptionArea > div > div.prod_spec > table > tbody > tr > th.tit\")\n",
    "    spec_tbl_dsc = soup.select(\"#productDescriptionArea > div > div.prod_spec > table > tbody > tr > td.dsc\")\n",
    "    name = soup.select_one(\"#blog_content > div.summary_info > div.top_summary > h3 > span\")\n",
    "    price = soup.select_one(\"#blog_content > div.summary_info > div.detail_summary > div.summary_left > div.lowest_area > div.lowest_top > div.row.lowest_price > span.lwst_prc > a > em\")\n",
    "    image_url = soup.select_one(\"#baseImage\")\n",
    "    \n",
    "    tbl = zip(spec_tbl_tit, spec_tbl_dsc)\n",
    "\n",
    "    info = dict()\n",
    "    info['제품명'] = name.get_text()\n",
    "    info['최저가'] = price.get_text() if price else None\n",
    "    info['링크'] = url\n",
    "    info['이미지'] = image_url['src']\n",
    "    for tit, dsc in tbl:\n",
    "        if tit.get_text() in ['안전확인인증','적합성평가인증']:\n",
    "            continue\n",
    "        text = dsc.get_text()\n",
    "        text = text.replace('\\n','')\n",
    "        text = text.replace('\\t','')\n",
    "        text = text.replace('(제조사 웹사이트 바로가기)','')\n",
    "        info[tit.get_text()] = text.strip()\n",
    "    \n",
    "    # pprint.pprint(info)\n",
    "    \n",
    "    m2i_bit = 0\n",
    "    m2f_bit = 0\n",
    "    wl_bit = 0\n",
    "    wls = 0\n",
    "    \n",
    "    \n",
    "    \n",
    "    cpu['name'].append(name.get_text()[:name.get_text().index('(')].rstrip())\n",
    "    cpu['code'].append(name.get_text()[name.get_text().index('(')+1:name.get_text().index(')')].strip())\n",
    "    cpu['price'].append(price.get_text().replace(',','') if price else None)\n",
    "    cpu['link'].append(url)\n",
    "    cpu['company'].append(info.get('제조회사'))\n",
    "    cpu['product_seq'].append(seq)\n",
    "    cpu['image'].append(image_url.get('src'))\n",
    "    \n",
    "    cpu['socket'].append(info.get('소켓 구분'))\n",
    "    \n",
    "    cpu['core_number'].append(info.get('코어 수').replace('코어','') if '코어 수' in info.keys() else None)\n",
    "    cpu['thread_number'].append(info.get('쓰레드 수').replace('쓰레드','') if '쓰레드 수' in info.keys() else None)\n",
    "    cpu['l2_cache'].append(info.get('L2 캐시').replace('MB','') if 'L2 캐시' in info.keys() else None)\n",
    "    cpu['l3_cache'].append(info.get('L3 캐시').replace('MB','') if 'L3 캐시' in info.keys() else None)\n",
    "\n",
    "    cpu['tdp'].append(info.get('TDP').replace('W','') if 'TDP' in info.keys() else None)\n",
    "    cpu['pbtmtp'].append(info.get('PBP/MTP').replace('W','') if 'PBP/MTP' in info.keys() else None)\n",
    "    \n",
    "    cpu['has_graphic'].append(1 if '내장그래픽' in info.keys() else 0)\n",
    "    cpu['graphic_name'].append(info.get('GPU 모델명'))\n",
    "    cpu['graphic_core_speed'].append(info.get('GPU 코어 속도').replace('MHz','').replace(',','') if 'GPU 코어 속도' in info.keys() else None)\n",
    "    \n",
    "    cpu['memory_capacity'].append(info.get('최대 메모리 크기').replace('GB','') if '최대 메모리 크기' in info.keys() else None)\n",
    "    cpu['memory_type'].append(info.get('메모리 규격'))\n",
    "    cpu['memory_clock'].append(info.get('메모리 클럭').replace('MHz','') if '메모리 클럭' in info.keys() else None)\n",
    "    cpu['memory_channel'].append(info.get('메모리 채널'))\n",
    "    \n",
    "    cpu['pcie_version'].append(info.get('PCIe 버전'))\n",
    "    cpu['pcie_channel_number'].append(info.get('최대 PCIe 레인수').replace('레인','') if '최대 PCIe 레인수' in info.keys() else None)\n",
    "    \n",
    "    cpu['has_cooler'].append(1 if '쿨러' in info.keys() else 0)\n",
    "    cpu['clock_basic'].append(info.get('기본 클럭').replace('GHz','') if '기본 클럭' in info.keys() else None)\n",
    "    cpu['clock_max'].append(info.get('최대 클럭').replace('GHz','') if '최대 클럭' in info.keys() else None)\n",
    "    \n",
    "    cpu['nm'].append(info.get('제조 공정')[:info.get('제조 공정').index('nm')] if '제조 공정' in info.keys() else None)\n",
    "    \n",
    "    cpu['tech_support'].append(info.get('기술 지원'))\n",
    "    cpu['bench_mark'].append(info.get('벤치마크'))\n",
    "    cpu['reg_date'].append(re.sub('(년| |월)', '', info.get('등록년월')))\n",
    "    cpu['bookmark'].append(info.get('북마크'))\n",
    "    \n",
    "    \n",
    "    print(f'\\r{ntime} / {len_seq} : {int(ntime/len_seq*100)}%',end='')\n",
    "    \n",
    "    # 테스트용\n",
    "    # if ntime==2:\n",
    "    #     break\n",
    "    \n",
    "    ntime+=1\n",
    "\n",
    "        \n",
    "driver.quit()\n",
    "# 크롤링 끝"
   ]
  },
  {
   "cell_type": "code",
   "execution_count": 19,
   "id": "5c14848d-bf34-49fd-a338-0d1bad347083",
   "metadata": {
    "tags": []
   },
   "outputs": [],
   "source": [
    "# cpu"
   ]
  },
  {
   "cell_type": "code",
   "execution_count": 20,
   "id": "cf7b3eee-a826-4f2a-a306-a0deb1d8788d",
   "metadata": {},
   "outputs": [],
   "source": [
    "pd.DataFrame(cpu).to_csv(\"temp.csv\", index=None)"
   ]
  },
  {
   "cell_type": "code",
   "execution_count": null,
   "id": "d0ba507e-80ec-4d9c-8b1c-c1b0fa0847df",
   "metadata": {},
   "outputs": [],
   "source": []
  },
  {
   "cell_type": "code",
   "execution_count": 22,
   "id": "dd7f6102-cf58-4c33-9e1e-f537039e2aff",
   "metadata": {},
   "outputs": [],
   "source": [
    "import pandas as pd\n",
    "cpu_data = pd.read_csv(\"CPU_temp.csv\",sep=',')"
   ]
  },
  {
   "cell_type": "code",
   "execution_count": 23,
   "id": "04936dfe-2aef-4429-87f6-ac8130cf8263",
   "metadata": {},
   "outputs": [],
   "source": [
    "cpu_data.company.apply(lambda x:x.strip())\n",
    "cpu_data.company = cpu_data.company.apply(lambda x: x[:3] if 'AMD' in x else x[:2])"
   ]
  },
  {
   "cell_type": "code",
   "execution_count": null,
   "id": "2e552695-1db3-491e-988e-2a9e6e6171b6",
   "metadata": {},
   "outputs": [],
   "source": [
    "cpu_data.tail()"
   ]
  },
  {
   "cell_type": "code",
   "execution_count": 25,
   "id": "506c89f0-0ec0-460c-b9ee-665dbddbb9b4",
   "metadata": {
    "tags": []
   },
   "outputs": [],
   "source": [
    "def core(x):\n",
    "    if '듀얼' in x:\n",
    "        return 2\n",
    "    if '트리플' in x:\n",
    "        return 3\n",
    "    if '쿼드' in x:\n",
    "        return 4\n",
    "    if '헥사' in x:\n",
    "        return 6\n",
    "    if '옥타' in x:\n",
    "        return 8\n",
    "    return x\n",
    "\n",
    "def cache_recog(x):\n",
    "    if 'KB' in str(x):\n",
    "        kb = int(x[:x.find('KB')])\n",
    "        mul = int(x[x.find('x')+1:]) if 'x' in x else 1\n",
    "        return kb*mul/1024\n",
    "    if 'x' in str(x):\n",
    "        mb = int(x[:x.find('x')])\n",
    "        mul = int(x[x.find('x')+1:])\n",
    "        return mb*mul\n",
    "    return x\n",
    "\n",
    "cpu_data.core_number = cpu_data.core_number.apply(lambda x: core(x))\n",
    "cpu_data.l2_cache = cpu_data.l2_cache.apply(lambda x: cache_recog(x))\n",
    "\n",
    "cpu_data.graphic_core_speed = cpu_data.graphic_core_speed.apply(lambda x: float(str(x).replace('최대','')))\n",
    "\n",
    "cpu_data.to_csv(\"CPU_mod.csv\", index=None)\n"
   ]
  }
 ],
 "metadata": {
  "kernelspec": {
   "display_name": "Python 3 (ipykernel)",
   "language": "python",
   "name": "python3"
  },
  "language_info": {
   "codemirror_mode": {
    "name": "ipython",
    "version": 3
   },
   "file_extension": ".py",
   "mimetype": "text/x-python",
   "name": "python",
   "nbconvert_exporter": "python",
   "pygments_lexer": "ipython3",
   "version": "3.11.4"
  }
 },
 "nbformat": 4,
 "nbformat_minor": 5
}
