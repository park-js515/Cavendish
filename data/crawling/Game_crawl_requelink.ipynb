{
 "cells": [
  {
   "cell_type": "code",
   "execution_count": 1,
   "id": "1633345f",
   "metadata": {
    "tags": []
   },
   "outputs": [],
   "source": [
    "from selenium import webdriver\n",
    "from selenium.webdriver.chrome.service import Service\n",
    "from selenium.webdriver.chrome.options import Options\n",
    "from selenium.webdriver.common.by import By\n",
    "from selenium.webdriver.support.select import Select\n",
    "from selenium.webdriver.support.ui import WebDriverWait\n",
    "from selenium.webdriver.support import expected_conditions as EC\n",
    "from selenium.common.exceptions import NoSuchElementException\n",
    "from selenium.common.exceptions import StaleElementReferenceException\n",
    "from bs4 import BeautifulSoup\n",
    "import pandas as pd\n",
    "import pprint\n",
    "import time\n",
    "import csv\n",
    "import re\n",
    "\n",
    "# 크롬 드라이버 자동 업데이트\n",
    "from webdriver_manager.chrome import ChromeDriverManager"
   ]
  },
  {
   "cell_type": "code",
   "execution_count": 2,
   "id": "b869bd46",
   "metadata": {
    "tags": []
   },
   "outputs": [],
   "source": [
    "class RetriesExceededError(Exception):\n",
    "    def __init__(self, message):\n",
    "        super().__init__(message)\n",
    "\n",
    "        \n",
    "def find_element_with_retry(driver_, by, value, waiting_sec=2.5, max_retries=10):\n",
    "    retries = 0\n",
    "    while retries < max_retries:\n",
    "        try:\n",
    "            element = WebDriverWait(driver_, waiting_sec).until(EC.presence_of_element_located((by, value)))\n",
    "            return element\n",
    "        except (NoSuchElementException, StaleElementReferenceException):\n",
    "            retries += 1\n",
    "            \n",
    "    raise RetriesExceededError(f'{value}를 찾을 수 없음\\n재시도 횟수 초과: {waiting_sec}초로 {max_retries}회 시도')"
   ]
  },
  {
   "cell_type": "code",
   "execution_count": null,
   "id": "8d4b29b7",
   "metadata": {
    "tags": []
   },
   "outputs": [],
   "source": [
    "# 브라우저 꺼짐 방지\n",
    "chrome_options = Options()\n",
    "chrome_options.add_experimental_option(\"detach\", True)\n",
    "\n",
    "user_agent = \"Mozilla/5.0 (Windows NT 10.0; Win64; x64) AppleWebKit/537.36 (KHTML, like Gecko) Chrome/116.0.0.0 Safari/537.36\"\n",
    "chrome_options.add_argument(f'user-agent={user_agent}')\n",
    "# 불필요한 에러 메세지 없애기\n",
    "chrome_options.add_experimental_option(\"excludeSwitches\", [\"enable-logging\"])\n",
    "# driver = webdriver.Chrome('./chromedriver/chromedriver.exe', options=chrome_options)\n",
    "service = Service(executable_path=ChromeDriverManager().install())\n",
    "driver = webdriver.Chrome(service=service, options=chrome_options)\n",
    "\n",
    "save_file = True  # 파일 저장 여부\n",
    "waiting_sec = 2.5"
   ]
  },
  {
   "cell_type": "code",
   "execution_count": null,
   "id": "6453eb76",
   "metadata": {
    "tags": []
   },
   "outputs": [],
   "source": [
    "header_gl = ['name', 'link']\n",
    "start_words = ['a', 'b', 'c', 'd', 'e', 'f', 'g', 'h', 'i', 'j', 'k', 'l', 'm', 'n', 'o', 'p',\n",
    "               'q', 'r', 's', 't', 'u', 'v', 'w', 'x', 'y', 'z', '0-9']"
   ]
  },
  {
   "cell_type": "code",
   "execution_count": null,
   "id": "29d13a0c",
   "metadata": {
    "tags": []
   },
   "outputs": [],
   "source": [
    "gamesysreqlink = dict()\n",
    "for col in header_gl:\n",
    "    gamesysreqlink[col] = []"
   ]
  },
  {
   "cell_type": "code",
   "execution_count": null,
   "id": "fd3e20a6",
   "metadata": {},
   "outputs": [],
   "source": [
    "start = time.time()"
   ]
  },
  {
   "cell_type": "code",
   "execution_count": null,
   "id": "3bbc3e32",
   "metadata": {},
   "outputs": [
    {
     "name": "stdout",
     "output_type": "stream",
     "text": [
      "\n",
      "걸린 시간: 651.25 sec\n"
     ]
    }
   ],
   "source": [
    "# 크롤링 시작\n",
    "url = f'https://gamesystemrequirements.com/database/'\n",
    "driver.get(url)\n",
    "driver.implicitly_wait(10)\n",
    "driver.find_element(By.XPATH, '//*[@id=\"qc-cmp2-ui\"]/div[2]/div/button[2]').click()\n",
    "driver.implicitly_wait(10)\n",
    "time.sleep(waiting_sec)\n",
    "for sw in start_words:\n",
    "    # ►\n",
    "    page = 0\n",
    "    while True:\n",
    "        page += 1\n",
    "        url = f'https://gamesystemrequirements.com/database/{sw}/page/{page}'\n",
    "        driver.get(url)\n",
    "        driver.implicitly_wait(10)\n",
    "    \n",
    "        time.sleep(waiting_sec)\n",
    "        soup = BeautifulSoup(driver.page_source, 'html.parser')\n",
    "    \n",
    "        e404 = soup.select('body > div.main-container > div.main-column > div.e404')\n",
    "        if len(e404) != 0:\n",
    "            break\n",
    "            \n",
    "        link_elements = soup.select('body > div.main-container > div.main-column > a')\n",
    "        for link_element in link_elements:\n",
    "            gamesysreqlink['name'].append(link_element['title'])\n",
    "            gamesysreqlink['link'].append(link_element['href'])\n",
    "    \n",
    "end = time.time()\n",
    "print(f'\\n걸린 시간: {end-start:.2f} sec')\n",
    "driver.quit()\n",
    "# 크롤링 끝"
   ]
  },
  {
   "cell_type": "code",
   "execution_count": null,
   "id": "32772367",
   "metadata": {
    "tags": []
   },
   "outputs": [],
   "source": [
    "# 파일 저장\n",
    "if save_file:\n",
    "    today = time.strftime('%y%m%d')\n",
    "    pd.DataFrame(gamesysreqlink).to_csv(f'gamesysreqlink{today}.csv', index=None)"
   ]
  },
  {
   "cell_type": "code",
   "execution_count": null,
   "id": "f77fb762",
   "metadata": {},
   "outputs": [],
   "source": []
  }
 ],
 "metadata": {
  "kernelspec": {
   "display_name": "Python 3 (ipykernel)",
   "language": "python",
   "name": "python3"
  },
  "language_info": {
   "codemirror_mode": {
    "name": "ipython",
    "version": 3
   },
   "file_extension": ".py",
   "mimetype": "text/x-python",
   "name": "python",
   "nbconvert_exporter": "python",
   "pygments_lexer": "ipython3",
   "version": "3.9.12"
  }
 },
 "nbformat": 4,
 "nbformat_minor": 5
}
