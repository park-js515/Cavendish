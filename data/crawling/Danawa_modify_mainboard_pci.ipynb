{
 "cells": [
  {
   "cell_type": "code",
   "execution_count": 2,
   "id": "8017fc7e",
   "metadata": {
    "tags": []
   },
   "outputs": [],
   "source": [
    "import pandas as pd\n",
    "import numpy as np\n",
    "import time\n",
    "import re"
   ]
  },
  {
   "cell_type": "code",
   "execution_count": 3,
   "id": "a29cdc90-5582-46c3-8bf4-38a2f5c2cec4",
   "metadata": {
    "tags": []
   },
   "outputs": [],
   "source": [
    "mb = pd.read_csv('part_mainboard230920.csv')"
   ]
  },
  {
   "cell_type": "code",
   "execution_count": 9,
   "id": "c8c338e1-53d7-4300-b96e-588342963631",
   "metadata": {
    "tags": []
   },
   "outputs": [],
   "source": [
    "mbs = pd.DataFrame(mb['product_seq'])"
   ]
  },
  {
   "cell_type": "code",
   "execution_count": 7,
   "id": "9ebde092-fc80-4102-9d34-765425a5f503",
   "metadata": {
    "tags": []
   },
   "outputs": [],
   "source": [
    "mpci = pd.read_csv('mainboard_pci230919.csv')"
   ]
  },
  {
   "cell_type": "code",
   "execution_count": 12,
   "id": "93c4d9b8-330c-4b54-bace-01dac1a9c60a",
   "metadata": {
    "tags": []
   },
   "outputs": [
    {
     "data": {
      "text/html": [
       "<div>\n",
       "<style scoped>\n",
       "    .dataframe tbody tr th:only-of-type {\n",
       "        vertical-align: middle;\n",
       "    }\n",
       "\n",
       "    .dataframe tbody tr th {\n",
       "        vertical-align: top;\n",
       "    }\n",
       "\n",
       "    .dataframe thead th {\n",
       "        text-align: right;\n",
       "    }\n",
       "</style>\n",
       "<table border=\"1\" class=\"dataframe\">\n",
       "  <thead>\n",
       "    <tr style=\"text-align: right;\">\n",
       "      <th></th>\n",
       "      <th>product_seq</th>\n",
       "    </tr>\n",
       "  </thead>\n",
       "  <tbody>\n",
       "    <tr>\n",
       "      <th>0</th>\n",
       "      <td>20324882</td>\n",
       "    </tr>\n",
       "    <tr>\n",
       "      <th>1</th>\n",
       "      <td>7452181</td>\n",
       "    </tr>\n",
       "    <tr>\n",
       "      <th>2</th>\n",
       "      <td>16284179</td>\n",
       "    </tr>\n",
       "    <tr>\n",
       "      <th>3</th>\n",
       "      <td>16083650</td>\n",
       "    </tr>\n",
       "    <tr>\n",
       "      <th>4</th>\n",
       "      <td>18652871</td>\n",
       "    </tr>\n",
       "    <tr>\n",
       "      <th>...</th>\n",
       "      <td>...</td>\n",
       "    </tr>\n",
       "    <tr>\n",
       "      <th>1335</th>\n",
       "      <td>13016483</td>\n",
       "    </tr>\n",
       "    <tr>\n",
       "      <th>1336</th>\n",
       "      <td>6732955</td>\n",
       "    </tr>\n",
       "    <tr>\n",
       "      <th>1337</th>\n",
       "      <td>6145461</td>\n",
       "    </tr>\n",
       "    <tr>\n",
       "      <th>1338</th>\n",
       "      <td>5991461</td>\n",
       "    </tr>\n",
       "    <tr>\n",
       "      <th>1339</th>\n",
       "      <td>4465818</td>\n",
       "    </tr>\n",
       "  </tbody>\n",
       "</table>\n",
       "<p>1340 rows × 1 columns</p>\n",
       "</div>"
      ],
      "text/plain": [
       "      product_seq\n",
       "0        20324882\n",
       "1         7452181\n",
       "2        16284179\n",
       "3        16083650\n",
       "4        18652871\n",
       "...           ...\n",
       "1335     13016483\n",
       "1336      6732955\n",
       "1337      6145461\n",
       "1338      5991461\n",
       "1339      4465818\n",
       "\n",
       "[1340 rows x 1 columns]"
      ]
     },
     "execution_count": 12,
     "metadata": {},
     "output_type": "execute_result"
    }
   ],
   "source": [
    "mbs"
   ]
  },
  {
   "cell_type": "code",
   "execution_count": 29,
   "id": "ecd95dd3-14b7-4a2f-8ccd-ed2deb2885a4",
   "metadata": {
    "tags": []
   },
   "outputs": [
    {
     "data": {
      "text/plain": [
       "1"
      ]
     },
     "execution_count": 29,
     "metadata": {},
     "output_type": "execute_result"
    }
   ],
   "source": [
    "mbs[mbs['product_seq'] == 7452181].index[0]"
   ]
  },
  {
   "cell_type": "code",
   "execution_count": 38,
   "id": "721c11ea-ba5a-43f4-af5b-3bf0aed27ca9",
   "metadata": {
    "tags": []
   },
   "outputs": [],
   "source": [
    "mid = []\n",
    "for i in range(len(mpci)):\n",
    "    mid.append(mbs[mbs['product_seq'] == mpci.loc[i, 'product_seq']].index[0]+1)\n",
    "mpci['mainboard_id'] = mid"
   ]
  },
  {
   "cell_type": "code",
   "execution_count": 39,
   "id": "59b4c6c1-3db6-4151-a270-cbacc9d0f537",
   "metadata": {
    "tags": []
   },
   "outputs": [
    {
     "data": {
      "text/html": [
       "<div>\n",
       "<style scoped>\n",
       "    .dataframe tbody tr th:only-of-type {\n",
       "        vertical-align: middle;\n",
       "    }\n",
       "\n",
       "    .dataframe tbody tr th {\n",
       "        vertical-align: top;\n",
       "    }\n",
       "\n",
       "    .dataframe thead th {\n",
       "        text-align: right;\n",
       "    }\n",
       "</style>\n",
       "<table border=\"1\" class=\"dataframe\">\n",
       "  <thead>\n",
       "    <tr style=\"text-align: right;\">\n",
       "      <th></th>\n",
       "      <th>product_seq</th>\n",
       "      <th>pci_type</th>\n",
       "      <th>pci_number</th>\n",
       "      <th>mainboard_id</th>\n",
       "    </tr>\n",
       "  </thead>\n",
       "  <tbody>\n",
       "    <tr>\n",
       "      <th>0</th>\n",
       "      <td>20324882</td>\n",
       "      <td>PCIex16</td>\n",
       "      <td>1</td>\n",
       "      <td>1</td>\n",
       "    </tr>\n",
       "    <tr>\n",
       "      <th>1</th>\n",
       "      <td>20324882</td>\n",
       "      <td>PCIex1</td>\n",
       "      <td>1</td>\n",
       "      <td>1</td>\n",
       "    </tr>\n",
       "    <tr>\n",
       "      <th>2</th>\n",
       "      <td>7452181</td>\n",
       "      <td>PCIex16</td>\n",
       "      <td>1</td>\n",
       "      <td>2</td>\n",
       "    </tr>\n",
       "    <tr>\n",
       "      <th>3</th>\n",
       "      <td>7452181</td>\n",
       "      <td>PCIex1</td>\n",
       "      <td>2</td>\n",
       "      <td>2</td>\n",
       "    </tr>\n",
       "    <tr>\n",
       "      <th>4</th>\n",
       "      <td>16284179</td>\n",
       "      <td>PCIex16</td>\n",
       "      <td>1</td>\n",
       "      <td>3</td>\n",
       "    </tr>\n",
       "    <tr>\n",
       "      <th>...</th>\n",
       "      <td>...</td>\n",
       "      <td>...</td>\n",
       "      <td>...</td>\n",
       "      <td>...</td>\n",
       "    </tr>\n",
       "    <tr>\n",
       "      <th>2567</th>\n",
       "      <td>13612418</td>\n",
       "      <td>PCIex1</td>\n",
       "      <td>2</td>\n",
       "      <td>1328</td>\n",
       "    </tr>\n",
       "    <tr>\n",
       "      <th>2568</th>\n",
       "      <td>6732955</td>\n",
       "      <td>PCIex16</td>\n",
       "      <td>3</td>\n",
       "      <td>1337</td>\n",
       "    </tr>\n",
       "    <tr>\n",
       "      <th>2569</th>\n",
       "      <td>6732955</td>\n",
       "      <td>PCIex1</td>\n",
       "      <td>2</td>\n",
       "      <td>1337</td>\n",
       "    </tr>\n",
       "    <tr>\n",
       "      <th>2570</th>\n",
       "      <td>6145461</td>\n",
       "      <td>PCIex16</td>\n",
       "      <td>1</td>\n",
       "      <td>1338</td>\n",
       "    </tr>\n",
       "    <tr>\n",
       "      <th>2571</th>\n",
       "      <td>6145461</td>\n",
       "      <td>PCI</td>\n",
       "      <td>2</td>\n",
       "      <td>1338</td>\n",
       "    </tr>\n",
       "  </tbody>\n",
       "</table>\n",
       "<p>2572 rows × 4 columns</p>\n",
       "</div>"
      ],
      "text/plain": [
       "      product_seq pci_type  pci_number  mainboard_id\n",
       "0        20324882  PCIex16           1             1\n",
       "1        20324882   PCIex1           1             1\n",
       "2         7452181  PCIex16           1             2\n",
       "3         7452181   PCIex1           2             2\n",
       "4        16284179  PCIex16           1             3\n",
       "...           ...      ...         ...           ...\n",
       "2567     13612418   PCIex1           2          1328\n",
       "2568      6732955  PCIex16           3          1337\n",
       "2569      6732955   PCIex1           2          1337\n",
       "2570      6145461  PCIex16           1          1338\n",
       "2571      6145461      PCI           2          1338\n",
       "\n",
       "[2572 rows x 4 columns]"
      ]
     },
     "execution_count": 39,
     "metadata": {},
     "output_type": "execute_result"
    }
   ],
   "source": [
    "mpci"
   ]
  },
  {
   "cell_type": "code",
   "execution_count": 40,
   "id": "6671890c-2cc8-45cf-915d-38396c3958a8",
   "metadata": {
    "tags": []
   },
   "outputs": [],
   "source": [
    "today = time.strftime('%y%m%d')\n",
    "pd.DataFrame(mpci).to_csv(f'part_mainboard_pci{today}.csv', index=None)"
   ]
  },
  {
   "cell_type": "code",
   "execution_count": null,
   "id": "efc3c02f-9262-4fed-86e9-e26baf648585",
   "metadata": {},
   "outputs": [],
   "source": []
  }
 ],
 "metadata": {
  "kernelspec": {
   "display_name": "Python 3 (ipykernel)",
   "language": "python",
   "name": "python3"
  },
  "language_info": {
   "codemirror_mode": {
    "name": "ipython",
    "version": 3
   },
   "file_extension": ".py",
   "mimetype": "text/x-python",
   "name": "python",
   "nbconvert_exporter": "python",
   "pygments_lexer": "ipython3",
   "version": "3.11.4"
  }
 },
 "nbformat": 4,
 "nbformat_minor": 5
}
