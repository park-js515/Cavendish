{
 "cells": [
  {
   "cell_type": "code",
   "execution_count": 1,
   "metadata": {
    "tags": []
   },
   "outputs": [],
   "source": [
    "import pandas as pd\n",
    "import numpy as np\n",
    "import time\n",
    "import re"
   ]
  },
  {
   "cell_type": "code",
   "execution_count": 2,
   "metadata": {
    "tags": []
   },
   "outputs": [],
   "source": [
    "# gp = pd.read_csv('../gameprograms230920.csv')\n",
    "# gp['usage'] = '게임'"
   ]
  },
  {
   "cell_type": "code",
   "execution_count": 3,
   "metadata": {
    "tags": []
   },
   "outputs": [],
   "source": [
    "today = time.strftime('%y%m%d')\n",
    "# pd.DataFrame(gp).to_csv(f'../gameprograms{today}.csv', index=None)"
   ]
  },
  {
   "cell_type": "code",
   "execution_count": 165,
   "metadata": {
    "tags": []
   },
   "outputs": [],
   "source": [
    "gr_origin = pd.read_csv('../etcrequirements231002.csv')"
   ]
  },
  {
   "cell_type": "code",
   "execution_count": 166,
   "metadata": {
    "tags": []
   },
   "outputs": [
    {
     "data": {
      "text/html": [
       "<div>\n",
       "<style scoped>\n",
       "    .dataframe tbody tr th:only-of-type {\n",
       "        vertical-align: middle;\n",
       "    }\n",
       "\n",
       "    .dataframe tbody tr th {\n",
       "        vertical-align: top;\n",
       "    }\n",
       "\n",
       "    .dataframe thead th {\n",
       "        text-align: right;\n",
       "    }\n",
       "</style>\n",
       "<table border=\"1\" class=\"dataframe\">\n",
       "  <thead>\n",
       "    <tr style=\"text-align: right;\">\n",
       "      <th></th>\n",
       "      <th>name</th>\n",
       "      <th>cpu</th>\n",
       "      <th>ram</th>\n",
       "      <th>gpu</th>\n",
       "      <th>dx</th>\n",
       "      <th>os</th>\n",
       "      <th>sto</th>\n",
       "      <th>spec_class</th>\n",
       "    </tr>\n",
       "  </thead>\n",
       "  <tbody>\n",
       "    <tr>\n",
       "      <th>0</th>\n",
       "      <td>한컴오피스 2022</td>\n",
       "      <td>344</td>\n",
       "      <td>2.0</td>\n",
       "      <td>1153.0</td>\n",
       "      <td>DirectX 9</td>\n",
       "      <td>Windows 7 SP1 이상</td>\n",
       "      <td>2.000</td>\n",
       "      <td>1</td>\n",
       "    </tr>\n",
       "    <tr>\n",
       "      <th>1</th>\n",
       "      <td>Microsoft 365</td>\n",
       "      <td>364</td>\n",
       "      <td>4.0</td>\n",
       "      <td>1153.0</td>\n",
       "      <td>DirectX 9</td>\n",
       "      <td>Windows 11, Windows 10, Windows 8.1, Windows S...</td>\n",
       "      <td>4.000</td>\n",
       "      <td>1</td>\n",
       "    </tr>\n",
       "    <tr>\n",
       "      <th>2</th>\n",
       "      <td>Office 2019</td>\n",
       "      <td>364</td>\n",
       "      <td>4.0</td>\n",
       "      <td>1153.0</td>\n",
       "      <td>DirectX 9</td>\n",
       "      <td>Windows OS: Windows 11, Windows 10, Windows 10...</td>\n",
       "      <td>4.000</td>\n",
       "      <td>1</td>\n",
       "    </tr>\n",
       "    <tr>\n",
       "      <th>3</th>\n",
       "      <td>Office 2021</td>\n",
       "      <td>243</td>\n",
       "      <td>4.0</td>\n",
       "      <td>1153.0</td>\n",
       "      <td>DirectX 9</td>\n",
       "      <td>Windows 10 또는 Windows 11</td>\n",
       "      <td>4.000</td>\n",
       "      <td>1</td>\n",
       "    </tr>\n",
       "    <tr>\n",
       "      <th>4</th>\n",
       "      <td>4k 영상 시청</td>\n",
       "      <td>24</td>\n",
       "      <td>8.0</td>\n",
       "      <td>NaN</td>\n",
       "      <td>NaN</td>\n",
       "      <td>NaN</td>\n",
       "      <td>0.000</td>\n",
       "      <td>1</td>\n",
       "    </tr>\n",
       "    <tr>\n",
       "      <th>...</th>\n",
       "      <td>...</td>\n",
       "      <td>...</td>\n",
       "      <td>...</td>\n",
       "      <td>...</td>\n",
       "      <td>...</td>\n",
       "      <td>...</td>\n",
       "      <td>...</td>\n",
       "      <td>...</td>\n",
       "    </tr>\n",
       "    <tr>\n",
       "      <th>100</th>\n",
       "      <td>Avid Sibelius</td>\n",
       "      <td>65</td>\n",
       "      <td>4.0</td>\n",
       "      <td>NaN</td>\n",
       "      <td>NaN</td>\n",
       "      <td>Windows 10, 11</td>\n",
       "      <td>36.000</td>\n",
       "      <td>1</td>\n",
       "    </tr>\n",
       "    <tr>\n",
       "      <th>101</th>\n",
       "      <td>LMMS (Linux MultiMedia Studio)</td>\n",
       "      <td>364</td>\n",
       "      <td>1.0</td>\n",
       "      <td>NaN</td>\n",
       "      <td>NaN</td>\n",
       "      <td>Windows 7</td>\n",
       "      <td>0.100</td>\n",
       "      <td>0</td>\n",
       "    </tr>\n",
       "    <tr>\n",
       "      <th>102</th>\n",
       "      <td>LMMS (Linux MultiMedia Studio)</td>\n",
       "      <td>237</td>\n",
       "      <td>4.0</td>\n",
       "      <td>NaN</td>\n",
       "      <td>NaN</td>\n",
       "      <td>Windows 10</td>\n",
       "      <td>0.512</td>\n",
       "      <td>1</td>\n",
       "    </tr>\n",
       "    <tr>\n",
       "      <th>103</th>\n",
       "      <td>Cakewalk</td>\n",
       "      <td>236</td>\n",
       "      <td>4.0</td>\n",
       "      <td>200.0</td>\n",
       "      <td>NaN</td>\n",
       "      <td>Windows</td>\n",
       "      <td>0.200</td>\n",
       "      <td>0</td>\n",
       "    </tr>\n",
       "    <tr>\n",
       "      <th>104</th>\n",
       "      <td>Cakewalk</td>\n",
       "      <td>236</td>\n",
       "      <td>4.0</td>\n",
       "      <td>200.0</td>\n",
       "      <td>NaN</td>\n",
       "      <td>Windows</td>\n",
       "      <td>20.000</td>\n",
       "      <td>1</td>\n",
       "    </tr>\n",
       "  </tbody>\n",
       "</table>\n",
       "<p>105 rows × 8 columns</p>\n",
       "</div>"
      ],
      "text/plain": [
       "                               name  cpu  ram     gpu         dx  \\\n",
       "0                        한컴오피스 2022  344  2.0  1153.0  DirectX 9   \n",
       "1                     Microsoft 365  364  4.0  1153.0  DirectX 9   \n",
       "2                       Office 2019  364  4.0  1153.0  DirectX 9   \n",
       "3                       Office 2021  243  4.0  1153.0  DirectX 9   \n",
       "4                          4k 영상 시청   24  8.0     NaN        NaN   \n",
       "..                              ...  ...  ...     ...        ...   \n",
       "100                   Avid Sibelius   65  4.0     NaN        NaN   \n",
       "101  LMMS (Linux MultiMedia Studio)  364  1.0     NaN        NaN   \n",
       "102  LMMS (Linux MultiMedia Studio)  237  4.0     NaN        NaN   \n",
       "103                        Cakewalk  236  4.0   200.0        NaN   \n",
       "104                        Cakewalk  236  4.0   200.0        NaN   \n",
       "\n",
       "                                                    os     sto  spec_class  \n",
       "0                                     Windows 7 SP1 이상   2.000           1  \n",
       "1    Windows 11, Windows 10, Windows 8.1, Windows S...   4.000           1  \n",
       "2    Windows OS: Windows 11, Windows 10, Windows 10...   4.000           1  \n",
       "3                             Windows 10 또는 Windows 11   4.000           1  \n",
       "4                                                  NaN   0.000           1  \n",
       "..                                                 ...     ...         ...  \n",
       "100                                     Windows 10, 11  36.000           1  \n",
       "101                                          Windows 7   0.100           0  \n",
       "102                                         Windows 10   0.512           1  \n",
       "103                                            Windows   0.200           0  \n",
       "104                                            Windows  20.000           1  \n",
       "\n",
       "[105 rows x 8 columns]"
      ]
     },
     "execution_count": 166,
     "metadata": {},
     "output_type": "execute_result"
    }
   ],
   "source": [
    "gr_origin"
   ]
  },
  {
   "cell_type": "code",
   "execution_count": 22,
   "metadata": {
    "tags": []
   },
   "outputs": [],
   "source": [
    "after_map = {r'(GB|Gb|[a-z]).*': ''}"
   ]
  },
  {
   "cell_type": "code",
   "execution_count": 23,
   "metadata": {
    "tags": []
   },
   "outputs": [],
   "source": [
    "sto = gr_origin.sto.replace(regex=after_map)"
   ]
  },
  {
   "cell_type": "code",
   "execution_count": 24,
   "metadata": {
    "tags": []
   },
   "outputs": [
    {
     "data": {
      "text/plain": [
       "0          2\n",
       "1          4\n",
       "2          4\n",
       "3          4\n",
       "4        0MB\n",
       "       ...  \n",
       "100       36\n",
       "101    100MB\n",
       "102    512MB\n",
       "103    200MB\n",
       "104       20\n",
       "Name: sto, Length: 105, dtype: object"
      ]
     },
     "execution_count": 24,
     "metadata": {},
     "output_type": "execute_result"
    }
   ],
   "source": [
    "sto"
   ]
  },
  {
   "cell_type": "code",
   "execution_count": 25,
   "metadata": {
    "tags": []
   },
   "outputs": [
    {
     "name": "stdout",
     "output_type": "stream",
     "text": [
      "gr: 105/105 (99%)"
     ]
    }
   ],
   "source": [
    "sto_list = []\n",
    "for i in range(len(sto)):\n",
    "    if pd.isnull(sto.loc[i]):\n",
    "        sto_list.append(None)\n",
    "        continue\n",
    "    mbflag = 'MB' in sto.loc[i]\n",
    "    sto.loc[i] = re.sub('MB', '', sto.loc[i])\n",
    "    if mbflag: sto.loc[i] = str(float(sto.loc[i]) / 1000)\n",
    "    if sto.loc[i] == '': sto.loc[i] = None\n",
    "    sto_list.append(sto.loc[i])\n",
    "    percent = i / len(gr_origin.sto) * 100\n",
    "    print(f'\\rgr: {i+1}/{len(gr_origin.sto)} ({percent:.0f}%)', end='')"
   ]
  },
  {
   "cell_type": "code",
   "execution_count": 26,
   "metadata": {
    "tags": []
   },
   "outputs": [],
   "source": [
    "ram = gr_origin.ram.replace(regex=after_map)"
   ]
  },
  {
   "cell_type": "code",
   "execution_count": 129,
   "metadata": {
    "tags": []
   },
   "outputs": [],
   "source": [
    "gr = gr_origin\n",
    "gr['ram'] = ram\n",
    "gr['sto'] = sto_list"
   ]
  },
  {
   "cell_type": "code",
   "execution_count": 130,
   "metadata": {
    "tags": []
   },
   "outputs": [
    {
     "data": {
      "text/html": [
       "<div>\n",
       "<style scoped>\n",
       "    .dataframe tbody tr th:only-of-type {\n",
       "        vertical-align: middle;\n",
       "    }\n",
       "\n",
       "    .dataframe tbody tr th {\n",
       "        vertical-align: top;\n",
       "    }\n",
       "\n",
       "    .dataframe thead th {\n",
       "        text-align: right;\n",
       "    }\n",
       "</style>\n",
       "<table border=\"1\" class=\"dataframe\">\n",
       "  <thead>\n",
       "    <tr style=\"text-align: right;\">\n",
       "      <th></th>\n",
       "      <th>name</th>\n",
       "      <th>cpu</th>\n",
       "      <th>ram</th>\n",
       "      <th>gpu</th>\n",
       "      <th>dx</th>\n",
       "      <th>os</th>\n",
       "      <th>sto</th>\n",
       "      <th>spec_class</th>\n",
       "    </tr>\n",
       "  </thead>\n",
       "  <tbody>\n",
       "    <tr>\n",
       "      <th>0</th>\n",
       "      <td>한컴오피스 2022</td>\n",
       "      <td>209</td>\n",
       "      <td>2</td>\n",
       "      <td>1153.0</td>\n",
       "      <td>DirectX 9</td>\n",
       "      <td>Windows 7 SP1 이상</td>\n",
       "      <td>2</td>\n",
       "      <td>1</td>\n",
       "    </tr>\n",
       "    <tr>\n",
       "      <th>1</th>\n",
       "      <td>Microsoft 365</td>\n",
       "      <td>400</td>\n",
       "      <td>4</td>\n",
       "      <td>1153.0</td>\n",
       "      <td>DirectX 9</td>\n",
       "      <td>Windows 11, Windows 10, Windows 8.1, Windows S...</td>\n",
       "      <td>4</td>\n",
       "      <td>1</td>\n",
       "    </tr>\n",
       "    <tr>\n",
       "      <th>2</th>\n",
       "      <td>Office 2019</td>\n",
       "      <td>400</td>\n",
       "      <td>4</td>\n",
       "      <td>1153.0</td>\n",
       "      <td>DirectX 9</td>\n",
       "      <td>Windows OS: Windows 11, Windows 10, Windows 10...</td>\n",
       "      <td>4</td>\n",
       "      <td>1</td>\n",
       "    </tr>\n",
       "    <tr>\n",
       "      <th>3</th>\n",
       "      <td>Office 2021</td>\n",
       "      <td>400</td>\n",
       "      <td>4</td>\n",
       "      <td>1153.0</td>\n",
       "      <td>DirectX 9</td>\n",
       "      <td>Windows 10 또는 Windows 11</td>\n",
       "      <td>4</td>\n",
       "      <td>1</td>\n",
       "    </tr>\n",
       "    <tr>\n",
       "      <th>4</th>\n",
       "      <td>4k 영상 시청</td>\n",
       "      <td>253</td>\n",
       "      <td>8</td>\n",
       "      <td>NaN</td>\n",
       "      <td>NaN</td>\n",
       "      <td>NaN</td>\n",
       "      <td>0.0</td>\n",
       "      <td>1</td>\n",
       "    </tr>\n",
       "    <tr>\n",
       "      <th>...</th>\n",
       "      <td>...</td>\n",
       "      <td>...</td>\n",
       "      <td>...</td>\n",
       "      <td>...</td>\n",
       "      <td>...</td>\n",
       "      <td>...</td>\n",
       "      <td>...</td>\n",
       "      <td>...</td>\n",
       "    </tr>\n",
       "    <tr>\n",
       "      <th>100</th>\n",
       "      <td>Avid Sibelius</td>\n",
       "      <td>400</td>\n",
       "      <td>4</td>\n",
       "      <td>NaN</td>\n",
       "      <td>NaN</td>\n",
       "      <td>Windows 10, 11</td>\n",
       "      <td>36</td>\n",
       "      <td>1</td>\n",
       "    </tr>\n",
       "    <tr>\n",
       "      <th>101</th>\n",
       "      <td>LMMS (Linux MultiMedia Studio)</td>\n",
       "      <td>400</td>\n",
       "      <td>1</td>\n",
       "      <td>NaN</td>\n",
       "      <td>NaN</td>\n",
       "      <td>Windows 7</td>\n",
       "      <td>0.1</td>\n",
       "      <td>0</td>\n",
       "    </tr>\n",
       "    <tr>\n",
       "      <th>102</th>\n",
       "      <td>LMMS (Linux MultiMedia Studio)</td>\n",
       "      <td>361</td>\n",
       "      <td>4</td>\n",
       "      <td>NaN</td>\n",
       "      <td>NaN</td>\n",
       "      <td>Windows 10</td>\n",
       "      <td>0.512</td>\n",
       "      <td>1</td>\n",
       "    </tr>\n",
       "    <tr>\n",
       "      <th>103</th>\n",
       "      <td>Cakewalk</td>\n",
       "      <td>400</td>\n",
       "      <td>4</td>\n",
       "      <td>200.0</td>\n",
       "      <td>NaN</td>\n",
       "      <td>Windows</td>\n",
       "      <td>0.2</td>\n",
       "      <td>0</td>\n",
       "    </tr>\n",
       "    <tr>\n",
       "      <th>104</th>\n",
       "      <td>Cakewalk</td>\n",
       "      <td>400</td>\n",
       "      <td>4</td>\n",
       "      <td>200.0</td>\n",
       "      <td>NaN</td>\n",
       "      <td>Windows</td>\n",
       "      <td>20</td>\n",
       "      <td>1</td>\n",
       "    </tr>\n",
       "  </tbody>\n",
       "</table>\n",
       "<p>105 rows × 8 columns</p>\n",
       "</div>"
      ],
      "text/plain": [
       "                               name  cpu ram     gpu         dx  \\\n",
       "0                        한컴오피스 2022  209   2  1153.0  DirectX 9   \n",
       "1                     Microsoft 365  400   4  1153.0  DirectX 9   \n",
       "2                       Office 2019  400   4  1153.0  DirectX 9   \n",
       "3                       Office 2021  400   4  1153.0  DirectX 9   \n",
       "4                          4k 영상 시청  253   8     NaN        NaN   \n",
       "..                              ...  ...  ..     ...        ...   \n",
       "100                   Avid Sibelius  400   4     NaN        NaN   \n",
       "101  LMMS (Linux MultiMedia Studio)  400   1     NaN        NaN   \n",
       "102  LMMS (Linux MultiMedia Studio)  361   4     NaN        NaN   \n",
       "103                        Cakewalk  400   4   200.0        NaN   \n",
       "104                        Cakewalk  400   4   200.0        NaN   \n",
       "\n",
       "                                                    os    sto  spec_class  \n",
       "0                                     Windows 7 SP1 이상      2           1  \n",
       "1    Windows 11, Windows 10, Windows 8.1, Windows S...      4           1  \n",
       "2    Windows OS: Windows 11, Windows 10, Windows 10...      4           1  \n",
       "3                             Windows 10 또는 Windows 11      4           1  \n",
       "4                                                  NaN    0.0           1  \n",
       "..                                                 ...    ...         ...  \n",
       "100                                     Windows 10, 11     36           1  \n",
       "101                                          Windows 7    0.1           0  \n",
       "102                                         Windows 10  0.512           1  \n",
       "103                                            Windows    0.2           0  \n",
       "104                                            Windows     20           1  \n",
       "\n",
       "[105 rows x 8 columns]"
      ]
     },
     "execution_count": 130,
     "metadata": {},
     "output_type": "execute_result"
    }
   ],
   "source": [
    "gr"
   ]
  },
  {
   "cell_type": "code",
   "execution_count": 33,
   "metadata": {
    "tags": []
   },
   "outputs": [
    {
     "data": {
      "text/plain": [
       "0                                         2.4GHz 이상, 2코어\n",
       "1                                         1.6GHz 이상, 2코어\n",
       "2                                         1.6GHz 이상, 2코어\n",
       "3                                         1.1GHz 이상, 2코어\n",
       "4                                    인텔 코어 i3-12세대 12100\n",
       "                             ...                        \n",
       "100                                       Any modern CPU\n",
       "101    1.5 GHz x86, x86_64, or ARM-based CPU with 2 c...\n",
       "102     2 GHz x86, x86_64, or ARM-based CPU with 4 cores\n",
       "103                               Intel Core 2 Duo E8400\n",
       "104                               Intel Core 2 Duo E8400\n",
       "Name: cpu, Length: 105, dtype: object"
      ]
     },
     "execution_count": 33,
     "metadata": {},
     "output_type": "execute_result"
    }
   ],
   "source": [
    "gr_origin.cpu"
   ]
  },
  {
   "cell_type": "code",
   "execution_count": 34,
   "metadata": {
    "tags": []
   },
   "outputs": [],
   "source": [
    "## CPU 시작.................\n",
    "cfile = pd.read_csv('../part_cpu_wb230921.csv')\n",
    "cbfile = pd.read_csv('../benchmark_cpu.csv')\n",
    "cpu = cfile.name\n",
    "cpu_mc = cfile.memory_clock\n",
    "cpu_bench = cfile.bench_mark\n",
    "req_cpu = gr_origin.cpu"
   ]
  },
  {
   "cell_type": "code",
   "execution_count": 35,
   "metadata": {
    "tags": []
   },
   "outputs": [
    {
     "data": {
      "text/plain": [
       "0         AMD 라이젠5-5세대 7600\n",
       "1      AMD 라이젠7-5세대 7800X3D\n",
       "2       인텔 코어i5-13세대 13400F\n",
       "3        AMD 라이젠5-5세대 7500F\n",
       "4        AMD 라이젠5-5세대 7600X\n",
       "               ...         \n",
       "420             인텔 펜티엄 G870\n",
       "421             인텔 펜티엄 G850\n",
       "422             인텔 펜티엄 G840\n",
       "423            인텔 펜티엄 E2200\n",
       "424          인텔 코어2듀오 E6600\n",
       "Name: name, Length: 425, dtype: object"
      ]
     },
     "execution_count": 35,
     "metadata": {},
     "output_type": "execute_result"
    }
   ],
   "source": [
    "cpu"
   ]
  },
  {
   "cell_type": "code",
   "execution_count": 36,
   "metadata": {
    "tags": []
   },
   "outputs": [
    {
     "data": {
      "text/plain": [
       "0                                         2.4GHz 이상, 2코어\n",
       "1                                         1.6GHz 이상, 2코어\n",
       "2                                         1.6GHz 이상, 2코어\n",
       "3                                         1.1GHz 이상, 2코어\n",
       "4                                    인텔 코어 i3-12세대 12100\n",
       "                             ...                        \n",
       "100                                       Any modern CPU\n",
       "101    1.5 GHz x86, x86_64, or ARM-based CPU with 2 c...\n",
       "102     2 GHz x86, x86_64, or ARM-based CPU with 4 cores\n",
       "103                               Intel Core 2 Duo E8400\n",
       "104                               Intel Core 2 Duo E8400\n",
       "Name: cpu, Length: 105, dtype: object"
      ]
     },
     "execution_count": 36,
     "metadata": {},
     "output_type": "execute_result"
    }
   ],
   "source": [
    "req_cpu"
   ]
  },
  {
   "cell_type": "code",
   "execution_count": 103,
   "metadata": {
    "tags": []
   },
   "outputs": [],
   "source": [
    "cpu_regex_map = {'인텔': 'Intel ', '라이젠': 'Ryzen ', '코어2': 'Core2 ', '코어': 'Core ', '스레드리퍼': 'Threadripper ',\n",
    "          r'-\\d+세대': ' ', '펜티엄': 'Pentium ', '셀러론': 'Celeron ', '골드': 'Gold ',\n",
    "          'X-시리즈': ' ', '어벤져스 에디션': ' ', '제온': 'Xeon ', '브론즈': 'Beonze ',\n",
    "          '스케일러블': ' ', '실버': 'Silver ', '애슬론': 'Athlon', '듀오': ' Duo', '쿼드 ': ' Quad ',\n",
    "          '플래티넘': 'Platinum ', '\\+ ': ' ', 'V6': ' v6 ', 'V5': ' v5 ', 'V2': ' v2 ', 'V4': ' v4 ',\n",
    "                'V3': ' v3 '}\n",
    "req_regex_map = {'@': ' ', '\\+': '', r'( |\\-)?(G|g)(H|h)(Z|z).?': 'GHz ', r' ?(M|m)(H|h)(Z|z)': 'MHz ', ' ?(C|c)(O|o)(R|r)(E|e)\\.?': ' Core',\n",
    "                 'v2': ' v2', 'quad': 'Quad', 'duo': ' Duo ', '\\n': ' ', '\\r': ' ', ',': '.', '(>|<)': '', ' GMHz': 'GHz',\n",
    "                 '\\([^)]+\\)': '', 'P266': '266', '4\\*2600': '10400', 'Pentium': ' Pentium ', 'II+': '', 'DUAL': ' Dual ',\n",
    "                ' HHz': 'GHz', 'INTEL': 'Intel', '(®|™|\\(|\\)|\\~|～|\\\\xa0)': '', '2x2\\.': '2.', '\\[|\\}': '', ' III': ' 3', ' IV': ' 4',\n",
    "                ' gigahertz \\(GHz\\)': 'GHz', ' II': ' 2', r'이상\\.?': ''}\n",
    "bench_regex_map = {'@': ' ', '\\+': '', ' +GHz': 'GHz', ' +MHz': 'MHz'}\n",
    "none_regex_map = {r' +': ' ', '\\*': '', r'\\?': ' '}"
   ]
  },
  {
   "cell_type": "code",
   "execution_count": 104,
   "metadata": {
    "tags": []
   },
   "outputs": [],
   "source": [
    "cpu_reg = cpu.replace(regex=cpu_regex_map).replace(regex=none_regex_map)\n",
    "req_reg = req_cpu.replace(regex=req_regex_map).replace(regex=none_regex_map)\n",
    "ben_reg = cbfile.replace(regex=bench_regex_map).replace(regex=none_regex_map)"
   ]
  },
  {
   "cell_type": "code",
   "execution_count": 105,
   "metadata": {
    "tags": []
   },
   "outputs": [],
   "source": [
    "c_names = cpu_reg.str.split(r' |-')\n",
    "reqc_names = req_reg.str.split(r' |-|/')\n",
    "bench_names = ben_reg.name.str.split(r' |-')"
   ]
  },
  {
   "cell_type": "code",
   "execution_count": 106,
   "metadata": {
    "tags": []
   },
   "outputs": [
    {
     "data": {
      "text/plain": [
       "0       126045\n",
       "1       109858\n",
       "2       104895\n",
       "3        98285\n",
       "4        98215\n",
       "         ...  \n",
       "4412        84\n",
       "4413        83\n",
       "4414        81\n",
       "4415        80\n",
       "4416        77\n",
       "Name: count, Length: 4417, dtype: int64"
      ]
     },
     "execution_count": 106,
     "metadata": {},
     "output_type": "execute_result"
    }
   ],
   "source": [
    "cbfile['count']"
   ]
  },
  {
   "cell_type": "code",
   "execution_count": 107,
   "metadata": {
    "tags": []
   },
   "outputs": [
    {
     "data": {
      "text/plain": [
       "0                                          [2.4GHz, 2코어]\n",
       "1                                          [1.6GHz, 2코어]\n",
       "2                                          [1.6GHz, 2코어]\n",
       "3                                          [1.1GHz, 2코어]\n",
       "4                              [인텔, 코어, i3, 12세대, 12100]\n",
       "                             ...                        \n",
       "100                                   [Any, modern, CPU]\n",
       "101    [1.5GHz, x86., x86_64., or, ARM, based, CPU, w...\n",
       "102    [2GHz, x86., x86_64., or, ARM, based, CPU, wit...\n",
       "103                         [Intel, Core, 2, Duo, E8400]\n",
       "104                         [Intel, Core, 2, Duo, E8400]\n",
       "Name: cpu, Length: 105, dtype: object"
      ]
     },
     "execution_count": 107,
     "metadata": {},
     "output_type": "execute_result"
    }
   ],
   "source": [
    "reqc_names"
   ]
  },
  {
   "cell_type": "code",
   "execution_count": 108,
   "metadata": {
    "tags": []
   },
   "outputs": [
    {
     "data": {
      "text/plain": [
       "0                             [AMD, EPYC, 9654]\n",
       "1                            [AMD, EPYC, 9554P]\n",
       "2                            [AMD, EPYC, 9474F]\n",
       "3                      [Intel, Xeon, w9, 3495X]\n",
       "4       [AMD, Ryzen, Threadripper, PRO, 5995WX]\n",
       "                         ...                   \n",
       "4412               [Intel, Pentium, 4, 1.60GHz]\n",
       "4413               [Intel, Pentium, 4, 1400MHz]\n",
       "4414               [Intel, Pentium, 4, 1500MHz]\n",
       "4415                       [VIA, Eden, 1000MHz]\n",
       "4416               [Intel, Pentium, 4, 1300MHz]\n",
       "Name: name, Length: 4417, dtype: object"
      ]
     },
     "execution_count": 108,
     "metadata": {},
     "output_type": "execute_result"
    }
   ],
   "source": [
    "bench_names"
   ]
  },
  {
   "cell_type": "code",
   "execution_count": 109,
   "metadata": {
    "tags": []
   },
   "outputs": [
    {
     "data": {
      "text/plain": [
       "0      27651\n",
       "1      34740\n",
       "2      25588\n",
       "3      25578\n",
       "4      28830\n",
       "       ...  \n",
       "420     1523\n",
       "421     1412\n",
       "422     1238\n",
       "423      712\n",
       "424      937\n",
       "Name: bench_mark, Length: 425, dtype: int64"
      ]
     },
     "execution_count": 109,
     "metadata": {},
     "output_type": "execute_result"
    }
   ],
   "source": [
    "cpu_bench"
   ]
  },
  {
   "cell_type": "code",
   "execution_count": 110,
   "metadata": {
    "tags": []
   },
   "outputs": [],
   "source": [
    "cmc = cpu_mc.mul(0.001)\n",
    "\n",
    "for cn, cm in zip(c_names, cmc):\n",
    "    if pd.isnull(cm): cn.append(None)\n",
    "    else: cn.append(f'{cm:.02f}GHz')"
   ]
  },
  {
   "cell_type": "code",
   "execution_count": 111,
   "metadata": {
    "tags": []
   },
   "outputs": [
    {
     "data": {
      "text/plain": [
       "0           [AMD, Ryzen, 5, 7600, 5.20GHz]\n",
       "1        [AMD, Ryzen, 7, 7800X3D, 5.20GHz]\n",
       "2       [Intel, Core, i5, 13400F, 4.80GHz]\n",
       "3          [AMD, Ryzen, 5, 7500F, 5.20GHz]\n",
       "4          [AMD, Ryzen, 5, 7600X, 5.20GHz]\n",
       "                      ...                 \n",
       "420           [Intel, Pentium, G870, None]\n",
       "421           [Intel, Pentium, G850, None]\n",
       "422           [Intel, Pentium, G840, None]\n",
       "423       [Intel, Pentium, E2200, 0.80GHz]\n",
       "424    [Intel, Core2, Duo, E6600, 1.07GHz]\n",
       "Name: name, Length: 425, dtype: object"
      ]
     },
     "execution_count": 111,
     "metadata": {},
     "output_type": "execute_result"
    }
   ],
   "source": [
    "c_names"
   ]
  },
  {
   "cell_type": "code",
   "execution_count": 113,
   "metadata": {
    "tags": []
   },
   "outputs": [],
   "source": [
    "for j in range(len(reqc_names)):\n",
    "    lst = reqc_names[j]\n",
    "    if type(lst) == float: continue\n",
    "    for i in range(len(lst)):\n",
    "        if 'MHz' in lst[i]:\n",
    "            try:\n",
    "                val = float(lst[i].replace('MHz', '')) * 0.001\n",
    "                lst[i] = f'{val:.02f}GHz'\n",
    "            except:\n",
    "                print(lst)\n",
    "        if 'GHz' in lst[i]:\n",
    "            try:\n",
    "                val = float(lst[i].replace('GHz', ''))\n",
    "                lst[i] = f'{val:.02f}GHz'\n",
    "            except:\n",
    "                print(j, lst)"
   ]
  },
  {
   "cell_type": "code",
   "execution_count": 115,
   "metadata": {
    "tags": []
   },
   "outputs": [
    {
     "data": {
      "text/plain": [
       "0                                         [2.40GHz, 2코어]\n",
       "1                                         [1.60GHz, 2코어]\n",
       "2                                         [1.60GHz, 2코어]\n",
       "3                                         [1.10GHz, 2코어]\n",
       "4                              [인텔, 코어, i3, 12세대, 12100]\n",
       "                             ...                        \n",
       "100                                   [Any, modern, CPU]\n",
       "101    [1.50GHz, x86., x86_64., or, ARM, based, CPU, ...\n",
       "102    [2.00GHz, x86., x86_64., or, ARM, based, CPU, ...\n",
       "103                         [Intel, Core, 2, Duo, E8400]\n",
       "104                         [Intel, Core, 2, Duo, E8400]\n",
       "Name: cpu, Length: 105, dtype: object"
      ]
     },
     "execution_count": 115,
     "metadata": {},
     "output_type": "execute_result"
    }
   ],
   "source": [
    "reqc_names"
   ]
  },
  {
   "cell_type": "code",
   "execution_count": 116,
   "metadata": {
    "tags": []
   },
   "outputs": [],
   "source": [
    "for j in range(len(bench_names)):\n",
    "    lst = bench_names[j]\n",
    "    for i in range(len(lst)):\n",
    "        if 'MHz' in lst[i]:\n",
    "            try:\n",
    "                cval = float(lst[i].replace('MHz', '')) * 0.001\n",
    "                val = re.sub(r'(\\.000|0+)', '', f'{cval:.02f}')\n",
    "                lst[i] = f'{val}GHz'\n",
    "            except:\n",
    "                print(lst)\n",
    "        if 'GHz' in lst[i]:\n",
    "            try:\n",
    "                val = float(lst[i].replace('GHz', ''))\n",
    "                lst[i] = f'{val:.02f}GHz'\n",
    "            except:\n",
    "                print(j, lst)"
   ]
  },
  {
   "cell_type": "code",
   "execution_count": 117,
   "metadata": {
    "tags": []
   },
   "outputs": [
    {
     "data": {
      "text/plain": [
       "0                             [AMD, EPYC, 9654]\n",
       "1                            [AMD, EPYC, 9554P]\n",
       "2                            [AMD, EPYC, 9474F]\n",
       "3                      [Intel, Xeon, w9, 3495X]\n",
       "4       [AMD, Ryzen, Threadripper, PRO, 5995WX]\n",
       "                         ...                   \n",
       "4412               [Intel, Pentium, 4, 1.60GHz]\n",
       "4413               [Intel, Pentium, 4, 1.40GHz]\n",
       "4414               [Intel, Pentium, 4, 1.50GHz]\n",
       "4415                       [VIA, Eden, 1.00GHz]\n",
       "4416               [Intel, Pentium, 4, 1.30GHz]\n",
       "Name: name, Length: 4417, dtype: object"
      ]
     },
     "execution_count": 117,
     "metadata": {},
     "output_type": "execute_result"
    }
   ],
   "source": [
    "bench_names"
   ]
  },
  {
   "cell_type": "code",
   "execution_count": 118,
   "metadata": {
    "tags": []
   },
   "outputs": [
    {
     "data": {
      "text/plain": [
       "0      27651\n",
       "1      34740\n",
       "2      25588\n",
       "3      25578\n",
       "4      28830\n",
       "       ...  \n",
       "420     1523\n",
       "421     1412\n",
       "422     1238\n",
       "423      712\n",
       "424      937\n",
       "Name: bench_mark, Length: 425, dtype: int64"
      ]
     },
     "execution_count": 118,
     "metadata": {},
     "output_type": "execute_result"
    }
   ],
   "source": [
    "cpu_bench"
   ]
  },
  {
   "cell_type": "code",
   "execution_count": 133,
   "metadata": {
    "tags": []
   },
   "outputs": [
    {
     "name": "stdout",
     "output_type": "stream",
     "text": [
      "cpu reqs: 105/105 (99%)\n",
      "Done!\n",
      "\n",
      "걸린 시간: 9.38 sec\n"
     ]
    }
   ],
   "source": [
    "start = time.time()\n",
    "bench_value_list = [0] * len(reqc_names)\n",
    "for i in range(len(reqc_names)):\n",
    "    rn = reqc_names.loc[i]\n",
    "    if type(rn) == float:\n",
    "        bench_value_list[i] = 400\n",
    "        continue\n",
    "    max_val = 0\n",
    "    min_bench = np.inf\n",
    "    for j in range(len(bench_names)):\n",
    "        bn = bench_names.loc[j]\n",
    "        res = len(set(rn) & set(bn))\n",
    "        val = res / float(len(set(rn) | set(bn))) * 100\n",
    "        bench = cbfile.loc[j, 'count']\n",
    "        if val >= max_val and min_bench > bench:\n",
    "            max_val = val\n",
    "            min_bench = bench\n",
    "            # if i == 14:\n",
    "            #     print(j, val, bench, bench_names.loc[j])\n",
    "    min_idx = 0\n",
    "    for k in range(len(cpu_bench)):\n",
    "        if cpu_bench.loc[k] >= min_bench and cpu_bench.loc[min_idx] > cpu_bench.loc[k]:\n",
    "            min_idx = k\n",
    "            # if i == 14: print(f'K: {k}, {cpu_bench.loc[k]}, {cpu.loc[k]}')\n",
    "    bench_value_list[i] = min_idx + 1\n",
    "    # if i == 14: break\n",
    "    percent = i / len(reqc_names) * 100\n",
    "    print(f'\\rcpu reqs: {i+1}/{len(reqc_names)} ({percent:.0f}%)', end='')\n",
    "    \n",
    "print('\\nDone!')\n",
    "end = time.time()\n",
    "print(f'\\n걸린 시간: {end-start:.2f} sec')"
   ]
  },
  {
   "cell_type": "code",
   "execution_count": 134,
   "metadata": {
    "tags": []
   },
   "outputs": [
    {
     "data": {
      "text/plain": [
       "0           [AMD, Ryzen, 5, 7600, 5.20GHz]\n",
       "1        [AMD, Ryzen, 7, 7800X3D, 5.20GHz]\n",
       "2       [Intel, Core, i5, 13400F, 4.80GHz]\n",
       "3          [AMD, Ryzen, 5, 7500F, 5.20GHz]\n",
       "4          [AMD, Ryzen, 5, 7600X, 5.20GHz]\n",
       "                      ...                 \n",
       "420           [Intel, Pentium, G870, None]\n",
       "421           [Intel, Pentium, G850, None]\n",
       "422           [Intel, Pentium, G840, None]\n",
       "423       [Intel, Pentium, E2200, 0.80GHz]\n",
       "424    [Intel, Core2, Duo, E6600, 1.07GHz]\n",
       "Name: name, Length: 425, dtype: object"
      ]
     },
     "execution_count": 134,
     "metadata": {},
     "output_type": "execute_result"
    }
   ],
   "source": [
    "c_names"
   ]
  },
  {
   "cell_type": "code",
   "execution_count": 135,
   "metadata": {
    "tags": []
   },
   "outputs": [
    {
     "name": "stdout",
     "output_type": "stream",
     "text": [
      "cpu: 105/105 (99%)"
     ]
    }
   ],
   "source": [
    "id_list = [None] * len(reqc_names)\n",
    "for i in range(len(reqc_names)):\n",
    "    rn = reqc_names.loc[i]\n",
    "    if type(rn) == float:\n",
    "        continue\n",
    "    max_val = 0\n",
    "    min_bench = np.inf\n",
    "    for j in range(len(c_names)):\n",
    "        cn = c_names.loc[j]\n",
    "        res = len(set(rn) & set(cn))\n",
    "        val = res / float(len(set(rn) | set(cn))) * 100\n",
    "        if val >= max_val and min_bench > cpu_bench.loc[j]:\n",
    "            max_val = val\n",
    "            min_bench = cpu_bench.loc[j]\n",
    "            id_list[i] = f'{j+1}'\n",
    "    percent = i / len(reqc_names) * 100\n",
    "    print(f'\\rcpu: {i+1}/{len(reqc_names)} ({percent:.0f}%)', end='')"
   ]
  },
  {
   "cell_type": "code",
   "execution_count": 136,
   "metadata": {
    "tags": []
   },
   "outputs": [],
   "source": [
    "## 1. 게임 사양 <-> 벤치 이름 매칭\n",
    "## 2. 벤치 값 이상이면서 가장 작은 부품 매칭"
   ]
  },
  {
   "cell_type": "code",
   "execution_count": 137,
   "metadata": {
    "tags": []
   },
   "outputs": [],
   "source": [
    "gr = gr_origin"
   ]
  },
  {
   "cell_type": "code",
   "execution_count": 138,
   "metadata": {
    "tags": []
   },
   "outputs": [],
   "source": [
    "gr['cpu'] = bench_value_list"
   ]
  },
  {
   "cell_type": "code",
   "execution_count": 139,
   "metadata": {
    "tags": []
   },
   "outputs": [
    {
     "data": {
      "text/html": [
       "<div>\n",
       "<style scoped>\n",
       "    .dataframe tbody tr th:only-of-type {\n",
       "        vertical-align: middle;\n",
       "    }\n",
       "\n",
       "    .dataframe tbody tr th {\n",
       "        vertical-align: top;\n",
       "    }\n",
       "\n",
       "    .dataframe thead th {\n",
       "        text-align: right;\n",
       "    }\n",
       "</style>\n",
       "<table border=\"1\" class=\"dataframe\">\n",
       "  <thead>\n",
       "    <tr style=\"text-align: right;\">\n",
       "      <th></th>\n",
       "      <th>name</th>\n",
       "      <th>cpu</th>\n",
       "      <th>ram</th>\n",
       "      <th>gpu</th>\n",
       "      <th>dx</th>\n",
       "      <th>os</th>\n",
       "      <th>sto</th>\n",
       "      <th>spec_class</th>\n",
       "    </tr>\n",
       "  </thead>\n",
       "  <tbody>\n",
       "    <tr>\n",
       "      <th>0</th>\n",
       "      <td>한컴오피스 2022</td>\n",
       "      <td>209</td>\n",
       "      <td>2</td>\n",
       "      <td>1153.0</td>\n",
       "      <td>DirectX 9</td>\n",
       "      <td>Windows 7 SP1 이상</td>\n",
       "      <td>2</td>\n",
       "      <td>1</td>\n",
       "    </tr>\n",
       "    <tr>\n",
       "      <th>1</th>\n",
       "      <td>Microsoft 365</td>\n",
       "      <td>400</td>\n",
       "      <td>4</td>\n",
       "      <td>1153.0</td>\n",
       "      <td>DirectX 9</td>\n",
       "      <td>Windows 11, Windows 10, Windows 8.1, Windows S...</td>\n",
       "      <td>4</td>\n",
       "      <td>1</td>\n",
       "    </tr>\n",
       "    <tr>\n",
       "      <th>2</th>\n",
       "      <td>Office 2019</td>\n",
       "      <td>400</td>\n",
       "      <td>4</td>\n",
       "      <td>1153.0</td>\n",
       "      <td>DirectX 9</td>\n",
       "      <td>Windows OS: Windows 11, Windows 10, Windows 10...</td>\n",
       "      <td>4</td>\n",
       "      <td>1</td>\n",
       "    </tr>\n",
       "    <tr>\n",
       "      <th>3</th>\n",
       "      <td>Office 2021</td>\n",
       "      <td>400</td>\n",
       "      <td>4</td>\n",
       "      <td>1153.0</td>\n",
       "      <td>DirectX 9</td>\n",
       "      <td>Windows 10 또는 Windows 11</td>\n",
       "      <td>4</td>\n",
       "      <td>1</td>\n",
       "    </tr>\n",
       "    <tr>\n",
       "      <th>4</th>\n",
       "      <td>4k 영상 시청</td>\n",
       "      <td>24</td>\n",
       "      <td>8</td>\n",
       "      <td>NaN</td>\n",
       "      <td>NaN</td>\n",
       "      <td>NaN</td>\n",
       "      <td>0.0</td>\n",
       "      <td>1</td>\n",
       "    </tr>\n",
       "    <tr>\n",
       "      <th>...</th>\n",
       "      <td>...</td>\n",
       "      <td>...</td>\n",
       "      <td>...</td>\n",
       "      <td>...</td>\n",
       "      <td>...</td>\n",
       "      <td>...</td>\n",
       "      <td>...</td>\n",
       "      <td>...</td>\n",
       "    </tr>\n",
       "    <tr>\n",
       "      <th>100</th>\n",
       "      <td>Avid Sibelius</td>\n",
       "      <td>400</td>\n",
       "      <td>4</td>\n",
       "      <td>NaN</td>\n",
       "      <td>NaN</td>\n",
       "      <td>Windows 10, 11</td>\n",
       "      <td>36</td>\n",
       "      <td>1</td>\n",
       "    </tr>\n",
       "    <tr>\n",
       "      <th>101</th>\n",
       "      <td>LMMS (Linux MultiMedia Studio)</td>\n",
       "      <td>400</td>\n",
       "      <td>1</td>\n",
       "      <td>NaN</td>\n",
       "      <td>NaN</td>\n",
       "      <td>Windows 7</td>\n",
       "      <td>0.1</td>\n",
       "      <td>0</td>\n",
       "    </tr>\n",
       "    <tr>\n",
       "      <th>102</th>\n",
       "      <td>LMMS (Linux MultiMedia Studio)</td>\n",
       "      <td>361</td>\n",
       "      <td>4</td>\n",
       "      <td>NaN</td>\n",
       "      <td>NaN</td>\n",
       "      <td>Windows 10</td>\n",
       "      <td>0.512</td>\n",
       "      <td>1</td>\n",
       "    </tr>\n",
       "    <tr>\n",
       "      <th>103</th>\n",
       "      <td>Cakewalk</td>\n",
       "      <td>400</td>\n",
       "      <td>4</td>\n",
       "      <td>200.0</td>\n",
       "      <td>NaN</td>\n",
       "      <td>Windows</td>\n",
       "      <td>0.2</td>\n",
       "      <td>0</td>\n",
       "    </tr>\n",
       "    <tr>\n",
       "      <th>104</th>\n",
       "      <td>Cakewalk</td>\n",
       "      <td>400</td>\n",
       "      <td>4</td>\n",
       "      <td>200.0</td>\n",
       "      <td>NaN</td>\n",
       "      <td>Windows</td>\n",
       "      <td>20</td>\n",
       "      <td>1</td>\n",
       "    </tr>\n",
       "  </tbody>\n",
       "</table>\n",
       "<p>105 rows × 8 columns</p>\n",
       "</div>"
      ],
      "text/plain": [
       "                               name  cpu ram     gpu         dx  \\\n",
       "0                        한컴오피스 2022  209   2  1153.0  DirectX 9   \n",
       "1                     Microsoft 365  400   4  1153.0  DirectX 9   \n",
       "2                       Office 2019  400   4  1153.0  DirectX 9   \n",
       "3                       Office 2021  400   4  1153.0  DirectX 9   \n",
       "4                          4k 영상 시청   24   8     NaN        NaN   \n",
       "..                              ...  ...  ..     ...        ...   \n",
       "100                   Avid Sibelius  400   4     NaN        NaN   \n",
       "101  LMMS (Linux MultiMedia Studio)  400   1     NaN        NaN   \n",
       "102  LMMS (Linux MultiMedia Studio)  361   4     NaN        NaN   \n",
       "103                        Cakewalk  400   4   200.0        NaN   \n",
       "104                        Cakewalk  400   4   200.0        NaN   \n",
       "\n",
       "                                                    os    sto  spec_class  \n",
       "0                                     Windows 7 SP1 이상      2           1  \n",
       "1    Windows 11, Windows 10, Windows 8.1, Windows S...      4           1  \n",
       "2    Windows OS: Windows 11, Windows 10, Windows 10...      4           1  \n",
       "3                             Windows 10 또는 Windows 11      4           1  \n",
       "4                                                  NaN    0.0           1  \n",
       "..                                                 ...    ...         ...  \n",
       "100                                     Windows 10, 11     36           1  \n",
       "101                                          Windows 7    0.1           0  \n",
       "102                                         Windows 10  0.512           1  \n",
       "103                                            Windows    0.2           0  \n",
       "104                                            Windows     20           1  \n",
       "\n",
       "[105 rows x 8 columns]"
      ]
     },
     "execution_count": 139,
     "metadata": {},
     "output_type": "execute_result"
    }
   ],
   "source": [
    "gr"
   ]
  },
  {
   "cell_type": "code",
   "execution_count": 144,
   "metadata": {
    "tags": []
   },
   "outputs": [
    {
     "data": {
      "text/plain": [
       "['Intel', 'Core', 'i3', '4160', None]"
      ]
     },
     "execution_count": 144,
     "metadata": {},
     "output_type": "execute_result"
    }
   ],
   "source": [
    "c_names[bench_value_list[0]-1]"
   ]
  },
  {
   "cell_type": "code",
   "execution_count": 145,
   "metadata": {
    "tags": []
   },
   "outputs": [],
   "source": [
    "a = '123 46'"
   ]
  },
  {
   "cell_type": "code",
   "execution_count": 149,
   "metadata": {
    "tags": []
   },
   "outputs": [
    {
     "data": {
      "text/plain": [
       "[123, 46]"
      ]
     },
     "execution_count": 149,
     "metadata": {},
     "output_type": "execute_result"
    }
   ],
   "source": [
    "list(map(int, a.split(' ')))"
   ]
  },
  {
   "cell_type": "code",
   "execution_count": 156,
   "metadata": {
    "tags": []
   },
   "outputs": [],
   "source": [
    "bench_value_list[103] = 236\n",
    "bench_value_list[104] = 236\n",
    "bench_value_list[18] = 185\n",
    "bench_value_list[28] = 155\n",
    "bench_value_list[35] = 38\n",
    "bench_value_list[37] = 21\n",
    "bench_value_list[38] = 19\n",
    "bench_value_list[39] = 10\n",
    "bench_value_list[49] = 227\n",
    "bench_value_list[81] = 209\n",
    "target = ['1 2 8 12 51 101', '3 46 70', '11', '0 60 62 68 85', '21 33 61 63 69 80', '22 23 40 64 65 79 86 92',\n",
    "          '9 13 45 52 89 99 100', '17 42 58 59 71 77 78 87 90 96 97 98', '10 14 24 56 102', '57', '25 27 83 94',\n",
    "          '26 29 30 84', '31 32 66 72 73 82 88 91 93', '67 75 95']\n",
    "min_cpus = [364, 243, 374, 344, 50, 299, 65, 63, 237, 73, 239, 201, 214, 199]\n",
    "for t, mc in zip(target, min_cpus):\n",
    "    ts = list(map(int, t.split(' ')))\n",
    "    for tsv in ts:\n",
    "        bench_value_list[tsv] = mc"
   ]
  },
  {
   "cell_type": "code",
   "execution_count": 159,
   "metadata": {
    "tags": []
   },
   "outputs": [],
   "source": [
    "gr['cpu'] = bench_value_list"
   ]
  },
  {
   "cell_type": "code",
   "execution_count": 157,
   "metadata": {
    "tags": []
   },
   "outputs": [
    {
     "name": "stdout",
     "output_type": "stream",
     "text": [
      ":    0:2.4GHz 이상, 2코어                     \n",
      ": 2322::인텔 셀러론 G3950:\n",
      ":10063::Intel Core i3 10320 2.67GHz:\n",
      "\n",
      ":    1:1.6GHz 이상, 2코어                     \n",
      ":  561::인텔 펜티엄 E2140:\n",
      ": 4695::Intel Xeon E5 2603 v4 1.87GHz:\n",
      "\n",
      ":    2:1.6GHz 이상, 2코어                     \n",
      ":  561::인텔 펜티엄 E2140:\n",
      ": 4695::Intel Xeon E5 2603 v4 1.87GHz:\n",
      "\n",
      ":    3:1.1GHz 이상, 2코어                     \n",
      ":  561::인텔 펜티엄 E2140:\n",
      ": 1247::Intel Core2 Duo E8500 1.33GHz:\n",
      "\n",
      ":    4:인텔 코어 i3-12세대 12100                \n",
      ":13852::인텔 코어i3-12세대 12100:\n",
      ":13852::Intel Core i3 12100 4.80GHz:\n",
      "\n",
      ":    5:인텔 코어 i3-12세대 12100                \n",
      ":13852::인텔 코어i3-12세대 12100:\n",
      ":13852::Intel Core i3 12100 4.80GHz:\n",
      "\n",
      ":    6:AMD 라이젠3 PRO 4350G (르누아르)          \n",
      ":10961::AMD 라이젠3 PRO 4350G:\n",
      ":10961::AMD Ryzen 3 PRO 4350G 3.20GHz:\n",
      "\n",
      ":    7:AMD 라이젠3 PRO 4350G (르누아르)          \n",
      ":10961::AMD 라이젠3 PRO 4350G:\n",
      ":10961::AMD Ryzen 3 PRO 4350G 3.20GHz:\n",
      "\n",
      ":    8:1.6GHz 이상, 2코어                     \n",
      ":  561::인텔 펜티엄 E2140:\n",
      ": 4695::Intel Xeon E5 2603 v4 1.87GHz:\n",
      "\n",
      ":    9:Any Modern CPU                     \n",
      ":  561::인텔 펜티엄 E2140:\n",
      ": 4257::Intel Pentium Gold G6405 2.67GHz:\n",
      "\n",
      ":   10:쿼드코어                               \n",
      ":  561::인텔 펜티엄 E2140:\n",
      ": 5599::Intel Core i5 4690 H81 패키지:\n",
      "\n",
      ":   11:0.8GHz                             \n",
      ":  561::인텔 펜티엄 E2140:\n",
      ": 1072::Intel Pentium E5700 0.80GHz:\n",
      "\n",
      ":   12:1.5GHz                             \n",
      ":  561::인텔 펜티엄 E2140:\n",
      ": 4695::Intel Xeon E5 2603 v4 1.87GHz:\n",
      "\n",
      ":   13:Any Modern CPU                     \n",
      ":  561::인텔 펜티엄 E2140:\n",
      ": 4257::Intel Pentium Gold G6405 2.67GHz:\n",
      "\n",
      ":   14:쿼드코어                               \n",
      ":  561::인텔 펜티엄 E2140:\n",
      ": 5599::Intel Core i5 4690 H81 패키지:\n",
      "\n",
      ":   15:2세대 Intel Core                     \n",
      ": 1495::인텔 코어i3-1세대 530:\n",
      ": 2766::Intel Pentium G4500 2.13GHz:\n",
      "\n",
      ":   16:최신 Intel Core 프로세서                 \n",
      ": 1495::인텔 코어i3-1세대 530:\n",
      ": 2766::Intel Pentium G4500 2.13GHz:\n",
      "\n",
      ":   17:Any Modern CPU with 2 or more cores\n",
      ":  561::인텔 펜티엄 E2140:\n",
      ": 2796::Intel Celeron G5905 2.67GHz:\n",
      "\n",
      ":   18:Pentium 4                          \n",
      ":  561::인텔 펜티엄 E2140:\n",
      ": 2580::Intel Pentium G4400 2.13GHz:\n",
      "\n",
      ":   19:A compatible 64-bit x86/AMD64 CPU launched in 2011 or later\n",
      ":  561::인텔 펜티엄 E2140:\n",
      ":  561::Intel Pentium E2140 0.80GHz:\n",
      "\n",
      ":   20:A compatible 64-bit x86/AMD64 CPU launched in 2011 or later\n",
      ":  561::인텔 펜티엄 E2140:\n",
      ":  561::Intel Pentium E2140 0.80GHz:\n",
      "\n",
      ":   21:Intel Core or Xeon 3GHz (or Dual Core 2GHz) or equal AMD CPU\n",
      ":  967::AMD A4 3300:\n",
      ":16004::AMD Ryzen 5 4600G 3.20GHz:\n",
      "\n",
      ":   22:Intel or AMD or compatible processors, 2 GHz or above\n",
      ":  967::AMD A4 3300:\n",
      ": 3287::AMD 페넘II X6 1055T 2.00GHz:\n",
      "\n",
      ":   23:Intel or AMD or compatible processors, 2 GHz or above\n",
      ":  967::AMD A4 3300:\n",
      ": 3287::AMD 페넘II X6 1055T 2.00GHz:\n",
      "\n",
      ":   24:Intel or AMD Quad-Core Processor   \n",
      ": 1495::인텔 코어i3-1세대 530:\n",
      ": 5599::Intel Core i5 4690 H81 패키지:\n",
      "\n",
      ":   25:An Intel 6thGen or newer CPU - or an AMD Ryzen 1000 series or newer CPU\n",
      ": 6768::AMD 라이젠3-1세대 2200G:\n",
      ": 5169::Intel Core i5 6400 2.13GHz:\n",
      "\n",
      ":   26:An Intel 7thGen or newer CPU with Quick Sync - or an AMD Ryzen 3000 series / Threadripper 2000 or newer CPU\n",
      ": 6768::AMD 라이젠3-1세대 2200G:\n",
      ": 5502::Intel Core i5 7400 2.40GHz:\n",
      "\n",
      ":   27:6th Generation Intel Core i5 (or AMD equivalent) or better with 2.5 Ghz and 4 Cores\n",
      ": 2238::인텔 코어i5-1세대 650:\n",
      ": 5169::Intel Core i5 6400 2.13GHz:\n",
      "\n",
      ":   28:7th Generation Intel Core i7 (or AMD equivalent) or better with 3.0 Ghz and 8 Cores\n",
      ": 1495::인텔 코어i3-1세대 530:\n",
      ": 8657::Intel Core i7 7700 2.40GHz:\n",
      "\n",
      ":   29:intel core i7 or AMD Ryzen 7 CPU.  \n",
      ": 2972::인텔 코어i7-1세대 860:\n",
      ": 5502::Intel Core i5 7400 2.40GHz:\n",
      "\n",
      ":   30:intel core i7 or AMD Ryzen 7 CPU.  \n",
      ": 2972::인텔 코어i7-1세대 860:\n",
      ": 5502::Intel Core i5 7400 2.40GHz:\n",
      "\n",
      ":   31:Intel?i5                           \n",
      ": 2238::인텔 코어i5-1세대 650:\n",
      ": 4869::Intel Core i5 4460:\n",
      "\n",
      ":   32:Intel?i5                           \n",
      ": 2238::인텔 코어i5-1세대 650:\n",
      ": 4869::Intel Core i5 4460:\n",
      "\n",
      ":   33:Any Intel Core 2 or Core iX CPU. Intel or AMD single core CPU with a 3 GHz processor speed or faster (multiple CPUs and/or multicore CPUs are recommended). SSSE3 (Supplementary SSE3) instruction set support required\n",
      ": 1495::인텔 코어i3-1세대 530:\n",
      ":16004::AMD Ryzen 5 4600G 3.20GHz:\n",
      "\n",
      ":   34:AMD 라이젠5-4세대 5600X                 \n",
      ":  967::AMD A4 3300:\n",
      ":21936::AMD Ryzen 5 5600X 3.20GHz:\n",
      "\n",
      ":   35:AMD 라이젠7-5세대 7700 (라파엘)            \n",
      ":  967::AMD A4 3300:\n",
      ":35159::AMD Ryzen 7 7700 5.20GHz:\n",
      "\n",
      ":   36:AMD 라이젠5-4세대 5600                  \n",
      ":  967::AMD A4 3300:\n",
      ":21618::AMD Ryzen 5 5600 3.20GHz:\n",
      "\n",
      ":   37:인텔 코어i7-12세대 12700F (엘더레이크)        \n",
      ":  561::인텔 펜티엄 E2140:\n",
      ":30992::Intel Core i7 12700F 4.80GHz:\n",
      "\n",
      ":   38:AMD 라이젠7-4세대 5700X (버미어)           \n",
      ":  967::AMD A4 3300:\n",
      ":26795::AMD Ryzen 7 5700X 3.20GHz:\n",
      "\n",
      ":   39:인텔 코어i7-13세대 13700K                \n",
      ":  561::인텔 펜티엄 E2140:\n",
      ":46838::Intel Core i7 13700K 5.60GHz:\n",
      "\n",
      ":   40:Intel or AMD processor with 64-bit support, 2 GHz or faster processor\n",
      ":  967::AMD A4 3300:\n",
      ": 3287::AMD 페넘II X6 1055T 2.00GHz:\n",
      "\n",
      ":   41:Intel Core i5-8400                 \n",
      ": 9257::인텔 코어i5-8세대 8400:\n",
      ": 9257::Intel Core i5 8400 2.67GHz:\n",
      "\n",
      ":   42:Multicore Intel processor (with 64-bit support) or AMD Athlon 64 processor\n",
      ": 4111::AMD 애슬론 200GE:\n",
      ": 2796::Intel Celeron G5905 2.67GHz:\n",
      "\n",
      ":   43:Intel Core i5-8400H                \n",
      ": 2238::인텔 코어i5-1세대 650:\n",
      ": 8061::Intel Core i7 4790K:\n",
      "\n",
      ":   44:Intel Core i3/5/7/9 or AMD Ryzen 3/5/7/9/Threadripper, EPYC\n",
      ": 1495::인텔 코어i3-1세대 530:\n",
      ": 3261::Intel Xeon X5570:\n",
      "\n",
      ":   45:any                                \n",
      ":  561::인텔 펜티엄 E2140:\n",
      ": 4257::Intel Pentium Gold G6405 2.67GHz:\n",
      "\n",
      ":   46:1GHz Processor                     \n",
      ":  561::인텔 펜티엄 E2140:\n",
      ": 1247::Intel Core2 Duo E8500 1.33GHz:\n",
      "\n",
      ":   47:64-bit CPU (Intel/AMD x64 or ARM64)\n",
      ":  561::인텔 펜티엄 E2140:\n",
      ":  561::Intel Pentium E2140 0.80GHz:\n",
      "\n",
      ":   48:Intel Core 2 Duo T5200             \n",
      ":  593::인텔 코어2듀오 E4300:\n",
      ":  561::Intel Pentium E2140 0.80GHz:\n",
      "\n",
      ":   49:Intel Core 2 Quad Q9000            \n",
      ": 1495::인텔 코어i3-1세대 530:\n",
      ": 2106::Intel Core2 Quad Q9400 1.33GHz:\n",
      "\n",
      ":   50:Intel and AMD CPUs with SSE2 support\n",
      ":  561::인텔 펜티엄 E2140:\n",
      ":  561::Intel Pentium E2140 0.80GHz:\n",
      "\n",
      ":   51:Core 2 Duo 1.6GHz                  \n",
      ":  593::인텔 코어2듀오 E4300:\n",
      ": 4695::Intel Xeon E5 2603 v4 1.87GHz:\n",
      "\n",
      ":   52:any                                \n",
      ":  561::인텔 펜티엄 E2140:\n",
      ": 4257::Intel Pentium Gold G6405 2.67GHz:\n",
      "\n",
      ":   53:Intel®?Celeron G series or AMD®?Phenom II and above?\n",
      ": 1117::인텔 셀러론 G530:\n",
      ":  561::Intel Pentium E2140 0.80GHz:\n",
      "\n",
      ":   54:64-bit Intel or AMD CPU            \n",
      ":  561::인텔 펜티엄 E2140:\n",
      ":  561::Intel Pentium E2140 0.80GHz:\n",
      "\n",
      ":   55:64-bit Intel or AMD CPU            \n",
      ":  561::인텔 펜티엄 E2140:\n",
      ":  561::Intel Pentium E2140 0.80GHz:\n",
      "\n",
      ":   56:64-bit quad-core CPU with SSE2 Support\n",
      ": 1495::인텔 코어i3-1세대 530:\n",
      ": 5599::Intel Core i5 4690 H81 패키지:\n",
      "\n",
      ":   57:64-bit eight-core CPU              \n",
      ": 1495::인텔 코어i3-1세대 530:\n",
      ":16589::Intel Core i7 10700 2.93GHz:\n",
      "\n",
      ":   58:64-bit Intel® or AMD® multi-core processor with SSE4.2 instruction set\n",
      ": 1495::인텔 코어i3-1세대 530:\n",
      ": 2796::Intel Celeron G5905 2.67GHz:\n",
      "\n",
      ":   59:64-bit Intel® or AMD® multi-core processor with SSE4.2 instruction set\n",
      ": 1495::인텔 코어i3-1세대 530:\n",
      ": 2796::Intel Celeron G5905 2.67GHz:\n",
      "\n",
      ":   60:2.5GHz                             \n",
      ":  561::인텔 펜티엄 E2140:\n",
      ":10063::Intel Core i3 10320 2.67GHz:\n",
      "\n",
      ":   61:3GHz                               \n",
      ":  561::인텔 펜티엄 E2140:\n",
      ":16004::AMD Ryzen 5 4600G 3.20GHz:\n",
      "\n",
      ":   62:Intel 64-bit CPU or AMD 64-bit CPU with SSE3 support (2GHz)\n",
      ":  967::AMD A4 3300:\n",
      ":10063::Intel Core i3 10320 2.67GHz:\n",
      "\n",
      ":   63:Intel 64-bit CPU or AMD 64-bit CPU with SSE3 support (3GHz)\n",
      ":  561::인텔 펜티엄 E2140:\n",
      ":16004::AMD Ryzen 5 4600G 3.20GHz:\n",
      "\n",
      ":   64:Intel Pentium 4 or Intel Centrino, Intel Xeon, or Intel Core Duo (or compatible) processor (2GHz or faster processor)\n",
      ":  561::인텔 펜티엄 E2140:\n",
      ": 3287::AMD 페넘II X6 1055T 2.00GHz:\n",
      "\n",
      ":   65:Intel Pentium 4 or Intel Centrino, Intel Xeon, or Intel Core Duo (or compatible) processor (2GHz or faster processor)\n",
      ":  561::인텔 펜티엄 E2140:\n",
      ": 3287::AMD 페넘II X6 1055T 2.00GHz:\n",
      "\n",
      ":   66:i5                                 \n",
      ": 2238::인텔 코어i5-1세대 650:\n",
      ": 4869::Intel Core i5 4460:\n",
      "\n",
      ":   67:i7                                 \n",
      ":  561::인텔 펜티엄 E2140:\n",
      ": 8946::Intel Core i7 6700K 2.13GHz:\n",
      "\n",
      ":   68:2.5 GHz or greater                 \n",
      ":  561::인텔 펜티엄 E2140:\n",
      ":10063::Intel Core i3 10320 2.67GHz:\n",
      "\n",
      ":   69:3.0 GHz or greater, 4 or more cores\n",
      ":  561::인텔 펜티엄 E2140:\n",
      ":16004::AMD Ryzen 5 4600G 3.20GHz:\n",
      "\n",
      ":   70:Single-core, 1-GHz x86             \n",
      ":  561::인텔 펜티엄 E2140:\n",
      ": 1247::Intel Core2 Duo E8500 1.33GHz:\n",
      "\n",
      ":   71:Dual-core or greater, 2-GHz x86    \n",
      ":  967::AMD A4 3300:\n",
      ": 2796::Intel Celeron G5905 2.67GHz:\n",
      "\n",
      ":   72:64-bit Intel i5 or better          \n",
      ": 2238::인텔 코어i5-1세대 650:\n",
      ": 4869::Intel Core i5 4460:\n",
      "\n",
      ":   73:64-bit Intel i5 or better          \n",
      ": 2238::인텔 코어i5-1세대 650:\n",
      ": 4869::Intel Core i5 4460:\n",
      "\n",
      ":   74:Processor 64 bit Intel or AMD      \n",
      ":  561::인텔 펜티엄 E2140:\n",
      ":  561::Intel Pentium E2140 0.80GHz:\n",
      "\n",
      ":   75:Intel i7/i9 technology and newer or AMD Ryzen and newer\n",
      ": 2972::인텔 코어i7-1세대 860:\n",
      ": 8946::Intel Core i7 6700K 2.13GHz:\n",
      "\n",
      ":   76:Intel i7/i9/Xeon technology and newer or AMD Ryzen/Threadripper and newer\n",
      ": 2362::인텔 제온 E5-2603:\n",
      ":17016::AMD Ryzen Threadripper 1900X 2.67GHz:\n",
      "\n",
      ":   77:64-bit Intel® or AMD® multi-core processor\n",
      ": 1495::인텔 코어i3-1세대 530:\n",
      ": 2796::Intel Celeron G5905 2.67GHz:\n",
      "\n",
      ":   78:64-bit Intel® or AMD® multi-core processor\n",
      ": 1495::인텔 코어i3-1세대 530:\n",
      ": 2796::Intel Celeron G5905 2.67GHz:\n",
      "\n",
      ":   79:64-bit Intel® 또는 AMD® 프로세서 (2 GHz 이상)\n",
      ":  561::인텔 펜티엄 E2140:\n",
      ": 3287::AMD 페넘II X6 1055T 2.00GHz:\n",
      "\n",
      ":   80:Intel Core i7, 3.0 GHz 이상 (또는 동등한 AMD 프로세서)\n",
      ": 1495::인텔 코어i3-1세대 530:\n",
      ":16004::AMD Ryzen 5 4600G 3.20GHz:\n",
      "\n",
      ":   81:Intel Core i3 or better            \n",
      ": 1495::인텔 코어i3-1세대 530:\n",
      ": 3508::Intel Core i3 4160:\n",
      "\n",
      ":   82:Intel Core i5 or better            \n",
      ": 2238::인텔 코어i5-1세대 650:\n",
      ": 4869::Intel Core i5 4460:\n",
      "\n",
      ":   83:Intel 6th Gen or newer CPU         \n",
      ":  561::인텔 펜티엄 E2140:\n",
      ": 5169::Intel Core i5 6400 2.13GHz:\n",
      "\n",
      ":   84:Intel 7th Gen or newer CPU         \n",
      ":  561::인텔 펜티엄 E2140:\n",
      ": 5502::Intel Core i5 7400 2.40GHz:\n",
      "\n",
      ":   85:Intel Dual-Core 2.4GHz 이상          \n",
      ": 4358::인텔 코어i3-7세대 7100:\n",
      ":10063::Intel Core i3 10320 2.67GHz:\n",
      "\n",
      ":   86:Intel Dual-Core 2.0GHz 이상          \n",
      ": 1495::인텔 코어i3-1세대 530:\n",
      ": 3287::AMD 페넘II X6 1055T 2.00GHz:\n",
      "\n",
      ":   87:Intel Dual-Core                    \n",
      ": 1495::인텔 코어i3-1세대 530:\n",
      ": 2796::Intel Celeron G5905 2.67GHz:\n",
      "\n",
      ":   88:Intel® Core™ i5 processor or an AMD multi-core processor\n",
      ": 2238::인텔 코어i5-1세대 650:\n",
      ": 4869::Intel Core i5 4460:\n",
      "\n",
      ":   89:Intel and AMD CPUs.                \n",
      ":  561::인텔 펜티엄 E2140:\n",
      ": 4257::Intel Pentium Gold G6405 2.67GHz:\n",
      "\n",
      ":   90:Intel Core i Series or AMD Ryzen multi-core\n",
      ": 1495::인텔 코어i3-1세대 530:\n",
      ": 2796::Intel Celeron G5905 2.67GHz:\n",
      "\n",
      ":   91:Intel Core i5 or faster            \n",
      ": 2238::인텔 코어i5-1세대 650:\n",
      ": 4869::Intel Core i5 4460:\n",
      "\n",
      ":   92:64-bit?Intel Core?Processor (i3 2GHz?or faster recommended)\n",
      ": 1495::인텔 코어i3-1세대 530:\n",
      ": 3287::AMD 페넘II X6 1055T 2.00GHz:\n",
      "\n",
      ":   93:Intel Core i5 processors or higher \n",
      ": 2238::인텔 코어i5-1세대 650:\n",
      ": 4869::Intel Core i5 4460:\n",
      "\n",
      ":   94:Intel Core i3/AMD A10 processor or better\n",
      ": 1495::인텔 코어i3-1세대 530:\n",
      ": 5169::Intel Core i5 6400 2.13GHz:\n",
      "\n",
      ":   95:Intel Core i7 (3.0GHz or higher)   \n",
      ": 1495::인텔 코어i3-1세대 530:\n",
      ": 8946::Intel Core i7 6700K 2.13GHz:\n",
      "\n",
      ":   96:Dual-core AMD or Intel CPU or faster with SSE4.1 support\n",
      ": 1495::인텔 코어i3-1세대 530:\n",
      ": 2796::Intel Celeron G5905 2.67GHz:\n",
      "\n",
      ":   97:Intel or AMD multi-core processor  \n",
      ": 1495::인텔 코어i3-1세대 530:\n",
      ": 2796::Intel Celeron G5905 2.67GHz:\n",
      "\n",
      ":   98:Intel or AMD multi-core processor  \n",
      ": 1495::인텔 코어i3-1세대 530:\n",
      ": 2796::Intel Celeron G5905 2.67GHz:\n",
      "\n",
      ":   99:Any modern CPU                     \n",
      ":  561::인텔 펜티엄 E2140:\n",
      ": 4257::Intel Pentium Gold G6405 2.67GHz:\n",
      "\n",
      ":  100:Any modern CPU                     \n",
      ":  561::인텔 펜티엄 E2140:\n",
      ": 4257::Intel Pentium Gold G6405 2.67GHz:\n",
      "\n",
      ":  101:1.5 GHz x86, x86_64, or ARM-based CPU with 2 cores\n",
      ":  561::인텔 펜티엄 E2140:\n",
      ": 4695::Intel Xeon E5 2603 v4 1.87GHz:\n",
      "\n",
      ":  102:2 GHz x86, x86_64, or ARM-based CPU with 4 cores\n",
      ":  967::AMD A4 3300:\n",
      ": 5599::Intel Core i5 4690 H81 패키지:\n",
      "\n",
      ":  103:Intel Core 2 Duo E8400             \n",
      ": 1191::인텔 코어2듀오 E8400:\n",
      ": 1191::Intel Core2 Duo E8400 1.33GHz:\n",
      "\n",
      ":  104:Intel Core 2 Duo E8400             \n",
      ": 1191::인텔 코어2듀오 E8400:\n",
      ": 1191::Intel Core2 Duo E8400 1.33GHz:\n",
      "\n"
     ]
    }
   ],
   "source": [
    "for i in range(len(req_cpu)):\n",
    "    if type(req_cpu.loc[i]) == float: continue\n",
    "    idx = int(bench_value_list[i])-1\n",
    "    idx_oc = int(id_list[i])-1\n",
    "    print(f':{i:5d}:{req_cpu.loc[i]:35s}\\n:{cpu_bench.loc[idx_oc]:5d}::{cpu.loc[idx_oc]}:\\n:{cpu_bench.loc[idx]:5d}::{\" \".join(filter(None, c_names.loc[idx]))}:\\n')"
   ]
  },
  {
   "cell_type": "code",
   "execution_count": 162,
   "metadata": {
    "tags": []
   },
   "outputs": [],
   "source": [
    "pd.DataFrame(gr).to_csv(f'../etcrequirements{today}.csv', index=None)"
   ]
  },
  {
   "cell_type": "code",
   "execution_count": 169,
   "metadata": {
    "tags": []
   },
   "outputs": [],
   "source": [
    "pg = pd.read_csv(f'../etc_programs_utf.csv')"
   ]
  },
  {
   "cell_type": "code",
   "execution_count": 170,
   "metadata": {
    "tags": []
   },
   "outputs": [
    {
     "name": "stdout",
     "output_type": "stream",
     "text": [
      "cpu reqs: 105/105 (99%)"
     ]
    }
   ],
   "source": [
    "pg_id_list = [None] * len(gr)\n",
    "last_j = 0\n",
    "for i in range(len(gr)):\n",
    "    for j in range(last_j, len(pg)):\n",
    "        if gr.loc[i, 'name'] == pg.loc[j, 'name']:\n",
    "            pg_id_list[i] = 7713 + j + 1\n",
    "            last_j = j\n",
    "            break\n",
    "        \n",
    "    percent = i / len(gr) * 100\n",
    "    print(f'\\rcpu reqs: {i+1}/{len(gr)} ({percent:.0f}%)', end='')"
   ]
  },
  {
   "cell_type": "code",
   "execution_count": 173,
   "metadata": {
    "tags": []
   },
   "outputs": [],
   "source": [
    "to_db = {'program_id': [], 'cpu_id': [], 'gpu_id': [], 'ram': [], 'dx': [],\n",
    "         'storage': [], 'os': [], 'spec_class': []}"
   ]
  },
  {
   "cell_type": "code",
   "execution_count": 175,
   "metadata": {
    "tags": []
   },
   "outputs": [],
   "source": [
    "to_db['program_id'] = pg_id_list\n",
    "to_db['cpu_id'] = gr.cpu.to_list()\n",
    "to_db['gpu_id'] = gr.gpu.to_list()\n",
    "to_db['ram'] = ram\n",
    "to_db['dx'] = gr.dx.to_list()\n",
    "to_db['storage'] = gr.sto.to_list()\n",
    "to_db['os'] = gr.os.to_list()\n",
    "to_db['spec_class'] = gr.spec_class.to_list()"
   ]
  },
  {
   "cell_type": "code",
   "execution_count": 178,
   "metadata": {
    "tags": []
   },
   "outputs": [],
   "source": [
    "pd.DataFrame(to_db).to_csv(f'../etc_requirements{today}.csv', index=None)"
   ]
  },
  {
   "cell_type": "code",
   "execution_count": null,
   "metadata": {},
   "outputs": [],
   "source": []
  }
 ],
 "metadata": {
  "kernelspec": {
   "display_name": "Python 3 (ipykernel)",
   "language": "python",
   "name": "python3"
  },
  "language_info": {
   "codemirror_mode": {
    "name": "ipython",
    "version": 3
   },
   "file_extension": ".py",
   "mimetype": "text/x-python",
   "name": "python",
   "nbconvert_exporter": "python",
   "pygments_lexer": "ipython3",
   "version": "3.11.4"
  }
 },
 "nbformat": 4,
 "nbformat_minor": 4
}
