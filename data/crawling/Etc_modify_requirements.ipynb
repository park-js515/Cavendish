{
 "cells": [
  {
   "cell_type": "code",
   "execution_count": 1,
   "metadata": {
    "tags": []
   },
   "outputs": [],
   "source": [
    "import pandas as pd\n",
    "import numpy as np\n",
    "import time\n",
    "import re"
   ]
  },
  {
   "cell_type": "code",
   "execution_count": 2,
   "metadata": {
    "tags": []
   },
   "outputs": [],
   "source": [
    "# gp = pd.read_csv('../gameprograms230920.csv')\n",
    "# gp['usage'] = '게임'"
   ]
  },
  {
   "cell_type": "code",
   "execution_count": 3,
   "metadata": {
    "tags": []
   },
   "outputs": [],
   "source": [
    "today = time.strftime('%y%m%d')\n",
    "# pd.DataFrame(gp).to_csv(f'../gameprograms{today}.csv', index=None)"
   ]
  },
  {
   "cell_type": "code",
   "execution_count": 4,
   "metadata": {
    "tags": []
   },
   "outputs": [],
   "source": [
    "er_origin = pd.read_csv('../etc_requirements_utf.csv')"
   ]
  },
  {
   "cell_type": "code",
   "execution_count": 5,
   "metadata": {
    "tags": []
   },
   "outputs": [
    {
     "data": {
      "text/html": [
       "<div>\n",
       "<style scoped>\n",
       "    .dataframe tbody tr th:only-of-type {\n",
       "        vertical-align: middle;\n",
       "    }\n",
       "\n",
       "    .dataframe tbody tr th {\n",
       "        vertical-align: top;\n",
       "    }\n",
       "\n",
       "    .dataframe thead th {\n",
       "        text-align: right;\n",
       "    }\n",
       "</style>\n",
       "<table border=\"1\" class=\"dataframe\">\n",
       "  <thead>\n",
       "    <tr style=\"text-align: right;\">\n",
       "      <th></th>\n",
       "      <th>name</th>\n",
       "      <th>cpu</th>\n",
       "      <th>ram</th>\n",
       "      <th>gpu</th>\n",
       "      <th>dx</th>\n",
       "      <th>os</th>\n",
       "      <th>sto</th>\n",
       "      <th>spec_class</th>\n",
       "    </tr>\n",
       "  </thead>\n",
       "  <tbody>\n",
       "    <tr>\n",
       "      <th>0</th>\n",
       "      <td>한컴오피스 2022</td>\n",
       "      <td>2.4GHz 이상, 2코어</td>\n",
       "      <td>2GB</td>\n",
       "      <td>DirectX 9 이상</td>\n",
       "      <td>DirectX 9</td>\n",
       "      <td>Windows 7 SP1 이상</td>\n",
       "      <td>2GB</td>\n",
       "      <td>1</td>\n",
       "    </tr>\n",
       "    <tr>\n",
       "      <th>1</th>\n",
       "      <td>Microsoft 365</td>\n",
       "      <td>1.6GHz 이상, 2코어</td>\n",
       "      <td>4GB</td>\n",
       "      <td>DirectX 9 이상</td>\n",
       "      <td>DirectX 9</td>\n",
       "      <td>Windows 11, Windows 10, Windows 8.1, Windows S...</td>\n",
       "      <td>4GB</td>\n",
       "      <td>1</td>\n",
       "    </tr>\n",
       "    <tr>\n",
       "      <th>2</th>\n",
       "      <td>Office 2019</td>\n",
       "      <td>1.6GHz 이상, 2코어</td>\n",
       "      <td>4GB</td>\n",
       "      <td>DirectX 9 이상</td>\n",
       "      <td>DirectX 9</td>\n",
       "      <td>Windows OS: Windows 11, Windows 10, Windows 10...</td>\n",
       "      <td>4GB</td>\n",
       "      <td>1</td>\n",
       "    </tr>\n",
       "    <tr>\n",
       "      <th>3</th>\n",
       "      <td>Office 2021</td>\n",
       "      <td>1.1GHz 이상, 2코어</td>\n",
       "      <td>4GB</td>\n",
       "      <td>DirectX 9 이상</td>\n",
       "      <td>DirectX 9</td>\n",
       "      <td>Windows 10 또는 Windows 11</td>\n",
       "      <td>4GB</td>\n",
       "      <td>1</td>\n",
       "    </tr>\n",
       "    <tr>\n",
       "      <th>4</th>\n",
       "      <td>4k 영상 시청</td>\n",
       "      <td>인텔 코어 i3-12세대 12100</td>\n",
       "      <td>8GB</td>\n",
       "      <td>NaN</td>\n",
       "      <td>NaN</td>\n",
       "      <td>NaN</td>\n",
       "      <td>0MB</td>\n",
       "      <td>1</td>\n",
       "    </tr>\n",
       "    <tr>\n",
       "      <th>...</th>\n",
       "      <td>...</td>\n",
       "      <td>...</td>\n",
       "      <td>...</td>\n",
       "      <td>...</td>\n",
       "      <td>...</td>\n",
       "      <td>...</td>\n",
       "      <td>...</td>\n",
       "      <td>...</td>\n",
       "    </tr>\n",
       "    <tr>\n",
       "      <th>100</th>\n",
       "      <td>Avid Sibelius</td>\n",
       "      <td>Any modern CPU</td>\n",
       "      <td>4GB</td>\n",
       "      <td>NaN</td>\n",
       "      <td>NaN</td>\n",
       "      <td>Windows 10, 11</td>\n",
       "      <td>36GB</td>\n",
       "      <td>1</td>\n",
       "    </tr>\n",
       "    <tr>\n",
       "      <th>101</th>\n",
       "      <td>LMMS (Linux MultiMedia Studio)</td>\n",
       "      <td>1.5 GHz x86, x86_64, or ARM-based CPU with 2 c...</td>\n",
       "      <td>1GB</td>\n",
       "      <td>NaN</td>\n",
       "      <td>NaN</td>\n",
       "      <td>Windows 7</td>\n",
       "      <td>100MB</td>\n",
       "      <td>0</td>\n",
       "    </tr>\n",
       "    <tr>\n",
       "      <th>102</th>\n",
       "      <td>LMMS (Linux MultiMedia Studio)</td>\n",
       "      <td>2 GHz x86, x86_64, or ARM-based CPU with 4 cores</td>\n",
       "      <td>4GB</td>\n",
       "      <td>NaN</td>\n",
       "      <td>NaN</td>\n",
       "      <td>Windows 10</td>\n",
       "      <td>512MB</td>\n",
       "      <td>1</td>\n",
       "    </tr>\n",
       "    <tr>\n",
       "      <th>103</th>\n",
       "      <td>Cakewalk</td>\n",
       "      <td>Intel Core 2 Duo E8400</td>\n",
       "      <td>4GB</td>\n",
       "      <td>NVIDIA GeForce 510</td>\n",
       "      <td>NaN</td>\n",
       "      <td>Windows</td>\n",
       "      <td>200MB</td>\n",
       "      <td>0</td>\n",
       "    </tr>\n",
       "    <tr>\n",
       "      <th>104</th>\n",
       "      <td>Cakewalk</td>\n",
       "      <td>Intel Core 2 Duo E8400</td>\n",
       "      <td>4GB</td>\n",
       "      <td>NVIDIA GeForce 510</td>\n",
       "      <td>NaN</td>\n",
       "      <td>Windows</td>\n",
       "      <td>20GB</td>\n",
       "      <td>1</td>\n",
       "    </tr>\n",
       "  </tbody>\n",
       "</table>\n",
       "<p>105 rows × 8 columns</p>\n",
       "</div>"
      ],
      "text/plain": [
       "                               name  \\\n",
       "0                        한컴오피스 2022   \n",
       "1                     Microsoft 365   \n",
       "2                       Office 2019   \n",
       "3                       Office 2021   \n",
       "4                          4k 영상 시청   \n",
       "..                              ...   \n",
       "100                   Avid Sibelius   \n",
       "101  LMMS (Linux MultiMedia Studio)   \n",
       "102  LMMS (Linux MultiMedia Studio)   \n",
       "103                        Cakewalk   \n",
       "104                        Cakewalk   \n",
       "\n",
       "                                                   cpu  ram  \\\n",
       "0                                       2.4GHz 이상, 2코어  2GB   \n",
       "1                                       1.6GHz 이상, 2코어  4GB   \n",
       "2                                       1.6GHz 이상, 2코어  4GB   \n",
       "3                                       1.1GHz 이상, 2코어  4GB   \n",
       "4                                  인텔 코어 i3-12세대 12100  8GB   \n",
       "..                                                 ...  ...   \n",
       "100                                     Any modern CPU  4GB   \n",
       "101  1.5 GHz x86, x86_64, or ARM-based CPU with 2 c...  1GB   \n",
       "102   2 GHz x86, x86_64, or ARM-based CPU with 4 cores  4GB   \n",
       "103                             Intel Core 2 Duo E8400  4GB   \n",
       "104                             Intel Core 2 Duo E8400  4GB   \n",
       "\n",
       "                    gpu         dx  \\\n",
       "0          DirectX 9 이상  DirectX 9   \n",
       "1          DirectX 9 이상  DirectX 9   \n",
       "2          DirectX 9 이상  DirectX 9   \n",
       "3          DirectX 9 이상  DirectX 9   \n",
       "4                   NaN        NaN   \n",
       "..                  ...        ...   \n",
       "100                 NaN        NaN   \n",
       "101                 NaN        NaN   \n",
       "102                 NaN        NaN   \n",
       "103  NVIDIA GeForce 510        NaN   \n",
       "104  NVIDIA GeForce 510        NaN   \n",
       "\n",
       "                                                    os    sto  spec_class  \n",
       "0                                     Windows 7 SP1 이상    2GB           1  \n",
       "1    Windows 11, Windows 10, Windows 8.1, Windows S...    4GB           1  \n",
       "2    Windows OS: Windows 11, Windows 10, Windows 10...    4GB           1  \n",
       "3                             Windows 10 또는 Windows 11    4GB           1  \n",
       "4                                                  NaN    0MB           1  \n",
       "..                                                 ...    ...         ...  \n",
       "100                                     Windows 10, 11   36GB           1  \n",
       "101                                          Windows 7  100MB           0  \n",
       "102                                         Windows 10  512MB           1  \n",
       "103                                            Windows  200MB           0  \n",
       "104                                            Windows   20GB           1  \n",
       "\n",
       "[105 rows x 8 columns]"
      ]
     },
     "execution_count": 5,
     "metadata": {},
     "output_type": "execute_result"
    }
   ],
   "source": [
    "er_origin"
   ]
  },
  {
   "cell_type": "code",
   "execution_count": 6,
   "metadata": {
    "tags": []
   },
   "outputs": [
    {
     "data": {
      "text/plain": [
       "0            DirectX 9 이상\n",
       "1            DirectX 9 이상\n",
       "2            DirectX 9 이상\n",
       "3            DirectX 9 이상\n",
       "4                     NaN\n",
       "              ...        \n",
       "100                   NaN\n",
       "101                   NaN\n",
       "102                   NaN\n",
       "103    NVIDIA GeForce 510\n",
       "104    NVIDIA GeForce 510\n",
       "Name: gpu, Length: 105, dtype: object"
      ]
     },
     "execution_count": 6,
     "metadata": {},
     "output_type": "execute_result"
    }
   ],
   "source": [
    "er_origin.gpu"
   ]
  },
  {
   "cell_type": "code",
   "execution_count": 7,
   "metadata": {
    "tags": []
   },
   "outputs": [],
   "source": [
    "## GPU 시작.................\n",
    "gfile = pd.read_csv('../part_gpu_wb230921.csv')\n",
    "gbfile = pd.read_csv('../benchmark_gpu.csv')\n",
    "gpu = gfile.name\n",
    "gpu_bench = gfile.bench_mark\n",
    "req_gpu = er_origin.gpu"
   ]
  },
  {
   "cell_type": "code",
   "execution_count": 8,
   "metadata": {
    "tags": []
   },
   "outputs": [
    {
     "data": {
      "text/plain": [
       "0                  이엠텍 지포스 RTX 4070 Ti GAMINGPRO D6X 12GB\n",
       "1              이엠텍 지포스 RTX 4060 Ti STORM X Dual OC D6 8GB\n",
       "2       갤럭시 GALAX 지포스 RTX 4070 EX GAMER WHITE OC D6X 12GB\n",
       "3                이엠텍 지포스 RTX 3060 STORM X Dual OC D6 12GB\n",
       "4                    SAPPHIRE 라데온 RX 7600 PULSE OC D6 8GB\n",
       "                              ...                        \n",
       "1316                       액슬 지포스 GTX750 Ti 클래식 V2 D5 2GB\n",
       "1317                          라데온 RX 560 14CU D5 2GB (중고)\n",
       "1318                                     EVGA 파워링크 (해외구매)\n",
       "1319                          FORSA 지포스 GT610 Plus D3 1GB\n",
       "1320          매트록스 M9148 LP PCle x16 1GB DP/DVI Quad 앤아이피\n",
       "Name: name, Length: 1321, dtype: object"
      ]
     },
     "execution_count": 8,
     "metadata": {},
     "output_type": "execute_result"
    }
   ],
   "source": [
    "gpu"
   ]
  },
  {
   "cell_type": "code",
   "execution_count": 10,
   "metadata": {
    "tags": []
   },
   "outputs": [
    {
     "data": {
      "text/plain": [
       "24                                      2GB of GPU VRAM\n",
       "27    NVIDIA® GeForce RTX or GTX 960 series or highe...\n",
       "29    Integrated or discrete GPU with at least 2GB o...\n",
       "30    Integrated or discrete GPU with at least 2GB o...\n",
       "33                                      2GB of GPU VRAM\n",
       "37                                      RTX 3060 Ti 8GB\n",
       "38                                         RTX 3070 8GB\n",
       "39                                      RTX 3070 Ti 8GB\n",
       "56                                      2GB of GPU VRAM\n",
       "57                                      8GB of GPU VRAM\n",
       "58                                      1GB of GPU VRAM\n",
       "59                                      4GB of GPU VRAM\n",
       "60                                      2GB of GPU VRAM\n",
       "61                                      8GB of GPU VRAM\n",
       "63                                      4GB of GPU VRAM\n",
       "68                                      1GB of GPU VRAM\n",
       "69                                      4GB of GPU VRAM\n",
       "74                                      4GB of GPU VRAM\n",
       "78                                      4GB of GPU VRAM\n",
       "79                                      1GB of GPU VRAM\n",
       "80                                      4GB of GPU VRAM\n",
       "84                                      4GB of GPU VRAM\n",
       "Name: gpu, dtype: object"
      ]
     },
     "execution_count": 10,
     "metadata": {},
     "output_type": "execute_result"
    }
   ],
   "source": [
    "req_gpu.loc[req_gpu.str.contains(r'\\dGB', na=False)]"
   ]
  },
  {
   "cell_type": "code",
   "execution_count": 11,
   "metadata": {
    "tags": []
   },
   "outputs": [
    {
     "ename": "NameError",
     "evalue": "name 'ben_reg' is not defined",
     "output_type": "error",
     "traceback": [
      "\u001b[1;31m---------------------------------------------------------------------------\u001b[0m",
      "\u001b[1;31mNameError\u001b[0m                                 Traceback (most recent call last)",
      "Cell \u001b[1;32mIn[11], line 1\u001b[0m\n\u001b[1;32m----> 1\u001b[0m ben_reg\u001b[38;5;241m.\u001b[39mname\u001b[38;5;241m.\u001b[39mloc[ben_reg[\u001b[38;5;124m'\u001b[39m\u001b[38;5;124mname\u001b[39m\u001b[38;5;124m'\u001b[39m]\u001b[38;5;241m.\u001b[39mstr\u001b[38;5;241m.\u001b[39mcontains(\u001b[38;5;124mr\u001b[39m\u001b[38;5;124m'\u001b[39m\u001b[38;5;124m\\\u001b[39m\u001b[38;5;124md RX\u001b[39m\u001b[38;5;124m'\u001b[39m, na\u001b[38;5;241m=\u001b[39m\u001b[38;5;28;01mFalse\u001b[39;00m)]\n",
      "\u001b[1;31mNameError\u001b[0m: name 'ben_reg' is not defined"
     ]
    }
   ],
   "source": [
    "ben_reg.name.loc[ben_reg['name'].str.contains(r'\\d RX', na=False)]"
   ]
  },
  {
   "cell_type": "code",
   "execution_count": 79,
   "metadata": {
    "tags": []
   },
   "outputs": [
    {
     "data": {
      "text/plain": [
       "Series([], Name: gpu, dtype: object)"
      ]
     },
     "execution_count": 79,
     "metadata": {},
     "output_type": "execute_result"
    }
   ],
   "source": [
    "req_reg.loc[req_reg.str.contains(r'Rx \\d', na=False)]"
   ]
  },
  {
   "cell_type": "code",
   "execution_count": 26,
   "metadata": {
    "tags": []
   },
   "outputs": [],
   "source": [
    "ignore_text = ['브릿지', 'Sync', '파워링크', 'Box', 'BOX', 'Hercules', '링크패널', 'G550', 'LP', '(']"
   ]
  },
  {
   "cell_type": "code",
   "execution_count": 12,
   "metadata": {
    "tags": []
   },
   "outputs": [],
   "source": [
    "gpu_regex_map = {'지포스': 'GeForce', '라데온': 'Radeon', '타이탄': 'TITAN',\n",
    "                 '쿼드로': 'Quadro', 'DUAL': ' ', 'GT1': 'GT 1', 'GT6': 'GT 6',\n",
    "                 'GT7': 'GT 7', 'GTX': 'GTX ', 'Pro': 'PRO', 'WX': 'WX ', 'W6800X': 'W6800',\n",
    "                 'W6900X': 'RX 6900', r'RX(\\d)': r'RX \\1', '(\\d)GT': '\\1 GT'}\n",
    "req_regex_map = {'(GEFORCE|(g|G)(E|e)?r?(F|f)orce).?': ' GeForce ', '(N|n)(v|V)(I|i)(D|d)(I|i)?(A|a).?': ' NVIDIA ',\n",
    "                 '\\xa0': '', '(RADEON|(R|r)adeon).?': ' Radeon ', ' TI | ti ': ' Ti ', ' Amd ': ' AMD ', '(g|G)(t|T)(X|x)': ' GTX ',\n",
    "                 ' Gt ': ' GT ', ' INTEL |intel ': ' Intel ', ' hd |Hd ': ' HD ', r'(\\d)HD ': r'\\1 HD ', '(\\d)(T|t)(I|i) ': r'\\1 Ti',\n",
    "                 r' R(x|X)(\\d)': r'RX-\\2', r'(\\d)(g|G)(t|T)': r'\\1 GT', r'GT(\\d)': r'GT \\1', '\\[|\\]': '', r'(\\d)(G|g)b ?': r'\\1GB',\n",
    "                 'gts': 'GTS', '1024 ?MB': '1GB', '2048 ?MB': '2GB', '3072 ?MB': '3GB', '4098 ?MB': '4GB', r'HD(\\d)': r'HD \\1', r' r(\\d) ': ' R\\1 ',\n",
    "                 r'GB([a-z])': 'GB \\1', ',|\\/|\\||\\(|\\)': ' ', '\\+': '', r'(\\d)\\sGB': r'\\1GB', r'R(X|x) (\\d)': r'RX-\\2'}\n",
    "bench_regex_map = {'Titan': 'TITAN', '\\+': '', 'Quadro': 'Quadro ', 'Pro': 'PRO', 'RADEON': 'Radeon', '(A|a)ti ': 'ATI ',\n",
    "                   ' +\\/ +': ' ', r'RX (\\d)': r'RX-\\1'}\n",
    "none_regex_map = {r'\\s+': ' ', '\\*': ''}"
   ]
  },
  {
   "cell_type": "code",
   "execution_count": 13,
   "metadata": {
    "tags": []
   },
   "outputs": [],
   "source": [
    "gpu_reg = gpu.replace(regex=gpu_regex_map).replace(regex=none_regex_map)\n",
    "req_reg = req_gpu.replace(regex=req_regex_map).replace(regex=none_regex_map)\n",
    "ben_reg = gbfile.replace(regex=bench_regex_map).replace(regex=none_regex_map)"
   ]
  },
  {
   "cell_type": "code",
   "execution_count": 14,
   "metadata": {
    "tags": []
   },
   "outputs": [],
   "source": [
    "g_names = gpu_reg.str.strip().str.split(r' +')\n",
    "reqg_names = req_reg.str.strip().str.split(r' +')\n",
    "bench_names = ben_reg.name.str.strip().str.split(r' +')"
   ]
  },
  {
   "cell_type": "code",
   "execution_count": 15,
   "metadata": {
    "tags": []
   },
   "outputs": [
    {
     "data": {
      "text/plain": [
       "0       38968\n",
       "1       34841\n",
       "2       32146\n",
       "3       31652\n",
       "4       31173\n",
       "        ...  \n",
       "2550        1\n",
       "2551        1\n",
       "2552        1\n",
       "2553        1\n",
       "2554        1\n",
       "Name: count, Length: 2555, dtype: int64"
      ]
     },
     "execution_count": 15,
     "metadata": {},
     "output_type": "execute_result"
    }
   ],
   "source": [
    "gbfile['count']"
   ]
  },
  {
   "cell_type": "code",
   "execution_count": 16,
   "metadata": {
    "tags": []
   },
   "outputs": [
    {
     "data": {
      "text/plain": [
       "0            [DirectX, 9, 이상]\n",
       "1            [DirectX, 9, 이상]\n",
       "2            [DirectX, 9, 이상]\n",
       "3            [DirectX, 9, 이상]\n",
       "4                         NaN\n",
       "                ...          \n",
       "100                       NaN\n",
       "101                       NaN\n",
       "102                       NaN\n",
       "103    [NVIDIA, GeForce, 510]\n",
       "104    [NVIDIA, GeForce, 510]\n",
       "Name: gpu, Length: 105, dtype: object"
      ]
     },
     "execution_count": 16,
     "metadata": {},
     "output_type": "execute_result"
    }
   ],
   "source": [
    "reqg_names"
   ]
  },
  {
   "cell_type": "code",
   "execution_count": 17,
   "metadata": {
    "tags": []
   },
   "outputs": [
    {
     "data": {
      "text/plain": [
       "'DirectX 9 이상'"
      ]
     },
     "execution_count": 17,
     "metadata": {},
     "output_type": "execute_result"
    }
   ],
   "source": [
    "req_gpu.loc[3]"
   ]
  },
  {
   "cell_type": "code",
   "execution_count": 18,
   "metadata": {
    "tags": []
   },
   "outputs": [],
   "source": [
    "for lst in reqg_names:\n",
    "    if type(lst) == float: continue\n",
    "    if any(x == r' \\d ' for x in lst):\n",
    "        print(reqg_names.loc[reqg_names.str.contains(r' \\d ', na=False)])"
   ]
  },
  {
   "cell_type": "code",
   "execution_count": 19,
   "metadata": {
    "tags": []
   },
   "outputs": [
    {
     "data": {
      "text/plain": [
       "0                           [GeForce, RTX, 4090]\n",
       "1                           [GeForce, RTX, 4080]\n",
       "2                           [Radeon, PRO, W7800]\n",
       "3                       [GeForce, RTX, 4070, Ti]\n",
       "4                         [Radeon, RX-7900, XTX]\n",
       "                          ...                   \n",
       "2550         [VIA, Chrome9, HC3, IGP, WDDM, 1.1]\n",
       "2551    [Intel, 82852/82855, GM/GME, Controller]\n",
       "2552             [RAGE, 128, PRO, AGP, 4X, TMDS]\n",
       "2553                            [Quadro, 2, PRO]\n",
       "2554                         [FireMV, 2200, PCI]\n",
       "Name: name, Length: 2555, dtype: object"
      ]
     },
     "execution_count": 19,
     "metadata": {},
     "output_type": "execute_result"
    }
   ],
   "source": [
    "bench_names"
   ]
  },
  {
   "cell_type": "code",
   "execution_count": 20,
   "metadata": {
    "tags": []
   },
   "outputs": [
    {
     "data": {
      "text/plain": [
       "0       31652\n",
       "1       22560\n",
       "2       26902\n",
       "3       17144\n",
       "4       16661\n",
       "        ...  \n",
       "1316     3901\n",
       "1317     3641\n",
       "1318        0\n",
       "1319      304\n",
       "1320       40\n",
       "Name: bench_mark, Length: 1321, dtype: int64"
      ]
     },
     "execution_count": 20,
     "metadata": {},
     "output_type": "execute_result"
    }
   ],
   "source": [
    "gpu_bench"
   ]
  },
  {
   "cell_type": "code",
   "execution_count": 21,
   "metadata": {
    "tags": []
   },
   "outputs": [
    {
     "data": {
      "text/plain": [
       "0            [DirectX, 9, 이상]\n",
       "1            [DirectX, 9, 이상]\n",
       "2            [DirectX, 9, 이상]\n",
       "3            [DirectX, 9, 이상]\n",
       "4                         NaN\n",
       "                ...          \n",
       "100                       NaN\n",
       "101                       NaN\n",
       "102                       NaN\n",
       "103    [NVIDIA, GeForce, 510]\n",
       "104    [NVIDIA, GeForce, 510]\n",
       "Name: gpu, Length: 105, dtype: object"
      ]
     },
     "execution_count": 21,
     "metadata": {},
     "output_type": "execute_result"
    }
   ],
   "source": [
    "reqg_names"
   ]
  },
  {
   "cell_type": "code",
   "execution_count": 22,
   "metadata": {
    "tags": []
   },
   "outputs": [
    {
     "data": {
      "text/plain": [
       "0       [이엠텍, GeForce, RTX, 4070, Ti, GAMINGPRO, D6X, ...\n",
       "1       [이엠텍, GeForce, RTX, 4060, Ti, STORM, X, Dual, ...\n",
       "2       [갤럭시, GALAX, GeForce, RTX, 4070, EX, GAMER, WH...\n",
       "3       [이엠텍, GeForce, RTX, 3060, STORM, X, Dual, OC, ...\n",
       "4        [SAPPHIRE, Radeon, RX, 7600, PULSE, OC, D6, 8GB]\n",
       "                              ...                        \n",
       "1316        [액슬, GeForce, GTX, 750, Ti, 클래식, V2, D5, 2GB]\n",
       "1317               [Radeon, RX, 560, 14CU, D5, 2GB, (중고)]\n",
       "1318                                 [EVGA, 파워링크, (해외구매)]\n",
       "1319             [FORSA, GeForce, GT, 610, Plus, D3, 1GB]\n",
       "1320    [매트록스, M9148, LP, PCle, x16, 1GB, DP/DVI, Quad...\n",
       "Name: name, Length: 1321, dtype: object"
      ]
     },
     "execution_count": 22,
     "metadata": {},
     "output_type": "execute_result"
    }
   ],
   "source": [
    "g_names"
   ]
  },
  {
   "cell_type": "code",
   "execution_count": 23,
   "metadata": {
    "tags": []
   },
   "outputs": [
    {
     "data": {
      "text/html": [
       "<div>\n",
       "<style scoped>\n",
       "    .dataframe tbody tr th:only-of-type {\n",
       "        vertical-align: middle;\n",
       "    }\n",
       "\n",
       "    .dataframe tbody tr th {\n",
       "        vertical-align: top;\n",
       "    }\n",
       "\n",
       "    .dataframe thead th {\n",
       "        text-align: right;\n",
       "    }\n",
       "</style>\n",
       "<table border=\"1\" class=\"dataframe\">\n",
       "  <thead>\n",
       "    <tr style=\"text-align: right;\">\n",
       "      <th></th>\n",
       "      <th>name</th>\n",
       "      <th>price</th>\n",
       "      <th>link</th>\n",
       "      <th>company</th>\n",
       "      <th>product_seq</th>\n",
       "      <th>image</th>\n",
       "      <th>chipset_company</th>\n",
       "      <th>chipset</th>\n",
       "      <th>nm</th>\n",
       "      <th>base_clock</th>\n",
       "      <th>...</th>\n",
       "      <th>cooling_type</th>\n",
       "      <th>pan_number</th>\n",
       "      <th>length</th>\n",
       "      <th>thickness</th>\n",
       "      <th>pin</th>\n",
       "      <th>feature</th>\n",
       "      <th>as_years</th>\n",
       "      <th>bench_mark</th>\n",
       "      <th>reg_date</th>\n",
       "      <th>bookmark</th>\n",
       "    </tr>\n",
       "  </thead>\n",
       "  <tbody>\n",
       "    <tr>\n",
       "      <th>0</th>\n",
       "      <td>이엠텍 지포스 RTX 4070 Ti GAMINGPRO D6X 12GB</td>\n",
       "      <td>1128990.0</td>\n",
       "      <td>https://prod.danawa.com/info/?pcode=18668606&amp;c...</td>\n",
       "      <td>이엠텍</td>\n",
       "      <td>18668606</td>\n",
       "      <td>//img.danawa.com/prod_img/500000/606/668/img/1...</td>\n",
       "      <td>NVIDIA</td>\n",
       "      <td>RTX 4070 Ti</td>\n",
       "      <td>4.0</td>\n",
       "      <td>2310.0</td>\n",
       "      <td>...</td>\n",
       "      <td>11</td>\n",
       "      <td>3.0</td>\n",
       "      <td>328.9</td>\n",
       "      <td>63.40</td>\n",
       "      <td>100</td>\n",
       "      <td>7</td>\n",
       "      <td>3.0</td>\n",
       "      <td>31652</td>\n",
       "      <td>202301</td>\n",
       "      <td>NaN</td>\n",
       "    </tr>\n",
       "    <tr>\n",
       "      <th>1</th>\n",
       "      <td>이엠텍 지포스 RTX 4060 Ti STORM X Dual OC D6 8GB</td>\n",
       "      <td>565530.0</td>\n",
       "      <td>https://prod.danawa.com/info/?pcode=20274764&amp;c...</td>\n",
       "      <td>이엠텍</td>\n",
       "      <td>20274764</td>\n",
       "      <td>//img.danawa.com/prod_img/500000/764/274/img/2...</td>\n",
       "      <td>NVIDIA</td>\n",
       "      <td>RTX 4060 Ti</td>\n",
       "      <td>4.0</td>\n",
       "      <td>2310.0</td>\n",
       "      <td>...</td>\n",
       "      <td>9</td>\n",
       "      <td>2.0</td>\n",
       "      <td>249.9</td>\n",
       "      <td>40.10</td>\n",
       "      <td>10000</td>\n",
       "      <td>7</td>\n",
       "      <td>3.0</td>\n",
       "      <td>22560</td>\n",
       "      <td>202305</td>\n",
       "      <td>NaN</td>\n",
       "    </tr>\n",
       "    <tr>\n",
       "      <th>2</th>\n",
       "      <td>갤럭시 GALAX 지포스 RTX 4070 EX GAMER WHITE OC D6X 12GB</td>\n",
       "      <td>844610.0</td>\n",
       "      <td>https://prod.danawa.com/info/?pcode=19773293&amp;c...</td>\n",
       "      <td>갤럭시</td>\n",
       "      <td>19773293</td>\n",
       "      <td>//img.danawa.com/prod_img/500000/293/773/img/1...</td>\n",
       "      <td>NVIDIA</td>\n",
       "      <td>RTX 4070</td>\n",
       "      <td>NaN</td>\n",
       "      <td>1920.0</td>\n",
       "      <td>...</td>\n",
       "      <td>11</td>\n",
       "      <td>3.0</td>\n",
       "      <td>323.0</td>\n",
       "      <td>48.00</td>\n",
       "      <td>10000</td>\n",
       "      <td>5</td>\n",
       "      <td>3.0</td>\n",
       "      <td>26902</td>\n",
       "      <td>202304</td>\n",
       "      <td>NaN</td>\n",
       "    </tr>\n",
       "    <tr>\n",
       "      <th>3</th>\n",
       "      <td>이엠텍 지포스 RTX 3060 STORM X Dual OC D6 12GB</td>\n",
       "      <td>383300.0</td>\n",
       "      <td>https://prod.danawa.com/info/?pcode=13463144&amp;c...</td>\n",
       "      <td>이엠텍</td>\n",
       "      <td>13463144</td>\n",
       "      <td>//img.danawa.com/prod_img/500000/144/463/img/1...</td>\n",
       "      <td>NVIDIA</td>\n",
       "      <td>RTX 3060</td>\n",
       "      <td>8.0</td>\n",
       "      <td>NaN</td>\n",
       "      <td>...</td>\n",
       "      <td>11</td>\n",
       "      <td>2.0</td>\n",
       "      <td>245.0</td>\n",
       "      <td>40.00</td>\n",
       "      <td>10000</td>\n",
       "      <td>7</td>\n",
       "      <td>3.0</td>\n",
       "      <td>17144</td>\n",
       "      <td>202102</td>\n",
       "      <td>NaN</td>\n",
       "    </tr>\n",
       "    <tr>\n",
       "      <th>4</th>\n",
       "      <td>SAPPHIRE 라데온 RX 7600 PULSE OC D6 8GB</td>\n",
       "      <td>376190.0</td>\n",
       "      <td>https://prod.danawa.com/info/?pcode=20315144&amp;c...</td>\n",
       "      <td>SAPPHIRE</td>\n",
       "      <td>20315144</td>\n",
       "      <td>//img.danawa.com/prod_img/500000/144/315/img/2...</td>\n",
       "      <td>AMD(ATi)</td>\n",
       "      <td>RX 7600</td>\n",
       "      <td>NaN</td>\n",
       "      <td>NaN</td>\n",
       "      <td>...</td>\n",
       "      <td>11</td>\n",
       "      <td>2.0</td>\n",
       "      <td>240.0</td>\n",
       "      <td>44.07</td>\n",
       "      <td>10000</td>\n",
       "      <td>1</td>\n",
       "      <td>3.0</td>\n",
       "      <td>16661</td>\n",
       "      <td>202305</td>\n",
       "      <td>NaN</td>\n",
       "    </tr>\n",
       "    <tr>\n",
       "      <th>...</th>\n",
       "      <td>...</td>\n",
       "      <td>...</td>\n",
       "      <td>...</td>\n",
       "      <td>...</td>\n",
       "      <td>...</td>\n",
       "      <td>...</td>\n",
       "      <td>...</td>\n",
       "      <td>...</td>\n",
       "      <td>...</td>\n",
       "      <td>...</td>\n",
       "      <td>...</td>\n",
       "      <td>...</td>\n",
       "      <td>...</td>\n",
       "      <td>...</td>\n",
       "      <td>...</td>\n",
       "      <td>...</td>\n",
       "      <td>...</td>\n",
       "      <td>...</td>\n",
       "      <td>...</td>\n",
       "      <td>...</td>\n",
       "      <td>...</td>\n",
       "    </tr>\n",
       "    <tr>\n",
       "      <th>1316</th>\n",
       "      <td>액슬 지포스 GTX750 Ti 클래식 V2 D5 2GB</td>\n",
       "      <td>143000.0</td>\n",
       "      <td>https://prod.danawa.com/info/?pcode=7424305&amp;ca...</td>\n",
       "      <td>액슬</td>\n",
       "      <td>7424305</td>\n",
       "      <td>//img.danawa.com/prod_img/500000/305/424/img/7...</td>\n",
       "      <td>NVIDIA</td>\n",
       "      <td>GTX750 Ti</td>\n",
       "      <td>28.0</td>\n",
       "      <td>1020.0</td>\n",
       "      <td>...</td>\n",
       "      <td>9</td>\n",
       "      <td>1.0</td>\n",
       "      <td>162.0</td>\n",
       "      <td>35.00</td>\n",
       "      <td>0</td>\n",
       "      <td>0</td>\n",
       "      <td>NaN</td>\n",
       "      <td>3901</td>\n",
       "      <td>201903</td>\n",
       "      <td>NaN</td>\n",
       "    </tr>\n",
       "    <tr>\n",
       "      <th>1317</th>\n",
       "      <td>라데온 RX 560 14CU D5 2GB (중고)</td>\n",
       "      <td>NaN</td>\n",
       "      <td>https://prod.danawa.com/info/?pcode=6643450&amp;ca...</td>\n",
       "      <td>NaN</td>\n",
       "      <td>6643450</td>\n",
       "      <td>//img.danawa.com/prod_img/500000/450/643/img/6...</td>\n",
       "      <td>AMD(ATi)</td>\n",
       "      <td>해당없음</td>\n",
       "      <td>NaN</td>\n",
       "      <td>NaN</td>\n",
       "      <td>...</td>\n",
       "      <td>0</td>\n",
       "      <td>NaN</td>\n",
       "      <td>NaN</td>\n",
       "      <td>NaN</td>\n",
       "      <td>0</td>\n",
       "      <td>0</td>\n",
       "      <td>NaN</td>\n",
       "      <td>3641</td>\n",
       "      <td>201811</td>\n",
       "      <td>NaN</td>\n",
       "    </tr>\n",
       "    <tr>\n",
       "      <th>1318</th>\n",
       "      <td>EVGA 파워링크 (해외구매)</td>\n",
       "      <td>22700.0</td>\n",
       "      <td>https://prod.danawa.com/info/?pcode=5406903&amp;ca...</td>\n",
       "      <td>EVGA</td>\n",
       "      <td>5406903</td>\n",
       "      <td>//img.danawa.com/prod_img/500000/903/406/img/5...</td>\n",
       "      <td>NaN</td>\n",
       "      <td>해당없음</td>\n",
       "      <td>NaN</td>\n",
       "      <td>NaN</td>\n",
       "      <td>...</td>\n",
       "      <td>0</td>\n",
       "      <td>NaN</td>\n",
       "      <td>NaN</td>\n",
       "      <td>NaN</td>\n",
       "      <td>0</td>\n",
       "      <td>0</td>\n",
       "      <td>NaN</td>\n",
       "      <td>0</td>\n",
       "      <td>201708</td>\n",
       "      <td>NaN</td>\n",
       "    </tr>\n",
       "    <tr>\n",
       "      <th>1319</th>\n",
       "      <td>FORSA 지포스 GT610 Plus D3 1GB</td>\n",
       "      <td>48030.0</td>\n",
       "      <td>https://prod.danawa.com/info/?pcode=3928707&amp;ca...</td>\n",
       "      <td>FORSA</td>\n",
       "      <td>3928707</td>\n",
       "      <td>//img.danawa.com/prod_img/500000/707/928/img/3...</td>\n",
       "      <td>NVIDIA</td>\n",
       "      <td>GT610</td>\n",
       "      <td>40.0</td>\n",
       "      <td>810.0</td>\n",
       "      <td>...</td>\n",
       "      <td>9</td>\n",
       "      <td>1.0</td>\n",
       "      <td>150.0</td>\n",
       "      <td>NaN</td>\n",
       "      <td>0</td>\n",
       "      <td>0</td>\n",
       "      <td>NaN</td>\n",
       "      <td>304</td>\n",
       "      <td>201603</td>\n",
       "      <td>NaN</td>\n",
       "    </tr>\n",
       "    <tr>\n",
       "      <th>1320</th>\n",
       "      <td>매트록스 M9148 LP PCle x16 1GB DP/DVI Quad 앤아이피</td>\n",
       "      <td>1159770.0</td>\n",
       "      <td>https://prod.danawa.com/info/?pcode=1029593&amp;ca...</td>\n",
       "      <td>매트록스</td>\n",
       "      <td>1029593</td>\n",
       "      <td>//img.danawa.com/prod_img/500000/593/029/img/1...</td>\n",
       "      <td>Matrox</td>\n",
       "      <td>M9148</td>\n",
       "      <td>NaN</td>\n",
       "      <td>NaN</td>\n",
       "      <td>...</td>\n",
       "      <td>1</td>\n",
       "      <td>NaN</td>\n",
       "      <td>NaN</td>\n",
       "      <td>NaN</td>\n",
       "      <td>0</td>\n",
       "      <td>0</td>\n",
       "      <td>NaN</td>\n",
       "      <td>40</td>\n",
       "      <td>201002</td>\n",
       "      <td>NaN</td>\n",
       "    </tr>\n",
       "  </tbody>\n",
       "</table>\n",
       "<p>1321 rows × 33 columns</p>\n",
       "</div>"
      ],
      "text/plain": [
       "                                                   name      price  \\\n",
       "0                이엠텍 지포스 RTX 4070 Ti GAMINGPRO D6X 12GB  1128990.0   \n",
       "1            이엠텍 지포스 RTX 4060 Ti STORM X Dual OC D6 8GB   565530.0   \n",
       "2     갤럭시 GALAX 지포스 RTX 4070 EX GAMER WHITE OC D6X 12GB   844610.0   \n",
       "3              이엠텍 지포스 RTX 3060 STORM X Dual OC D6 12GB   383300.0   \n",
       "4                  SAPPHIRE 라데온 RX 7600 PULSE OC D6 8GB   376190.0   \n",
       "...                                                 ...        ...   \n",
       "1316                     액슬 지포스 GTX750 Ti 클래식 V2 D5 2GB   143000.0   \n",
       "1317                        라데온 RX 560 14CU D5 2GB (중고)        NaN   \n",
       "1318                                   EVGA 파워링크 (해외구매)    22700.0   \n",
       "1319                        FORSA 지포스 GT610 Plus D3 1GB    48030.0   \n",
       "1320        매트록스 M9148 LP PCle x16 1GB DP/DVI Quad 앤아이피  1159770.0   \n",
       "\n",
       "                                                   link   company  \\\n",
       "0     https://prod.danawa.com/info/?pcode=18668606&c...       이엠텍   \n",
       "1     https://prod.danawa.com/info/?pcode=20274764&c...       이엠텍   \n",
       "2     https://prod.danawa.com/info/?pcode=19773293&c...       갤럭시   \n",
       "3     https://prod.danawa.com/info/?pcode=13463144&c...       이엠텍   \n",
       "4     https://prod.danawa.com/info/?pcode=20315144&c...  SAPPHIRE   \n",
       "...                                                 ...       ...   \n",
       "1316  https://prod.danawa.com/info/?pcode=7424305&ca...        액슬   \n",
       "1317  https://prod.danawa.com/info/?pcode=6643450&ca...       NaN   \n",
       "1318  https://prod.danawa.com/info/?pcode=5406903&ca...      EVGA   \n",
       "1319  https://prod.danawa.com/info/?pcode=3928707&ca...     FORSA   \n",
       "1320  https://prod.danawa.com/info/?pcode=1029593&ca...      매트록스   \n",
       "\n",
       "      product_seq                                              image  \\\n",
       "0        18668606  //img.danawa.com/prod_img/500000/606/668/img/1...   \n",
       "1        20274764  //img.danawa.com/prod_img/500000/764/274/img/2...   \n",
       "2        19773293  //img.danawa.com/prod_img/500000/293/773/img/1...   \n",
       "3        13463144  //img.danawa.com/prod_img/500000/144/463/img/1...   \n",
       "4        20315144  //img.danawa.com/prod_img/500000/144/315/img/2...   \n",
       "...           ...                                                ...   \n",
       "1316      7424305  //img.danawa.com/prod_img/500000/305/424/img/7...   \n",
       "1317      6643450  //img.danawa.com/prod_img/500000/450/643/img/6...   \n",
       "1318      5406903  //img.danawa.com/prod_img/500000/903/406/img/5...   \n",
       "1319      3928707  //img.danawa.com/prod_img/500000/707/928/img/3...   \n",
       "1320      1029593  //img.danawa.com/prod_img/500000/593/029/img/1...   \n",
       "\n",
       "     chipset_company      chipset    nm  base_clock  ...  cooling_type  \\\n",
       "0             NVIDIA  RTX 4070 Ti   4.0      2310.0  ...            11   \n",
       "1             NVIDIA  RTX 4060 Ti   4.0      2310.0  ...             9   \n",
       "2             NVIDIA     RTX 4070   NaN      1920.0  ...            11   \n",
       "3             NVIDIA     RTX 3060   8.0         NaN  ...            11   \n",
       "4           AMD(ATi)      RX 7600   NaN         NaN  ...            11   \n",
       "...              ...          ...   ...         ...  ...           ...   \n",
       "1316          NVIDIA    GTX750 Ti  28.0      1020.0  ...             9   \n",
       "1317        AMD(ATi)         해당없음   NaN         NaN  ...             0   \n",
       "1318             NaN         해당없음   NaN         NaN  ...             0   \n",
       "1319          NVIDIA        GT610  40.0       810.0  ...             9   \n",
       "1320          Matrox        M9148   NaN         NaN  ...             1   \n",
       "\n",
       "      pan_number length thickness    pin  feature  as_years  bench_mark  \\\n",
       "0            3.0  328.9     63.40    100        7       3.0       31652   \n",
       "1            2.0  249.9     40.10  10000        7       3.0       22560   \n",
       "2            3.0  323.0     48.00  10000        5       3.0       26902   \n",
       "3            2.0  245.0     40.00  10000        7       3.0       17144   \n",
       "4            2.0  240.0     44.07  10000        1       3.0       16661   \n",
       "...          ...    ...       ...    ...      ...       ...         ...   \n",
       "1316         1.0  162.0     35.00      0        0       NaN        3901   \n",
       "1317         NaN    NaN       NaN      0        0       NaN        3641   \n",
       "1318         NaN    NaN       NaN      0        0       NaN           0   \n",
       "1319         1.0  150.0       NaN      0        0       NaN         304   \n",
       "1320         NaN    NaN       NaN      0        0       NaN          40   \n",
       "\n",
       "      reg_date  bookmark  \n",
       "0       202301       NaN  \n",
       "1       202305       NaN  \n",
       "2       202304       NaN  \n",
       "3       202102       NaN  \n",
       "4       202305       NaN  \n",
       "...        ...       ...  \n",
       "1316    201903       NaN  \n",
       "1317    201811       NaN  \n",
       "1318    201708       NaN  \n",
       "1319    201603       NaN  \n",
       "1320    201002       NaN  \n",
       "\n",
       "[1321 rows x 33 columns]"
      ]
     },
     "execution_count": 23,
     "metadata": {},
     "output_type": "execute_result"
    }
   ],
   "source": [
    "gfile"
   ]
  },
  {
   "cell_type": "code",
   "execution_count": 27,
   "metadata": {
    "tags": []
   },
   "outputs": [
    {
     "name": "stdout",
     "output_type": "stream",
     "text": [
      "0 31652 inf\n",
      "1 22560 31652\n",
      "3 17144 22560\n",
      "4 16661 17144\n",
      "6 12793 16661\n",
      "64 12793 12793\n",
      "66 2489 12793\n",
      "67 2489 2489\n",
      "115 632 2489\n",
      "242 632 632\n",
      "481 632 632\n",
      "814 632 632\n",
      "815 632 632\n",
      "979 98 632\n",
      "1229 98 98\n",
      "1320 GIGABYTE 지포스 G210 D3 1GB 98\n"
     ]
    }
   ],
   "source": [
    "min_bench = np.inf\n",
    "lowest_idx = 0\n",
    "for i in range(len(gfile)):\n",
    "    if any([x in gfile.loc[i, 'name'] for x in ignore_text]): continue\n",
    "    if gfile.loc[i, 'bench_mark'] <= min_bench:\n",
    "        print(i, gfile.loc[i, 'bench_mark'], min_bench)\n",
    "        min_bench = gfile.loc[i, 'bench_mark']\n",
    "        lowest_idx = i\n",
    "print(i, gfile.loc[lowest_idx, 'name'], gfile.loc[lowest_idx, 'bench_mark'])"
   ]
  },
  {
   "cell_type": "code",
   "execution_count": 29,
   "metadata": {
    "tags": []
   },
   "outputs": [
    {
     "name": "stdout",
     "output_type": "stream",
     "text": [
      "gpu reqs: 105/105 (99%)\n",
      "Done!\n",
      "\n",
      "걸린 시간: 4.07 sec\n"
     ]
    }
   ],
   "source": [
    "start = time.time()\n",
    "bench_value_list = [None] * len(reqg_names)\n",
    "for i in range(len(reqg_names)):\n",
    "    rn = reqg_names.loc[i]\n",
    "    if type(rn) == float:\n",
    "        continue\n",
    "    # if i == 236 or i == 237:\n",
    "    #     print(f'\\n\\n{rn}')\n",
    "    max_val = 0\n",
    "    min_bench = np.inf\n",
    "    bench_list = []\n",
    "    for j in range(len(bench_names)):\n",
    "        bn = bench_names.loc[j]\n",
    "        res = len(set(rn) & set(bn))\n",
    "        val = res / float(len(set(rn) | set(bn))) * 100\n",
    "        bench = gbfile.loc[j, 'count']\n",
    "        if val >= max_val and min_bench > bench:\n",
    "            max_val = val\n",
    "            min_bench = bench\n",
    "            if val > max_val:\n",
    "                bench_list = [bench]\n",
    "                \n",
    "            # if i == 236 or i == 237:\n",
    "            #     print(j, val, bench, bench_names.loc[j])\n",
    "    min_idx = 0\n",
    "    if max_val == 0:\n",
    "        continue\n",
    "    for k in range(len(gpu_bench)):\n",
    "        if gpu_bench.loc[k] >= min_bench and gpu_bench.loc[min_idx] > gpu_bench.loc[k]:\n",
    "            min_idx = k\n",
    "            # if i == 236 or i == 237: print(f'K: {k}, {gpu_bench.loc[k]}, {gpu.loc[k]}')\n",
    "    if gpu_bench.loc == 0:\n",
    "        continue;\n",
    "    else:\n",
    "        bench_value_list[i] = min_idx + 1\n",
    "    # if i == 237: break\n",
    "    percent = i / len(reqg_names) * 100\n",
    "    print(f'\\rgpu reqs: {i+1}/{len(reqg_names)} ({percent:.0f}%)', end='')\n",
    "    \n",
    "print('\\nDone!')\n",
    "end = time.time()\n",
    "print(f'\\n걸린 시간: {end-start:.2f} sec')"
   ]
  },
  {
   "cell_type": "code",
   "execution_count": 30,
   "metadata": {
    "tags": []
   },
   "outputs": [
    {
     "name": "stdout",
     "output_type": "stream",
     "text": [
      "gpu: 105/105 (99%)"
     ]
    }
   ],
   "source": [
    "id_list = [None] * len(reqg_names)\n",
    "for i in range(len(reqg_names)):\n",
    "    rn = reqg_names.loc[i]\n",
    "    if type(rn) == float:\n",
    "        continue\n",
    "    max_val = 0\n",
    "    min_bench = np.inf\n",
    "    for j in range(len(g_names)):\n",
    "        gn = g_names.loc[j]\n",
    "        res = len(set(rn) & set(gn))\n",
    "        val = res / float(len(set(rn) | set(gn))) * 100\n",
    "        if val >= max_val and min_bench >= gpu_bench.loc[j]:\n",
    "            max_val = val\n",
    "            min_bench = gpu_bench.loc[j]\n",
    "            id_list[i] = f'{j+1}'\n",
    "    percent = i / len(reqg_names) * 100\n",
    "    print(f'\\rgpu: {i+1}/{len(reqg_names)} ({percent:.0f}%)', end='')"
   ]
  },
  {
   "cell_type": "code",
   "execution_count": 169,
   "metadata": {
    "tags": []
   },
   "outputs": [],
   "source": [
    "## 1. 게임 사양 <-> 벤치 이름 매칭\n",
    "## 2. 벤치 값 이상이면서 가장 작은 부품 매칭"
   ]
  },
  {
   "cell_type": "code",
   "execution_count": 31,
   "metadata": {
    "tags": []
   },
   "outputs": [],
   "source": [
    "gr = er_origin"
   ]
  },
  {
   "cell_type": "code",
   "execution_count": 32,
   "metadata": {
    "tags": []
   },
   "outputs": [],
   "source": [
    "# gr['cpu'] = bench_value_list"
   ]
  },
  {
   "cell_type": "code",
   "execution_count": 44,
   "metadata": {
    "tags": []
   },
   "outputs": [],
   "source": [
    "# gr 21 75 76\n",
    "k = '26 42 59 63 69 74 78 80 84'.split(' ')"
   ]
  },
  {
   "cell_type": "code",
   "execution_count": 46,
   "metadata": {
    "tags": []
   },
   "outputs": [],
   "source": [
    "for k_ in k:\n",
    "    bench_value_list[int(k_)] = 400"
   ]
  },
  {
   "cell_type": "code",
   "execution_count": 49,
   "metadata": {
    "tags": []
   },
   "outputs": [],
   "source": [
    "bench_value_list[93] = 1153"
   ]
  },
  {
   "cell_type": "code",
   "execution_count": 50,
   "metadata": {
    "tags": []
   },
   "outputs": [
    {
     "name": "stdout",
     "output_type": "stream",
     "text": [
      ":    0:DirectX 9 이상                       :\n",
      ":    0::EVGA 파워링크 (해외구매):\n",
      ": 1599::NVIDIA Quadro P400 D5 2GB (해외구매):\n",
      "\n",
      ":    1:DirectX 9 이상                       :\n",
      ":    0::EVGA 파워링크 (해외구매):\n",
      ": 1599::NVIDIA Quadro P400 D5 2GB (해외구매):\n",
      "\n",
      ":    2:DirectX 9 이상                       :\n",
      ":    0::EVGA 파워링크 (해외구매):\n",
      ": 1599::NVIDIA Quadro P400 D5 2GB (해외구매):\n",
      "\n",
      ":    3:DirectX 9 이상                       :\n",
      ":    0::EVGA 파워링크 (해외구매):\n",
      ": 1599::NVIDIA Quadro P400 D5 2GB (해외구매):\n",
      "\n",
      ":   21:nVidia or ATI with support of OpenGL 1.5 or higher:\n",
      ":    0::NVIDIA NV링크 브릿지 2-Slot:\n",
      ":  612::GeForce GT 720 (중고):\n",
      "\n",
      ":   22:Intel HD Graphics 5000 or later; NVIDIA GeForce GTX 700 or later; AMD Radeon R5 or later:\n",
      ": 1752::지포스 GTX650 D5 1GB (중고):\n",
      ":  612::GeForce GT 720 (중고):\n",
      "\n",
      ":   23:Intel HD Graphics 5000 or later; NVIDIA GeForce GTX 700 or later; AMD Radeon R5 or later:\n",
      ": 1752::지포스 GTX650 D5 1GB (중고):\n",
      ":  612::GeForce GT 720 (중고):\n",
      "\n",
      ":   24:2GB of GPU VRAM                    :\n",
      ":  304::갤럭시 지포스 GT610 D3 2GB LP:\n",
      ": 1599::NVIDIA Quadro P400 D5 2GB (해외구매):\n",
      "\n",
      ":   25:2 GB of GPU memory                 :\n",
      ":  304::갤럭시 지포스 GT610 D3 2GB LP:\n",
      ": 1599::NVIDIA Quadro P400 D5 2GB (해외구매):\n",
      "\n",
      ":   26:4 GB of GPU for HD workflows and 6 GB of unified memory for 4k and higher resolution workflows:\n",
      ":  827::갤럭시 GALAX 지포스 GT730 D3 4GB LP:\n",
      ": 4991::MSI GeForce GTX 1630 에어로 ITX OC D6 4GB:\n",
      "\n",
      ":   27:NVIDIA® GeForce RTX or GTX 960 series or higher with 4GB:\n",
      ":    0::NVIDIA 쿼드로 RTX NV링크 브릿지 3-Slot:\n",
      ": 6039::엠탑코리아 GeForce GTX 960 NEW D5 2GB 듀얼쿨러:\n",
      "\n",
      ":   28:2060?GeForce RTX series NVIDIA or 5300 Radeon RX AMD or newer:\n",
      ":    0::NVIDIA 쿼드로 RTX NV링크 브릿지 3-Slot:\n",
      ":   23::매트록스 M9140 PCle x16 LP 코트록스:\n",
      "\n",
      ":   29:Integrated or discrete GPU with at least 2GB of VRAM and supports OpenCL 1.2 or CUDA 11 and the Latest driver Blackmagic Design Desktop Video 10.4:\n",
      ":  304::갤럭시 지포스 GT610 D3 2GB LP:\n",
      ":    4::GeForce GTS450 (중고):\n",
      "\n",
      ":   30:Integrated or discrete GPU with at least 2GB of VRAM and supports OpenCL 1.2 or CUDA 11 and the Latest driver Blackmagic Design Desktop Video 10.4:\n",
      ":  304::갤럭시 지포스 GT610 D3 2GB LP:\n",
      ":    4::GeForce GTS450 (중고):\n",
      "\n",
      ":   33:2GB of GPU VRAM                    :\n",
      ":  304::갤럭시 지포스 GT610 D3 2GB LP:\n",
      ": 1599::NVIDIA Quadro P400 D5 2GB (해외구매):\n",
      "\n",
      ":   34:GTX 1650                           :\n",
      ": 7858::OCPC 지포스 GTX 1650 D6 4GB:\n",
      ": 7858::이엠텍 GeForce GTX 1650 MIRACLE NEW D6 4GB:\n",
      "\n",
      ":   35:RTX 3050                           :\n",
      ":12971::ASUS DUAL 지포스 RTX 3050 D6 8GB:\n",
      ":12971::PNY GeForce RTX 3050 VERTO D6 8GB Dual 제이씨현:\n",
      "\n",
      ":   36:GTX 1660                           :\n",
      ":11724::지포스 GTX 1660 D5 6GB (중고):\n",
      ":11724::갤럭시 GALAX GeForce GTX 1660 BLACK D D5 6GB:\n",
      "\n",
      ":   37:RTX 3060 Ti 8GB                    :\n",
      ":20590::FORSA 지포스 RTX 3060 Ti D6 8GB:\n",
      ":20590::GIGABYTE GeForce RTX 3060 Ti Gaming OC D6X 8GB 피씨디렉트:\n",
      "\n",
      ":   38:RTX 3070 8GB                       :\n",
      ":12971::ASUS DUAL 지포스 RTX 3050 D6 8GB:\n",
      ":22486::ASUS GeForce RTX 3070 O8G OC D6 8GB:\n",
      "\n",
      ":   39:RTX 3070 Ti 8GB                    :\n",
      ":20590::FORSA 지포스 RTX 3060 Ti D6 8GB:\n",
      ":23773::ZOTAC GAMING GeForce RTX 3070 Ti D6X 8GB:\n",
      "\n",
      ":   40:DirectX 12 support and 2 GB of memory:\n",
      ":  304::갤럭시 지포스 GT610 D3 2GB LP:\n",
      ":   23::매트록스 M9140 PCle x16 LP 코트록스:\n",
      "\n",
      ":   41:NVIDIA GeForce GTX 1070            :\n",
      ": 1752::지포스 GTX650 D5 1GB (중고):\n",
      ":13509::GeForce GTX 1070 D5 8GB (중고):\n",
      "\n",
      ":   42:Optional GPU Performance: 1 GB of VRAM (4 GB recommended):\n",
      ":   98::GIGABYTE 지포스 G210 D3 1GB:\n",
      ": 4991::MSI GeForce GTX 1630 에어로 ITX OC D6 4GB:\n",
      "\n",
      ":   43:NVIDIA GeForce GTX 1070            :\n",
      ": 1752::지포스 GTX650 D5 1GB (중고):\n",
      ":13509::GeForce GTX 1070 D5 8GB (중고):\n",
      "\n",
      ":   47:NVIDIA GeForce, AMD Radeon, Intel Arc, Intel Iris (Plus or Xe), or Intel HD/UHD:\n",
      ":    0::NVIDIA NV링크 브릿지 2-Slot:\n",
      ": 2408::AMD Radeon PRO WX 3200 D5 4GB LP 대원씨티에스:\n",
      "\n",
      ":   48:Intel 82945G Express               :\n",
      ":    0::EVGA 파워링크 (해외구매):\n",
      ":   23::매트록스 M9140 PCle x16 LP 코트록스:\n",
      "\n",
      ":   49:NVIDIA GeForce 8200M G             :\n",
      ":    0::NVIDIA NV링크 브릿지 2-Slot:\n",
      ":   70::NVIDIA Quadro NVS 420 512MB PCI-E x16 (해외구매):\n",
      "\n",
      ":   56:2GB of GPU VRAM                    :\n",
      ":  304::갤럭시 지포스 GT610 D3 2GB LP:\n",
      ": 1599::NVIDIA Quadro P400 D5 2GB (해외구매):\n",
      "\n",
      ":   57:8GB of GPU VRAM                    :\n",
      ": 7585::NVIDIA T1000 D6 8GB:\n",
      ":11641::NVIDIA Quadro P4000 D5 8GB (해외구매):\n",
      "\n",
      ":   58:1GB of GPU VRAM                    :\n",
      ":   98::GIGABYTE 지포스 G210 D3 1GB:\n",
      ": 1599::NVIDIA Quadro P400 D5 2GB (해외구매):\n",
      "\n",
      ":   59:4GB of GPU VRAM                    :\n",
      ":  827::갤럭시 GALAX 지포스 GT730 D3 4GB LP:\n",
      ": 4991::MSI GeForce GTX 1630 에어로 ITX OC D6 4GB:\n",
      "\n",
      ":   60:2GB of GPU VRAM                    :\n",
      ":  304::갤럭시 지포스 GT610 D3 2GB LP:\n",
      ": 1599::NVIDIA Quadro P400 D5 2GB (해외구매):\n",
      "\n",
      ":   61:8GB of GPU VRAM                    :\n",
      ": 7585::NVIDIA T1000 D6 8GB:\n",
      ":11641::NVIDIA Quadro P4000 D5 8GB (해외구매):\n",
      "\n",
      ":   63:4GB of GPU VRAM                    :\n",
      ":  827::갤럭시 GALAX 지포스 GT730 D3 4GB LP:\n",
      ": 4991::MSI GeForce GTX 1630 에어로 ITX OC D6 4GB:\n",
      "\n",
      ":   66:NVIDIA T600 or higher              :\n",
      ":    0::NVIDIA NV링크 브릿지 2-Slot:\n",
      ": 6481::NVIDIA T600 D6 4GB:\n",
      "\n",
      ":   67:RTX A4000 or higher                :\n",
      ":    0::NVIDIA 쿼드로 RTX NV링크 브릿지 3-Slot:\n",
      ":19280::NVIDIA RTX A4000 D6 16GB:\n",
      "\n",
      ":   68:1GB of GPU VRAM                    :\n",
      ":   98::GIGABYTE 지포스 G210 D3 1GB:\n",
      ": 1599::NVIDIA Quadro P400 D5 2GB (해외구매):\n",
      "\n",
      ":   69:4GB of GPU VRAM                    :\n",
      ":  827::갤럭시 GALAX 지포스 GT730 D3 4GB LP:\n",
      ": 4991::MSI GeForce GTX 1630 에어로 ITX OC D6 4GB:\n",
      "\n",
      ":   74:4GB of GPU VRAM                    :\n",
      ":  827::갤럭시 GALAX 지포스 GT730 D3 4GB LP:\n",
      ": 4991::MSI GeForce GTX 1630 에어로 ITX OC D6 4GB:\n",
      "\n",
      ":   75:Must support OpenGL 3.3 or higher and Vulkan 1.1 or higher.:\n",
      ":    0::EVGA 파워링크 (해외구매):\n",
      ":  612::GeForce GT 720 (중고):\n",
      "\n",
      ":   76:Must support OpenGL 3.3 or higher and Vulkan 1.1 or higher.:\n",
      ":    0::EVGA 파워링크 (해외구매):\n",
      ":  612::GeForce GT 720 (중고):\n",
      "\n",
      ":   78:4GB of GPU VRAM                    :\n",
      ":  827::갤럭시 GALAX 지포스 GT730 D3 4GB LP:\n",
      ": 4991::MSI GeForce GTX 1630 에어로 ITX OC D6 4GB:\n",
      "\n",
      ":   79:1GB of GPU VRAM                    :\n",
      ":   98::GIGABYTE 지포스 G210 D3 1GB:\n",
      ": 1599::NVIDIA Quadro P400 D5 2GB (해외구매):\n",
      "\n",
      ":   80:4GB of GPU VRAM                    :\n",
      ":  827::갤럭시 GALAX 지포스 GT730 D3 4GB LP:\n",
      ": 4991::MSI GeForce GTX 1630 에어로 ITX OC D6 4GB:\n",
      "\n",
      ":   84:4GB of GPU VRAM                    :\n",
      ":  827::갤럭시 GALAX 지포스 GT730 D3 4GB LP:\n",
      ": 4991::MSI GeForce GTX 1630 에어로 ITX OC D6 4GB:\n",
      "\n",
      ":   92:NVIDIA Quadro GPUs supported on specified versions:\n",
      ":    0::NVIDIA 쿼드로 Sync II:\n",
      ": 1599::NVIDIA Quadro P400 D5 2GB (해외구매):\n",
      "\n",
      ":   93:NVIDIA Quadro GPUs supported on specified versions:\n",
      ":    0::NVIDIA 쿼드로 Sync II:\n",
      ": 1599::NVIDIA Quadro P400 D5 2GB (해외구매):\n",
      "\n",
      ":  103:NVIDIA GeForce 510                 :\n",
      ":    0::NVIDIA NV링크 브릿지 2-Slot:\n",
      ":  304::갤럭시 갤라즈 GALAX GeForce GT 610 D3 2GB LP:\n",
      "\n",
      ":  104:NVIDIA GeForce 510                 :\n",
      ":    0::NVIDIA NV링크 브릿지 2-Slot:\n",
      ":  304::갤럭시 갤라즈 GALAX GeForce GT 610 D3 2GB LP:\n",
      "\n"
     ]
    }
   ],
   "source": [
    "for i in range(len(reqg_names)):\n",
    "    if type(req_gpu.loc[i]) == float or bench_value_list[i] == None: continue\n",
    "    idx = int(bench_value_list[i])-1\n",
    "    idx_og = int(id_list[i])-1\n",
    "    print(f':{i:5d}:{req_gpu.loc[i]:35s}:\\n:{gpu_bench.loc[idx_og]:5d}::{gpu.loc[idx_og]}:\\n:{gpu_bench.loc[idx]:5d}::{\" \".join(filter(None, g_names.loc[idx]))}:\\n')"
   ]
  },
  {
   "cell_type": "code",
   "execution_count": 51,
   "metadata": {
    "tags": []
   },
   "outputs": [],
   "source": [
    "gr = er_origin\n",
    "gr['gpu'] = bench_value_list"
   ]
  },
  {
   "cell_type": "code",
   "execution_count": 52,
   "metadata": {
    "tags": []
   },
   "outputs": [
    {
     "data": {
      "text/html": [
       "<div>\n",
       "<style scoped>\n",
       "    .dataframe tbody tr th:only-of-type {\n",
       "        vertical-align: middle;\n",
       "    }\n",
       "\n",
       "    .dataframe tbody tr th {\n",
       "        vertical-align: top;\n",
       "    }\n",
       "\n",
       "    .dataframe thead th {\n",
       "        text-align: right;\n",
       "    }\n",
       "</style>\n",
       "<table border=\"1\" class=\"dataframe\">\n",
       "  <thead>\n",
       "    <tr style=\"text-align: right;\">\n",
       "      <th></th>\n",
       "      <th>name</th>\n",
       "      <th>cpu</th>\n",
       "      <th>ram</th>\n",
       "      <th>gpu</th>\n",
       "      <th>dx</th>\n",
       "      <th>os</th>\n",
       "      <th>sto</th>\n",
       "      <th>spec_class</th>\n",
       "    </tr>\n",
       "  </thead>\n",
       "  <tbody>\n",
       "    <tr>\n",
       "      <th>0</th>\n",
       "      <td>한컴오피스 2022</td>\n",
       "      <td>2.4GHz 이상, 2코어</td>\n",
       "      <td>2GB</td>\n",
       "      <td>1153.0</td>\n",
       "      <td>DirectX 9</td>\n",
       "      <td>Windows 7 SP1 이상</td>\n",
       "      <td>2GB</td>\n",
       "      <td>1</td>\n",
       "    </tr>\n",
       "    <tr>\n",
       "      <th>1</th>\n",
       "      <td>Microsoft 365</td>\n",
       "      <td>1.6GHz 이상, 2코어</td>\n",
       "      <td>4GB</td>\n",
       "      <td>1153.0</td>\n",
       "      <td>DirectX 9</td>\n",
       "      <td>Windows 11, Windows 10, Windows 8.1, Windows S...</td>\n",
       "      <td>4GB</td>\n",
       "      <td>1</td>\n",
       "    </tr>\n",
       "    <tr>\n",
       "      <th>2</th>\n",
       "      <td>Office 2019</td>\n",
       "      <td>1.6GHz 이상, 2코어</td>\n",
       "      <td>4GB</td>\n",
       "      <td>1153.0</td>\n",
       "      <td>DirectX 9</td>\n",
       "      <td>Windows OS: Windows 11, Windows 10, Windows 10...</td>\n",
       "      <td>4GB</td>\n",
       "      <td>1</td>\n",
       "    </tr>\n",
       "    <tr>\n",
       "      <th>3</th>\n",
       "      <td>Office 2021</td>\n",
       "      <td>1.1GHz 이상, 2코어</td>\n",
       "      <td>4GB</td>\n",
       "      <td>1153.0</td>\n",
       "      <td>DirectX 9</td>\n",
       "      <td>Windows 10 또는 Windows 11</td>\n",
       "      <td>4GB</td>\n",
       "      <td>1</td>\n",
       "    </tr>\n",
       "    <tr>\n",
       "      <th>4</th>\n",
       "      <td>4k 영상 시청</td>\n",
       "      <td>인텔 코어 i3-12세대 12100</td>\n",
       "      <td>8GB</td>\n",
       "      <td>NaN</td>\n",
       "      <td>NaN</td>\n",
       "      <td>NaN</td>\n",
       "      <td>0MB</td>\n",
       "      <td>1</td>\n",
       "    </tr>\n",
       "    <tr>\n",
       "      <th>...</th>\n",
       "      <td>...</td>\n",
       "      <td>...</td>\n",
       "      <td>...</td>\n",
       "      <td>...</td>\n",
       "      <td>...</td>\n",
       "      <td>...</td>\n",
       "      <td>...</td>\n",
       "      <td>...</td>\n",
       "    </tr>\n",
       "    <tr>\n",
       "      <th>100</th>\n",
       "      <td>Avid Sibelius</td>\n",
       "      <td>Any modern CPU</td>\n",
       "      <td>4GB</td>\n",
       "      <td>NaN</td>\n",
       "      <td>NaN</td>\n",
       "      <td>Windows 10, 11</td>\n",
       "      <td>36GB</td>\n",
       "      <td>1</td>\n",
       "    </tr>\n",
       "    <tr>\n",
       "      <th>101</th>\n",
       "      <td>LMMS (Linux MultiMedia Studio)</td>\n",
       "      <td>1.5 GHz x86, x86_64, or ARM-based CPU with 2 c...</td>\n",
       "      <td>1GB</td>\n",
       "      <td>NaN</td>\n",
       "      <td>NaN</td>\n",
       "      <td>Windows 7</td>\n",
       "      <td>100MB</td>\n",
       "      <td>0</td>\n",
       "    </tr>\n",
       "    <tr>\n",
       "      <th>102</th>\n",
       "      <td>LMMS (Linux MultiMedia Studio)</td>\n",
       "      <td>2 GHz x86, x86_64, or ARM-based CPU with 4 cores</td>\n",
       "      <td>4GB</td>\n",
       "      <td>NaN</td>\n",
       "      <td>NaN</td>\n",
       "      <td>Windows 10</td>\n",
       "      <td>512MB</td>\n",
       "      <td>1</td>\n",
       "    </tr>\n",
       "    <tr>\n",
       "      <th>103</th>\n",
       "      <td>Cakewalk</td>\n",
       "      <td>Intel Core 2 Duo E8400</td>\n",
       "      <td>4GB</td>\n",
       "      <td>200.0</td>\n",
       "      <td>NaN</td>\n",
       "      <td>Windows</td>\n",
       "      <td>200MB</td>\n",
       "      <td>0</td>\n",
       "    </tr>\n",
       "    <tr>\n",
       "      <th>104</th>\n",
       "      <td>Cakewalk</td>\n",
       "      <td>Intel Core 2 Duo E8400</td>\n",
       "      <td>4GB</td>\n",
       "      <td>200.0</td>\n",
       "      <td>NaN</td>\n",
       "      <td>Windows</td>\n",
       "      <td>20GB</td>\n",
       "      <td>1</td>\n",
       "    </tr>\n",
       "  </tbody>\n",
       "</table>\n",
       "<p>105 rows × 8 columns</p>\n",
       "</div>"
      ],
      "text/plain": [
       "                               name  \\\n",
       "0                        한컴오피스 2022   \n",
       "1                     Microsoft 365   \n",
       "2                       Office 2019   \n",
       "3                       Office 2021   \n",
       "4                          4k 영상 시청   \n",
       "..                              ...   \n",
       "100                   Avid Sibelius   \n",
       "101  LMMS (Linux MultiMedia Studio)   \n",
       "102  LMMS (Linux MultiMedia Studio)   \n",
       "103                        Cakewalk   \n",
       "104                        Cakewalk   \n",
       "\n",
       "                                                   cpu  ram     gpu  \\\n",
       "0                                       2.4GHz 이상, 2코어  2GB  1153.0   \n",
       "1                                       1.6GHz 이상, 2코어  4GB  1153.0   \n",
       "2                                       1.6GHz 이상, 2코어  4GB  1153.0   \n",
       "3                                       1.1GHz 이상, 2코어  4GB  1153.0   \n",
       "4                                  인텔 코어 i3-12세대 12100  8GB     NaN   \n",
       "..                                                 ...  ...     ...   \n",
       "100                                     Any modern CPU  4GB     NaN   \n",
       "101  1.5 GHz x86, x86_64, or ARM-based CPU with 2 c...  1GB     NaN   \n",
       "102   2 GHz x86, x86_64, or ARM-based CPU with 4 cores  4GB     NaN   \n",
       "103                             Intel Core 2 Duo E8400  4GB   200.0   \n",
       "104                             Intel Core 2 Duo E8400  4GB   200.0   \n",
       "\n",
       "            dx                                                 os    sto  \\\n",
       "0    DirectX 9                                   Windows 7 SP1 이상    2GB   \n",
       "1    DirectX 9  Windows 11, Windows 10, Windows 8.1, Windows S...    4GB   \n",
       "2    DirectX 9  Windows OS: Windows 11, Windows 10, Windows 10...    4GB   \n",
       "3    DirectX 9                           Windows 10 또는 Windows 11    4GB   \n",
       "4          NaN                                                NaN    0MB   \n",
       "..         ...                                                ...    ...   \n",
       "100        NaN                                     Windows 10, 11   36GB   \n",
       "101        NaN                                          Windows 7  100MB   \n",
       "102        NaN                                         Windows 10  512MB   \n",
       "103        NaN                                            Windows  200MB   \n",
       "104        NaN                                            Windows   20GB   \n",
       "\n",
       "     spec_class  \n",
       "0             1  \n",
       "1             1  \n",
       "2             1  \n",
       "3             1  \n",
       "4             1  \n",
       "..          ...  \n",
       "100           1  \n",
       "101           0  \n",
       "102           1  \n",
       "103           0  \n",
       "104           1  \n",
       "\n",
       "[105 rows x 8 columns]"
      ]
     },
     "execution_count": 52,
     "metadata": {},
     "output_type": "execute_result"
    }
   ],
   "source": [
    "gr"
   ]
  },
  {
   "cell_type": "code",
   "execution_count": 53,
   "metadata": {
    "tags": []
   },
   "outputs": [],
   "source": [
    "pd.DataFrame(gr).to_csv(f'../etcrequirements{today}.csv', index=None)"
   ]
  },
  {
   "cell_type": "code",
   "execution_count": null,
   "metadata": {},
   "outputs": [],
   "source": []
  }
 ],
 "metadata": {
  "kernelspec": {
   "display_name": "Python 3 (ipykernel)",
   "language": "python",
   "name": "python3"
  },
  "language_info": {
   "codemirror_mode": {
    "name": "ipython",
    "version": 3
   },
   "file_extension": ".py",
   "mimetype": "text/x-python",
   "name": "python",
   "nbconvert_exporter": "python",
   "pygments_lexer": "ipython3",
   "version": "3.11.4"
  }
 },
 "nbformat": 4,
 "nbformat_minor": 4
}
