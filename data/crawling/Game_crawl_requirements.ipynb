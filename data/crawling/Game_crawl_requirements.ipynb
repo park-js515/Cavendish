{
 "cells": [
  {
   "cell_type": "code",
   "execution_count": 1,
   "id": "1633345f",
   "metadata": {
    "tags": []
   },
   "outputs": [],
   "source": [
    "from selenium import webdriver\n",
    "from selenium.webdriver.chrome.service import Service\n",
    "from selenium.webdriver.chrome.options import Options\n",
    "from selenium.webdriver.common.by import By\n",
    "from selenium.webdriver.support.select import Select\n",
    "from selenium.webdriver.support.ui import WebDriverWait\n",
    "from selenium.webdriver.support import expected_conditions as EC\n",
    "from selenium.common.exceptions import NoSuchElementException\n",
    "from selenium.common.exceptions import StaleElementReferenceException\n",
    "from bs4 import BeautifulSoup\n",
    "import pandas as pd\n",
    "import pprint\n",
    "import time\n",
    "import csv\n",
    "import re\n",
    "\n",
    "# 크롬 드라이버 자동 업데이트\n",
    "from webdriver_manager.chrome import ChromeDriverManager"
   ]
  },
  {
   "cell_type": "code",
   "execution_count": 2,
   "id": "b869bd46",
   "metadata": {
    "tags": []
   },
   "outputs": [],
   "source": [
    "class RetriesExceededError(Exception):\n",
    "    def __init__(self, message):\n",
    "        super().__init__(message)\n",
    "\n",
    "        \n",
    "def find_element_with_retry(driver_, by, value, waiting_sec=2.5, max_retries=10):\n",
    "    retries = 0\n",
    "    while retries < max_retries:\n",
    "        try:\n",
    "            element = WebDriverWait(driver_, waiting_sec).until(EC.presence_of_element_located((by, value)))\n",
    "            return element\n",
    "        except (NoSuchElementException, StaleElementReferenceException):\n",
    "            retries += 1\n",
    "            \n",
    "    raise RetriesExceededError(f'{value}를 찾을 수 없음\\n재시도 횟수 초과: {waiting_sec}초로 {max_retries}회 시도')"
   ]
  },
  {
   "cell_type": "code",
   "execution_count": 3,
   "id": "8d4b29b7",
   "metadata": {
    "tags": []
   },
   "outputs": [],
   "source": [
    "# 브라우저 꺼짐 방지\n",
    "chrome_options = Options()\n",
    "chrome_options.add_experimental_option(\"detach\", True)\n",
    "\n",
    "user_agent = \"Mozilla/5.0 (Windows NT 10.0; Win64; x64) AppleWebKit/537.36 (KHTML, like Gecko) Chrome/116.0.0.0 Safari/537.36\"\n",
    "chrome_options.add_argument(f'user-agent={user_agent}')\n",
    "# 불필요한 에러 메세지 없애기\n",
    "chrome_options.add_experimental_option(\"excludeSwitches\", [\"enable-logging\"])\n",
    "# driver = webdriver.Chrome(ChromeDriverManager().install(), options=chrome_options)\n",
    "service = Service(executable_path=ChromeDriverManager().install())\n",
    "driver = webdriver.Chrome(service=service, options=chrome_options)\n",
    "\n",
    "save_file = True  # 파일 저장 여부\n",
    "waiting_sec = 2.5"
   ]
  },
  {
   "cell_type": "code",
   "execution_count": 4,
   "id": "18152271-6987-4579-a93e-f94cb18368a6",
   "metadata": {},
   "outputs": [
    {
     "name": "stdout",
     "output_type": "stream",
     "text": [
      "0       https://gamesystemrequirements.com/game/a-bird...\n",
      "1       https://gamesystemrequirements.com/game/a-blin...\n",
      "2       https://gamesystemrequirements.com/game/a-boy-...\n",
      "3       https://gamesystemrequirements.com/game/a-city...\n",
      "4       https://gamesystemrequirements.com/game/a-fare...\n",
      "                              ...                        \n",
      "7708      https://gamesystemrequirements.com/game/99vidas\n",
      "7709    https://gamesystemrequirements.com/game/9th-co...\n",
      "7710    https://gamesystemrequirements.com/game/esz-kerek\n",
      "7711          https://gamesystemrequirements.com/game/ete\n",
      "7712      https://gamesystemrequirements.com/game/reality\n",
      "Name: link, Length: 7713, dtype: object\n"
     ]
    }
   ],
   "source": [
    "links = pd.read_csv('gamesysreqlink230919.csv')\n",
    "print(links.link)"
   ]
  },
  {
   "cell_type": "code",
   "execution_count": 5,
   "id": "6453eb76",
   "metadata": {
    "tags": []
   },
   "outputs": [],
   "source": [
    "header_req = ['name', 'cpu', 'ram', 'gpu', 'dx', 'os', 'sto', 'spec_class']\n",
    "header_pro = ['name', 'usage', 'image']\n",
    "specc = {'Minimum system requirements:': 0, 'Recommended system requirements:': 1}"
   ]
  },
  {
   "cell_type": "code",
   "execution_count": 6,
   "id": "29d13a0c",
   "metadata": {
    "tags": []
   },
   "outputs": [],
   "source": [
    "requirement = dict()\n",
    "program = dict()\n",
    "for col in header_req:\n",
    "    requirement[col] = []\n",
    "for col in header_pro:\n",
    "    program[col] = []"
   ]
  },
  {
   "cell_type": "code",
   "execution_count": 7,
   "id": "fd3e20a6",
   "metadata": {},
   "outputs": [],
   "source": [
    "load_pro = pd.read_csv('gameprograms230920.csv')\n",
    "load_req = pd.read_csv('gamerequirements230920.csv')\n",
    "ntime = len(load_pro)\n",
    "total = len(links)"
   ]
  },
  {
   "cell_type": "code",
   "execution_count": 8,
   "id": "86b9310c-27d8-49b7-b054-08c48bfc000f",
   "metadata": {
    "tags": []
   },
   "outputs": [],
   "source": [
    "for col in header_pro:\n",
    "    program[col] = load_pro[col].to_list()\n",
    "for col in header_req:\n",
    "    requirement[col] = load_req[col].to_list()"
   ]
  },
  {
   "cell_type": "code",
   "execution_count": 9,
   "id": "e8cd14c3-405b-4b91-b375-d41c2e4961ae",
   "metadata": {},
   "outputs": [],
   "source": [
    "# 크롤링 시작\n",
    "key_not_in = []\n",
    "url = f'https://gamesystemrequirements.com/'\n",
    "driver.get(url)\n",
    "driver.implicitly_wait(10)\n",
    "driver.find_element(By.XPATH, '//*[@id=\"qc-cmp2-ui\"]/div[2]/div/button[2]').click()\n",
    "driver.implicitly_wait(10)"
   ]
  },
  {
   "cell_type": "code",
   "execution_count": 10,
   "id": "3bbc3e32",
   "metadata": {},
   "outputs": [
    {
     "name": "stdout",
     "output_type": "stream",
     "text": [
      "7713/7713 (100.00%) (남은 시간: 00000s) / 예상 종료 시간: 20, 22:08:31)\n",
      "걸린 시간: 586.07 sec\n"
     ]
    }
   ],
   "source": [
    "time.sleep(waiting_sec)\n",
    "start = time.time()\n",
    "nstart = ntime\n",
    "for link in links.link[ntime:]:\n",
    "    driver.get(link)\n",
    "    driver.implicitly_wait(10)\n",
    "    \n",
    "    time.sleep(1)\n",
    "    soup = BeautifulSoup(driver.page_source, 'html.parser')\n",
    "    title = soup.select_one('body > div.main-container > div.headline > div > div.game_head > div.game_head_title').get_text()\n",
    "    img = soup.select_one('body > div.main-container > div.headline > div > div.game_head > div.game_head_cover > img')\n",
    "    \n",
    "\n",
    "    if len(program['name']) >= ntime:\n",
    "        for key in program.keys(): program[key] = program[key][:ntime]\n",
    "        \n",
    "    program['name'].append(title)\n",
    "    program['usage'].append(None)\n",
    "    program['image'].append(img['src'] if img is not None else None)\n",
    "    \n",
    "    reqs = soup.select('body > div.main-container > div.main-column > div:nth-child(1) > div.gsr_container > div.gsr_section')\n",
    "    for req in reqs:\n",
    "        if not req.h2: continue\n",
    "        if req.h2.get_text() not in specc.keys():\n",
    "            key_not_in.append((title, req.h2.get_text()))\n",
    "            continue\n",
    "        info = dict()\n",
    "        glabel = req.find_all('div', {'class': 'gsr_label'})\n",
    "        gtext = req.find_all('div', {'class': 'gsr_text'})\n",
    "        for gl, gt in zip(glabel, gtext):\n",
    "            info[gl.get_text()] = gt.get_text()\n",
    "        \n",
    "        requirement['spec_class'].append(specc[req.h2.get_text()])\n",
    "        requirement['name'].append(title)\n",
    "        requirement['cpu'].append(info.get('CPU:'))\n",
    "        requirement['ram'].append(info.get('RAM:'))\n",
    "        requirement['gpu'].append(info.get('GPU:'))\n",
    "        requirement['dx'].append(info.get('DX:'))\n",
    "        requirement['os'].append(info.get('OS:'))\n",
    "        requirement['sto'].append(info.get('STO:'))\n",
    "    \n",
    "    ntime += 1\n",
    "    if ntime % 10 == 0 and save_file:\n",
    "        today = time.strftime('%y%m%d')\n",
    "        pd.DataFrame(requirement).to_csv(f'gamerequirements{today}.csv', index=None)\n",
    "        pd.DataFrame(program).to_csv(f'gameprograms{today}.csv', index=None)\n",
    "    rest_time = (time.time() - start) / (ntime - nstart) * (total - ntime)\n",
    "    print(f'\\r{ntime}/{total} ({ntime/total*100:.2f}%) (남은 시간: {rest_time:05.0f}s) / 예상 종료 시간: {time.strftime(\"%d, %H:%M:%S\", time.localtime(time.time() + rest_time))})', end='')\n",
    "    driver.implicitly_wait(10)\n",
    "    \n",
    "end = time.time()\n",
    "print(f'\\n걸린 시간: {end-start:.2f} sec')\n",
    "driver.quit()\n",
    "# 크롤링 끝"
   ]
  },
  {
   "cell_type": "code",
   "execution_count": 11,
   "id": "32772367",
   "metadata": {
    "tags": []
   },
   "outputs": [],
   "source": [
    "# 파일 저장\n",
    "if save_file:\n",
    "    today = time.strftime('%y%m%d')\n",
    "    pd.DataFrame(requirement).to_csv(f'gamerequirements{today}.csv', index=None)\n",
    "    pd.DataFrame(program).to_csv(f'gameprograms{today}.csv', index=None)"
   ]
  },
  {
   "cell_type": "code",
   "execution_count": 12,
   "id": "656758d5-fd3f-4700-b10a-5c3d45444dec",
   "metadata": {},
   "outputs": [
    {
     "data": {
      "text/plain": [
       "[]"
      ]
     },
     "execution_count": 12,
     "metadata": {},
     "output_type": "execute_result"
    }
   ],
   "source": [
    "key_not_in"
   ]
  },
  {
   "cell_type": "code",
   "execution_count": null,
   "id": "da338755-ac8b-49ec-940f-5b6731c9301a",
   "metadata": {},
   "outputs": [],
   "source": []
  }
 ],
 "metadata": {
  "kernelspec": {
   "display_name": "Python 3 (ipykernel)",
   "language": "python",
   "name": "python3"
  },
  "language_info": {
   "codemirror_mode": {
    "name": "ipython",
    "version": 3
   },
   "file_extension": ".py",
   "mimetype": "text/x-python",
   "name": "python",
   "nbconvert_exporter": "python",
   "pygments_lexer": "ipython3",
   "version": "3.11.4"
  }
 },
 "nbformat": 4,
 "nbformat_minor": 5
}
