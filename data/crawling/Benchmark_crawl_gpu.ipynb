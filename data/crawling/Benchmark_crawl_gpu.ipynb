{
 "cells": [
  {
   "cell_type": "code",
   "execution_count": 5,
   "id": "d58c51ad-bc6f-4fcc-989e-4112d3638cc6",
   "metadata": {
    "tags": []
   },
   "outputs": [],
   "source": [
    "from selenium import webdriver\n",
    "from selenium.webdriver.chrome.service import Service\n",
    "from selenium.webdriver.chrome.options import Options\n",
    "from selenium.webdriver.support.select import Select\n",
    "from selenium.webdriver.common.keys import Keys\n",
    "from selenium.webdriver.common.by import By\n",
    "import urllib.request\n",
    "import time\n",
    "import re\n",
    "\n",
    "import pandas as pd\n",
    "import pprint\n",
    "\n",
    "from bs4 import BeautifulSoup"
   ]
  },
  {
   "cell_type": "code",
   "execution_count": 6,
   "id": "91b4c37e-e5f1-416c-9133-f9360213f2ba",
   "metadata": {
    "tags": []
   },
   "outputs": [],
   "source": [
    "# 크롬 드라이버 자동 업데이트\n",
    "from webdriver_manager.chrome import ChromeDriverManager\n",
    "\n",
    "# 브라우저 꺼짐 방지\n",
    "chrome_options = Options()\n",
    "chrome_options.add_experimental_option(\"detach\", True)\n",
    "\n",
    "# 불필요한 에러 메세지 없애기\n",
    "chrome_options.add_experimental_option(\"excludeSwitches\", [\"enable-logging\"])\n",
    "service = Service(executable_path=ChromeDriverManager().install())"
   ]
  },
  {
   "cell_type": "code",
   "execution_count": 7,
   "id": "697b36d3-1f11-4504-809f-a2d1ca2dda8b",
   "metadata": {
    "tags": []
   },
   "outputs": [],
   "source": [
    "user_agent =\"Mozilla/5.0 (Windows NT 10.0; Win64; x64) AppleWebKit/537.36 (KHTML, like Gecko) Chrome/116.0.0.0 Safari/537.36\"\n",
    "chrome_options.add_argument(f'user-agent={user_agent}')\n",
    "\n",
    "driver = webdriver.Chrome(options=chrome_options)"
   ]
  },
  {
   "cell_type": "code",
   "execution_count": 9,
   "id": "268babc0-85fa-442c-a9bd-eb193a0dbd93",
   "metadata": {
    "tags": []
   },
   "outputs": [],
   "source": [
    "sub_urls = ['high_end_cpus.html', 'mid_range_cpus.html', 'midlow_range_cpus.html', 'low_end_cpus.html']\n",
    "\n",
    "save_file = False  # 파일 저장 여부\n",
    "waiting_sec = 2\n",
    "\n",
    "prd_dict = {\n",
    "    \"name\":[],\n",
    "    \"count\":[]\n",
    "    }\n",
    "\n",
    "for sub in sub_urls:\n",
    "    url = f'https://www.cpubenchmark.net/{sub}'\n",
    "\n",
    "    driver.get(url)\n",
    "    driver.implicitly_wait(10)\n",
    "\n",
    "    soup = BeautifulSoup(driver.page_source, 'html.parser')\n",
    "    prds = soup.select('#mark > div > div.chart_body > ul > li > a')\n",
    "    for prd in prds:\n",
    "        prdname = prd.select_one('a>span.prdname').get_text()\n",
    "        prdcount = prd.select_one('a>span.count').get_text().replace(',','')\n",
    "        \n",
    "        if prdname not in prd_dict['name']:\n",
    "            prd_dict['name'].append(str(prdname))\n",
    "            prd_dict['count'].append(int(prdcount))\n",
    "        else: continue"
   ]
  },
  {
   "cell_type": "code",
   "execution_count": 10,
   "id": "c9ee5730-5a0c-436b-bf8c-2f05ec412aa3",
   "metadata": {
    "tags": []
   },
   "outputs": [],
   "source": [
    "cpu_df = pd.DataFrame(prd_dict)"
   ]
  },
  {
   "cell_type": "code",
   "execution_count": 11,
   "id": "30ac294c-14a7-420c-af40-3f1999985fd4",
   "metadata": {
    "tags": []
   },
   "outputs": [
    {
     "data": {
      "text/html": [
       "<div>\n",
       "<style scoped>\n",
       "    .dataframe tbody tr th:only-of-type {\n",
       "        vertical-align: middle;\n",
       "    }\n",
       "\n",
       "    .dataframe tbody tr th {\n",
       "        vertical-align: top;\n",
       "    }\n",
       "\n",
       "    .dataframe thead th {\n",
       "        text-align: right;\n",
       "    }\n",
       "</style>\n",
       "<table border=\"1\" class=\"dataframe\">\n",
       "  <thead>\n",
       "    <tr style=\"text-align: right;\">\n",
       "      <th></th>\n",
       "      <th>name</th>\n",
       "      <th>count</th>\n",
       "    </tr>\n",
       "  </thead>\n",
       "  <tbody>\n",
       "    <tr>\n",
       "      <th>0</th>\n",
       "      <td>AMD EPYC 9654</td>\n",
       "      <td>126045</td>\n",
       "    </tr>\n",
       "    <tr>\n",
       "      <th>1</th>\n",
       "      <td>AMD EPYC 9554P</td>\n",
       "      <td>109858</td>\n",
       "    </tr>\n",
       "    <tr>\n",
       "      <th>2</th>\n",
       "      <td>AMD EPYC 9474F</td>\n",
       "      <td>104895</td>\n",
       "    </tr>\n",
       "    <tr>\n",
       "      <th>3</th>\n",
       "      <td>Intel Xeon w9-3495X</td>\n",
       "      <td>98285</td>\n",
       "    </tr>\n",
       "    <tr>\n",
       "      <th>4</th>\n",
       "      <td>AMD Ryzen Threadripper PRO 5995WX</td>\n",
       "      <td>98215</td>\n",
       "    </tr>\n",
       "  </tbody>\n",
       "</table>\n",
       "</div>"
      ],
      "text/plain": [
       "                                name   count\n",
       "0                      AMD EPYC 9654  126045\n",
       "1                     AMD EPYC 9554P  109858\n",
       "2                     AMD EPYC 9474F  104895\n",
       "3                Intel Xeon w9-3495X   98285\n",
       "4  AMD Ryzen Threadripper PRO 5995WX   98215"
      ]
     },
     "execution_count": 11,
     "metadata": {},
     "output_type": "execute_result"
    }
   ],
   "source": [
    "cpu_df.head()"
   ]
  },
  {
   "cell_type": "code",
   "execution_count": 13,
   "id": "328f60c4-583e-42d5-91a6-4c7c88184e1e",
   "metadata": {
    "tags": []
   },
   "outputs": [
    {
     "data": {
      "text/plain": [
       "4417"
      ]
     },
     "execution_count": 13,
     "metadata": {},
     "output_type": "execute_result"
    }
   ],
   "source": [
    "len(cpu_df)"
   ]
  },
  {
   "cell_type": "code",
   "execution_count": 15,
   "id": "3683833d-e9ad-4b9c-9ae7-27cdf4e9f1a7",
   "metadata": {
    "tags": []
   },
   "outputs": [],
   "source": [
    "cpu_df.to_csv(\"bench_mark_cpu.csv\", index=None)"
   ]
  },
  {
   "cell_type": "code",
   "execution_count": null,
   "id": "225a1f61-2251-4109-b174-4263cbdd8203",
   "metadata": {},
   "outputs": [],
   "source": []
  }
 ],
 "metadata": {
  "kernelspec": {
   "display_name": "Python 3 (ipykernel)",
   "language": "python",
   "name": "python3"
  },
  "language_info": {
   "codemirror_mode": {
    "name": "ipython",
    "version": 3
   },
   "file_extension": ".py",
   "mimetype": "text/x-python",
   "name": "python",
   "nbconvert_exporter": "python",
   "pygments_lexer": "ipython3",
   "version": "3.11.4"
  }
 },
 "nbformat": 4,
 "nbformat_minor": 5
}
