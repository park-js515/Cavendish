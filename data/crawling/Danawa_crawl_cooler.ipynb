{
 "cells": [
  {
   "cell_type": "code",
   "execution_count": 1,
   "id": "2ff9b0d5",
   "metadata": {
    "tags": []
   },
   "outputs": [],
   "source": [
    "from selenium import webdriver\n",
    "from selenium.webdriver.chrome.service import Service\n",
    "from selenium.webdriver.chrome.options import Options\n",
    "from selenium.webdriver.common.by import By\n",
    "from selenium.webdriver.support.select import Select\n",
    "from selenium.webdriver.support.ui import WebDriverWait\n",
    "from selenium.webdriver.support import expected_conditions as EC\n",
    "from selenium.common.exceptions import NoSuchElementException\n",
    "from selenium.common.exceptions import StaleElementReferenceException\n",
    "from bs4 import BeautifulSoup\n",
    "import pandas as pd\n",
    "import pprint\n",
    "import time\n",
    "import csv\n",
    "import re\n",
    "\n",
    "# 크롬 드라이버 자동 업데이트\n",
    "from webdriver_manager.chrome import ChromeDriverManager"
   ]
  },
  {
   "cell_type": "code",
   "execution_count": 2,
   "id": "2b37dce6",
   "metadata": {
    "tags": []
   },
   "outputs": [],
   "source": [
    "class RetriesExceededError(Exception):\n",
    "    def __init__(self, message):\n",
    "        super().__init__(message)\n",
    "\n",
    "        \n",
    "def find_element_with_retry(driver_, by, value, waiting_sec=2.5, max_retries=10):\n",
    "    retries = 0\n",
    "    while retries < max_retries:\n",
    "        try:\n",
    "            element = WebDriverWait(driver_, waiting_sec).until(EC.presence_of_element_located((by, value)))\n",
    "            return element\n",
    "        except (NoSuchElementException, StaleElementReferenceException):\n",
    "            retries += 1\n",
    "            \n",
    "    raise RetriesExceededError(f'{value}를 찾을 수 없음\\n재시도 횟수 초과: {waiting_sec}초로 {max_retries}회 시도')"
   ]
  },
  {
   "cell_type": "code",
   "execution_count": 3,
   "id": "ee79f0c7",
   "metadata": {
    "tags": []
   },
   "outputs": [],
   "source": [
    "# 브라우저 꺼짐 방지\n",
    "chrome_options = Options()\n",
    "chrome_options.add_experimental_option(\"detach\", True)\n",
    "\n",
    "user_agent = \"Mozilla/5.0 (Windows NT 10.0; Win64; x64) AppleWebKit/537.36 (KHTML, like Gecko) Chrome/116.0.0.0 Safari/537.36\"\n",
    "chrome_options.add_argument(f'user-agent={user_agent}')\n",
    "# 불필요한 에러 메세지 없애기\n",
    "chrome_options.add_experimental_option(\"excludeSwitches\", [\"enable-logging\"])\n",
    "driver = webdriver.Chrome(ChromeDriverManager().install(), options=chrome_options)\n",
    "# service = Service(executable_path=ChromeDriverManager().install())\n",
    "# driver = webdriver.Chrome(service=service, options=chrome_options)\n",
    "\n",
    "save_file = True  # 파일 저장 여부\n",
    "waiting_sec = 2.5"
   ]
  },
  {
   "cell_type": "code",
   "execution_count": 4,
   "id": "9565988d",
   "metadata": {
    "tags": []
   },
   "outputs": [
    {
     "name": "stdout",
     "output_type": "stream",
     "text": [
      "           seq\n",
      "0     14110475\n",
      "1     17221538\n",
      "2     17658305\n",
      "3     17393768\n",
      "4     19690001\n",
      "...        ...\n",
      "4855   6060000\n",
      "4856  20074436\n",
      "4857  14728952\n",
      "4858  18746018\n",
      "4859  17151911\n",
      "\n",
      "[4860 rows x 1 columns]\n"
     ]
    }
   ],
   "source": [
    "# seq 파일 읽기\n",
    "category = 11236855  # 쿨러\n",
    "\n",
    "seq_file = f'./seq_{category}.csv'\n",
    "seq_df = pd.read_csv(seq_file)\n",
    "print(seq_df)"
   ]
  },
  {
   "cell_type": "code",
   "execution_count": 5,
   "id": "ba9530c1",
   "metadata": {
    "tags": []
   },
   "outputs": [],
   "source": [
    "header = ['name', 'price', 'link', 'company', 'product_seq', 'image', 'category',\n",
    "          'cooling_type', 'aircool_form', 'tdp', 'intel_socket', 'amd_socket', 'fan_size',\n",
    "          'fan_count', 'airflow', 'noise', 'width', 'length', 'height', 'radiator',\n",
    "          'radiator_length', 'radiator_thickness', 'hose_length', 'feature',\n",
    "          'as_years', 'reg_date', 'bookmark']"
   ]
  },
  {
   "cell_type": "code",
   "execution_count": 6,
   "id": "348e881f",
   "metadata": {
    "tags": []
   },
   "outputs": [],
   "source": [
    "ctype_mask = {'공랭': 0, '수랭': 1}\n",
    "aform_mask = {'싱글타워형': 0, '듀얼타워형': 1, '일반형': 2, '슬림형': 3, '서버형':4}\n",
    "isocket_bitmask = ['LGA1700', 'LGA1200', 'LGA115x', 'LGA4677', 'LGA4189-4/5(소켓P4/P5)', 'LGA2066',\n",
    "                   'LGA3647', 'LGA2011-V3', 'LGA2011', 'LGA1366', 'LGA775', 'LGA771', '소켓478',\n",
    "                   '소켓370']\n",
    "asocket_bitmask = ['AM5', 'AM4' ,'FMx/AMx(AM1/4외)', 'AM1', 'SP5' ,'TR4' ,'sWRX8', 'sTRX4',\n",
    "                   'SP3', '소켓939', '소켓754', '소켓940', '소켓A', '소켓F']\n",
    "feat_bitmask = ['LED 라이트', 'PWM 지원', 'RGB 컨트롤러', '팬 컨트롤러', '리모콘 지원',\n",
    "                '펌프속도조절', '워터블록/로고 회전', 'LCD', '인디게이터', '데이지체인',\n",
    "                '제로팬(0-dB기술)', '수랭 커스텀', '속도조절스위치', '라디에이터 양면팬 지원',\n",
    "                '자석 고정형']"
   ]
  },
  {
   "cell_type": "code",
   "execution_count": 7,
   "id": "e84e5de4",
   "metadata": {
    "tags": []
   },
   "outputs": [],
   "source": [
    "cooler = dict()\n",
    "\n",
    "for col in header:\n",
    "    cooler[col] = []"
   ]
  },
  {
   "cell_type": "code",
   "execution_count": 8,
   "id": "5fde8952",
   "metadata": {},
   "outputs": [],
   "source": [
    "ntime = 0\n",
    "total = len(seq_df)\n",
    "start = time.time()"
   ]
  },
  {
   "cell_type": "code",
   "execution_count": 9,
   "id": "9a55cdab",
   "metadata": {},
   "outputs": [
    {
     "name": "stdout",
     "output_type": "stream",
     "text": [
      "4860/4860 (100.00%) (남은 시간: 00000s) / 예상 종료 시간: 19, 17:00:43)\n",
      "걸린 시간: 24947.34 sec\n"
     ]
    }
   ],
   "source": [
    "# 크롤링 시작\n",
    "for seq in seq_df.seq[ntime:]:\n",
    "    url = f'https://prod.danawa.com/info/?pcode={seq}&cate={category}'\n",
    "    driver.get(url)\n",
    "    driver.implicitly_wait(10)\n",
    "    \n",
    "    time.sleep(waiting_sec)\n",
    "    soup = BeautifulSoup(driver.page_source, 'html.parser')\n",
    "    \n",
    "    spec_tbl = soup.select(\"#productDescriptionArea > div > div.prod_spec > table > tbody\")\n",
    "    spec_tbl_tit = soup.select(\"#productDescriptionArea > div > div.prod_spec > table > tbody > tr > th.tit\")\n",
    "    spec_tbl_dsc = soup.select(\"#productDescriptionArea > div > div.prod_spec > table > tbody > tr > td.dsc\")\n",
    "    name = soup.select_one(\"#blog_content > div.summary_info > div.top_summary > h3 > span\")\n",
    "    price = soup.select_one(\"#blog_content > div.summary_info > div.detail_summary > div.summary_left > div.lowest_area > div.lowest_top > div.row.lowest_price > span.lwst_prc > a > em\")\n",
    "    image_url = soup.select_one(\"#baseImage\")\n",
    "    cate_u = soup.select_one(\"#blog_content > div.summary_info > div.top_summary > div > div.sub_dsc > div > dl > dd > div > div > a:nth-child(1) > u\")\n",
    "    if cate_u is None:\n",
    "        cate_u = soup.select_one(\"#blog_content > div.summary_info > div.top_summary > div > div.sub_dsc > div > dl > dd > div > div > span:nth-child(1) > u\")\n",
    "    cate = cate_u.get_text()\n",
    "    \n",
    "    if cate is None or '쿨러' not in cate:\n",
    "        ntime += 1\n",
    "        rest_time = (time.time() - start) / ntime * (total - ntime)\n",
    "        print(f'\\r{ntime}/{total} ({ntime/total*100:.2f}%) (남은 시간: {rest_time:.0f}s)', end='')\n",
    "        continue\n",
    "        \n",
    "    tbl = zip(spec_tbl_tit, spec_tbl_dsc)\n",
    "\n",
    "    info = dict()\n",
    "    info['제품명'] = name.get_text()\n",
    "    info['최저가'] = price.get_text() if price is not None else None\n",
    "    info['링크'] = url\n",
    "    info['이미지'] = image_url['src']\n",
    "    for tit, dsc in tbl:\n",
    "        text = dsc.get_text()\n",
    "        text = text.replace('\\n','')\n",
    "        text = text.replace('\\t','')\n",
    "        text = text.replace('(제조사 웹사이트 바로가기)','')\n",
    "        info[tit.get_text()] = text.strip()\n",
    "        \n",
    "    isocket_bit = 0\n",
    "    asocket_bit = 0\n",
    "    feat_bit = 0\n",
    "    aform = None\n",
    "\n",
    "    if len(cooler['name']) >= ntime:\n",
    "        for key in cooler.keys(): cooler[key] = cooler[key][:ntime]\n",
    "    cooler['name'].append(name.get_text())\n",
    "    cooler['price'].append(price.get_text().replace(',', '') if price is not None else None)\n",
    "    cooler['link'].append(url)\n",
    "    cooler['company'].append(info.get('제조회사'))\n",
    "    cooler['product_seq'].append(seq)\n",
    "    cooler['image'].append(image_url['src'])\n",
    "    cooler['category'].append(cate)\n",
    "    cooler['cooling_type'].append(ctype_mask[info.get('냉각 방식')] if '냉각 방식' in info.keys() else None)\n",
    "    aform_u = soup.select_one(\"#blog_content > div.summary_info > div.top_summary > div > div.sub_dsc > div > dl > dd > div > div > a:nth-child(2) > u\")\n",
    "    if aform_u is not None:\n",
    "        aform = aform_u.get_text()\n",
    "    cooler['aircool_form'].append(aform_mask[aform] if aform in aform_mask.keys() else None)\n",
    "    cooler['tdp'].append(info.get('TDP').replace('W', '') if 'TDP' in info.keys() else None)\n",
    "    for i in range(len(isocket_bitmask)):\n",
    "        if isocket_bitmask[i] in info.keys(): isocket_bit |= 1 << i\n",
    "    cooler['intel_socket'].append(isocket_bit)\n",
    "    for i in range(len(asocket_bitmask)):\n",
    "        if asocket_bitmask[i] in info.keys(): asocket_bit |= 1 << i\n",
    "    cooler['amd_socket'].append(asocket_bit)\n",
    "    cooler['fan_size'].append(max(info.get('팬 크기').replace('mm', '').split(', ')) if '팬 크기' in info.keys() else None)\n",
    "    cooler['fan_count'].append(info.get('팬 개수').replace('개', '') if '팬 개수' in info.keys() else None)\n",
    "    cooler['airflow'].append(max(info.get('최대 풍량').replace(' CFM', '').split(', ')) if '최대 풍량' in info.keys() else None)\n",
    "    cooler['noise'].append(info.get('최대 팬소음').replace('dBA', '') if '최대 팬소음' in info.keys() else None)\n",
    "    cooler['width'].append(info.get('가로').replace('mm' ,'') if '가로' in info.keys() else None)\n",
    "    cooler['length'].append(info.get('세로').replace('mm', '') if '세로' in info.keys() else None)\n",
    "    cooler['height'].append(info.get('높이').replace('mm', '') if '높이' in info.keys() else None)\n",
    "    cooler['radiator'].append(info.get('라디에이터').replace('열', '') if '라디에이터' in info.keys() else None)\n",
    "    rad_len = soup.find('u', string='라디에이터 길이')\n",
    "    rad_thick = soup.find('u', string='라디에이터 두께')\n",
    "    hose_len = soup.find('u', string='호스 길이')\n",
    "    cooler['radiator_length'].append(rad_len.find_parent('span').find_next_sibling().findChild('u').get_text()\n",
    "                                     if rad_len is not None else None)\n",
    "    cooler['radiator_thickness'].append(rad_thick.find_parent('span').find_next_sibling().findChild('u').get_text()\n",
    "                                        if rad_thick is not None else None)\n",
    "    cooler['hose_length'].append(hose_len.find_parent('span').find_next_sibling().findChild('u').get_text()\n",
    "                                 if hose_len is not None else None)\n",
    "    for i in range(len(feat_bitmask)):\n",
    "        if feat_bitmask[i] in info.keys(): feat_bit |= 1 << i\n",
    "    cooler['feature'].append(feat_bit)\n",
    "    cooler['as_years'].append(re.sub('(년| |이상|유상|누수보상|\\+|,)', '', info.get('A/S기간'))\n",
    "                              if ('A/S기간' in info.keys() and '개월' not in info.get('A/S기간')) else None)\n",
    "    cooler['reg_date'].append(re.sub('(년| |월)', '', info.get('등록년월')))\n",
    "    cooler['bookmark'].append(None)\n",
    "    \n",
    "    ## 테스트용\n",
    "    ntime += 1\n",
    "    rest_time = (time.time() - start) / ntime * (total - ntime)\n",
    "    print(f'\\r{ntime}/{total} ({ntime/total*100:.2f}%) (남은 시간: {rest_time:05.0f}s) / 예상 종료 시간: {time.strftime(\"%d, %H:%M:%S\", time.localtime(time.time() + rest_time))})', end='')\n",
    "    \n",
    "end = time.time()\n",
    "print(f'\\n걸린 시간: {end-start:.2f} sec')\n",
    "driver.quit()\n",
    "# 크롤링 끝"
   ]
  },
  {
   "cell_type": "code",
   "execution_count": 10,
   "id": "8bf965b9",
   "metadata": {
    "tags": []
   },
   "outputs": [],
   "source": [
    "# 파일 저장\n",
    "if save_file:\n",
    "    today = time.strftime('%y%m%d')\n",
    "    pd.DataFrame(cooler).to_csv(f'cooler{today}.csv', index=None)"
   ]
  },
  {
   "cell_type": "code",
   "execution_count": null,
   "id": "4eac05cc",
   "metadata": {},
   "outputs": [],
   "source": []
  }
 ],
 "metadata": {
  "kernelspec": {
   "display_name": "Python 3 (ipykernel)",
   "language": "python",
   "name": "python3"
  },
  "language_info": {
   "codemirror_mode": {
    "name": "ipython",
    "version": 3
   },
   "file_extension": ".py",
   "mimetype": "text/x-python",
   "name": "python",
   "nbconvert_exporter": "python",
   "pygments_lexer": "ipython3",
   "version": "3.11.4"
  }
 },
 "nbformat": 4,
 "nbformat_minor": 5
}
