{
 "cells": [
  {
   "cell_type": "code",
   "execution_count": 1,
   "id": "fa0f7591-8577-4bc6-9d3e-5e24e51c3cce",
   "metadata": {},
   "outputs": [],
   "source": [
    "from selenium import webdriver\n",
    "from selenium.webdriver.chrome.service import Service\n",
    "from selenium.webdriver.chrome.options import Options\n",
    "from selenium.webdriver.common.by import By\n",
    "from selenium.webdriver.support.select import Select\n",
    "from selenium.webdriver.support.ui import WebDriverWait\n",
    "from selenium.webdriver.support import expected_conditions as EC\n",
    "from selenium.common.exceptions import NoSuchElementException\n",
    "from selenium.common.exceptions import StaleElementReferenceException\n",
    "from bs4 import BeautifulSoup\n",
    "import pandas as pd\n",
    "import pprint\n",
    "import time\n",
    "import csv\n",
    "import re\n",
    "\n",
    "# 크롬 드라이버 자동 업데이트\n",
    "from webdriver_manager.chrome import ChromeDriverManager"
   ]
  },
  {
   "cell_type": "code",
   "execution_count": 2,
   "id": "5397f7c8-bbac-48d3-a0a3-b9fad008d9c3",
   "metadata": {},
   "outputs": [],
   "source": [
    "class RetriesExceededError(Exception):\n",
    "    def __init__(self, message):\n",
    "        super().__init__(message)\n",
    "\n",
    "        \n",
    "def find_element_with_retry(driver_, by, value, waiting_sec=2.5, max_retries=10):\n",
    "    retries = 0\n",
    "    while retries < max_retries:\n",
    "        try:\n",
    "            element = WebDriverWait(driver_, waiting_sec).until(EC.presence_of_element_located((by, value)))\n",
    "            return element\n",
    "        except (NoSuchElementException, StaleElementReferenceException):\n",
    "            retries += 1\n",
    "            \n",
    "    raise RetriesExceededError(f'{value}를 찾을 수 없음\\n재시도 횟수 초과: {waiting_sec}초로 {max_retries}회 시도')"
   ]
  },
  {
   "cell_type": "code",
   "execution_count": 3,
   "id": "e4e5ace1-e728-4fe1-8b12-2e9cda8441e0",
   "metadata": {},
   "outputs": [],
   "source": [
    "# 브라우저 꺼짐 방지\n",
    "chrome_options = Options()\n",
    "chrome_options.add_experimental_option(\"detach\", True)\n",
    "\n",
    "user_agent = \"Mozilla/5.0 (Windows NT 10.0; Win64; x64) AppleWebKit/537.36 (KHTML, like Gecko) Chrome/116.0.0.0 Safari/537.36\"\n",
    "chrome_options.add_argument(f'user-agent={user_agent}')\n",
    "# 불필요한 에러 메세지 없애기\n",
    "chrome_options.add_experimental_option(\"excludeSwitches\", [\"enable-logging\"])\n",
    "# driver = webdriver.Chrome(ChromeDriverManager().install(), options=chrome_options)\n",
    "service = Service(executable_path=ChromeDriverManager().install())\n",
    "driver = webdriver.Chrome(service=service, options=chrome_options)\n",
    "\n",
    "save_file = True  # 파일 저장 여부\n",
    "waiting_sec = 2.5"
   ]
  },
  {
   "cell_type": "code",
   "execution_count": 4,
   "id": "cb17c50c-fcaa-46eb-9db9-c65c30fe5f9e",
   "metadata": {},
   "outputs": [],
   "source": [
    "ntime = 0\n",
    "start = time.time()\n",
    "inf_scroll_wait = 2"
   ]
  },
  {
   "cell_type": "code",
   "execution_count": 5,
   "id": "988b5710-560c-4786-bb34-4918bc3f2152",
   "metadata": {},
   "outputs": [],
   "source": [
    "text_file = open(\"./Danawa_quotation.html\", encoding='utf-8')"
   ]
  },
  {
   "cell_type": "code",
   "execution_count": 6,
   "id": "2adf29b2-a36f-4185-8327-f63250286b88",
   "metadata": {},
   "outputs": [],
   "source": [
    "html_text = text_file.read()\n",
    "text_file.close()"
   ]
  },
  {
   "cell_type": "code",
   "execution_count": 7,
   "id": "251057ce-99d4-47a4-83ec-bf95251f04ab",
   "metadata": {},
   "outputs": [
    {
     "name": "stdout",
     "output_type": "stream",
     "text": [
      "1080\n"
     ]
    }
   ],
   "source": [
    "soup = BeautifulSoup(html_text, 'html.parser')\n",
    "quotation_list = soup.select('div.board_image_list.item_3 > div > a')\n",
    "print(len(quotation_list))"
   ]
  },
  {
   "cell_type": "code",
   "execution_count": 8,
   "id": "f22093ff-86c8-4f66-bb5e-2880cbaada48",
   "metadata": {},
   "outputs": [
    {
     "data": {
      "text/plain": [
       "'http://pc26.danawa.com/bbs/?controller=boardReview&methods=assemblyGalleryDetail&orderGoodsSeq=28858801&orderNumberSeq=7273967'"
      ]
     },
     "execution_count": 8,
     "metadata": {},
     "output_type": "execute_result"
    }
   ],
   "source": [
    "quotation_list[0]['href']"
   ]
  },
  {
   "cell_type": "code",
   "execution_count": 9,
   "id": "a737f1c2-ecb6-4002-a849-0fc677a3799d",
   "metadata": {},
   "outputs": [],
   "source": [
    "header = ['cpu', 'mainboard', 'ram', 'gpu', 'case', 'power', 'cooler', 'ssd', 'sys_cooler']"
   ]
  },
  {
   "cell_type": "code",
   "execution_count": 10,
   "id": "c9941723-cdd3-4540-ac1a-28f98172545a",
   "metadata": {},
   "outputs": [],
   "source": [
    "quo = dict()\n",
    "\n",
    "for col in header:\n",
    "    quo[col] = []"
   ]
  },
  {
   "cell_type": "code",
   "execution_count": 11,
   "id": "be3849ee-fe48-4b31-a1ae-d38804611800",
   "metadata": {},
   "outputs": [],
   "source": [
    "ntime = 0\n",
    "total = len(quotation_list)\n",
    "start = time.time()"
   ]
  },
  {
   "cell_type": "code",
   "execution_count": 12,
   "id": "49aaec7b-bb6f-4f8a-9293-46ded77c0782",
   "metadata": {},
   "outputs": [
    {
     "name": "stdout",
     "output_type": "stream",
     "text": [
      "1080/1080 (100.00%) (남은 시간: 0s))\n",
      "걸린 시간: 3502.50 sec\n"
     ]
    }
   ],
   "source": [
    "for quotation in quotation_list[ntime:]:\n",
    "    url = quotation['href']\n",
    "    driver.get(url)\n",
    "    driver.implicitly_wait(10)\n",
    "\n",
    "    time.sleep(waiting_sec)\n",
    "    soup = BeautifulSoup(driver.page_source, 'html.parser')\n",
    "\n",
    "    tbl_names = soup.select('#boardContainer > div.detail_content_wrap > div > div.detail_body_wrap > div.detail_spec > table > tbody > tr > th')\n",
    "    tbl_pseqs = soup.select('#boardContainer > div.detail_content_wrap > div > div.detail_body_wrap > div.detail_spec > table > tbody > tr > td')\n",
    "    tbl = zip(tbl_names, tbl_pseqs)\n",
    "    \n",
    "    info = dict()\n",
    "    for name, pseq in tbl:\n",
    "        try:\n",
    "            onclick = pseq.a['onclick']\n",
    "            start_index = onclick.find('productSeq=') + len('productSeq=')\n",
    "            end_index = start_index + onclick[start_index:].find('\\'')\n",
    "            seq = onclick[start_index:end_index]\n",
    "            info[name.get_text()] = seq\n",
    "        except:\n",
    "            pass\n",
    "    \n",
    "    if len(quo['cpu']) >= ntime:\n",
    "        for key in quo.keys(): quo[key] = quo[key][:ntime]\n",
    "    quo['cpu'].append(info.get('CPU'))\n",
    "    quo['mainboard'].append(info.get('메인보드'))\n",
    "    quo['ram'].append(info.get('메모리'))\n",
    "    quo['gpu'].append(info.get('그래픽카드'))\n",
    "    quo['case'].append(info.get('케이스'))\n",
    "    quo['power'].append(info.get('파워'))\n",
    "    quo['cooler'].append(info.get('쿨러'))\n",
    "    quo['ssd'].append(info.get('SSD'))\n",
    "    quo['sys_cooler'].append(info.get('시스템 쿨러'))\n",
    "    \n",
    "    ntime += 1\n",
    "    rest_time = (time.time() - start) / ntime * (total - ntime)\n",
    "    print(f'\\r{ntime}/{total} ({ntime/total*100:.2f}%) (남은 시간: {rest_time:.0f}s)', end='')\n",
    "    \n",
    "end = time.time()\n",
    "print(f'\\n걸린 시간: {end-start:.2f} sec')\n",
    "driver.quit()"
   ]
  },
  {
   "cell_type": "code",
   "execution_count": 14,
   "id": "4e18d3fc-ee98-4bc9-a0b7-23b6ccc87c04",
   "metadata": {},
   "outputs": [],
   "source": [
    "# 파일 저장\n",
    "if save_file:\n",
    "    today = time.strftime('%y%m%d')\n",
    "    pd.DataFrame(quo).to_csv(f'../quotations{today}.csv', index=None)"
   ]
  },
  {
   "cell_type": "code",
   "execution_count": null,
   "id": "20766136-ed4c-49f3-84b3-79ddee23f1a5",
   "metadata": {},
   "outputs": [],
   "source": []
  }
 ],
 "metadata": {
  "kernelspec": {
   "display_name": "Python 3 (ipykernel)",
   "language": "python",
   "name": "python3"
  },
  "language_info": {
   "codemirror_mode": {
    "name": "ipython",
    "version": 3
   },
   "file_extension": ".py",
   "mimetype": "text/x-python",
   "name": "python",
   "nbconvert_exporter": "python",
   "pygments_lexer": "ipython3",
   "version": "3.9.12"
  }
 },
 "nbformat": 4,
 "nbformat_minor": 5
}
