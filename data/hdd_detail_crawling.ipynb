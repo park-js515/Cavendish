{
 "cells": [
  {
   "cell_type": "code",
   "execution_count": 1,
   "id": "9907d90e-0e0d-43fd-8478-2364fb42f2fd",
   "metadata": {
    "tags": []
   },
   "outputs": [],
   "source": [
    "from selenium import webdriver\n",
    "from selenium.webdriver.chrome.service import Service\n",
    "from selenium.webdriver.chrome.options import Options\n",
    "from selenium.webdriver.common.by import By\n",
    "from selenium.webdriver.support.select import Select\n",
    "from selenium.webdriver.support.ui import WebDriverWait\n",
    "from selenium.webdriver.support import expected_conditions as EC\n",
    "from selenium.common.exceptions import NoSuchElementException\n",
    "from selenium.common.exceptions import StaleElementReferenceException\n",
    "from bs4 import BeautifulSoup\n",
    "import pandas as pd\n",
    "import pprint\n",
    "import time\n",
    "import csv\n",
    "import re\n",
    "\n",
    "# 크롬 드라이버 자동 업데이트\n",
    "from webdriver_manager.chrome import ChromeDriverManager"
   ]
  },
  {
   "cell_type": "code",
   "execution_count": 2,
   "id": "240c0ce9-78f3-4e1d-a55a-2ac7d335533f",
   "metadata": {
    "tags": []
   },
   "outputs": [],
   "source": [
    "class RetriesExceededError(Exception):\n",
    "    def __init__(self, message):\n",
    "        super().__init__(message)\n",
    "\n",
    "        \n",
    "def find_element_with_retry(driver_, by, value, waiting_sec=2.5, max_retries=10):\n",
    "    retries = 0\n",
    "    while retries < max_retries:\n",
    "        try:\n",
    "            element = WebDriverWait(driver_, waiting_sec).until(EC.presence_of_element_located((by, value)))\n",
    "            return element\n",
    "        except (NoSuchElementException, StaleElementReferenceException):\n",
    "            retries += 1\n",
    "            \n",
    "    raise RetriesExceededError(f'{value}를 찾을 수 없음\\n재시도 횟수 초과: {waiting_sec}초로 {max_retries}회 시도')"
   ]
  },
  {
   "cell_type": "code",
   "execution_count": 3,
   "id": "f1358a0d-1a67-4ff1-bf9b-c212131d05db",
   "metadata": {
    "tags": []
   },
   "outputs": [],
   "source": [
    "# 브라우저 꺼짐 방지\n",
    "chrome_options = Options()\n",
    "chrome_options.add_experimental_option(\"detach\", True)\n",
    "\n",
    "user_agent = \"Mozilla/5.0 (Windows NT 10.0; Win64; x64) AppleWebKit/537.36 (KHTML, like Gecko) Chrome/116.0.0.0 Safari/537.36\"\n",
    "chrome_options.add_argument(f'user-agent={user_agent}')\n",
    "# 불필요한 에러 메세지 없애기\n",
    "chrome_options.add_experimental_option(\"excludeSwitches\", [\"enable-logging\"])\n",
    "driver = webdriver.Chrome(ChromeDriverManager().install(), options=chrome_options)\n",
    "# service = Service(executable_path=ChromeDriverManager().install())\n",
    "# driver = webdriver.Chrome(service=service, options=chrome_options)\n",
    "\n",
    "save_file = True  # 파일 저장 여부\n",
    "waiting_sec = 2.5"
   ]
  },
  {
   "cell_type": "code",
   "execution_count": 4,
   "id": "72d050f2-1a3d-4e37-9c42-a6ad37f6eb91",
   "metadata": {
    "tags": []
   },
   "outputs": [
    {
     "name": "stdout",
     "output_type": "stream",
     "text": [
      "          seq\n",
      "0    15765761\n",
      "1     6545078\n",
      "2    13522751\n",
      "3     5173062\n",
      "4     9721383\n",
      "..        ...\n",
      "466   2154603\n",
      "467   1001366\n",
      "468    974589\n",
      "469    161437\n",
      "470     66982\n",
      "\n",
      "[471 rows x 1 columns]\n"
     ]
    }
   ],
   "source": [
    "# seq 파일 읽기\n",
    "category = 112763  # HDD\n",
    "\n",
    "seq_file = f'./seq_{category}.csv'\n",
    "seq_df = pd.read_csv(seq_file)\n",
    "print(seq_df)\n",
    "# seq_file = 'hdd230918-seq.csv'\n",
    "# seq_df = pd.read_csv(seq_file)['product_seq']\n",
    "# print(seq_df)"
   ]
  },
  {
   "cell_type": "code",
   "execution_count": 5,
   "id": "85fbba3b-478d-4b80-ac25-666d6a48c3ad",
   "metadata": {
    "tags": []
   },
   "outputs": [],
   "source": [
    "header = ['name', 'price', 'link', 'company', 'product_seq', 'image', 'size', 'capacity',\n",
    "          'interface', 'rpm', 'transfer_rate', 'buffer_capacity', 'recording_method',\n",
    "          'thickness', 'as_years', 'reg_date', 'bookmark']\n",
    "\n",
    "rec_m = ['CMR', 'SMR', 'TGMR']"
   ]
  },
  {
   "cell_type": "code",
   "execution_count": 6,
   "id": "707ab8b6-1c62-4833-880c-a5b4807f80fb",
   "metadata": {
    "tags": []
   },
   "outputs": [],
   "source": [
    "hdd = dict()\n",
    "\n",
    "for col in header:\n",
    "    hdd[col] = []"
   ]
  },
  {
   "cell_type": "code",
   "execution_count": 7,
   "id": "728c4092-e6ca-416e-9cb6-512bee0ce204",
   "metadata": {},
   "outputs": [],
   "source": [
    "ntime = 0\n",
    "total = len(seq_df)\n",
    "start = time.time()"
   ]
  },
  {
   "cell_type": "code",
   "execution_count": 8,
   "id": "c21f1cbd-cfaf-4346-913e-d13d756942af",
   "metadata": {},
   "outputs": [
    {
     "name": "stdout",
     "output_type": "stream",
     "text": [
      "471/471 (100.00%)\n",
      "걸린 시간: 2633.25 sec\n"
     ]
    }
   ],
   "source": [
    "# 크롤링 시작\n",
    "for seq in seq_df.seq[ntime:]:\n",
    "    url = f'https://prod.danawa.com/info/?pcode={seq}&cate={category}'\n",
    "    driver.get(url)\n",
    "    driver.implicitly_wait(10)\n",
    "    \n",
    "    time.sleep(waiting_sec)\n",
    "    soup = BeautifulSoup(driver.page_source, 'html.parser')\n",
    "    \n",
    "    spec_tbl = soup.select(\"#productDescriptionArea > div > div.prod_spec > table > tbody\")\n",
    "    spec_tbl_tit = soup.select(\"#productDescriptionArea > div > div.prod_spec > table > tbody > tr > th.tit\")\n",
    "    spec_tbl_dsc = soup.select(\"#productDescriptionArea > div > div.prod_spec > table > tbody > tr > td.dsc\")\n",
    "    name = soup.select_one(\"#blog_content > div.summary_info > div.top_summary > h3 > span\")\n",
    "    price = soup.select_one(\"#blog_content > div.summary_info > div.detail_summary > div.summary_left > div.lowest_area > div.lowest_top > div.row.lowest_price > span.lwst_prc > a > em\")\n",
    "    image_url = soup.select_one(\"#baseImage\")\n",
    "    as_year = soup.select(\"#blog_content > div.summary_info > div.top_summary > div > div.sub_dsc > div > dl > dd > div > div > span > u:-soup-contains('A/S')\")\n",
    "    \n",
    "    tbl = zip(spec_tbl_tit, spec_tbl_dsc)\n",
    "\n",
    "    rec = None\n",
    "    \n",
    "    info = dict()\n",
    "    info['제품명'] = name.get_text()\n",
    "    info['최저가'] = price.get_text() if price is not None else None\n",
    "    info['링크'] = url\n",
    "    info['이미지'] = image_url['src']\n",
    "    for tit, dsc in tbl:\n",
    "        text = dsc.get_text()\n",
    "        text = text.replace('\\n','')\n",
    "        text = text.replace('\\t','')\n",
    "        text = text.replace('(제조사 웹사이트 바로가기)','')\n",
    "        info[tit.get_text()] = text.strip()\n",
    "    \n",
    "    hdd_class = info.get('제품 분류')\n",
    "    if info.get('제품 분류') != 'HDD (PC용)':\n",
    "        ntime += 1\n",
    "        continue\n",
    "\n",
    "    if len(hdd['name']) >= ntime:\n",
    "        for key in hdd.keys(): hdd[key] = hdd[key][:ntime]\n",
    "    hdd['name'].append(name.get_text())\n",
    "    hdd['price'].append(price.get_text().replace(',', '') if price is not None else None)\n",
    "    hdd['link'].append(url)\n",
    "    hdd['company'].append(info.get('제조회사'))\n",
    "    hdd['product_seq'].append(seq)\n",
    "    hdd['image'].append(image_url['src'])\n",
    "    hdd['size'].append(info.get('디스크 크기')[:3] if '디스크 크기' in info.keys() else None)\n",
    "    cap_str = info.get('디스크 용량')\n",
    "    if cap_str is not None:\n",
    "        cap_str = cap_str.replace('GB', '').replace(' 이상', '')\n",
    "        if 'TB' in cap_str:\n",
    "            cap_str = str(float(cap_str.replace('TB', '')) * 1024)\n",
    "    hdd['capacity'].append(cap_str)\n",
    "    hdd['interface'].append(info.get('인터페이스'))\n",
    "    hdd['rpm'].append(info.get('회전수').replace('RPM', '').replace(',', '')\n",
    "                      if '회전수' in info.keys() else None)\n",
    "    hdd['transfer_rate'].append(info.get('전송 속도').replace('MB/s', '')\n",
    "                                 if '전송 속도' in info.keys() else None)\n",
    "    hdd['buffer_capacity'].append(info.get('버퍼 용량').replace('메모리', '').replace('MB', '')\n",
    "                                  if '버퍼 용량' in info.keys() else None)\n",
    "    rec_str = info.get('기록방식')\n",
    "    if rec_str is not None:\n",
    "        for i in range(len(rec_m)):\n",
    "            if rec_m[i] in rec_str:\n",
    "                rec = i\n",
    "                break\n",
    "    hdd['recording_method'].append(rec)\n",
    "    hdd['thickness'].append(info.get('두께').replace('mm', '')\n",
    "                                if '두께' in info.keys() else None)\n",
    "    hdd['as_years'].append(re.sub('(A/S |년)', '', as_year[0].get_text()) if as_year else None)\n",
    "    hdd['reg_date'].append(re.sub('(년| |월)', '', info.get('등록년월')))\n",
    "    hdd['bookmark'].append(None)\n",
    "    \n",
    "    ## 테스트용\n",
    "    ntime += 1\n",
    "    print(f'\\r{ntime}/{total} ({ntime/total*100:.2f}%)', end='')\n",
    "    \n",
    "end = time.time()\n",
    "print(f'\\n걸린 시간: {end-start:.2f} sec')\n",
    "driver.quit()\n",
    "# 크롤링 끝"
   ]
  },
  {
   "cell_type": "code",
   "execution_count": 9,
   "id": "e7e1290a-30a2-43c3-bc72-8b3663566ad7",
   "metadata": {
    "tags": []
   },
   "outputs": [],
   "source": [
    "# 파일 저장\n",
    "if save_file:\n",
    "    today = time.strftime('%y%m%d')\n",
    "    pd.DataFrame(hdd).to_csv(f'hdd{today}_2.csv', index=None)"
   ]
  },
  {
   "cell_type": "code",
   "execution_count": null,
   "id": "334db493-8a4d-4eec-93af-29a3415d2c12",
   "metadata": {},
   "outputs": [],
   "source": []
  }
 ],
 "metadata": {
  "kernelspec": {
   "display_name": "Python 3 (ipykernel)",
   "language": "python",
   "name": "python3"
  },
  "language_info": {
   "codemirror_mode": {
    "name": "ipython",
    "version": 3
   },
   "file_extension": ".py",
   "mimetype": "text/x-python",
   "name": "python",
   "nbconvert_exporter": "python",
   "pygments_lexer": "ipython3",
   "version": "3.11.4"
  }
 },
 "nbformat": 4,
 "nbformat_minor": 5
}
