{
 "cells": [
  {
   "cell_type": "code",
   "execution_count": 1,
   "id": "8017fc7e",
   "metadata": {
    "tags": []
   },
   "outputs": [],
   "source": [
    "import pandas as pd\n",
    "import numpy as np\n",
    "import time\n",
    "import re"
   ]
  },
  {
   "cell_type": "code",
   "execution_count": 2,
   "id": "a29cdc90-5582-46c3-8bf4-38a2f5c2cec4",
   "metadata": {},
   "outputs": [],
   "source": [
    "power = pd.read_csv('power230918.csv')"
   ]
  },
  {
   "cell_type": "code",
   "execution_count": 3,
   "id": "60419021-e7b5-4d02-9d6b-ec9d022cfd5e",
   "metadata": {
    "tags": []
   },
   "outputs": [
    {
     "data": {
      "text/plain": [
       "array(['1()', nan, '무(fanless)', '3()', '2()', '4()'], dtype=object)"
      ]
     },
     "execution_count": 3,
     "metadata": {},
     "output_type": "execute_result"
    }
   ],
   "source": [
    "col = 'fan_number'\n",
    "power[col].unique()"
   ]
  },
  {
   "cell_type": "code",
   "execution_count": 4,
   "id": "cb066db2-c477-46a2-b785-7f43ed33b6e5",
   "metadata": {
    "tags": []
   },
   "outputs": [],
   "source": [
    "for i in range(len(power)):\n",
    "    if pd.isnull(power[col][i]): continue\n",
    "    if power[col][i] == '무(fanless)':\n",
    "        power.loc[i, col] = power.loc[i, col].replace('무(fanless)', '0')\n",
    "    power.loc[i, col] = re.sub('\\(|\\)', '', power.loc[i, col])"
   ]
  },
  {
   "cell_type": "code",
   "execution_count": 5,
   "id": "2c06d8be-9abb-4ebb-921d-c1152037fb63",
   "metadata": {
    "tags": []
   },
   "outputs": [
    {
     "data": {
      "text/plain": [
       "array(['1', nan, '0', '3', '2', '4'], dtype=object)"
      ]
     },
     "execution_count": 5,
     "metadata": {},
     "output_type": "execute_result"
    }
   ],
   "source": [
    "power[col].unique()"
   ]
  },
  {
   "cell_type": "code",
   "execution_count": 6,
   "id": "35d0cc87-4f04-4cc2-b350-16c7d00d2953",
   "metadata": {},
   "outputs": [
    {
     "data": {
      "text/plain": [
       "array(['140', '141~160', '160', '150', nan, '100', '165', '180', '175',\n",
       "       '210', '30.5 cm', '135', '200', '130', '125', '183', '225', '170',\n",
       "       '190', '265', '157', '185', '230', '28.5 cm', '39 cm', '43.9cm',\n",
       "       '155', '16.51 cm', '35.5 cm', '220', '28.5cm', '36.6 cm', '47 cm',\n",
       "       '28cm', '32cm', '43.9 cm', '29.8cm', '12.5 cm', '76 cm', '54.4 cm',\n",
       "       '32 cm', '199', '36.3 cm', '68.3 cm', '67 cm', '58.5cm', '71.9 cm',\n",
       "       '71.5 cm', '47.7 cm', '64cm', '44 cm', '56.5 cm', '45.7 cm',\n",
       "       '40.6 cm', '66.0 cm', '38 cm', '43 cm', '45cm', '51cm', '55cm',\n",
       "       '33.5 cm', '43.6 cm', '39.9 cm', '77.3cm', '35cm', '47cm',\n",
       "       '71.5cm', '49.7~64.7 cm', '71.9cm', '47.8 cm', '48.3 cm',\n",
       "       '23.4 cm', '68 cm', '63.5cm', '35.6 cm', '57.3 cm', '60.8 cm',\n",
       "       '44.0 cm', '46.4 cm', '41.4 cm', '45.2 cm', '37cm', '715cm',\n",
       "       '58.4cm', '66cm', '52.2 cm', '66.6 cm'], dtype=object)"
      ]
     },
     "execution_count": 6,
     "metadata": {},
     "output_type": "execute_result"
    }
   ],
   "source": [
    "col = 'depth'\n",
    "power[col].unique()"
   ]
  },
  {
   "cell_type": "code",
   "execution_count": 7,
   "id": "22e92b95-d0a8-4b81-98e0-c546e0a45976",
   "metadata": {
    "tags": []
   },
   "outputs": [],
   "source": [
    "for i in range(len(power)):\n",
    "    if pd.isnull(power[col][i]): continue\n",
    "    power.loc[i, col] = power.loc[i, col].replace(' ', '')\n",
    "    if '~' in power[col][i]:\n",
    "        power.loc[i, col] = power.loc[i, col][power.loc[i, col].index('~') + 1:]\n",
    "    if 'cm' in power[col][i]:\n",
    "        mmf = float(power.loc[i, col].replace('cm', '')) * 10\n",
    "        power.loc[i, col] = f'{mmf:.0f}'"
   ]
  },
  {
   "cell_type": "code",
   "execution_count": 8,
   "id": "2a3dcce6-5a91-4dc0-8b1e-cb68c2ff7149",
   "metadata": {
    "tags": []
   },
   "outputs": [
    {
     "data": {
      "text/plain": [
       "array(['140', '160', '150', nan, '100', '165', '180', '175', '210', '305',\n",
       "       '135', '200', '130', '125', '183', '225', '170', '190', '265',\n",
       "       '157', '185', '230', '285', '390', '439', '155', '355', '220',\n",
       "       '366', '470', '280', '320', '298', '760', '544', '199', '363',\n",
       "       '683', '670', '585', '719', '715', '477', '640', '440', '565',\n",
       "       '457', '406', '660', '380', '430', '450', '510', '550', '335',\n",
       "       '436', '399', '773', '350', '647', '478', '483', '234', '680',\n",
       "       '635', '356', '573', '608', '464', '414', '452', '370', '7150',\n",
       "       '584', '522', '666'], dtype=object)"
      ]
     },
     "execution_count": 8,
     "metadata": {},
     "output_type": "execute_result"
    }
   ],
   "source": [
    "power[col].unique()"
   ]
  },
  {
   "cell_type": "code",
   "execution_count": 9,
   "id": "ace588d3-c764-44a5-8af6-15eae168636e",
   "metadata": {
    "tags": []
   },
   "outputs": [
    {
     "data": {
      "text/plain": [
       "array(['7', '6', '12', '4', '8', '10', '9', '16', '3', '2', '5', '14',\n",
       "       nan, '20', '18', '11', 'SATA x7', '1'], dtype=object)"
      ]
     },
     "execution_count": 9,
     "metadata": {},
     "output_type": "execute_result"
    }
   ],
   "source": [
    "col = 'sata'\n",
    "power[col].unique()"
   ]
  },
  {
   "cell_type": "code",
   "execution_count": 10,
   "id": "334dab9b-49e8-49e1-85e1-320692a95de9",
   "metadata": {
    "tags": []
   },
   "outputs": [],
   "source": [
    "for i in range(len(power)):\n",
    "    if pd.isnull(power[col][i]): continue\n",
    "    power.loc[i, col] = power.loc[i, col].replace(' ', '')\n",
    "    if 'SATAx7' == power[col][i]:\n",
    "        power.loc[i, col] = '7'"
   ]
  },
  {
   "cell_type": "code",
   "execution_count": 11,
   "id": "62a8ea3c-4c64-46ec-b2f0-0825e4393391",
   "metadata": {
    "tags": []
   },
   "outputs": [
    {
     "data": {
      "text/plain": [
       "array(['7', '6', '12', '4', '8', '10', '9', '16', '3', '2', '5', '14',\n",
       "       nan, '20', '18', '11', '1'], dtype=object)"
      ]
     },
     "execution_count": 11,
     "metadata": {},
     "output_type": "execute_result"
    }
   ],
   "source": [
    "power[col].unique()"
   ]
  },
  {
   "cell_type": "code",
   "execution_count": 12,
   "id": "bbe30b4c-1a4b-4175-bdc1-917356334435",
   "metadata": {
    "tags": []
   },
   "outputs": [
    {
     "data": {
      "text/plain": [
       "array(['6', '7', '10', '5', '3', '1,유상2', nan, '12', '2', '3,유상2', '8',\n",
       "       '2,유상3', '90일', '1,유상1', '3,유상4', '1', '5,유상3', '3개월', '3,유상3',\n",
       "       '11', '6개월', '12개월', '2,유상1', '5,유상2', '1,유상3', '1,유상5'],\n",
       "      dtype=object)"
      ]
     },
     "execution_count": 12,
     "metadata": {},
     "output_type": "execute_result"
    }
   ],
   "source": [
    "col = 'as_years'\n",
    "power[col].unique()"
   ]
  },
  {
   "cell_type": "code",
   "execution_count": 13,
   "id": "afaacbfe-aaee-4a06-a394-732cfa69ed65",
   "metadata": {},
   "outputs": [],
   "source": [
    "for i in range(len(power)):\n",
    "    if pd.isnull(power[col][i]): continue\n",
    "    power.loc[i, col] = power.loc[i, col].replace(' ', '')\n",
    "    if ',' in power[col][i]:\n",
    "        power.loc[i, col] = power.loc[i, col][:power.loc[i, col].index(',')]\n",
    "    elif '12개월' == power[col][i]:\n",
    "        power.loc[i, col] = '1'\n",
    "    elif '90일' == power[col][i]:\n",
    "        power.loc[i, col] = '3'\n",
    "    elif '개월' in power[col][i]:\n",
    "        power.loc[i, col] = None"
   ]
  },
  {
   "cell_type": "code",
   "execution_count": 14,
   "id": "cc36c48e-3a05-4846-85a4-0b63f9e32298",
   "metadata": {
    "tags": []
   },
   "outputs": [
    {
     "data": {
      "text/plain": [
       "array(['6', '7', '10', '5', '3', '1', nan, '12', '2', '8', None, '11'],\n",
       "      dtype=object)"
      ]
     },
     "execution_count": 14,
     "metadata": {},
     "output_type": "execute_result"
    }
   ],
   "source": [
    "power[col].unique()"
   ]
  },
  {
   "cell_type": "code",
   "execution_count": 15,
   "id": "d15fa9ce-4e60-4db1-b1fe-b6e4de9b3eac",
   "metadata": {},
   "outputs": [
    {
     "data": {
      "text/plain": [
       "array(['24핀(20+4)', '24핀', '24핀(20+4) 1개', nan, '24핀 x1', '24핀(20+4) x1',\n",
       "       '24핀 1개'], dtype=object)"
      ]
     },
     "execution_count": 15,
     "metadata": {},
     "output_type": "execute_result"
    }
   ],
   "source": [
    "col = 'main_power'\n",
    "power[col].unique()"
   ]
  },
  {
   "cell_type": "code",
   "execution_count": 16,
   "id": "f95d008d-336d-4043-9693-7db65e34593f",
   "metadata": {},
   "outputs": [],
   "source": [
    "for i in range(len(power[col])):\n",
    "    if pd.isnull(power[col][i]): continue\n",
    "    power.loc[i, col] = re.sub('( 1개| x1)', '', power.loc[i, col])"
   ]
  },
  {
   "cell_type": "code",
   "execution_count": 17,
   "id": "449feba7-c1aa-4f47-9436-e5da71a9166b",
   "metadata": {},
   "outputs": [
    {
     "data": {
      "text/plain": [
       "array(['24핀(20+4)', '24핀', nan], dtype=object)"
      ]
     },
     "execution_count": 17,
     "metadata": {},
     "output_type": "execute_result"
    }
   ],
   "source": [
    "power[col].unique()"
   ]
  },
  {
   "cell_type": "code",
   "execution_count": 18,
   "id": "6671890c-2cc8-45cf-915d-38396c3958a8",
   "metadata": {
    "tags": []
   },
   "outputs": [],
   "source": [
    "today = time.strftime('%y%m%d')\n",
    "pd.DataFrame(power).to_csv(f'part_power{today}.csv', index=None)"
   ]
  },
  {
   "cell_type": "code",
   "execution_count": null,
   "id": "efc3c02f-9262-4fed-86e9-e26baf648585",
   "metadata": {},
   "outputs": [],
   "source": []
  }
 ],
 "metadata": {
  "kernelspec": {
   "display_name": "Python 3 (ipykernel)",
   "language": "python",
   "name": "python3"
  },
  "language_info": {
   "codemirror_mode": {
    "name": "ipython",
    "version": 3
   },
   "file_extension": ".py",
   "mimetype": "text/x-python",
   "name": "python",
   "nbconvert_exporter": "python",
   "pygments_lexer": "ipython3",
   "version": "3.9.12"
  }
 },
 "nbformat": 4,
 "nbformat_minor": 5
}
