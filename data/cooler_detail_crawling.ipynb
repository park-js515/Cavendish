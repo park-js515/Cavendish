{
 "cells": [
  {
   "cell_type": "code",
   "execution_count": 1,
   "id": "9907d90e-0e0d-43fd-8478-2364fb42f2fd",
   "metadata": {
    "tags": []
   },
   "outputs": [],
   "source": [
    "from selenium import webdriver\n",
    "from selenium.webdriver.chrome.service import Service\n",
    "from selenium.webdriver.chrome.options import Options\n",
    "from selenium.webdriver.common.by import By\n",
    "from selenium.webdriver.support.select import Select\n",
    "from selenium.webdriver.support.ui import WebDriverWait\n",
    "from selenium.webdriver.support import expected_conditions as EC\n",
    "from selenium.common.exceptions import NoSuchElementException\n",
    "from selenium.common.exceptions import StaleElementReferenceException\n",
    "from bs4 import BeautifulSoup\n",
    "import pandas as pd\n",
    "import pprint\n",
    "import time\n",
    "import csv\n",
    "import re\n",
    "\n",
    "# 크롬 드라이버 자동 업데이트\n",
    "from webdriver_manager.chrome import ChromeDriverManager"
   ]
  },
  {
   "cell_type": "code",
   "execution_count": 2,
   "id": "240c0ce9-78f3-4e1d-a55a-2ac7d335533f",
   "metadata": {
    "tags": []
   },
   "outputs": [],
   "source": [
    "class RetriesExceededError(Exception):\n",
    "    def __init__(self, message):\n",
    "        super().__init__(message)\n",
    "\n",
    "        \n",
    "def find_element_with_retry(driver_, by, value, waiting_sec=2.5, max_retries=10):\n",
    "    retries = 0\n",
    "    while retries < max_retries:\n",
    "        try:\n",
    "            element = WebDriverWait(driver_, waiting_sec).until(EC.presence_of_element_located((by, value)))\n",
    "            return element\n",
    "        except (NoSuchElementException, StaleElementReferenceException):\n",
    "            retries += 1\n",
    "            \n",
    "    raise RetriesExceededError(f'{value}를 찾을 수 없음\\n재시도 횟수 초과: {waiting_sec}초로 {max_retries}회 시도')"
   ]
  },
  {
   "cell_type": "code",
   "execution_count": 3,
   "id": "f1358a0d-1a67-4ff1-bf9b-c212131d05db",
   "metadata": {
    "tags": []
   },
   "outputs": [],
   "source": [
    "# 브라우저 꺼짐 방지\n",
    "chrome_options = Options()\n",
    "chrome_options.add_experimental_option(\"detach\", True)\n",
    "\n",
    "user_agent = \"Mozilla/5.0 (Windows NT 10.0; Win64; x64) AppleWebKit/537.36 (KHTML, like Gecko) Chrome/116.0.0.0 Safari/537.36\"\n",
    "chrome_options.add_argument(f'user-agent={user_agent}')\n",
    "# 불필요한 에러 메세지 없애기\n",
    "chrome_options.add_experimental_option(\"excludeSwitches\", [\"enable-logging\"])\n",
    "# driver = webdriver.Chrome('./chromedriver/chromedriver.exe', options=chrome_options)\n",
    "service = Service(executable_path=ChromeDriverManager().install())\n",
    "driver = webdriver.Chrome(service=service, options=chrome_options)\n",
    "\n",
    "save_file = True  # 파일 저장 여부\n",
    "waiting_sec = 2.5"
   ]
  },
  {
   "cell_type": "code",
   "execution_count": 4,
   "id": "72d050f2-1a3d-4e37-9c42-a6ad37f6eb91",
   "metadata": {
    "tags": []
   },
   "outputs": [
    {
     "name": "stdout",
     "output_type": "stream",
     "text": [
      "           seq\n",
      "0     18668606\n",
      "1     20274764\n",
      "2     19773293\n",
      "3     13463144\n",
      "4     20315144\n",
      "...        ...\n",
      "1316   7424305\n",
      "1317   6643450\n",
      "1318   5406903\n",
      "1319   3928707\n",
      "1320   1029593\n",
      "\n",
      "[1321 rows x 1 columns]\n"
     ]
    }
   ],
   "source": [
    "# seq 파일 읽기\n",
    "category = 112753  # 그래픽 카드\n",
    "\n",
    "seq_file = f'./seq_{category}.csv'\n",
    "seq_df = pd.read_csv(seq_file)\n",
    "print(seq_df)"
   ]
  },
  {
   "cell_type": "code",
   "execution_count": 5,
   "id": "85fbba3b-478d-4b80-ac25-666d6a48c3ad",
   "metadata": {
    "tags": []
   },
   "outputs": [],
   "source": [
    "header = ['name', 'price', 'link', 'company', 'product_seq', 'image', 'category',\n",
    "          'cooling_type', 'aircool_form', 'tdp', 'intel_socket', 'amd_socket', 'fan_size',\n",
    "          'fan_count', 'airflow', 'noise', 'width', 'length', 'height', 'radiator',\n",
    "          'radiator_length', 'radiator_thickness', 'hose_length', 'feature', 'led_color',\n",
    "          'as_years', 'reg_date', 'bookmark']"
   ]
  },
  {
   "cell_type": "code",
   "execution_count": 6,
   "id": "d81bd827-2357-4b3c-bfbd-f9cb0016e633",
   "metadata": {},
   "outputs": [],
   "source": [
    "feat_bitmask = ['LED 라이트', 'PWM 지원', 'RGB 컨트롤러', '팬 컨트롤러', '리모콘 지원',\n",
    "                '펌프속도조절', '워터블록/로고 회전', 'LCD', '인디게이터', '데이지체인',\n",
    "                '제로팬(0-dB기술)', '수랭 커스텀', '속도조절스위치', '라디에이터 양면팬 지원',\n",
    "                '자석 고정형']"
   ]
  },
  {
   "cell_type": "code",
   "execution_count": 7,
   "id": "707ab8b6-1c62-4833-880c-a5b4807f80fb",
   "metadata": {
    "tags": []
   },
   "outputs": [],
   "source": [
    "cooler = dict()\n",
    "\n",
    "for col in header:\n",
    "    cooler[col] = []"
   ]
  },
  {
   "cell_type": "code",
   "execution_count": 8,
   "id": "728c4092-e6ca-416e-9cb6-512bee0ce204",
   "metadata": {},
   "outputs": [],
   "source": [
    "ntime = 0\n",
    "total = len(seq_df)\n",
    "start = time.time()"
   ]
  },
  {
   "cell_type": "code",
   "execution_count": 10,
   "id": "c21f1cbd-cfaf-4346-913e-d13d756942af",
   "metadata": {},
   "outputs": [
    {
     "name": "stdout",
     "output_type": "stream",
     "text": [
      "1321/1321 (100.00%)\n",
      "걸린 시간: 8127.49 sec\n"
     ]
    }
   ],
   "source": [
    "# 크롤링 시작\n",
    "for seq in seq_df.seq[ntime:]:\n",
    "    url = f'https://prod.danawa.com/info/?pcode={seq}&cate={category}'\n",
    "    driver.get(url)\n",
    "    driver.implicitly_wait(10)\n",
    "    \n",
    "    time.sleep(waiting_sec)\n",
    "    soup = BeautifulSoup(driver.page_source, 'html.parser')\n",
    "    \n",
    "    spec_tbl = soup.select(\"#productDescriptionArea > div > div.prod_spec > table > tbody\")\n",
    "    spec_tbl_tit = soup.select(\"#productDescriptionArea > div > div.prod_spec > table > tbody > tr > th.tit\")\n",
    "    spec_tbl_dsc = soup.select(\"#productDescriptionArea > div > div.prod_spec > table > tbody > tr > td.dsc\")\n",
    "    name = soup.select_one(\"#blog_content > div.summary_info > div.top_summary > h3 > span\")\n",
    "    price = soup.select_one(\"#blog_content > div.summary_info > div.detail_summary > div.summary_left > div.lowest_area > div.lowest_top > div.row.lowest_price > span.lwst_prc > a > em\")\n",
    "    image_url = soup.select_one(\"#baseImage\")\n",
    "    as_year = soup.select(\"#blog_content > div.summary_info > div.top_summary > div > div.sub_dsc > div > dl > dd > div > div > span > u:-soup-contains('A/S')\")\n",
    "    \n",
    "    tbl = zip(spec_tbl_tit, spec_tbl_dsc)\n",
    "\n",
    "    info = dict()\n",
    "    info['제품명'] = name.get_text()\n",
    "    info['최저가'] = price.get_text() if price is not None else None\n",
    "    info['링크'] = url\n",
    "    info['이미지'] = image_url['src']\n",
    "    for tit, dsc in tbl:\n",
    "        text = dsc.get_text()\n",
    "        text = text.replace('\\n','')\n",
    "        text = text.replace('\\t','')\n",
    "        text = text.replace('(제조사 웹사이트 바로가기)','')\n",
    "        info[tit.get_text()] = text.strip()\n",
    "        \n",
    "    feat_bit = 0\n",
    "\n",
    "    if len(cooler['name']) >= ntime:\n",
    "        for key in cooler.keys(): cooler[key] = cooler[key][:ntime]\n",
    "    cooler['name'].append(name.get_text())\n",
    "    cooler['price'].append(price.get_text().replace(',', '') if price is not None else None)\n",
    "    cooler['link'].append(url)\n",
    "    cooler['company'].append(info.get('제조회사'))\n",
    "    cooler['product_seq'].append(seq)\n",
    "    cooler['image'].append(image_url['src'])\n",
    "    cooler['chipset_company'].append(info.get('칩셋 제조사'))\n",
    "    if 'NVIDIA 칩셋' in info.keys():\n",
    "        chipset = info.get('NVIDIA 칩셋')\n",
    "    elif 'AMD 칩셋' in info.keys():\n",
    "        chipset = info.get('AMD 칩셋')\n",
    "    elif '기타 칩셋' in info.keys():\n",
    "        chipset = info.get('기타 칩셋')\n",
    "    elif '인텔 칩셋' in info.keys():\n",
    "        chipset = info.get('인텔 칩셋')\n",
    "    cooler['chipset'].append(chipset)\n",
    "    cooler['nm'].append(info.get('GPU 제조 공정').replace('nm', '')\n",
    "                         if 'GPU 제조 공정' in info.keys() else None)\n",
    "    cooler['base_clock'].append(info.get('베이스클럭').replace('MHz', '')\n",
    "                                 if '베이스클럭' in info.keys() else None)\n",
    "    cooler['boost_clock'].append(info.get('부스트클럭').replace('MHz', '')\n",
    "                                  if '부스트클럭' in info.keys() else None)\n",
    "    cooler['cuda_processor'].append(info.get('쿠다 프로세서').replace('개', '')\n",
    "                                     if '쿠다 프로세서' in info.keys() else None)\n",
    "    cooler['stream_processor'].append(info.get('스트림 프로세서').replace('개', '')\n",
    "                                       if '스트림 프로세서' in info.keys() else None)\n",
    "    cooler['interface'].append(info.get('인터페이스'))\n",
    "    cooler['memory_type'].append(info.get('메모리 종류'))\n",
    "    mem_cap = info.get('memory_capacity')\n",
    "    if not (mem_cap is None or mem_cap == '해당없음' or mem_cap == '정보없음'):\n",
    "        if mem_cap.endswith('MB'): \n",
    "            mem_cap = str(float(mem_cap[:-2] / 1024.))\n",
    "        if mem_cap.endswith('GB'):\n",
    "            mem_cap = mem_cap[:-2]\n",
    "    cooler['memory_capacity'].append(mem_cap)\n",
    "    cooler['memory_clock'].append(info.get('메모리 클럭').replace('MHz', '')\n",
    "                                   if '메모리 클럭' in info.keys() else None)\n",
    "    cooler['memory_bus'].append(info.get('메모리 버스').replace('-bit', '')\n",
    "                                 if '메모리 버스' in info.keys() else None)\n",
    "    for i in range(len(port_bitmask)):\n",
    "        if port_bitmask[i] in info.keys(): port_bit |= 1 << i\n",
    "    cooler['port'].append(port_bit)\n",
    "    cooler['monitor_support'].append(re.sub('(최대 모니터 |개)', '', info.get('모니터 지원'))\n",
    "                                      if '모니터 지원' in info.keys() else None)\n",
    "    for i in range(len(af_bitmask)):\n",
    "        if af_bitmask[i] in info.keys(): af_bit |= 1 << i\n",
    "    cooler['additional_function'].append(af_bit)\n",
    "    cooler['usage_power'].append(re.sub('(최대 |W)', '', info.get('사용전력'))\n",
    "                                  if '사용전력' in info.keys() else None) \n",
    "    cooler['recommend_power'].append(re.sub('(해당없음|정격파워|W|이상| )', '', info.get('권장 파워용량'))\n",
    "                                      if '권장 파워용량' in info.keys() else None)\n",
    "    for i in range(len(ct_bitmask)):\n",
    "        if ct_bitmask[i] in info.keys(): ct_bit |= 1 << i\n",
    "    cooler['cooling_type'].append(ct_bit)\n",
    "    cooler['pan_number'].append(re.sub('(개| |팬)', '', info.get('팬 개수').replace('무', '0'))\n",
    "                                 if '팬 개수' in info.keys() else None)\n",
    "    cooler['length'].append(info.get('가로(길이)').replace('mm', '')\n",
    "                             if '가로(길이)' in info.keys() else None)\n",
    "    cooler['thickness'].append(info.get('두께').replace('mm', '')\n",
    "                                if '두께' in info.keys() else None)\n",
    "    if '전원 포트' in info.keys():\n",
    "        pin_txt = info.get('전원 포트')\n",
    "        pin_idx = [pin_txt.find('6핀 x'), pin_txt.find('8핀 x'),\n",
    "                   pin_txt.find('12핀 x'), pin_txt.find('16핀(12VHPWR) x')]\n",
    "        txt_len = [4, 4, 5, 14]\n",
    "        for i in range(len(pin_idx)):\n",
    "            if pin_idx[i] < 0: continue\n",
    "            pin[i] = pin_txt[pin_idx[i] + txt_len[i]]\n",
    "    cooler['pin'].append(\"\".join(pin))\n",
    "    for i in range(len(feat_bitmask)):\n",
    "        if feat_bitmask[i] in info.keys(): feat_bit |= 1 << i\n",
    "    cooler['feature'].append(feat_bit)\n",
    "    cooler['as_years'].append(re.sub('(A/S |년)', '', as_year[0].get_text()) if as_year else None)\n",
    "    cooler['bench_mark'].append(None)\n",
    "    cooler['reg_date'].append(re.sub('(년| |월)', '', info.get('등록년월')))\n",
    "    cooler['bookmark'].append(None)\n",
    "    \n",
    "    ## 테스트용\n",
    "    ntime += 1\n",
    "    rest_time = (time.time() - start) / ntime * (total - ntime)\n",
    "    print(f'\\r{ntime}/{total} ({ntime/total*100:.2f}%) (남은 시간: {rest_time:.0f}s)', end='')\n",
    "    \n",
    "end = time.time()\n",
    "print(f'\\n걸린 시간: {end-start:.2f} sec')\n",
    "driver.quit()\n",
    "# 크롤링 끝"
   ]
  },
  {
   "cell_type": "code",
   "execution_count": 11,
   "id": "e7e1290a-30a2-43c3-bc72-8b3663566ad7",
   "metadata": {
    "tags": []
   },
   "outputs": [],
   "source": [
    "# 파일 저장\n",
    "if save_file:\n",
    "    today = time.strftime('%y%m%d')\n",
    "    pd.DataFrame(cooler).to_csv(f'cooler{today}.csv', index=None)"
   ]
  },
  {
   "cell_type": "code",
   "execution_count": null,
   "id": "fd1a80e9-ccb3-4d57-99c1-9991ca3a5e29",
   "metadata": {},
   "outputs": [],
   "source": []
  }
 ],
 "metadata": {
  "kernelspec": {
   "display_name": "Python 3 (ipykernel)",
   "language": "python",
   "name": "python3"
  },
  "language_info": {
   "codemirror_mode": {
    "name": "ipython",
    "version": 3
   },
   "file_extension": ".py",
   "mimetype": "text/x-python",
   "name": "python",
   "nbconvert_exporter": "python",
   "pygments_lexer": "ipython3",
   "version": "3.11.4"
  }
 },
 "nbformat": 4,
 "nbformat_minor": 5
}
