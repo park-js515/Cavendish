{
 "cells": [
  {
   "cell_type": "code",
   "execution_count": 49,
   "id": "c957a89f-2aa7-4c5f-ad06-d524c2705f07",
   "metadata": {
    "tags": []
   },
   "outputs": [],
   "source": [
    "import pandas as pd\n",
    "import numpy as np\n",
    "import time"
   ]
  },
  {
   "cell_type": "code",
   "execution_count": 50,
   "id": "a7968bea-ebb3-4ab2-8a88-4554fa04b9c8",
   "metadata": {
    "tags": []
   },
   "outputs": [],
   "source": [
    "a = pd.read_csv('hdd230918.csv')"
   ]
  },
  {
   "cell_type": "code",
   "execution_count": 51,
   "id": "4501737b-1070-4f7e-8c12-e4c5c71bae70",
   "metadata": {
    "tags": []
   },
   "outputs": [],
   "source": [
    "for i in range(len(a)):\n",
    "    if pd.isnull(a['transfer_rate'][i]): continue\n",
    "    if '최대 ' in a['transfer_rate'][i]:\n",
    "        a.loc[i, 'transfer_rate'] = a.loc[i, 'transfer_rate'].replace('최대 ', '')"
   ]
  },
  {
   "cell_type": "code",
   "execution_count": 53,
   "id": "7d0f6a12-a47e-427e-8a3f-95473e5a44b0",
   "metadata": {
    "tags": []
   },
   "outputs": [],
   "source": [
    "today = time.strftime('%y%m%d')\n",
    "pd.DataFrame(a).to_csv(f'hdd{today}.csv', index=None)"
   ]
  },
  {
   "cell_type": "code",
   "execution_count": null,
   "id": "9320b03f-6bd8-4123-8fd3-8db84da4ec5b",
   "metadata": {},
   "outputs": [],
   "source": []
  }
 ],
 "metadata": {
  "kernelspec": {
   "display_name": "Python 3 (ipykernel)",
   "language": "python",
   "name": "python3"
  },
  "language_info": {
   "codemirror_mode": {
    "name": "ipython",
    "version": 3
   },
   "file_extension": ".py",
   "mimetype": "text/x-python",
   "name": "python",
   "nbconvert_exporter": "python",
   "pygments_lexer": "ipython3",
   "version": "3.11.4"
  }
 },
 "nbformat": 4,
 "nbformat_minor": 5
}
