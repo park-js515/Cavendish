{
 "cells": [
  {
   "cell_type": "code",
   "execution_count": 1,
   "id": "8017fc7e",
   "metadata": {
    "tags": []
   },
   "outputs": [],
   "source": [
    "import pandas as pd\n",
    "import numpy as np\n",
    "import time\n",
    "import re"
   ]
  },
  {
   "cell_type": "code",
   "execution_count": 2,
   "id": "a29cdc90-5582-46c3-8bf4-38a2f5c2cec4",
   "metadata": {
    "tags": []
   },
   "outputs": [],
   "source": [
    "ram = pd.read_csv('ram_final.csv')"
   ]
  },
  {
   "cell_type": "code",
   "execution_count": 25,
   "id": "69a707c0-65d9-4904-bce7-db323237ae30",
   "metadata": {
    "tags": []
   },
   "outputs": [
    {
     "data": {
      "text/plain": [
       "array(['16', '32', '8', '64', '48', '128', '96', '4', '192', '2', '1',\n",
       "       '256MB'], dtype=object)"
      ]
     },
     "execution_count": 25,
     "metadata": {},
     "output_type": "execute_result"
    }
   ],
   "source": [
    "col = 'capacity'\n",
    "ram[col].unique()"
   ]
  },
  {
   "cell_type": "code",
   "execution_count": 29,
   "id": "363f4cc6-fd37-43e8-ab32-12f7e9b689e6",
   "metadata": {
    "tags": []
   },
   "outputs": [
    {
     "data": {
      "text/plain": [
       "array(['3200MHz (PC4-25600)', '5600MHz (PC5-44800)',\n",
       "       '6000MHz (PC5-48000)', '5200MHz (PC5-41600)',\n",
       "       '4800MHz (PC5-38400)', '6400MHz (PC5-51200)',\n",
       "       '1600MHz (PC3-12800)', '3600MHz (PC4-28800)',\n",
       "       '2666MHz (PC4-21300)', '8000MHz (PC5-64000)',\n",
       "       '8200MHz (PC5-65600)', '4000MHz (PC4-32000)',\n",
       "       '7200MHz (PC5-57600)', '2400MHz (PC4-19200)',\n",
       "       '2133MHz (PC4-17000)', '6800MHz (PC5-54400)',\n",
       "       '7600MHz (PC5-60800)', '6600MHz (PC5-52800)',\n",
       "       '7800MHz (PC5-62400)', '6200MHz (PC5-49600)',\n",
       "       '3000MHz (PC4-24000)', '4266MHz (PC4-34100)',\n",
       "       '4300MHz (PC4-34400)', '4133MHz (PC4-33000)',\n",
       "       '4600MHz (PC4-36800)', '4500MHz (PC4-36000)',\n",
       "       '4800MHz (PC4-38400)', '3800MHz (PC4-30400)',\n",
       "       '7000MHz (PC5-56000)', '4400MHz (PC4-35200)',\n",
       "       '3466MHz (PC4-27700)', '2800MHz (PC4-22400)',\n",
       "       '3866MHz (PC4-30900)', '1333MHz (PC3-10600)', '800MHz (PC2-6400)',\n",
       "       '1866MHz (PC3-14900)', '1066MHz (PC3-8500)', '2933MHz (PC4-23400)',\n",
       "       '667MHz (PC2-5300)', '333MHz', '2400MHz (PC3-19200)',\n",
       "       '3400MHz (PC4-27200)', '2800MHz (PC3-22400)'], dtype=object)"
      ]
     },
     "execution_count": 29,
     "metadata": {},
     "output_type": "execute_result"
    }
   ],
   "source": [
    "col = 'clock'\n",
    "ram[col].unique()"
   ]
  },
  {
   "cell_type": "code",
   "execution_count": 30,
   "id": "276fa115-6857-4ac9-9b7f-7a44131342fe",
   "metadata": {
    "tags": []
   },
   "outputs": [],
   "source": [
    "for i in range(len(ram[col])):\n",
    "    if pd.isnull(ram[col][i]): continue\n",
    "    ram.loc[i, col] = re.sub('(MHz| |\\([^)]*\\))', '', ram.loc[i, col])"
   ]
  },
  {
   "cell_type": "code",
   "execution_count": 31,
   "id": "198d890d-de62-4b6d-932f-0640569c7d31",
   "metadata": {
    "tags": []
   },
   "outputs": [
    {
     "data": {
      "text/plain": [
       "array(['3200', '5600', '6000', '5200', '4800', '6400', '1600', '3600',\n",
       "       '2666', '8000', '8200', '4000', '7200', '2400', '2133', '6800',\n",
       "       '7600', '6600', '7800', '6200', '3000', '4266', '4300', '4133',\n",
       "       '4600', '4500', '3800', '7000', '4400', '3466', '2800', '3866',\n",
       "       '1333', '800', '1866', '1066', '2933', '667', '333', '3400'],\n",
       "      dtype=object)"
      ]
     },
     "execution_count": 31,
     "metadata": {},
     "output_type": "execute_result"
    }
   ],
   "source": [
    "ram[col].unique()"
   ]
  },
  {
   "cell_type": "code",
   "execution_count": 32,
   "id": "6671890c-2cc8-45cf-915d-38396c3958a8",
   "metadata": {
    "tags": []
   },
   "outputs": [],
   "source": [
    "today = time.strftime('%y%m%d')\n",
    "pd.DataFrame(ram).to_csv(f'part_ram{today}.csv', index=None)"
   ]
  },
  {
   "cell_type": "code",
   "execution_count": null,
   "id": "efc3c02f-9262-4fed-86e9-e26baf648585",
   "metadata": {},
   "outputs": [],
   "source": []
  }
 ],
 "metadata": {
  "kernelspec": {
   "display_name": "Python 3 (ipykernel)",
   "language": "python",
   "name": "python3"
  },
  "language_info": {
   "codemirror_mode": {
    "name": "ipython",
    "version": 3
   },
   "file_extension": ".py",
   "mimetype": "text/x-python",
   "name": "python",
   "nbconvert_exporter": "python",
   "pygments_lexer": "ipython3",
   "version": "3.11.4"
  }
 },
 "nbformat": 4,
 "nbformat_minor": 5
}
