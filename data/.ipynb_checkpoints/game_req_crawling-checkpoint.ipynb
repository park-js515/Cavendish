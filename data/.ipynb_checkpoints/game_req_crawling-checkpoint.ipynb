{
 "cells": [
  {
   "cell_type": "code",
   "execution_count": 1,
   "id": "1633345f",
   "metadata": {
    "tags": []
   },
   "outputs": [],
   "source": [
    "from selenium import webdriver\n",
    "from selenium.webdriver.chrome.service import Service\n",
    "from selenium.webdriver.chrome.options import Options\n",
    "from selenium.webdriver.common.by import By\n",
    "from selenium.webdriver.support.select import Select\n",
    "from selenium.webdriver.support.ui import WebDriverWait\n",
    "from selenium.webdriver.support import expected_conditions as EC\n",
    "from selenium.common.exceptions import NoSuchElementException\n",
    "from selenium.common.exceptions import StaleElementReferenceException\n",
    "from bs4 import BeautifulSoup\n",
    "import pandas as pd\n",
    "import pprint\n",
    "import time\n",
    "import csv\n",
    "import re\n",
    "\n",
    "# 크롬 드라이버 자동 업데이트\n",
    "from webdriver_manager.chrome import ChromeDriverManager"
   ]
  },
  {
   "cell_type": "code",
   "execution_count": 2,
   "id": "b869bd46",
   "metadata": {
    "tags": []
   },
   "outputs": [],
   "source": [
    "class RetriesExceededError(Exception):\n",
    "    def __init__(self, message):\n",
    "        super().__init__(message)\n",
    "\n",
    "        \n",
    "def find_element_with_retry(driver_, by, value, waiting_sec=2.5, max_retries=10):\n",
    "    retries = 0\n",
    "    while retries < max_retries:\n",
    "        try:\n",
    "            element = WebDriverWait(driver_, waiting_sec).until(EC.presence_of_element_located((by, value)))\n",
    "            return element\n",
    "        except (NoSuchElementException, StaleElementReferenceException):\n",
    "            retries += 1\n",
    "            \n",
    "    raise RetriesExceededError(f'{value}를 찾을 수 없음\\n재시도 횟수 초과: {waiting_sec}초로 {max_retries}회 시도')"
   ]
  },
  {
   "cell_type": "code",
   "execution_count": 3,
   "id": "8d4b29b7",
   "metadata": {
    "tags": []
   },
   "outputs": [],
   "source": [
    "# 브라우저 꺼짐 방지\n",
    "chrome_options = Options()\n",
    "chrome_options.add_experimental_option(\"detach\", True)\n",
    "\n",
    "user_agent = \"Mozilla/5.0 (Windows NT 10.0; Win64; x64) AppleWebKit/537.36 (KHTML, like Gecko) Chrome/116.0.0.0 Safari/537.36\"\n",
    "chrome_options.add_argument(f'user-agent={user_agent}')\n",
    "# 불필요한 에러 메세지 없애기\n",
    "chrome_options.add_experimental_option(\"excludeSwitches\", [\"enable-logging\"])\n",
    "# driver = webdriver.Chrome('./chromedriver/chromedriver.exe', options=chrome_options)\n",
    "service = Service(executable_path=ChromeDriverManager().install())\n",
    "driver = webdriver.Chrome(service=service, options=chrome_options)\n",
    "\n",
    "save_file = True  # 파일 저장 여부\n",
    "waiting_sec = 2.5"
   ]
  },
  {
   "cell_type": "code",
   "execution_count": 5,
   "id": "6453eb76",
   "metadata": {
    "tags": []
   },
   "outputs": [],
   "source": [
    "header_req = ['name', 'cpu', 'ram', 'gpu', 'dx', 'os', 'sto', 'spec_cless']\n",
    "header_pro = ['name', 'usage', 'image']"
   ]
  },
  {
   "cell_type": "code",
   "execution_count": 7,
   "id": "29d13a0c",
   "metadata": {
    "tags": []
   },
   "outputs": [],
   "source": [
    "requirement = dict()\n",
    "program = dict()\n",
    "for col in header_req:\n",
    "    requirement[col] = []\n",
    "for col in header_pro:\n",
    "    program[col] = []"
   ]
  },
  {
   "cell_type": "code",
   "execution_count": 8,
   "id": "fd3e20a6",
   "metadata": {},
   "outputs": [],
   "source": [
    "ntime = 0\n",
    "start = time.time()"
   ]
  },
  {
   "cell_type": "code",
   "execution_count": 10,
   "id": "3bbc3e32",
   "metadata": {},
   "outputs": [
    {
     "name": "stdout",
     "output_type": "stream",
     "text": [
      "1321/1321 (100.00%)\n",
      "걸린 시간: 8127.49 sec\n"
     ]
    }
   ],
   "source": [
    "# 크롤링 시작\n",
    "for seq in seq_df.seq[ntime:]:\n",
    "    # ►\n",
    "    url = f'https://prod.danawa.com/info/?pcode={seq}&cate={category}'\n",
    "    driver.get(url)\n",
    "    driver.implicitly_wait(10)\n",
    "    \n",
    "    time.sleep(waiting_sec)\n",
    "    soup = BeautifulSoup(driver.page_source, 'html.parser')\n",
    "    \n",
    "    spec_tbl = soup.select(\"#productDescriptionArea > div > div.prod_spec > table > tbody\")\n",
    "    spec_tbl_tit = soup.select(\"#productDescriptionArea > div > div.prod_spec > table > tbody > tr > th.tit\")\n",
    "    spec_tbl_dsc = soup.select(\"#productDescriptionArea > div > div.prod_spec > table > tbody > tr > td.dsc\")\n",
    "    name = soup.select_one(\"#blog_content > div.summary_info > div.top_summary > h3 > span\")\n",
    "    price = soup.select_one(\"#blog_content > div.summary_info > div.detail_summary > div.summary_left > div.lowest_area > div.lowest_top > div.row.lowest_price > span.lwst_prc > a > em\")\n",
    "    image_url = soup.select_one(\"#baseImage\")\n",
    "    as_year = soup.select(\"#blog_content > div.summary_info > div.top_summary > div > div.sub_dsc > div > dl > dd > div > div > span > u:-soup-contains('A/S')\")\n",
    "    \n",
    "    tbl = zip(spec_tbl_tit, spec_tbl_dsc)\n",
    "\n",
    "    info = dict()\n",
    "    info['제품명'] = name.get_text()\n",
    "    info['최저가'] = price.get_text() if price is not None else None\n",
    "    info['링크'] = url\n",
    "    info['이미지'] = image_url['src']\n",
    "    for tit, dsc in tbl:\n",
    "        text = dsc.get_text()\n",
    "        text = text.replace('\\n','')\n",
    "        text = text.replace('\\t','')\n",
    "        text = text.replace('(제조사 웹사이트 바로가기)','')\n",
    "        info[tit.get_text()] = text.strip()\n",
    "    \n",
    "    chipset = ''\n",
    "    port_bit = 0\n",
    "    af_bit = 0\n",
    "    rec_pow = 0\n",
    "    ct_bit = 0\n",
    "    feat_bit = 0\n",
    "    pin = ['0', '0', '0', '0', '0', '0']\n",
    "\n",
    "    if len(graphic['name']) >= ntime:\n",
    "        for key in graphic.keys(): graphic[key] = graphic[key][:ntime]\n",
    "    graphic['name'].append(name.get_text())\n",
    "    graphic['price'].append(price.get_text().replace(',', '') if price is not None else None)\n",
    "    graphic['link'].append(url)\n",
    "    graphic['company'].append(info.get('제조회사'))\n",
    "    graphic['product_seq'].append(seq)\n",
    "    graphic['image'].append(image_url['src'])\n",
    "    graphic['chipset_company'].append(info.get('칩셋 제조사'))\n",
    "    if 'NVIDIA 칩셋' in info.keys():\n",
    "        chipset = info.get('NVIDIA 칩셋')\n",
    "    elif 'AMD 칩셋' in info.keys():\n",
    "        chipset = info.get('AMD 칩셋')\n",
    "    elif '기타 칩셋' in info.keys():\n",
    "        chipset = info.get('기타 칩셋')\n",
    "    elif '인텔 칩셋' in info.keys():\n",
    "        chipset = info.get('인텔 칩셋')\n",
    "    graphic['chipset'].append(chipset)\n",
    "    graphic['nm'].append(info.get('GPU 제조 공정').replace('nm', '')\n",
    "                         if 'GPU 제조 공정' in info.keys() else None)\n",
    "    graphic['base_clock'].append(info.get('베이스클럭').replace('MHz', '')\n",
    "                                 if '베이스클럭' in info.keys() else None)\n",
    "    graphic['boost_clock'].append(info.get('부스트클럭').replace('MHz', '')\n",
    "                                  if '부스트클럭' in info.keys() else None)\n",
    "    graphic['cuda_processor'].append(info.get('쿠다 프로세서').replace('개', '')\n",
    "                                     if '쿠다 프로세서' in info.keys() else None)\n",
    "    graphic['stream_processor'].append(info.get('스트림 프로세서').replace('개', '')\n",
    "                                       if '스트림 프로세서' in info.keys() else None)\n",
    "    graphic['interface'].append(info.get('인터페이스'))\n",
    "    graphic['memory_type'].append(info.get('메모리 종류'))\n",
    "    mem_cap = info.get('memory_capacity')\n",
    "    if not (mem_cap is None or mem_cap == '해당없음' or mem_cap == '정보없음'):\n",
    "        if mem_cap.endswith('MB'): \n",
    "            mem_cap = str(float(mem_cap[:-2] / 1024.))\n",
    "        if mem_cap.endswith('GB'):\n",
    "            mem_cap = mem_cap[:-2]\n",
    "    graphic['memory_capacity'].append(mem_cap)\n",
    "    graphic['memory_clock'].append(info.get('메모리 클럭').replace('MHz', '')\n",
    "                                   if '메모리 클럭' in info.keys() else None)\n",
    "    graphic['memory_bus'].append(info.get('메모리 버스').replace('-bit', '')\n",
    "                                 if '메모리 버스' in info.keys() else None)\n",
    "    for i in range(len(port_bitmask)):\n",
    "        if port_bitmask[i] in info.keys(): port_bit |= 1 << i\n",
    "    graphic['port'].append(port_bit)\n",
    "    graphic['monitor_support'].append(re.sub('(최대 모니터 |개)', '', info.get('모니터 지원'))\n",
    "                                      if '모니터 지원' in info.keys() else None)\n",
    "    for i in range(len(af_bitmask)):\n",
    "        if af_bitmask[i] in info.keys(): af_bit |= 1 << i\n",
    "    graphic['additional_function'].append(af_bit)\n",
    "    graphic['usage_power'].append(re.sub('(최대 |W)', '', info.get('사용전력'))\n",
    "                                  if '사용전력' in info.keys() else None) \n",
    "    graphic['recommend_power'].append(re.sub('(해당없음|정격파워|W|이상| )', '', info.get('권장 파워용량'))\n",
    "                                      if '권장 파워용량' in info.keys() else None)\n",
    "    for i in range(len(ct_bitmask)):\n",
    "        if ct_bitmask[i] in info.keys(): ct_bit |= 1 << i\n",
    "    graphic['cooling_type'].append(ct_bit)\n",
    "    graphic['pan_number'].append(re.sub('(개| |팬)', '', info.get('팬 개수').replace('무', '0'))\n",
    "                                 if '팬 개수' in info.keys() else None)\n",
    "    graphic['length'].append(info.get('가로(길이)').replace('mm', '')\n",
    "                             if '가로(길이)' in info.keys() else None)\n",
    "    graphic['thickness'].append(info.get('두께').replace('mm', '')\n",
    "                                if '두께' in info.keys() else None)\n",
    "    if '전원 포트' in info.keys():\n",
    "        pin_txt = info.get('전원 포트')\n",
    "        pin_idx = [pin_txt.find('6핀 x'), pin_txt.find('8핀 x'),\n",
    "                   pin_txt.find('12핀 x'), pin_txt.find('16핀(12VHPWR) x')]\n",
    "        txt_len = [4, 4, 5, 14]\n",
    "        for i in range(len(pin_idx)):\n",
    "            if pin_idx[i] < 0: continue\n",
    "            pin[i] = pin_txt[pin_idx[i] + txt_len[i]]\n",
    "    graphic['pin'].append(\"\".join(pin))\n",
    "    for i in range(len(feat_bitmask)):\n",
    "        if feat_bitmask[i] in info.keys(): feat_bit |= 1 << i\n",
    "    graphic['feature'].append(feat_bit)\n",
    "    graphic['as_years'].append(re.sub('(A/S |년)', '', as_year[0].get_text()) if as_year else None)\n",
    "    graphic['bench_mark'].append(None)\n",
    "    graphic['reg_date'].append(re.sub('(년| |월)', '', info.get('등록년월')))\n",
    "    graphic['bookmark'].append(None)\n",
    "    \n",
    "    ## 테스트용\n",
    "    ntime += 1\n",
    "    print(f'\\r{ntime}/{total} ({ntime/total*100:.2f}%)', end='')\n",
    "    \n",
    "end = time.time()\n",
    "print(f'\\n걸린 시간: {end-start:.2f} sec')\n",
    "driver.quit()\n",
    "# 크롤링 끝"
   ]
  },
  {
   "cell_type": "code",
   "execution_count": 11,
   "id": "32772367",
   "metadata": {
    "tags": []
   },
   "outputs": [],
   "source": [
    "# 파일 저장\n",
    "if save_file:\n",
    "    today = time.strftime('%y%m%d')\n",
    "    pd.DataFrame(graphic).to_csv(f'graphic{today}.csv', index=None)"
   ]
  },
  {
   "cell_type": "code",
   "execution_count": null,
   "id": "f77fb762",
   "metadata": {},
   "outputs": [],
   "source": []
  }
 ],
 "metadata": {
  "kernelspec": {
   "display_name": "Python 3 (ipykernel)",
   "language": "python",
   "name": "python3"
  },
  "language_info": {
   "codemirror_mode": {
    "name": "ipython",
    "version": 3
   },
   "file_extension": ".py",
   "mimetype": "text/x-python",
   "name": "python",
   "nbconvert_exporter": "python",
   "pygments_lexer": "ipython3",
   "version": "3.11.4"
  }
 },
 "nbformat": 4,
 "nbformat_minor": 5
}
