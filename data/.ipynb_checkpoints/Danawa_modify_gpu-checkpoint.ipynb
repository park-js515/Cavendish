{
 "cells": [
  {
   "cell_type": "code",
   "execution_count": 1,
   "id": "0e2f23e4",
   "metadata": {
    "tags": []
   },
   "outputs": [],
   "source": [
    "import pandas as pd\n",
    "import numpy as np\n",
    "import time"
   ]
  },
  {
   "cell_type": "code",
   "execution_count": 44,
   "id": "6772dbae",
   "metadata": {
    "tags": []
   },
   "outputs": [],
   "source": [
    "a = pd.read_csv('graphic230919.csv')"
   ]
  },
  {
   "cell_type": "code",
   "execution_count": 46,
   "id": "fe598357",
   "metadata": {
    "tags": []
   },
   "outputs": [],
   "source": [
    "for i in range(len(a)):\n",
    "    t = a['pin'][i]\n",
    "    if pd.isnull(t): continue\n",
    "    r = f'{t:06d}'\n",
    "    a.loc[i, 'pin'] = r"
   ]
  },
  {
   "cell_type": "code",
   "execution_count": 13,
   "id": "73ed6805",
   "metadata": {
    "tags": []
   },
   "outputs": [],
   "source": [
    "today = time.strftime('%y%m%d')\n",
    "pd.DataFrame(a).to_csv(f'graphic{today}.csv', index=None)"
   ]
  },
  {
   "cell_type": "code",
   "execution_count": 33,
   "id": "6bd3a634-4e46-4222-a80d-76bdb605416b",
   "metadata": {
    "tags": []
   },
   "outputs": [],
   "source": [
    "k = a['pin'][0]"
   ]
  },
  {
   "cell_type": "code",
   "execution_count": 36,
   "id": "9a050861-f80e-48c9-bd19-f286d9083267",
   "metadata": {
    "tags": []
   },
   "outputs": [],
   "source": [
    "a = f'{k:06d}'"
   ]
  },
  {
   "cell_type": "code",
   "execution_count": 37,
   "id": "9489fac4-7a73-449b-bac5-881b1584b2f5",
   "metadata": {
    "tags": []
   },
   "outputs": [
    {
     "data": {
      "text/plain": [
       "'000100'"
      ]
     },
     "execution_count": 37,
     "metadata": {},
     "output_type": "execute_result"
    }
   ],
   "source": [
    "a"
   ]
  },
  {
   "cell_type": "code",
   "execution_count": 40,
   "id": "50ac98a5-c631-43a5-8e6d-fdfe1fe07bc5",
   "metadata": {
    "tags": []
   },
   "outputs": [
    {
     "data": {
      "text/plain": [
       "False"
      ]
     },
     "execution_count": 40,
     "metadata": {},
     "output_type": "execute_result"
    }
   ],
   "source": [
    "pd.isna('')"
   ]
  },
  {
   "cell_type": "code",
   "execution_count": 41,
   "id": "e04c44a9-c252-4198-a986-d68cfa08b4e2",
   "metadata": {
    "tags": []
   },
   "outputs": [
    {
     "data": {
      "text/plain": [
       "False"
      ]
     },
     "execution_count": 41,
     "metadata": {},
     "output_type": "execute_result"
    }
   ],
   "source": [
    "pd.isnull(0)"
   ]
  },
  {
   "cell_type": "code",
   "execution_count": null,
   "id": "30fd2243-9acb-48ee-8f6f-0e2b5686a232",
   "metadata": {},
   "outputs": [],
   "source": []
  }
 ],
 "metadata": {
  "kernelspec": {
   "display_name": "Python 3 (ipykernel)",
   "language": "python",
   "name": "python3"
  },
  "language_info": {
   "codemirror_mode": {
    "name": "ipython",
    "version": 3
   },
   "file_extension": ".py",
   "mimetype": "text/x-python",
   "name": "python",
   "nbconvert_exporter": "python",
   "pygments_lexer": "ipython3",
   "version": "3.11.4"
  }
 },
 "nbformat": 4,
 "nbformat_minor": 5
}
