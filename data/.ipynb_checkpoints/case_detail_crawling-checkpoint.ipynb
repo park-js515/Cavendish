{
 "cells": [
  {
   "cell_type": "code",
   "execution_count": 1,
   "id": "9907d90e-0e0d-43fd-8478-2364fb42f2fd",
   "metadata": {
    "tags": []
   },
   "outputs": [],
   "source": [
    "from selenium import webdriver\n",
    "from selenium.webdriver.chrome.service import Service\n",
    "from selenium.webdriver.chrome.options import Options\n",
    "from selenium.webdriver.common.by import By\n",
    "from selenium.webdriver.support.select import Select\n",
    "from selenium.webdriver.support.ui import WebDriverWait\n",
    "from selenium.webdriver.support import expected_conditions as EC\n",
    "from selenium.common.exceptions import NoSuchElementException\n",
    "from selenium.common.exceptions import StaleElementReferenceException\n",
    "from bs4 import BeautifulSoup\n",
    "import pandas as pd\n",
    "import pprint\n",
    "import time\n",
    "import csv\n",
    "import re\n",
    "\n",
    "# 크롬 드라이버 자동 업데이트\n",
    "from webdriver_manager.chrome import ChromeDriverManager"
   ]
  },
  {
   "cell_type": "code",
   "execution_count": 2,
   "id": "240c0ce9-78f3-4e1d-a55a-2ac7d335533f",
   "metadata": {
    "tags": []
   },
   "outputs": [],
   "source": [
    "class RetriesExceededError(Exception):\n",
    "    def __init__(self, message):\n",
    "        super().__init__(message)\n",
    "\n",
    "        \n",
    "def find_element_with_retry(driver_, by, value, waiting_sec=2.5, max_retries=10):\n",
    "    retries = 0\n",
    "    while retries < max_retries:\n",
    "        try:\n",
    "            element = WebDriverWait(driver_, waiting_sec).until(EC.presence_of_element_located((by, value)))\n",
    "            return element\n",
    "        except (NoSuchElementException, StaleElementReferenceException):\n",
    "            retries += 1\n",
    "            \n",
    "    raise RetriesExceededError(f'{value}를 찾을 수 없음\\n재시도 횟수 초과: {waiting_sec}초로 {max_retries}회 시도')"
   ]
  },
  {
   "cell_type": "code",
   "execution_count": 3,
   "id": "f1358a0d-1a67-4ff1-bf9b-c212131d05db",
   "metadata": {
    "tags": []
   },
   "outputs": [],
   "source": [
    "# 브라우저 꺼짐 방지\n",
    "chrome_options = Options()\n",
    "chrome_options.add_experimental_option(\"detach\", True)\n",
    "\n",
    "user_agent = \"Mozilla/5.0 (Windows NT 10.0; Win64; x64) AppleWebKit/537.36 (KHTML, like Gecko) Chrome/116.0.0.0 Safari/537.36\"\n",
    "chrome_options.add_argument(f'user-agent={user_agent}')\n",
    "# 불필요한 에러 메세지 없애기\n",
    "chrome_options.add_experimental_option(\"excludeSwitches\", [\"enable-logging\"])\n",
    "driver = webdriver.Chrome(ChromeDriverManager().install(), options=chrome_options)\n",
    "# service = Service(executable_path=ChromeDriverManager().install())\n",
    "# driver = webdriver.Chrome(service=service, options=chrome_options)\n",
    "\n",
    "save_file = True  # 파일 저장 여부\n",
    "waiting_sec = 2.5"
   ]
  },
  {
   "cell_type": "code",
   "execution_count": 4,
   "id": "72d050f2-1a3d-4e37-9c42-a6ad37f6eb91",
   "metadata": {
    "tags": []
   },
   "outputs": [
    {
     "name": "stdout",
     "output_type": "stream",
     "text": [
      "           seq\n",
      "0     18212909\n",
      "1     18419840\n",
      "2     11884207\n",
      "3     14705840\n",
      "4     10423167\n",
      "...        ...\n",
      "1441   2186578\n",
      "1442   1983723\n",
      "1443   1983654\n",
      "1444   1517662\n",
      "1445   1517658\n",
      "\n",
      "[1446 rows x 1 columns]\n"
     ]
    }
   ],
   "source": [
    "# seq 파일 읽기\n",
    "category = 112775  # 케이스\n",
    "\n",
    "seq_file = f'./seq_{category}.csv'\n",
    "seq_df = pd.read_csv(seq_file)\n",
    "print(seq_df)"
   ]
  },
  {
   "cell_type": "code",
   "execution_count": 5,
   "id": "85fbba3b-478d-4b80-ac25-666d6a48c3ad",
   "metadata": {
    "tags": []
   },
   "outputs": [],
   "source": [
    "header = ['name', 'price', 'link', 'company', 'product_seq', 'image', 'category', 'size',\n",
    "          'power_included', 'power_support', 'board_support', 'bay_133', 'bay_89', 'bay_64',\n",
    "          'pci_horizontal', 'pci_vertical', 'cooling_fan', 'led_fan', 'front_type', 'side_open',\n",
    "          'side_type', 'back_vent', 'front_vent', 'top_vent', 'bottom_vent', 'external_port',\n",
    "          'width', 'height', 'depth', 'gpu_size', 'cpu_cooler_size', 'power_size', 'liquid_cooler',\n",
    "          'radiator_top', 'radiator_front', 'radiator_rear', 'radiator_side', 'feature', 'led_color',\n",
    "          'reg_date', 'bookmark']"
   ]
  },
  {
   "cell_type": "code",
   "execution_count": 6,
   "id": "d81bd827-2357-4b3c-bfbd-f9cb0016e633",
   "metadata": {},
   "outputs": [],
   "source": [
    "bs_bitmask = ['Extended-ATX', '표준-ATX', 'Micro-ATX', 'Flex-ATX', '표준-ITX', 'Mini-ITX',\n",
    "              'SSI-CEB', 'SSI-EEB', 'Mini-DTX']\n",
    "ep_bitmask = ['USB', 'USB 3.0', 'USB 3.0 (Type-C)', 'USB 3.1 (Type-C)', 'USB 3.1 (Type-A)',\n",
    "              'USB 3.2 (Type-C)', 'eSATA', 'HDMI', '카드리더기']\n",
    "feat_bitmask = ['LED 라이트', '방음패드 내장', '상태표시 창', 'HDD 도킹', 'PC방 전용', \n",
    "                '수랭쿨링홀', '채굴용(마이닝)', '켄싱턴 락', '상단 패널 탈착', '그래픽카드 지지대']"
   ]
  },
  {
   "cell_type": "code",
   "execution_count": 7,
   "id": "707ab8b6-1c62-4833-880c-a5b4807f80fb",
   "metadata": {
    "tags": []
   },
   "outputs": [],
   "source": [
    "case = dict()\n",
    "\n",
    "for col in header:\n",
    "    case[col] = []"
   ]
  },
  {
   "cell_type": "code",
   "execution_count": 8,
   "id": "728c4092-e6ca-416e-9cb6-512bee0ce204",
   "metadata": {},
   "outputs": [],
   "source": [
    "ntime = 0\n",
    "total = len(seq_df)\n",
    "start = time.time()"
   ]
  },
  {
   "cell_type": "code",
   "execution_count": 37,
   "id": "c21f1cbd-cfaf-4346-913e-d13d756942af",
   "metadata": {},
   "outputs": [
    {
     "name": "stdout",
     "output_type": "stream",
     "text": [
      "1446/1446 (100.00%)\n",
      "걸린 시간: 17568.48 sec\n"
     ]
    }
   ],
   "source": [
    "# 크롤링 시작\n",
    "for seq in seq_df.seq[ntime:]:\n",
    "    url = f'https://prod.danawa.com/info/?pcode={seq}&cate={category}'\n",
    "    driver.get(url)\n",
    "    driver.implicitly_wait(10)\n",
    "    \n",
    "    time.sleep(waiting_sec)\n",
    "    soup = BeautifulSoup(driver.page_source, 'html.parser')\n",
    "    \n",
    "    spec_tbl = soup.select(\"#productDescriptionArea > div > div.prod_spec > table > tbody\")\n",
    "    spec_tbl_tit = soup.select(\"#productDescriptionArea > div > div.prod_spec > table > tbody > tr > th.tit\")\n",
    "    spec_tbl_dsc = soup.select(\"#productDescriptionArea > div > div.prod_spec > table > tbody > tr > td.dsc\")\n",
    "    name = soup.select_one(\"#blog_content > div.summary_info > div.top_summary > h3 > span\")\n",
    "    price = soup.select_one(\"#blog_content > div.summary_info > div.detail_summary > div.summary_left > div.lowest_area > div.lowest_top > div.row.lowest_price > span.lwst_prc > a > em\")\n",
    "    image_url = soup.select_one(\"#baseImage\")\n",
    "    led_color = soup.select(\"#blog_content > div.summary_info > div.top_summary > div > div.sub_dsc > div > dl > dd > div > div > span > u:-soup-contains('LED 색상')\")\n",
    "    \n",
    "    tbl = zip(spec_tbl_tit, spec_tbl_dsc)\n",
    "\n",
    "    info = dict()\n",
    "    info['제품명'] = name.get_text()\n",
    "    info['최저가'] = price.get_text() if price is not None else None\n",
    "    info['링크'] = url\n",
    "    info['이미지'] = image_url['src']\n",
    "    for tit, dsc in tbl:\n",
    "        text = dsc.get_text()\n",
    "        text = text.replace('\\n','')\n",
    "        text = text.replace('\\t','')\n",
    "        text = text.replace('(제조사 웹사이트 바로가기)','')\n",
    "        info[tit.get_text()] = text.strip()\n",
    "    \n",
    "    bs_bit = 0\n",
    "    ep_bit = 0\n",
    "    feat_bit = 0\n",
    "\n",
    "    if len(case['name']) >= ntime:\n",
    "        for key in case.keys(): case[key] = case[key][:ntime]\n",
    "    case['name'].append(name.get_text())\n",
    "    case['price'].append(price.get_text().replace(',', '') if price is not None else None)\n",
    "    case['link'].append(url)\n",
    "    case['company'].append(info.get('제조회사'))\n",
    "    case['product_seq'].append(seq)\n",
    "    case['image'].append(image_url['src'])\n",
    "    case['category'].append(info.get('제품 분류'))\n",
    "    case['size'].append(info.get('케이스 크기'))\n",
    "    case['power_included'].append(info.get('파워포함여부'))\n",
    "    case['power_support'].append(info.get('지원파워규격'))\n",
    "    for i in range(len(bs_bitmask)):\n",
    "        if bs_bitmask[i] in info.keys(): bs_bit |= 1 << i\n",
    "    case['board_support'].append(bs_bit)\n",
    "    case['bay_133'].append(info.get('13.3cm베이').replace('개', '')\n",
    "                           if '13.3cm베이' in info.keys() else None)\n",
    "    case['bay_89'].append(info.get('8.9cm베이').replace('개', '')\n",
    "                           if '8.9cm베이' in info.keys() else None)\n",
    "    case['bay_64'].append(info.get('6.4cm베이').replace('개', '')\n",
    "                           if '6.4cm베이' in info.keys() else None)\n",
    "    pci_h = re.sub('(개| |이하|LP|타입|\\([^)]*\\))', '', info.get('PCI 슬롯(수평)')) if 'PCI 슬롯(수평)' in info.keys() else None\n",
    "    case['pci_horizontal'].append(eval(pci_h) if pci_h != None else None)\n",
    "    case['pci_vertical'].append(info.get('PCI 슬롯(수직)').replace('개', '')\n",
    "                                if 'PCI 슬롯(수직)' in info.keys() else None)\n",
    "    case['cooling_fan'].append(re.sub('(총|개)', '', info.get('쿨링팬'))\n",
    "                               if '쿨링팬' in info.keys() else None)\n",
    "    case['led_fan'].append(info.get('LED팬').replace('개', '') if 'LED팬' in info.keys() else None)\n",
    "    case['front_type'].append(info.get('전면 패널 타입'))\n",
    "    case['side_open'].append(info.get('측면 개폐 방식'))\n",
    "    case['side_type'].append(info.get('측면'))\n",
    "    case['back_vent'].append(info.get('후면'))\n",
    "    case['front_vent'].append(info.get('전면'))\n",
    "    case['top_vent'].append(info.get('상단'))\n",
    "    case['bottom_vent'].append(info.get('하단'))\n",
    "    for i in range(len(ep_bitmask)):\n",
    "        if ep_bitmask[i] in info.keys(): ep_bit |= 1 << i\n",
    "    case['external_port'].append(ep_bit)\n",
    "    case['width'].append(info.get('너비(W)').replace('mm' ,'')\n",
    "                         if '너비(W)' in info.keys() else None)\n",
    "    case['height'].append(info.get('높이(H)').replace('mm' ,'')\n",
    "                          if '높이(H)' in info.keys() else None)\n",
    "    case['depth'].append(info.get('깊이(D)').replace('mm' ,'')\n",
    "                         if '깊이(D)' in info.keys() else None)\n",
    "    case['gpu_size'].append(info.get('GPU 장착').replace('mm' ,'')\n",
    "                            if 'GPU 장착' in info.keys() else None)\n",
    "    case['cpu_cooler_size'].append(info.get('CPU쿨러 장착').replace('mm' ,'')\n",
    "                         if 'CPU쿨러 장착' in info.keys() else None)\n",
    "    case['power_size'].append(info.get('파워 장착').replace('mm' ,'')\n",
    "                         if '파워 장착' in info.keys() else None)\n",
    "    case['liquid_cooler'].append(re.sub('(최대|열 지원)', '', info.get('수랭쿨러 규격'))\n",
    "                                 if '수랭쿨러 규격' in info.keys() else None)\n",
    "    case['radiator_top'].append(max(list(map(int, re.sub('(최대| |mm|\\([^)]*\\))', '', info.get('라디에이터(상단)')).split(','))))\n",
    "                                if '라디에이터(상단)' in info.keys() else None)\n",
    "    case['radiator_front'].append(max(list(map(int, re.sub('(최대| |mm|x2|x3|\\([^)]*\\))', '', info.get('라디에이터(전면)')).split(','))))\n",
    "                                  if '라디에이터(전면)' in info.keys() else None)\n",
    "    case['radiator_rear'].append(max(list(map(int, re.sub('(최대| |mm|\\([^)]*\\))', '', info.get('라디에이터(후면)')).split(','))))\n",
    "                                 if '라디에이터(후면)' in info.keys() else None)\n",
    "    case['radiator_side'].append(max(list(map(int, re.sub('(최대| |mm|\\([^)]*\\))', '', info.get('라디에이터(측면)')).split(','))))\n",
    "                                 if '라디에이터(측면)' in info.keys() else None)\n",
    "    for i in range(len(feat_bitmask)):\n",
    "        if feat_bitmask[i] in info.keys(): feat_bit |= 1 << i\n",
    "    case['feature'].append(feat_bit)\n",
    "    case['led_color'].append(led_color[0].get_text().replace('LED 색상: ', '') if led_color else None)\n",
    "    case['reg_date'].append(re.sub('(년| |월)', '', info.get('등록년월')))\n",
    "    case['bookmark'].append(None)\n",
    "    \n",
    "    ## 테스트용\n",
    "    ntime += 1\n",
    "    rest_time = (time.time() - start) / ntime * (total - ntime)\n",
    "    print(f'\\r{ntime}/{total} ({ntime/total*100:.2f}%) (남은 시간: {rest_time:.0f}s)', end='')\n",
    "    \n",
    "end = time.time()\n",
    "print(f'\\n걸린 시간: {end-start:.2f} sec')\n",
    "driver.quit()\n",
    "# 크롤링 끝"
   ]
  },
  {
   "cell_type": "code",
   "execution_count": 38,
   "id": "e7e1290a-30a2-43c3-bc72-8b3663566ad7",
   "metadata": {
    "tags": []
   },
   "outputs": [
    {
     "ename": "ValueError",
     "evalue": "All arrays must be of the same length",
     "output_type": "error",
     "traceback": [
      "\u001b[1;31m---------------------------------------------------------------------------\u001b[0m",
      "\u001b[1;31mValueError\u001b[0m                                Traceback (most recent call last)",
      "Cell \u001b[1;32mIn[38], line 4\u001b[0m\n\u001b[0;32m      2\u001b[0m \u001b[38;5;28;01mif\u001b[39;00m save_file:\n\u001b[0;32m      3\u001b[0m     today \u001b[38;5;241m=\u001b[39m time\u001b[38;5;241m.\u001b[39mstrftime(\u001b[38;5;124m'\u001b[39m\u001b[38;5;124m%\u001b[39m\u001b[38;5;124my\u001b[39m\u001b[38;5;124m%\u001b[39m\u001b[38;5;124mm\u001b[39m\u001b[38;5;132;01m%d\u001b[39;00m\u001b[38;5;124m'\u001b[39m)\n\u001b[1;32m----> 4\u001b[0m     pd\u001b[38;5;241m.\u001b[39mDataFrame(case)\u001b[38;5;241m.\u001b[39mto_csv(\u001b[38;5;124mf\u001b[39m\u001b[38;5;124m'\u001b[39m\u001b[38;5;124mcase\u001b[39m\u001b[38;5;132;01m{\u001b[39;00mtoday\u001b[38;5;132;01m}\u001b[39;00m\u001b[38;5;124m.csv\u001b[39m\u001b[38;5;124m'\u001b[39m, index\u001b[38;5;241m=\u001b[39m\u001b[38;5;28;01mNone\u001b[39;00m)\n",
      "File \u001b[1;32m~\\anaconda3\\Lib\\site-packages\\pandas\\core\\frame.py:664\u001b[0m, in \u001b[0;36mDataFrame.__init__\u001b[1;34m(self, data, index, columns, dtype, copy)\u001b[0m\n\u001b[0;32m    658\u001b[0m     mgr \u001b[38;5;241m=\u001b[39m \u001b[38;5;28mself\u001b[39m\u001b[38;5;241m.\u001b[39m_init_mgr(\n\u001b[0;32m    659\u001b[0m         data, axes\u001b[38;5;241m=\u001b[39m{\u001b[38;5;124m\"\u001b[39m\u001b[38;5;124mindex\u001b[39m\u001b[38;5;124m\"\u001b[39m: index, \u001b[38;5;124m\"\u001b[39m\u001b[38;5;124mcolumns\u001b[39m\u001b[38;5;124m\"\u001b[39m: columns}, dtype\u001b[38;5;241m=\u001b[39mdtype, copy\u001b[38;5;241m=\u001b[39mcopy\n\u001b[0;32m    660\u001b[0m     )\n\u001b[0;32m    662\u001b[0m \u001b[38;5;28;01melif\u001b[39;00m \u001b[38;5;28misinstance\u001b[39m(data, \u001b[38;5;28mdict\u001b[39m):\n\u001b[0;32m    663\u001b[0m     \u001b[38;5;66;03m# GH#38939 de facto copy defaults to False only in non-dict cases\u001b[39;00m\n\u001b[1;32m--> 664\u001b[0m     mgr \u001b[38;5;241m=\u001b[39m dict_to_mgr(data, index, columns, dtype\u001b[38;5;241m=\u001b[39mdtype, copy\u001b[38;5;241m=\u001b[39mcopy, typ\u001b[38;5;241m=\u001b[39mmanager)\n\u001b[0;32m    665\u001b[0m \u001b[38;5;28;01melif\u001b[39;00m \u001b[38;5;28misinstance\u001b[39m(data, ma\u001b[38;5;241m.\u001b[39mMaskedArray):\n\u001b[0;32m    666\u001b[0m     \u001b[38;5;28;01mimport\u001b[39;00m \u001b[38;5;21;01mnumpy\u001b[39;00m\u001b[38;5;21;01m.\u001b[39;00m\u001b[38;5;21;01mma\u001b[39;00m\u001b[38;5;21;01m.\u001b[39;00m\u001b[38;5;21;01mmrecords\u001b[39;00m \u001b[38;5;28;01mas\u001b[39;00m \u001b[38;5;21;01mmrecords\u001b[39;00m\n",
      "File \u001b[1;32m~\\anaconda3\\Lib\\site-packages\\pandas\\core\\internals\\construction.py:493\u001b[0m, in \u001b[0;36mdict_to_mgr\u001b[1;34m(data, index, columns, dtype, typ, copy)\u001b[0m\n\u001b[0;32m    489\u001b[0m     \u001b[38;5;28;01melse\u001b[39;00m:\n\u001b[0;32m    490\u001b[0m         \u001b[38;5;66;03m# dtype check to exclude e.g. range objects, scalars\u001b[39;00m\n\u001b[0;32m    491\u001b[0m         arrays \u001b[38;5;241m=\u001b[39m [x\u001b[38;5;241m.\u001b[39mcopy() \u001b[38;5;28;01mif\u001b[39;00m \u001b[38;5;28mhasattr\u001b[39m(x, \u001b[38;5;124m\"\u001b[39m\u001b[38;5;124mdtype\u001b[39m\u001b[38;5;124m\"\u001b[39m) \u001b[38;5;28;01melse\u001b[39;00m x \u001b[38;5;28;01mfor\u001b[39;00m x \u001b[38;5;129;01min\u001b[39;00m arrays]\n\u001b[1;32m--> 493\u001b[0m \u001b[38;5;28;01mreturn\u001b[39;00m arrays_to_mgr(arrays, columns, index, dtype\u001b[38;5;241m=\u001b[39mdtype, typ\u001b[38;5;241m=\u001b[39mtyp, consolidate\u001b[38;5;241m=\u001b[39mcopy)\n",
      "File \u001b[1;32m~\\anaconda3\\Lib\\site-packages\\pandas\\core\\internals\\construction.py:118\u001b[0m, in \u001b[0;36marrays_to_mgr\u001b[1;34m(arrays, columns, index, dtype, verify_integrity, typ, consolidate)\u001b[0m\n\u001b[0;32m    115\u001b[0m \u001b[38;5;28;01mif\u001b[39;00m verify_integrity:\n\u001b[0;32m    116\u001b[0m     \u001b[38;5;66;03m# figure out the index, if necessary\u001b[39;00m\n\u001b[0;32m    117\u001b[0m     \u001b[38;5;28;01mif\u001b[39;00m index \u001b[38;5;129;01mis\u001b[39;00m \u001b[38;5;28;01mNone\u001b[39;00m:\n\u001b[1;32m--> 118\u001b[0m         index \u001b[38;5;241m=\u001b[39m _extract_index(arrays)\n\u001b[0;32m    119\u001b[0m     \u001b[38;5;28;01melse\u001b[39;00m:\n\u001b[0;32m    120\u001b[0m         index \u001b[38;5;241m=\u001b[39m ensure_index(index)\n",
      "File \u001b[1;32m~\\anaconda3\\Lib\\site-packages\\pandas\\core\\internals\\construction.py:666\u001b[0m, in \u001b[0;36m_extract_index\u001b[1;34m(data)\u001b[0m\n\u001b[0;32m    664\u001b[0m lengths \u001b[38;5;241m=\u001b[39m \u001b[38;5;28mlist\u001b[39m(\u001b[38;5;28mset\u001b[39m(raw_lengths))\n\u001b[0;32m    665\u001b[0m \u001b[38;5;28;01mif\u001b[39;00m \u001b[38;5;28mlen\u001b[39m(lengths) \u001b[38;5;241m>\u001b[39m \u001b[38;5;241m1\u001b[39m:\n\u001b[1;32m--> 666\u001b[0m     \u001b[38;5;28;01mraise\u001b[39;00m \u001b[38;5;167;01mValueError\u001b[39;00m(\u001b[38;5;124m\"\u001b[39m\u001b[38;5;124mAll arrays must be of the same length\u001b[39m\u001b[38;5;124m\"\u001b[39m)\n\u001b[0;32m    668\u001b[0m \u001b[38;5;28;01mif\u001b[39;00m have_dicts:\n\u001b[0;32m    669\u001b[0m     \u001b[38;5;28;01mraise\u001b[39;00m \u001b[38;5;167;01mValueError\u001b[39;00m(\n\u001b[0;32m    670\u001b[0m         \u001b[38;5;124m\"\u001b[39m\u001b[38;5;124mMixing dicts with non-Series may lead to ambiguous ordering.\u001b[39m\u001b[38;5;124m\"\u001b[39m\n\u001b[0;32m    671\u001b[0m     )\n",
      "\u001b[1;31mValueError\u001b[0m: All arrays must be of the same length"
     ]
    }
   ],
   "source": [
    "# 파일 저장\n",
    "if save_file:\n",
    "    today = time.strftime('%y%m%d')\n",
    "    pd.DataFrame(case).to_csv(f'case{today}.csv', index=None)"
   ]
  },
  {
   "cell_type": "code",
   "execution_count": 40,
   "id": "84c4521f-6d9e-41f4-9204-d3ba3d24f2fb",
   "metadata": {
    "tags": []
   },
   "outputs": [
    {
     "name": "stdout",
     "output_type": "stream",
     "text": [
      "name: 1446\n",
      "price: 1446\n",
      "link: 1446\n",
      "company: 1446\n",
      "product_seq: 1446\n",
      "image: 1446\n",
      "category: 1446\n",
      "size: 1446\n",
      "power_included: 1446\n",
      "power_support: 1446\n",
      "board_support: 1446\n",
      "bay_133: 1446\n",
      "bay_89: 1446\n",
      "bay_64: 1446\n",
      "pci_horizontal: 1446\n",
      "pci_vertical: 1446\n",
      "cooling_fan: 1446\n",
      "led_fan: 1446\n",
      "front_type: 1446\n",
      "side_open: 1446\n",
      "side_type: 1446\n",
      "back_vent: 1446\n",
      "front_vent: 1446\n",
      "top_vent: 1446\n",
      "bottom_vent: 1446\n",
      "external_port: 1446\n",
      "width: 1446\n",
      "height: 1446\n",
      "depth: 1446\n",
      "gpu_size: 1446\n",
      "cpu_cooler_size: 1446\n",
      "power_size: 1446\n",
      "liquid_cooler: 1446\n",
      "radiator_top: 1446\n",
      "radiator_front: 1446\n",
      "radiator_rear: 1447\n",
      "radiator_side: 0\n",
      "feature: 1446\n",
      "led_color: 1446\n",
      "reg_date: 1446\n",
      "bookmark: 1446\n"
     ]
    }
   ],
   "source": [
    "for key in case.keys():\n",
    "    print(f'{key}: {len(case[key])}')"
   ]
  },
  {
   "cell_type": "code",
   "execution_count": null,
   "id": "b82a0367-09dc-4221-a20a-b80b76c2a730",
   "metadata": {},
   "outputs": [],
   "source": []
  }
 ],
 "metadata": {
  "kernelspec": {
   "display_name": "Python 3 (ipykernel)",
   "language": "python",
   "name": "python3"
  },
  "language_info": {
   "codemirror_mode": {
    "name": "ipython",
    "version": 3
   },
   "file_extension": ".py",
   "mimetype": "text/x-python",
   "name": "python",
   "nbconvert_exporter": "python",
   "pygments_lexer": "ipython3",
   "version": "3.11.4"
  }
 },
 "nbformat": 4,
 "nbformat_minor": 5
}
