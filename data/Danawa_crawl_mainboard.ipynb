{
 "cells": [
  {
   "cell_type": "code",
   "execution_count": 1,
   "metadata": {
    "tags": []
   },
   "outputs": [],
   "source": [
    "from selenium import webdriver\n",
    "from selenium.webdriver.chrome.service import Service\n",
    "from selenium.webdriver.chrome.options import Options\n",
    "from selenium.webdriver.common.by import By\n",
    "from selenium.webdriver.support.select import Select\n",
    "from selenium.webdriver.support.ui import WebDriverWait\n",
    "from selenium.webdriver.support import expected_conditions as EC\n",
    "from selenium.common.exceptions import NoSuchElementException\n",
    "from selenium.common.exceptions import StaleElementReferenceException\n",
    "from bs4 import BeautifulSoup\n",
    "import pandas as pd\n",
    "import pprint\n",
    "import time\n",
    "import csv\n",
    "import re\n",
    "\n",
    "# 크롬 드라이버 자동 업데이트\n",
    "from webdriver_manager.chrome import ChromeDriverManager"
   ]
  },
  {
   "cell_type": "code",
   "execution_count": 2,
   "metadata": {
    "tags": []
   },
   "outputs": [],
   "source": [
    "class RetriesExceededError(Exception):\n",
    "    def __init__(self, message):\n",
    "        super().__init__(message)\n",
    "\n",
    "        \n",
    "def find_element_with_retry(driver_, by, value, waiting_sec=2.5, max_retries=10):\n",
    "    retries = 0\n",
    "    while retries < max_retries:\n",
    "        try:\n",
    "            element = WebDriverWait(driver_, waiting_sec).until(EC.presence_of_element_located((by, value)))\n",
    "            return element\n",
    "        except (NoSuchElementException, StaleElementReferenceException):\n",
    "            retries += 1\n",
    "            \n",
    "    raise RetriesExceededError(f'{value}를 찾을 수 없음\\n재시도 횟수 초과: {waiting_sec}초로 {max_retries}회 시도')"
   ]
  },
  {
   "cell_type": "code",
   "execution_count": 3,
   "metadata": {
    "tags": []
   },
   "outputs": [],
   "source": [
    "# 브라우저 꺼짐 방지\n",
    "chrome_options = Options()\n",
    "chrome_options.add_experimental_option(\"detach\", True)\n",
    "\n",
    "user_agent = \"Mozilla/5.0 (Windows NT 10.0; Win64; x64) AppleWebKit/537.36 (KHTML, like Gecko) Chrome/116.0.0.0 Safari/537.36\"\n",
    "chrome_options.add_argument(f'user-agent={user_agent}')\n",
    "# 불필요한 에러 메세지 없애기\n",
    "chrome_options.add_experimental_option(\"excludeSwitches\", [\"enable-logging\"])\n",
    "# driver = webdriver.Chrome('./chromedriver/chromedriver.exe', options=chrome_options)\n",
    "service = Service(executable_path=ChromeDriverManager().install())\n",
    "driver = webdriver.Chrome(service=service, options=chrome_options)\n",
    "\n",
    "save_file = True  # 파일 저장 여부\n",
    "waiting_sec = 2.5"
   ]
  },
  {
   "cell_type": "code",
   "execution_count": 4,
   "metadata": {
    "tags": []
   },
   "outputs": [
    {
     "name": "stdout",
     "output_type": "stream",
     "text": [
      "           seq\n",
      "0     20324882\n",
      "1      7452181\n",
      "2     16284179\n",
      "3     16083650\n",
      "4     18652871\n",
      "...        ...\n",
      "1335  13016483\n",
      "1336   6732955\n",
      "1337   6145461\n",
      "1338   5991461\n",
      "1339   4465818\n",
      "\n",
      "[1340 rows x 1 columns]\n"
     ]
    }
   ],
   "source": [
    "# seq 파일 읽기\n",
    "category = 112751  # 메인보드\n",
    "\n",
    "seq_file = f'./seq_{category}.csv'\n",
    "seq_df = pd.read_csv(seq_file)\n",
    "print(seq_df)"
   ]
  },
  {
   "cell_type": "code",
   "execution_count": 5,
   "metadata": {
    "tags": []
   },
   "outputs": [],
   "source": [
    "header = [\"name\", \"price\", \"link\", \"company\", \"product_seq\", \"image\", \"cpu_socket\", \"chipset\",\n",
    "          \"form_factor\", \"memory_type\", \"memory_number\", \"memory_capacity\", \"xmp\", \"expo\",\n",
    "          \"sata3_number\", \"m2_number\", \"m2_interface\", \"m2_formfactor\", \"pcie_version\", \"vga_connection\",\n",
    "          \"wireless_lan\", \"wired_lan_speed\", \"phase\", \"graphic_output\", \"back_panel\", \"io_header\",\n",
    "          \"feature\", \"reg_date\", \"bookmark\"]\n",
    "\n",
    "header_pci = [\"product_seq\", \"pci_type\", \"pci_number\"]"
   ]
  },
  {
   "cell_type": "code",
   "execution_count": 6,
   "metadata": {
    "tags": []
   },
   "outputs": [],
   "source": [
    "pv_bitmask = ['PCI', 'PCIe', 'PCIe3.0', 'PCIe4.0', 'PCIe5.0']\n",
    "m2i_bitmask = ['SATA', 'NVMe', 'PCIe', 'PCIe4.0', 'PCIe5.0']\n",
    "m2f_bitmask = ['2230', '2242', '2260', '2280', '2580', '22110', '25110']\n",
    "wl_bitmask = ['무선 LAN', '블루투스', 'M.2 Key-E(모듈별매)']\n",
    "go_bitmask = ['Type-C', 'HDMI', 'DP', 'DVI', 'D-SUB']\n",
    "back_panels = ['USB4', 'USB 3.2', 'USB 3.1', 'USB 3.0', 'USB 2.0', '썬더볼트4',\n",
    "               '썬더볼트3', 'RJ-45', 'S/PDIF', 'Type-C(오디오)', '오디오잭', 'PS/2',\n",
    "               'e-SATA', '시리얼포트', '패러럴포트', 'BIOS 플래시백', '클리어CMOS']\n",
    "ioh_bitmask = ['썬더볼트4 헤더', '썬더볼트3 헤더', 'USB4 헤더', 'USB 3.1 헤더', 'USB 3.0 헤더',\n",
    "              'USB 2.0 헤더', 'USB3.2 Type C 헤더', 'USB3.1 Type C 헤더', 'USB3.0 Type C 헤더',\n",
    "              '시스탬팬 6핀 헤더', 'RGB 12V 4핀 헤더', 'ARGB 5V 3핀 헤더', 'ARGB 6핀 헤더', 'TPM 헤더']\n",
    "feat_bitmask = ['전원부 방열판', 'DrMOS', 'SPS(DrMOS)', 'M.2 히트싱크', 'LED 라이트', '일체형IO실드',\n",
    "                'UEFI', '인텔 TBMT 3.0 지원', 'AMD APU 지원']\n",
    "\n",
    "pcis = ['PCIex16', 'PCIex16(at x8)', 'PCIex16(at x4)', 'PCIex16(at x2)', 'PCIex16(at x1)', 'PCIex8',\n",
    "         'PCIex8(at x4)', 'PCIex4', 'PCIex1', 'PCI', 'mini-PCIe(mPCIe)']"
   ]
  },
  {
   "cell_type": "code",
   "execution_count": 7,
   "metadata": {
    "tags": []
   },
   "outputs": [],
   "source": [
    "mainboard = dict()\n",
    "mainboard_pci = dict()\n",
    "\n",
    "for col in header:\n",
    "    mainboard[col] = []\n",
    "for col in header_pci:\n",
    "    mainboard_pci[col] = []"
   ]
  },
  {
   "cell_type": "code",
   "execution_count": 8,
   "metadata": {
    "tags": []
   },
   "outputs": [],
   "source": [
    "ntime = 0\n",
    "total = len(seq_df)\n",
    "start = time.time()"
   ]
  },
  {
   "cell_type": "code",
   "execution_count": 9,
   "metadata": {},
   "outputs": [
    {
     "name": "stdout",
     "output_type": "stream",
     "text": [
      "1340/1340 (100.00%)\n",
      "걸린 시간: 6812.02 sec\n"
     ]
    }
   ],
   "source": [
    "# 크롤링 시작\n",
    "for seq in seq_df.seq[ntime:]:\n",
    "    url = f'https://prod.danawa.com/info/?pcode={seq}&cate={category}'\n",
    "    driver.get(url)\n",
    "    driver.implicitly_wait(10)\n",
    "    \n",
    "    time.sleep(waiting_sec)\n",
    "    soup = BeautifulSoup(driver.page_source, 'html.parser')\n",
    "    \n",
    "    spec_tbl = soup.select(\"#productDescriptionArea > div > div.prod_spec > table > tbody\")\n",
    "    spec_tbl_tit = soup.select(\"#productDescriptionArea > div > div.prod_spec > table > tbody > tr > th.tit\")\n",
    "    spec_tbl_dsc = soup.select(\"#productDescriptionArea > div > div.prod_spec > table > tbody > tr > td.dsc\")\n",
    "    name = soup.select_one(\"#blog_content > div.summary_info > div.top_summary > h3 > span\")\n",
    "    price = soup.select_one(\"#blog_content > div.summary_info > div.detail_summary > div.summary_left > div.lowest_area > div.lowest_top > div.row.lowest_price > span.lwst_prc > a > em\")\n",
    "    image_url = soup.select_one(\"#baseImage\")\n",
    "    \n",
    "    tbl = zip(spec_tbl_tit, spec_tbl_dsc)\n",
    "\n",
    "    info = dict()\n",
    "    info['제품명'] = name.get_text()\n",
    "    info['최저가'] = price.get_text() if price is not None else None\n",
    "    info['링크'] = url\n",
    "    info['이미지'] = image_url['src']\n",
    "    for tit, dsc in tbl:\n",
    "        text = dsc.get_text()\n",
    "        text = text.replace('\\n','')\n",
    "        text = text.replace('\\t','')\n",
    "        text = text.replace('(제조사 웹사이트 바로가기)','')\n",
    "        info[tit.get_text()] = text.strip()\n",
    "    \n",
    "    pv_bit = 0\n",
    "    m2i_bit = 0\n",
    "    m2f_bit = 0\n",
    "    wl_bit = 0\n",
    "    wls = 0\n",
    "    go_bit = 0\n",
    "    bp_text = ''\n",
    "    ioh_bit = 0\n",
    "    feat_bit = 0\n",
    "\n",
    "    # PCIe 버전 정보 가져오기\n",
    "    pv_info = []\n",
    "    pv_th = soup.find('th', string='PCIe버전')\n",
    "    if pv_th is not None:\n",
    "        pv_tr = pv_th.find_parent('tr')\n",
    "        while True:\n",
    "            pv_tr = pv_tr.find_next_sibling()\n",
    "            pv_tit = pv_tr.find_all('th', class_='tit')\n",
    "            if pv_tit:\n",
    "                for tit in pv_tit:\n",
    "                    if tit.get_text() == '': continue\n",
    "                    pv_info.append(tit.get_text())\n",
    "            else:\n",
    "                break\n",
    "            \n",
    "    for i in range(len(pv_bitmask)):\n",
    "        if pv_bitmask[i] in pv_info: pv_bit |= 1 << i\n",
    "\n",
    "    # M.2 연결 정보 가져오기\n",
    "    m2i_info = []\n",
    "    m2i_th = soup.find('th', string='M.2 연결')\n",
    "    if m2i_th is not None:\n",
    "        m2i_tr = m2i_th.find_parent('tr')\n",
    "        while True:\n",
    "            m2i_tr = m2i_tr.find_next_sibling()\n",
    "            m2i_tit = m2i_tr.find_all('th', class_='tit')\n",
    "            if m2i_tit:\n",
    "                for tit in m2i_tit:\n",
    "                    if tit.get_text() == '': continue\n",
    "                    m2i_info.append(tit.get_text())\n",
    "            else:\n",
    "                break\n",
    "            \n",
    "    for i in range(len(m2i_bitmask)):\n",
    "        if m2i_bitmask[i] in m2i_info: m2i_bit |= 1 << i\n",
    "\n",
    "    if len(mainboard['name']) >= ntime:\n",
    "        for key in mainboard.keys(): mainboard[key] = mainboard[key][:ntime]\n",
    "    mainboard['name'].append(name.get_text())\n",
    "    mainboard['price'].append(price.get_text().replace(',', '') if price is not None else None)\n",
    "    mainboard['link'].append(url)\n",
    "    mainboard['company'].append(info.get('제조회사'))\n",
    "    mainboard['product_seq'].append(seq)\n",
    "    mainboard['image'].append(image_url['src'])\n",
    "    mainboard['cpu_socket'].append(info.get('CPU 소켓'))\n",
    "    mainboard['chipset'].append(info.get('세부 칩셋'))\n",
    "    mainboard['form_factor'].append(info.get('폼팩터'))\n",
    "    mainboard['memory_type'].append(info.get('메모리 종류'))\n",
    "    mainboard['memory_number'].append(info.get('메모리 슬롯').replace('개', '') if '메모리 슬롯' in info.keys() else None)\n",
    "    mc_str = info.get('메모리 용량')\n",
    "    if mc_str is not None:\n",
    "        mc_str = re.sub('(최대|GB|내장| )', '', mc_str)\n",
    "        if 'TB' in mc_str:\n",
    "            mc_str = str(float(mc_str.replace('TB', '').replace('(LR-DIMM3DS)', '')) * 1024)\n",
    "    mainboard['memory_capacity'].append(mc_str)\n",
    "    mainboard['xmp'].append(1 if 'XMP' in info.keys() else 2 if 'XMP3.0' in info.keys() else None)\n",
    "    mainboard['expo'].append(1 if 'EXPO' in info.keys() else None)\n",
    "    mainboard['sata3_number'].append(info.get('SATA3').replace('개', '') if 'SATA3' in info.keys() else None)\n",
    "    mainboard['m2_number'].append(info.get('M.2').replace('개', '') if 'M.2' in info.keys() else None)\n",
    "    mainboard['m2_interface'].append(m2i_bit)\n",
    "    for i in range(len(m2f_bitmask)):\n",
    "        if m2f_bitmask[i] in info.keys(): m2f_bit |= 1 << i\n",
    "    mainboard['m2_formfactor'].append(m2f_bit)\n",
    "    mainboard['pcie_version'].append(pv_bit)\n",
    "    mainboard['vga_connection'].append(info.get('VGA 연결'))\n",
    "    for i in range(len(wl_bitmask)):\n",
    "        if wl_bitmask[i] in info.keys(): wl_bit |= 1 << i\n",
    "    mainboard['wireless_lan'].append(wl_bit)\n",
    "    wls_str = info.get('유선랜 속도')\n",
    "    if wls_str is not None:\n",
    "        if wls_str == '100메가':\n",
    "            wls_str = '0.1'\n",
    "        elif wls_str == '기가비트':\n",
    "            wls_str = '1'\n",
    "        wls_str = wls_str.replace('기가비트', '')\n",
    "        if ',' in wls_str: wls_str = wls_str[:wls_str.index(',')]\n",
    "        wls = float(wls_str) * 10\n",
    "    mainboard['wired_lan_speed'].append(wls)\n",
    "    mainboard['phase'].append(eval(info.get('전원부').replace('+페이즈', '').replace('페이즈', ''))\n",
    "                                   if '전원부' in info.keys() else None)\n",
    "    for i in range(len(go_bitmask)):\n",
    "        if go_bitmask[i] in info.keys(): go_bit |= 1 << i\n",
    "    mainboard['graphic_output'].append(go_bit)\n",
    "    for panel in back_panels:\n",
    "        if panel in info.keys(): bp_text += f'{panel} / '\n",
    "    bp_text = bp_text[:-3]\n",
    "    mainboard['back_panel'].append(bp_text)\n",
    "    for i in range(len(ioh_bitmask)):\n",
    "        if ioh_bitmask[i] in info.keys(): ioh_bit |= 1 << i\n",
    "    mainboard['io_header'].append(ioh_bit)\n",
    "    for i in range(len(feat_bitmask)):\n",
    "        if feat_bitmask[i] in info.keys(): feat_bit |= 1 << i\n",
    "    mainboard['feature'].append(feat_bit)\n",
    "    mainboard['reg_date'].append(re.sub('(년| |월)', '', info.get('등록년월')))\n",
    "    mainboard['bookmark'].append(None)\n",
    "    \n",
    "    ps_th = soup.find('th', string='PCIe슬롯')\n",
    "    if ps_th is not None:\n",
    "        ps_tr = ps_th.find_parent('tr')\n",
    "        while True:\n",
    "            ps_tr = ps_tr.find_next_sibling()\n",
    "            ps_tit = ps_tr.find_all('th', class_='tit')\n",
    "            ps_dsc = ps_tr.find_all('td', class_='dsc')\n",
    "            if ps_tit:\n",
    "                for tit, dsc in zip(ps_tit, ps_dsc):\n",
    "                    if not tit.get_text() in pcis: continue\n",
    "                    mainboard_pci['product_seq'].append(seq)\n",
    "                    mainboard_pci['pci_type'].append(tit.get_text())\n",
    "                    mainboard_pci['pci_number'].append(dsc.get_text().replace('개', ''))\n",
    "            else:\n",
    "                break\n",
    "    \n",
    "    ## 테스트용\n",
    "    ntime += 1\n",
    "    print(f'\\r{ntime}/{total} ({ntime/total*100:.2f}%)', end='')\n",
    "    \n",
    "end = time.time()\n",
    "print(f'\\n걸린 시간: {end-start:.2f} sec')\n",
    "driver.quit()\n",
    "# 크롤링 끝"
   ]
  },
  {
   "cell_type": "code",
   "execution_count": 10,
   "metadata": {
    "tags": []
   },
   "outputs": [],
   "source": [
    "# 파일 저장\n",
    "if save_file:\n",
    "    today = time.strftime('%y%m%d')\n",
    "    pd.DataFrame(mainboard).to_csv(f'mainboard{today}.csv', index=None)\n",
    "    pd.DataFrame(mainboard_pci).to_csv(f'mainboard_pci{today}.csv', index=None)"
   ]
  },
  {
   "cell_type": "code",
   "execution_count": null,
   "metadata": {},
   "outputs": [],
   "source": []
  }
 ],
 "metadata": {
  "kernelspec": {
   "display_name": "Python 3",
   "language": "python",
   "name": "python3"
  },
  "language_info": {
   "codemirror_mode": {
    "name": "ipython",
    "version": 3
   },
   "file_extension": ".py",
   "mimetype": "text/x-python",
   "name": "python",
   "nbconvert_exporter": "python",
   "pygments_lexer": "ipython3",
   "version": "3.8.5"
  }
 },
 "nbformat": 4,
 "nbformat_minor": 5
}
