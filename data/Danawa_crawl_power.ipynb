{
 "cells": [
  {
   "cell_type": "code",
   "execution_count": 1,
   "id": "0ca4a368",
   "metadata": {
    "tags": []
   },
   "outputs": [],
   "source": [
    "from selenium import webdriver\n",
    "from selenium.webdriver.chrome.service import Service\n",
    "from selenium.webdriver.chrome.options import Options\n",
    "from selenium.webdriver.common.by import By\n",
    "from selenium.webdriver.support.select import Select\n",
    "from selenium.webdriver.support.ui import WebDriverWait\n",
    "from selenium.webdriver.support import expected_conditions as EC\n",
    "from selenium.common.exceptions import NoSuchElementException\n",
    "from selenium.common.exceptions import StaleElementReferenceException\n",
    "from bs4 import BeautifulSoup\n",
    "import pandas as pd\n",
    "import pprint\n",
    "import time\n",
    "import csv\n",
    "import re\n",
    "\n",
    "# 크롬 드라이버 자동 업데이트\n",
    "from webdriver_manager.chrome import ChromeDriverManager"
   ]
  },
  {
   "cell_type": "code",
   "execution_count": 2,
   "id": "0323d883",
   "metadata": {
    "tags": []
   },
   "outputs": [],
   "source": [
    "class RetriesExceededError(Exception):\n",
    "    def __init__(self, message):\n",
    "        super().__init__(message)\n",
    "\n",
    "        \n",
    "def find_element_with_retry(driver_, by, value, waiting_sec=2.5, max_retries=10):\n",
    "    retries = 0\n",
    "    while retries < max_retries:\n",
    "        try:\n",
    "            element = WebDriverWait(driver_, waiting_sec).until(EC.presence_of_element_located((by, value)))\n",
    "            return element\n",
    "        except (NoSuchElementException, StaleElementReferenceException):\n",
    "            retries += 1\n",
    "            \n",
    "    raise RetriesExceededError(f'{value}를 찾을 수 없음\\n재시도 횟수 초과: {waiting_sec}초로 {max_retries}회 시도')"
   ]
  },
  {
   "cell_type": "code",
   "execution_count": 3,
   "id": "0ae7e232",
   "metadata": {
    "tags": []
   },
   "outputs": [],
   "source": [
    "# 브라우저 꺼짐 방지\n",
    "chrome_options = Options()\n",
    "chrome_options.add_experimental_option(\"detach\", True)\n",
    "\n",
    "user_agent = \"Mozilla/5.0 (Windows NT 10.0; Win64; x64) AppleWebKit/537.36 (KHTML, like Gecko) Chrome/116.0.0.0 Safari/537.36\"\n",
    "chrome_options.add_argument(f'user-agent={user_agent}')\n",
    "# 불필요한 에러 메세지 없애기\n",
    "chrome_options.add_experimental_option(\"excludeSwitches\", [\"enable-logging\"])\n",
    "# driver = webdriver.Chrome(ChromeDriverManager().install(), options=chrome_options)\n",
    "service = Service(executable_path=ChromeDriverManager().install())\n",
    "driver = webdriver.Chrome(service=service, options=chrome_options)\n",
    "\n",
    "save_file = True  # 파일 저장 여부\n",
    "waiting_sec = 2.5"
   ]
  },
  {
   "cell_type": "code",
   "execution_count": 4,
   "id": "183e647c",
   "metadata": {
    "tags": []
   },
   "outputs": [
    {
     "name": "stdout",
     "output_type": "stream",
     "text": [
      "           seq\n",
      "0     18872015\n",
      "1     14677028\n",
      "2     20662874\n",
      "3     18901058\n",
      "4     18503426\n",
      "...        ...\n",
      "1172   1623228\n",
      "1173   1543686\n",
      "1174    952397\n",
      "1175     73511\n",
      "1176     73081\n",
      "\n",
      "[1177 rows x 1 columns]\n"
     ]
    }
   ],
   "source": [
    "# seq 파일 읽기\n",
    "category = 112777  # 파워\n",
    "\n",
    "seq_file = f'./seq_{category}.csv'\n",
    "seq_df = pd.read_csv(seq_file)\n",
    "print(seq_df)"
   ]
  },
  {
   "cell_type": "code",
   "execution_count": 5,
   "id": "e8a97eaa",
   "metadata": {
    "tags": []
   },
   "outputs": [],
   "source": [
    "header = ['name', 'price', 'link', 'company', 'product_seq', 'image', 'category', 'rated_power',\n",
    "          '80plus_certification', 'eta_certification', 'lambda_certification', 'voltage_fluctuation',\n",
    "          'output_method', 'availability', 'pfc_circuit', 'pf_factor', 'fan_size', 'fan_number',\n",
    "          'bearing', 'output_12v', 'cable_connection', 'depth', 'main_power', 'sub_power', 'pcie_16pin',\n",
    "          'pcie_8pin', 'pcie_6pin', 'sata', 'ide_4', 'rgb_connector', 'feature', 'inside', 'protection',\n",
    "          'as_years', 'reg_date', 'bookmark']"
   ]
  },
  {
   "cell_type": "code",
   "execution_count": 6,
   "id": "348794ab",
   "metadata": {},
   "outputs": [],
   "source": [
    "feat_bitmask = ['팬리스모드', '자동 팬 조절', '수동 팬 조절', '대기전력 1W 미만', '프리볼트', '플랫케이블',\n",
    "                'LED 라이트', '디지털제어']\n",
    "inside_bitmask = ['85도 콘덴서', '105도 콘덴서', 'DC to DC 설계', 'LLC공진형컨버터', 'ACRF']\n",
    "prot_bitmask = ['과전압(OVP)', '저전압(UVP)', '과전류(OCP)', '과전력(OPP)', '과열(OTP/OHP)', '단락(SCP)',\n",
    "                '서지+인러쉬(SIP)', '과부하(OLP)', '무부하(NLP)', '공회전(NLO)', 'BOP']"
   ]
  },
  {
   "cell_type": "code",
   "execution_count": 7,
   "id": "662b8537",
   "metadata": {
    "tags": []
   },
   "outputs": [],
   "source": [
    "power = dict()\n",
    "\n",
    "for col in header:\n",
    "    power[col] = []"
   ]
  },
  {
   "cell_type": "code",
   "execution_count": 8,
   "id": "ad9977cf",
   "metadata": {},
   "outputs": [],
   "source": [
    "ntime = 0\n",
    "total = len(seq_df)\n",
    "start = time.time()"
   ]
  },
  {
   "cell_type": "code",
   "execution_count": 9,
   "id": "9aad3748",
   "metadata": {},
   "outputs": [
    {
     "name": "stdout",
     "output_type": "stream",
     "text": [
      "1177/1177 (100.00%) (남은 시간: 0s)))\n",
      "걸린 시간: 7026.63 sec\n"
     ]
    }
   ],
   "source": [
    "# 크롤링 시작\n",
    "for seq in seq_df.seq[ntime:]:\n",
    "    url = f'https://prod.danawa.com/info/?pcode={seq}&cate={category}'\n",
    "    driver.get(url)\n",
    "    driver.implicitly_wait(10)\n",
    "    \n",
    "    time.sleep(waiting_sec)\n",
    "    soup = BeautifulSoup(driver.page_source, 'html.parser')\n",
    "    \n",
    "    spec_tbl = soup.select(\"#productDescriptionArea > div > div.prod_spec > table > tbody\")\n",
    "    spec_tbl_tit = soup.select(\"#productDescriptionArea > div > div.prod_spec > table > tbody > tr > th.tit\")\n",
    "    spec_tbl_dsc = soup.select(\"#productDescriptionArea > div > div.prod_spec > table > tbody > tr > td.dsc\")\n",
    "    name = soup.select_one(\"#blog_content > div.summary_info > div.top_summary > h3 > span\")\n",
    "    price = soup.select_one(\"#blog_content > div.summary_info > div.detail_summary > div.summary_left > div.lowest_area > div.lowest_top > div.row.lowest_price > span.lwst_prc > a > em\")\n",
    "    image_url = soup.select_one(\"#baseImage\")\n",
    "    \n",
    "    tbl = zip(spec_tbl_tit, spec_tbl_dsc)\n",
    "\n",
    "    info = dict()\n",
    "    info['제품명'] = name.get_text()\n",
    "    info['최저가'] = price.get_text() if price is not None else None\n",
    "    info['링크'] = url\n",
    "    info['이미지'] = image_url['src']\n",
    "    for tit, dsc in tbl:\n",
    "        text = dsc.get_text()\n",
    "        text = text.replace('\\n','')\n",
    "        text = text.replace('\\t','')\n",
    "        text = text.replace('(제조사 웹사이트 바로가기)','')\n",
    "        info[tit.get_text()] = text.strip()\n",
    "    \n",
    "    feat_bit = 0\n",
    "    inside_bit = 0\n",
    "    prot_bit = 0\n",
    "\n",
    "    if len(power['name']) >= ntime:\n",
    "        for key in power.keys(): power[key] = power[key][:ntime]\n",
    "    power['name'].append(name.get_text())\n",
    "    power['price'].append(price.get_text().replace(',', '') if price is not None else None)\n",
    "    power['link'].append(url)\n",
    "    power['company'].append(info.get('제조회사'))\n",
    "    power['product_seq'].append(seq)\n",
    "    power['image'].append(image_url['src'])\n",
    "    power['category'].append(info.get('제품 분류'))\n",
    "    power['rated_power'].append(info.get('정격출력').replace('W', '')\n",
    "                                if '정격출력' in info.keys() else None)\n",
    "    power['80plus_certification'].append(info.get('80PLUS인증'))\n",
    "    power['eta_certification'].append(info.get('ETA인증'))\n",
    "    power['lambda_certification'].append(info.get('LAMBDA인증'))\n",
    "    power['voltage_fluctuation'].append(re.sub('(±|%)', '', info.get('전압변동'))\n",
    "                                        if '전압변동' in info.keys() else None)\n",
    "    power['output_method'].append(info.get('+12V 출력방식'))\n",
    "    power['availability'].append(info.get('+12V 가용률').replace('%', '')\n",
    "                                 if '+12V 가용률' in info.keys() else None)\n",
    "    power['pfc_circuit'].append(info.get('PFC회로'))\n",
    "    power['pf_factor'].append(info.get('PF(역률)').replace('%', '')\n",
    "                              if 'PF(역률)' in info.keys() else None)\n",
    "    power['fan_size'].append(re.sub('(mm| |팬)', '', info.get('쿨링팬 크기'))\n",
    "                             if '쿨링팬 크기' in info.keys() else None)\n",
    "    power['fan_number'].append(re.sub('(개| |팬)', '', info.get('쿨링팬 개수'))\n",
    "                               if '쿨링팬 개수' in info.keys() else None)\n",
    "    power['bearing'].append(info.get('베어링'))\n",
    "    power['output_12v'].append(info.get('+12V 출력').replace('A', '')\n",
    "                               if '+12V 출력' in info.keys() else None)\n",
    "    power['cable_connection'].append(info.get('케이블연결'))\n",
    "    power['depth'].append(info.get('깊이').replace('mm', '')\n",
    "                          if '깊이' in info.keys() else None)\n",
    "    power['main_power'].append(info.get('메인전원'))\n",
    "    power['sub_power'].append(info.get('보조전원'))\n",
    "    pcie16 = info.get('PCIe 16핀(12+4)')\n",
    "    if pcie16 is not None:\n",
    "        if pcie16 == '12VHPWR 1개': pcie16 = 1\n",
    "        elif pcie16 == '12VHPWR 2개': pcie16 = 2\n",
    "        elif pcie16 == '12V2x6 1개': pcie16 = 3\n",
    "    power['pcie_16pin'].append(pcie16)\n",
    "    power['pcie_8pin'].append(info.get('PCIe 8핀(6+2)').replace('개', '')\n",
    "                              if 'PCIe 8핀(6+2)' in info.keys() else None)\n",
    "    power['pcie_6pin'].append(info.get('PCIe 6핀').replace('개', '')\n",
    "                              if 'PCIe 6핀' in info.keys() else None)\n",
    "    power['sata'].append(info.get('SATA').replace('개', '')\n",
    "                         if 'SATA' in info.keys() else None)\n",
    "    power['ide_4'].append(info.get('IDE 4핀').replace('개', '')\n",
    "                          if 'IDE 4핀' in info.keys() else None)\n",
    "    power['rgb_connector'].append(info.get('RGB').replace('개', '')\n",
    "                                  if 'RGB' in info.keys() else None)\n",
    "    for i in range(len(feat_bitmask)):\n",
    "        if feat_bitmask[i] in info.keys(): feat_bit |= 1 << i\n",
    "    power['feature'].append(feat_bit)\n",
    "    for i in range(len(inside_bitmask)):\n",
    "        if inside_bitmask[i] in info.keys(): inside_bit |= 1 << i\n",
    "    power['inside'].append(inside_bit)\n",
    "    for i in range(len(prot_bitmask)):\n",
    "        if prot_bitmask[i] in info.keys(): prot_bit |= 1 << i\n",
    "    power['protection'].append(prot_bit)\n",
    "    power['as_years'].append(re.sub('(무상| |년)', '', info.get('A/S 보증기간'))\n",
    "                             if 'A/S 보증기간' in info.keys() else None)\n",
    "    power['reg_date'].append(re.sub('(년| |월)', '', info.get('등록년월')))\n",
    "    power['bookmark'].append(None)\n",
    "    \n",
    "    ## 테스트용\n",
    "    ntime += 1\n",
    "    rest_time = (time.time() - start) / ntime * (total - ntime)\n",
    "    print(f'\\r{ntime}/{total} ({ntime/total*100:.2f}%) (남은 시간: {rest_time:.0f}s)', end='')\n",
    "    \n",
    "end = time.time()\n",
    "print(f'\\n걸린 시간: {end-start:.2f} sec')\n",
    "driver.quit()\n",
    "# 크롤링 끝"
   ]
  },
  {
   "cell_type": "code",
   "execution_count": 10,
   "id": "67fec719",
   "metadata": {
    "tags": []
   },
   "outputs": [],
   "source": [
    "# 파일 저장\n",
    "if save_file:\n",
    "    today = time.strftime('%y%m%d')\n",
    "    pd.DataFrame(power).to_csv(f'power{today}.csv', index=None)"
   ]
  },
  {
   "cell_type": "code",
   "execution_count": null,
   "id": "77f40fef",
   "metadata": {},
   "outputs": [],
   "source": []
  }
 ],
 "metadata": {
  "kernelspec": {
   "display_name": "Python 3 (ipykernel)",
   "language": "python",
   "name": "python3"
  },
  "language_info": {
   "codemirror_mode": {
    "name": "ipython",
    "version": 3
   },
   "file_extension": ".py",
   "mimetype": "text/x-python",
   "name": "python",
   "nbconvert_exporter": "python",
   "pygments_lexer": "ipython3",
   "version": "3.11.4"
  }
 },
 "nbformat": 4,
 "nbformat_minor": 5
}
