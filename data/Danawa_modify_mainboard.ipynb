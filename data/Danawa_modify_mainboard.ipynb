{
 "cells": [
  {
   "cell_type": "code",
   "execution_count": 1,
   "id": "8017fc7e",
   "metadata": {
    "tags": []
   },
   "outputs": [],
   "source": [
    "import pandas as pd\n",
    "import numpy as np\n",
    "import time"
   ]
  },
  {
   "cell_type": "code",
   "execution_count": 30,
   "id": "7ccc2430",
   "metadata": {
    "tags": []
   },
   "outputs": [],
   "source": [
    "mainboard = pd.read_csv('mainboard230919.csv')"
   ]
  },
  {
   "cell_type": "code",
   "execution_count": 23,
   "id": "cb2ce20a-b7e1-4797-aa41-6ee45892f6ef",
   "metadata": {},
   "outputs": [
    {
     "name": "stdout",
     "output_type": "stream",
     "text": [
      "form_factor\n"
     ]
    }
   ],
   "source": [
    "for col in mainboard.columns:\n",
    "    for i in range(len(mainboard[col])):\n",
    "        if pd.isnull(mainboard[col][i]): continue\n",
    "        if 'M-ATX (24.4x24.4cm)' in str(mainboard.loc[i, col]):\n",
    "            print(col)\n",
    "            break"
   ]
  },
  {
   "cell_type": "code",
   "execution_count": 24,
   "id": "d81ec155-8088-49e7-9fc3-918eb819415e",
   "metadata": {},
   "outputs": [
    {
     "data": {
      "text/plain": [
       "array(['M-ATX (24.4x24.4cm)', 'M-ATX (22.6x22.1cm)',\n",
       "       'M-ATX (23.4x20.3cm)', 'ATX (30.5x24.4cm)', 'M-ATX (24.4x21.1cm)',\n",
       "       'M-ATX (23.5x20.8cm)', 'M-ATX (23.6x20.8cm)',\n",
       "       'M-ATX (24.4x22.6cm)', 'M-ATX (23.6x20cm)', 'M-ATX (23x22.5cm)',\n",
       "       'M-iTX (17.0x17.0cm)', 'M-ATX (23.0x21.5cm)',\n",
       "       'M-ATX (22.6x19.3cm)', 'M-ATX (24.4x22.0cm)',\n",
       "       'M-ATX (22.6x18.8cm)', 'E-ATX (30.5x27.0cm)', 'ATX (30.5x23.4cm)',\n",
       "       'E-ATX (30.5x27.7cm)', 'M-ATX (23.6x20.0cm)',\n",
       "       'M-ATX (23.3x19.8cm)', 'M-ATX (17x19cm)', 'M-ATX (24.4x19.5cm)',\n",
       "       'M-ATX (24.4x22.1cm)', 'M-ATX (24.4x20.1cm)',\n",
       "       'M-ATX (22.0x19.3cm)', 'M-ATX (23.6x20.2cm)',\n",
       "       'M-ATX (22.6x18.5cm)', 'M-ATX (22.3x18.8cm)',\n",
       "       'E-ATX (30.5x26.9cm)', 'M-ATX (24.4x22cm)', 'M-ATX (22.6x20.3cm)',\n",
       "       'M-ATX (24.4x21.0cm)', 'M-ATX (23.0x20.1cm)',\n",
       "       'E-ATX (30.5x27.2cm)', 'M-ATX (22.6x17.8cm)',\n",
       "       'E-ATX (30.5x26.7cm)', 'M-ATX (24.4x22.5cm)',\n",
       "       'M-ATX (24.4x20.5cm)', 'E-ATX (30.98x33.02cm)',\n",
       "       'M-ATX (24.4x19.8cm)', 'E-ATX (30.5x29.0cm)', 'EEB (30.5x33.0cm)',\n",
       "       'CEB (30.5x26.7cm)', 'M-ATX (22.6x18.4cm)', 'M-ATX (24.3x19.8cm)',\n",
       "       'E-ATX (30.5x26.0cm)', 'E-ATX (30.5x28.5cm)',\n",
       "       'M-ATX (19.7x18.8cm)', 'Micro-ATX (24.4 x 24.4cm)',\n",
       "       'M-ATX (23.6x18.7cm)', 'M-ATX (24.4x20.8cm)', 'ATX (30.5x22.5cm)',\n",
       "       'Pico-iTX (10.0x7.2cm)', 'uATX (24.38x24.38cm)', nan,\n",
       "       'M-ATX (24.4x18.8cm)', '일반-ATX (30.5 x 22.5cm)',\n",
       "       'XL-ATX (32.5x26.9cm)', 'ATX (30.5x26.7cm)',\n",
       "       'XL-ATX (32.5x27.5cm)', 'M-ATX (19x17cm)', 'ATX (30.5x22.4cm)',\n",
       "       'M-ATX (24.4x23.4cm)', 'M-ATX (24.4x24cm)', '8.5x5.6cm',\n",
       "       'M-ATX (24.4x19.3cm)', 'ATX (30.5x22.9cm)', 'ATX (30.5x24.3cm)',\n",
       "       'Micro-ATX (22.6 x 18.3cm)', 'M-ATX (20.8x23.6cm)',\n",
       "       'E-ATX (30.5x25.9cm)', '기타', 'M-ATX (22.6x21.1cm)',\n",
       "       'E-ATX (30.5x27.1cm)', 'M-ATX (22.6x17.4cm)',\n",
       "       'M-ATX (22.6x20.1cm)', 'M-ATX (19.1x18.8cm)',\n",
       "       'E-ATX (30.5x33.0cm)', 'M-ATX (23.6x20.7cm)',\n",
       "       'M-ATX (24.5x24.5cm)', 'M-ATX (22.5x19.5cm)',\n",
       "       'M-ATX (22.5x19.4cm)', 'M-ATX (22.5x18.5cm)',\n",
       "       'M-ATX (17.0x22.1cm)', 'U-ATX (24.4x24.4cm)', '(30.48x26.67cm)',\n",
       "       '(31.24x25.65cm)', 'E-ATX (30.74x33.15cm)', 'ATX (23x18.5cm)',\n",
       "       '기타 (10x7.9cm)', 'M-ATX', 'M-ATX (23.6x18.8cm)', '표준 ATX',\n",
       "       'ATX (30x19cm)', '일반-ATX (30.5 x 24.4cm)',\n",
       "       'Micro-ATX (23.0 x 18.2cm)', 'Deep M-ATX(26.4x26.7cm)',\n",
       "       'M-DTX (20.3x17.0cm)', 'Micro-ATX (17x29.35cm)',\n",
       "       'ATX (30.5x24.5cm)', 'ATX (30.5x19.0cm)', '11.5x7.8x1.4cm',\n",
       "       'M-ATX (24.4x18.5cm)', '일반-ATX (29.5 x 21cm)', '6.96x4.5cm',\n",
       "       'M-ATX (22.5x24.4cm)', 'Micro-ATX (23.5 x 17.9cm)',\n",
       "       'ATX (30.5x17.8cm)'], dtype=object)"
      ]
     },
     "execution_count": 24,
     "metadata": {},
     "output_type": "execute_result"
    }
   ],
   "source": [
    "col = 'form_factor'\n",
    "mainboard[col].unique()"
   ]
  },
  {
   "cell_type": "code",
   "execution_count": 35,
   "id": "8e798e7c-4800-48e7-8da8-77a49ae13fa8",
   "metadata": {},
   "outputs": [],
   "source": [
    "for col in mainboard.columns:\n",
    "    for i in range(len(mainboard[col])):\n",
    "        if pd.isnull(mainboard[col][i]): continue\n",
    "        if '○' in str(mainboard.loc[i, col]):\n",
    "            print(i, col)"
   ]
  },
  {
   "cell_type": "code",
   "execution_count": 26,
   "id": "96f05b9b-cf7e-4653-a75e-08371c63d260",
   "metadata": {},
   "outputs": [
    {
     "data": {
      "text/plain": [
       "name                             GIGABYTE B760 AORUS MASTER D4 피씨디렉트\n",
       "price                                                       298900.0\n",
       "link               https://prod.danawa.com/info/?pcode=18651962&c...\n",
       "company                                                     GIGABYTE\n",
       "product_seq                                                 18651962\n",
       "image              //img.danawa.com/prod_img/500000/962/651/img/1...\n",
       "cpu_socket                                                인텔(소켓1700)\n",
       "chipset                                                      인텔 B760\n",
       "form_factor                                        ATX (30.5x24.4cm)\n",
       "memory_type                                                     DDR4\n",
       "memory_number                                                    4.0\n",
       "memory_capacity                                                128.0\n",
       "xmp                                                              NaN\n",
       "expo                                                             NaN\n",
       "sata3_number                                                     NaN\n",
       "m2_number                                                          ○\n",
       "m2_interface                                                       0\n",
       "m2_formfactor                                                      0\n",
       "pcie_version                                                      12\n",
       "vga_connection                                           PCIe4.0 x16\n",
       "wireless_lan                                                       0\n",
       "wired_lan_speed                                                  0.0\n",
       "phase                                                           18.0\n",
       "graphic_output                                                     0\n",
       "back_panel                                                       NaN\n",
       "io_header                                                          0\n",
       "feature                                                           64\n",
       "reg_date                                                      202301\n",
       "bookmark                                                         NaN\n",
       "Name: 463, dtype: object"
      ]
     },
     "execution_count": 26,
     "metadata": {},
     "output_type": "execute_result"
    }
   ],
   "source": [
    "mainboard.loc[463]"
   ]
  },
  {
   "cell_type": "code",
   "execution_count": 31,
   "id": "c289b3be-4601-45c3-bf18-8980f739d743",
   "metadata": {},
   "outputs": [
    {
     "data": {
      "text/plain": [
       "array(['2', '1', '3', '4', '5', '3 + 1', nan, '○'], dtype=object)"
      ]
     },
     "execution_count": 31,
     "metadata": {},
     "output_type": "execute_result"
    }
   ],
   "source": [
    "col = 'm2_number'\n",
    "mainboard[col].unique()"
   ]
  },
  {
   "cell_type": "code",
   "execution_count": 32,
   "id": "0f91d044-a2ff-446c-8d24-af05bb05ff5a",
   "metadata": {},
   "outputs": [],
   "source": [
    "for i in range(len(mainboard[col])):\n",
    "    if pd.isnull(mainboard[col][i]): continue\n",
    "    if mainboard.loc[i, col] == '3 + 1': mainboard.loc[i, col] = '4'\n",
    "    elif mainboard.loc[i, col] == '○': mainboard.loc[i, col] = '1'"
   ]
  },
  {
   "cell_type": "code",
   "execution_count": 33,
   "id": "dfb62e58-5e92-4435-a6ce-328455e1fbe3",
   "metadata": {},
   "outputs": [
    {
     "data": {
      "text/plain": [
       "array(['2', '1', '3', '4', '5', nan], dtype=object)"
      ]
     },
     "execution_count": 33,
     "metadata": {},
     "output_type": "execute_result"
    }
   ],
   "source": [
    "mainboard[col].unique()"
   ]
  },
  {
   "cell_type": "code",
   "execution_count": 36,
   "id": "38354cf4-c564-4dd4-9e19-298e06f4cf90",
   "metadata": {},
   "outputs": [],
   "source": [
    "today = time.strftime('%y%m%d')\n",
    "pd.DataFrame(mainboard).to_csv(f'part_mainboard{today}.csv', index=None)"
   ]
  },
  {
   "cell_type": "code",
   "execution_count": 37,
   "id": "35d0cc87-4f04-4cc2-b350-16c7d00d2953",
   "metadata": {},
   "outputs": [],
   "source": [
    "mpci = pd.read_csv('mainboard_pci230919.csv')"
   ]
  },
  {
   "cell_type": "code",
   "execution_count": 38,
   "id": "0620c658-2dc4-424e-877d-e47c8972ec78",
   "metadata": {},
   "outputs": [
    {
     "data": {
      "text/html": [
       "<div>\n",
       "<style scoped>\n",
       "    .dataframe tbody tr th:only-of-type {\n",
       "        vertical-align: middle;\n",
       "    }\n",
       "\n",
       "    .dataframe tbody tr th {\n",
       "        vertical-align: top;\n",
       "    }\n",
       "\n",
       "    .dataframe thead th {\n",
       "        text-align: right;\n",
       "    }\n",
       "</style>\n",
       "<table border=\"1\" class=\"dataframe\">\n",
       "  <thead>\n",
       "    <tr style=\"text-align: right;\">\n",
       "      <th></th>\n",
       "      <th>product_seq</th>\n",
       "      <th>pci_type</th>\n",
       "      <th>pci_number</th>\n",
       "    </tr>\n",
       "  </thead>\n",
       "  <tbody>\n",
       "    <tr>\n",
       "      <th>0</th>\n",
       "      <td>20324882</td>\n",
       "      <td>PCIex16</td>\n",
       "      <td>1</td>\n",
       "    </tr>\n",
       "    <tr>\n",
       "      <th>1</th>\n",
       "      <td>20324882</td>\n",
       "      <td>PCIex1</td>\n",
       "      <td>1</td>\n",
       "    </tr>\n",
       "    <tr>\n",
       "      <th>2</th>\n",
       "      <td>7452181</td>\n",
       "      <td>PCIex16</td>\n",
       "      <td>1</td>\n",
       "    </tr>\n",
       "    <tr>\n",
       "      <th>3</th>\n",
       "      <td>7452181</td>\n",
       "      <td>PCIex1</td>\n",
       "      <td>2</td>\n",
       "    </tr>\n",
       "    <tr>\n",
       "      <th>4</th>\n",
       "      <td>16284179</td>\n",
       "      <td>PCIex16</td>\n",
       "      <td>1</td>\n",
       "    </tr>\n",
       "    <tr>\n",
       "      <th>...</th>\n",
       "      <td>...</td>\n",
       "      <td>...</td>\n",
       "      <td>...</td>\n",
       "    </tr>\n",
       "    <tr>\n",
       "      <th>2567</th>\n",
       "      <td>13612418</td>\n",
       "      <td>PCIex1</td>\n",
       "      <td>2</td>\n",
       "    </tr>\n",
       "    <tr>\n",
       "      <th>2568</th>\n",
       "      <td>6732955</td>\n",
       "      <td>PCIex16</td>\n",
       "      <td>3</td>\n",
       "    </tr>\n",
       "    <tr>\n",
       "      <th>2569</th>\n",
       "      <td>6732955</td>\n",
       "      <td>PCIex1</td>\n",
       "      <td>2</td>\n",
       "    </tr>\n",
       "    <tr>\n",
       "      <th>2570</th>\n",
       "      <td>6145461</td>\n",
       "      <td>PCIex16</td>\n",
       "      <td>1</td>\n",
       "    </tr>\n",
       "    <tr>\n",
       "      <th>2571</th>\n",
       "      <td>6145461</td>\n",
       "      <td>PCI</td>\n",
       "      <td>2</td>\n",
       "    </tr>\n",
       "  </tbody>\n",
       "</table>\n",
       "<p>2572 rows × 3 columns</p>\n",
       "</div>"
      ],
      "text/plain": [
       "      product_seq pci_type  pci_number\n",
       "0        20324882  PCIex16           1\n",
       "1        20324882   PCIex1           1\n",
       "2         7452181  PCIex16           1\n",
       "3         7452181   PCIex1           2\n",
       "4        16284179  PCIex16           1\n",
       "...           ...      ...         ...\n",
       "2567     13612418   PCIex1           2\n",
       "2568      6732955  PCIex16           3\n",
       "2569      6732955   PCIex1           2\n",
       "2570      6145461  PCIex16           1\n",
       "2571      6145461      PCI           2\n",
       "\n",
       "[2572 rows x 3 columns]"
      ]
     },
     "execution_count": 38,
     "metadata": {},
     "output_type": "execute_result"
    }
   ],
   "source": [
    "mpci"
   ]
  },
  {
   "cell_type": "code",
   "execution_count": null,
   "id": "4fab50c6-49bb-4fbd-964c-d5bf62a71a35",
   "metadata": {},
   "outputs": [],
   "source": [
    "col = 'mainboard\n",
    "for i in range(len(mainboard[col])):\n",
    "        if pd.isnull(mainboard[col][i]): continue\n",
    "        if 'M-ATX (24.4x24.4cm)' in str(mainboard.loc[i, col]):\n",
    "            print(col)\n",
    "            break"
   ]
  }
 ],
 "metadata": {
  "kernelspec": {
   "display_name": "Python 3 (ipykernel)",
   "language": "python",
   "name": "python3"
  },
  "language_info": {
   "codemirror_mode": {
    "name": "ipython",
    "version": 3
   },
   "file_extension": ".py",
   "mimetype": "text/x-python",
   "name": "python",
   "nbconvert_exporter": "python",
   "pygments_lexer": "ipython3",
   "version": "3.9.12"
  }
 },
 "nbformat": 4,
 "nbformat_minor": 5
}
