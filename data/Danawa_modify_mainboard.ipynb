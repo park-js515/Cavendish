{
 "cells": [
  {
   "cell_type": "code",
   "execution_count": 1,
   "id": "8017fc7e",
   "metadata": {
    "tags": []
   },
   "outputs": [],
   "source": [
    "import pandas as pd\n",
    "import numpy as np\n",
    "import time"
   ]
  },
  {
   "cell_type": "code",
   "execution_count": 13,
   "id": "7ccc2430",
   "metadata": {
    "tags": []
   },
   "outputs": [],
   "source": [
    "a = pd.read_csv('mainboard230916.csv')"
   ]
  },
  {
   "cell_type": "code",
   "execution_count": 25,
   "id": "8604df36",
   "metadata": {
    "tags": []
   },
   "outputs": [],
   "source": [
    "col = 'memory_capacity'\n",
    "for i in range(len(a)):\n",
    "    if pd.isnull(a[col][i]): continue\n",
    "    # if 'MB' in a[col][i]:\n",
    "    #     a.loc[i, col] = int(a.loc[i, col].replace('MB', ''))/1024\n",
    "    # if '4또는8확인필요' in a[col][i]:\n",
    "    #     a.loc[i, col] = 8"
   ]
  },
  {
   "cell_type": "code",
   "execution_count": 12,
   "id": "16f43b12",
   "metadata": {
    "tags": []
   },
   "outputs": [],
   "source": [
    "today = time.strftime('%y%m%d')\n",
    "pd.DataFrame(a).to_csv(f'mainboard{today}.csv', index=None)"
   ]
  },
  {
   "cell_type": "code",
   "execution_count": 32,
   "id": "a29cdc90-5582-46c3-8bf4-38a2f5c2cec4",
   "metadata": {},
   "outputs": [],
   "source": [
    "m_pci = pd.read_csv('mainboard_pci230916.csv')"
   ]
  },
  {
   "cell_type": "code",
   "execution_count": 40,
   "id": "aed1b504-dcea-4af9-a8f4-0acf1d4b8b4c",
   "metadata": {
    "tags": []
   },
   "outputs": [],
   "source": [
    "col = 'pci_number'\n",
    "for i in range(len(m_pci)):\n",
    "    if pd.isnull(m_pci[col][i]): continue\n",
    "    if m_pci[col][i] == '(3.0) 3':\n",
    "        m_pci.loc[i, col] = m_pci.loc[i, col].replace('(3.0) ', '')\n",
    "    elif m_pci[col][i] == '4 (x8 미사용시)':\n",
    "        m_pci.loc[i, col] = m_pci.loc[i, col].replace(' (x8 미사용시)', '')\n",
    "    elif 'USB ' in m_pci[col][i]:\n",
    "        m_pci.loc[i, col] = m_pci.loc[i, col].replace('USB ', '')\n",
    "    if ' ' in m_pci[col][i]:\n",
    "        m_pci.loc[i, col] = m_pci.loc[i, col].replace(' ', '')"
   ]
  },
  {
   "cell_type": "code",
   "execution_count": 43,
   "id": "db6694c7-47b5-4476-a039-e26368e72a61",
   "metadata": {
    "tags": []
   },
   "outputs": [],
   "source": [
    "today = time.strftime('%y%m%d')\n",
    "pd.DataFrame(m_pci).to_csv(f'mainboard_pci{today}.csv', index=None)"
   ]
  },
  {
   "cell_type": "code",
   "execution_count": 42,
   "id": "2c06d8be-9abb-4ebb-921d-c1152037fb63",
   "metadata": {
    "tags": []
   },
   "outputs": [
    {
     "data": {
      "text/plain": [
       "array(['1', '2', '3', '5', '7', '6', '4', '11', '8', '12'], dtype=object)"
      ]
     },
     "execution_count": 42,
     "metadata": {},
     "output_type": "execute_result"
    }
   ],
   "source": [
    "m_pci[col].unique()"
   ]
  },
  {
   "cell_type": "code",
   "execution_count": null,
   "id": "35d0cc87-4f04-4cc2-b350-16c7d00d2953",
   "metadata": {},
   "outputs": [],
   "source": []
  }
 ],
 "metadata": {
  "kernelspec": {
   "display_name": "Python 3 (ipykernel)",
   "language": "python",
   "name": "python3"
  },
  "language_info": {
   "codemirror_mode": {
    "name": "ipython",
    "version": 3
   },
   "file_extension": ".py",
   "mimetype": "text/x-python",
   "name": "python",
   "nbconvert_exporter": "python",
   "pygments_lexer": "ipython3",
   "version": "3.11.4"
  }
 },
 "nbformat": 4,
 "nbformat_minor": 5
}
