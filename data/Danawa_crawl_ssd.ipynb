{
 "cells": [
  {
   "cell_type": "code",
   "execution_count": 1,
   "id": "db565b3a-e597-451a-b9db-a764efef9cc8",
   "metadata": {
    "tags": []
   },
   "outputs": [
    {
     "name": "stdout",
     "output_type": "stream",
     "text": [
      "Requirement already satisfied: Beautifulsoup4 in c:\\users\\jeong\\anaconda3\\lib\\site-packages (4.12.2)\n",
      "Requirement already satisfied: soupsieve>1.2 in c:\\users\\jeong\\anaconda3\\lib\\site-packages (from Beautifulsoup4) (2.4)\n",
      "Requirement already satisfied: selenium in c:\\users\\jeong\\anaconda3\\lib\\site-packages (4.12.0)\n",
      "Requirement already satisfied: urllib3[socks]<3,>=1.26 in c:\\users\\jeong\\anaconda3\\lib\\site-packages (from selenium) (1.26.16)\n",
      "Requirement already satisfied: trio~=0.17 in c:\\users\\jeong\\anaconda3\\lib\\site-packages (from selenium) (0.22.2)\n",
      "Requirement already satisfied: trio-websocket~=0.9 in c:\\users\\jeong\\anaconda3\\lib\\site-packages (from selenium) (0.10.4)\n",
      "Requirement already satisfied: certifi>=2021.10.8 in c:\\users\\jeong\\anaconda3\\lib\\site-packages (from selenium) (2023.7.22)\n",
      "Requirement already satisfied: attrs>=20.1.0 in c:\\users\\jeong\\anaconda3\\lib\\site-packages (from trio~=0.17->selenium) (22.1.0)\n",
      "Requirement already satisfied: sortedcontainers in c:\\users\\jeong\\anaconda3\\lib\\site-packages (from trio~=0.17->selenium) (2.4.0)\n",
      "Requirement already satisfied: idna in c:\\users\\jeong\\anaconda3\\lib\\site-packages (from trio~=0.17->selenium) (3.4)\n",
      "Requirement already satisfied: outcome in c:\\users\\jeong\\anaconda3\\lib\\site-packages (from trio~=0.17->selenium) (1.2.0)\n",
      "Requirement already satisfied: sniffio in c:\\users\\jeong\\anaconda3\\lib\\site-packages (from trio~=0.17->selenium) (1.2.0)\n",
      "Requirement already satisfied: cffi>=1.14 in c:\\users\\jeong\\anaconda3\\lib\\site-packages (from trio~=0.17->selenium) (1.15.1)\n",
      "Requirement already satisfied: exceptiongroup in c:\\users\\jeong\\anaconda3\\lib\\site-packages (from trio-websocket~=0.9->selenium) (1.1.3)\n",
      "Requirement already satisfied: wsproto>=0.14 in c:\\users\\jeong\\anaconda3\\lib\\site-packages (from trio-websocket~=0.9->selenium) (1.2.0)\n",
      "Requirement already satisfied: PySocks!=1.5.7,<2.0,>=1.5.6 in c:\\users\\jeong\\anaconda3\\lib\\site-packages (from urllib3[socks]<3,>=1.26->selenium) (1.7.1)\n",
      "Requirement already satisfied: pycparser in c:\\users\\jeong\\anaconda3\\lib\\site-packages (from cffi>=1.14->trio~=0.17->selenium) (2.21)\n",
      "Requirement already satisfied: h11<1,>=0.9.0 in c:\\users\\jeong\\anaconda3\\lib\\site-packages (from wsproto>=0.14->trio-websocket~=0.9->selenium) (0.14.0)\n",
      "Requirement already satisfied: webdriver_manager in c:\\users\\jeong\\anaconda3\\lib\\site-packages (4.0.0)\n",
      "Requirement already satisfied: requests in c:\\users\\jeong\\anaconda3\\lib\\site-packages (from webdriver_manager) (2.31.0)\n",
      "Requirement already satisfied: python-dotenv in c:\\users\\jeong\\anaconda3\\lib\\site-packages (from webdriver_manager) (1.0.0)\n",
      "Requirement already satisfied: packaging in c:\\users\\jeong\\anaconda3\\lib\\site-packages (from webdriver_manager) (23.0)\n",
      "Requirement already satisfied: charset-normalizer<4,>=2 in c:\\users\\jeong\\anaconda3\\lib\\site-packages (from requests->webdriver_manager) (2.0.4)\n",
      "Requirement already satisfied: idna<4,>=2.5 in c:\\users\\jeong\\anaconda3\\lib\\site-packages (from requests->webdriver_manager) (3.4)\n",
      "Requirement already satisfied: urllib3<3,>=1.21.1 in c:\\users\\jeong\\anaconda3\\lib\\site-packages (from requests->webdriver_manager) (1.26.16)\n",
      "Requirement already satisfied: certifi>=2017.4.17 in c:\\users\\jeong\\anaconda3\\lib\\site-packages (from requests->webdriver_manager) (2023.7.22)\n",
      "Requirement already satisfied: pandas in c:\\users\\jeong\\anaconda3\\lib\\site-packages (1.5.3)\n",
      "Requirement already satisfied: python-dateutil>=2.8.1 in c:\\users\\jeong\\anaconda3\\lib\\site-packages (from pandas) (2.8.2)\n",
      "Requirement already satisfied: pytz>=2020.1 in c:\\users\\jeong\\anaconda3\\lib\\site-packages (from pandas) (2022.7)\n",
      "Requirement already satisfied: numpy>=1.21.0 in c:\\users\\jeong\\anaconda3\\lib\\site-packages (from pandas) (1.24.3)\n",
      "Requirement already satisfied: six>=1.5 in c:\\users\\jeong\\anaconda3\\lib\\site-packages (from python-dateutil>=2.8.1->pandas) (1.16.0)\n"
     ]
    }
   ],
   "source": [
    "# !pip install Beautifulsoup4\n",
    "# !pip install selenium\n",
    "# !pip install webdriver_manager\n",
    "# !pip install pandas"
   ]
  },
  {
   "cell_type": "code",
   "execution_count": 51,
   "id": "73ce0097-eda2-40d1-8ea3-69b175e5282b",
   "metadata": {
    "tags": []
   },
   "outputs": [],
   "source": [
    "from selenium import webdriver\n",
    "from selenium.webdriver.chrome.service import Service\n",
    "from selenium.webdriver.chrome.options import Options\n",
    "from selenium.webdriver.support.select import Select\n",
    "from selenium.webdriver.common.keys import Keys\n",
    "from selenium.webdriver.common.by import By\n",
    "import urllib.request\n",
    "import time\n",
    "import re\n",
    "\n",
    "import pandas as pd\n",
    "import pprint\n",
    "\n",
    "from bs4 import BeautifulSoup\n",
    "\n",
    "# 크롬 드라이버 자동 업데이트\n",
    "from webdriver_manager.chrome import ChromeDriverManager\n",
    "\n",
    "# 브라우저 꺼짐 방지\n",
    "chrome_options = Options()\n",
    "chrome_options.add_experimental_option(\"detach\", True)\n",
    "\n",
    "# 불필요한 에러 메세지 없애기\n",
    "chrome_options.add_experimental_option(\"excludeSwitches\", [\"enable-logging\"])\n",
    "service = Service(executable_path=ChromeDriverManager().install())"
   ]
  },
  {
   "cell_type": "markdown",
   "id": "1308de7e-e2f3-46c0-b050-0c4836c27482",
   "metadata": {},
   "source": [
    "### 다나와 상세페이지에서 테이블 내용을 불러오기"
   ]
  },
  {
   "cell_type": "code",
   "execution_count": 52,
   "id": "b0672391-870f-4ddf-92a2-84a8243c253a",
   "metadata": {
    "tags": []
   },
   "outputs": [],
   "source": [
    "user_agent =\"Mozilla/5.0 (Windows NT 10.0; Win64; x64) AppleWebKit/537.36 (KHTML, like Gecko) Chrome/116.0.0.0 Safari/537.36\"\n",
    "chrome_options.add_argument(f'user-agent={user_agent}')\n",
    "\n",
    "driver = webdriver.Chrome(options=chrome_options)"
   ]
  },
  {
   "cell_type": "code",
   "execution_count": 53,
   "id": "cd65a0dd-3d76-492c-abd9-a2fcb53ada4a",
   "metadata": {
    "tags": []
   },
   "outputs": [],
   "source": [
    "# 크롤링 참고 (헤더)\n",
    "\n",
    "header = [\"name\", \"price\", \"link\", \"company\", \"product_seq\", \"image\", \"form_factor\", \"interface\",\n",
    "         \"protocol\", \"volume\", \"memory_type\", \"nand\", \"ram_type\", \"ram_mounted\", \"sequential_read\", \"sequential_write\",\n",
    "         \"read_iops\", \"write_iops\", \"heatsink\", \"rgbled\", \"as_year\", \"support_option\", \"reg_date\", \"bookmark\"]"
   ]
  },
  {
   "cell_type": "code",
   "execution_count": 54,
   "id": "3a3abc44-2178-4a1e-9a6c-8ad0452de27c",
   "metadata": {
    "tags": []
   },
   "outputs": [
    {
     "name": "stdout",
     "output_type": "stream",
     "text": [
      "1198\n"
     ]
    }
   ],
   "source": [
    "save_file = False  # 파일 저장 여부\n",
    "waiting_sec = 3\n",
    "\n",
    "# seq 파일 읽기\n",
    "# category = 112747  # cpu\n",
    "# category = 112751  # 메인보드\n",
    "# category = 112752  # 램\n",
    "# category = 112753  # 그래픽카드\n",
    "category = 112760  # SSD\n",
    "# category = 112763  # HDD\n",
    "# category = 112775  # 케이스\n",
    "# category = 112777  # 파워\n",
    "# category = 11236855  # 쿨러\n",
    "\n",
    "seq_file = f'./seq_{category}.csv'\n",
    "seq_df = pd.read_csv(seq_file)\n",
    "len_seq = len(seq_df)\n",
    "print(len_seq)\n",
    "\n",
    "# 비트마스킹\n",
    "m2i_bitmask = ['SATA', 'NVMe', 'PCIe', 'PCIe4.0', 'PCIe5.0']\n",
    "m2f_bitmask = ['2230', '2242', '2260', '2280', '2580', '22110', '25110']\n",
    "wl_bitmask = ['무선 LAN', '블루투스', 'M.2 Key-E(모듈별매)']\n",
    "\n",
    "support_bitmask = ['TRIM', 'GC', 'SLC캐싱', 'S.M.A.R.T', 'DEVSLP', 'ECC', 'HMB']\n",
    "addon_bitmask = ['AES 암호화', '전용 S/W']\n",
    "\n",
    "as_years = ['10년', '6년', '5년', '3년', '2년', '1년']\n",
    "\n",
    "# 딕셔너리 초기화\n",
    "ssd = dict()\n",
    "ssd_pci = dict()\n",
    "\n",
    "for col in header:\n",
    "    ssd[col] = []"
   ]
  },
  {
   "cell_type": "code",
   "execution_count": null,
   "id": "71ee8b41-b4e1-4061-b21b-e9ae4e26250c",
   "metadata": {
    "tags": []
   },
   "outputs": [
    {
     "name": "stdout",
     "output_type": "stream",
     "text": [
      "556 / 1198 : 46% / 남은시간: 0:53:30"
     ]
    }
   ],
   "source": [
    "# 크롤링 참고 (크롤링, 딕셔너리로 저장)\n",
    "\n",
    "# chrome_options = Options()\n",
    "\n",
    "user_agent =\"Mozilla/5.0 (Windows NT 10.0; Win64; x64) AppleWebKit/537.36 (KHTML, like Gecko) Chrome/116.0.0.0 Safari/537.36\"\n",
    "chrome_options.add_argument(f'user-agent={user_agent}')\n",
    "\n",
    "driver = webdriver.Chrome(options=chrome_options)\n",
    "\n",
    "\n",
    "# 크롤링 시작\n",
    "ntime = 1\n",
    "start = time.time()\n",
    "\n",
    "for seq in seq_df.seq:\n",
    "    url = f'https://prod.danawa.com/info/?pcode={seq}&cate={category}'\n",
    "    driver.get(url)\n",
    "    driver.implicitly_wait(10)\n",
    "\n",
    "    time.sleep(waiting_sec)\n",
    "    soup = BeautifulSoup(driver.page_source, 'html.parser')\n",
    "    \n",
    "    spec_tbl = soup.select(\"#productDescriptionArea > div > div.prod_spec > table > tbody\")\n",
    "    spec_tbl_tit = soup.select(\"#productDescriptionArea > div > div.prod_spec > table > tbody > tr > th.tit\")\n",
    "    spec_tbl_dsc = soup.select(\"#productDescriptionArea > div > div.prod_spec > table > tbody > tr > td.dsc\")\n",
    "    name = soup.select_one(\"#blog_content > div.summary_info > div.top_summary > h3 > span\")\n",
    "    price = soup.select_one(\"#blog_content > div.summary_info > div.detail_summary > div.summary_left > div.lowest_area > div.lowest_top > div.row.lowest_price > span.lwst_prc > a > em\")\n",
    "    image_url = soup.select_one(\"#baseImage\")\n",
    "    \n",
    "    tbl = zip(spec_tbl_tit, spec_tbl_dsc)\n",
    "\n",
    "    info = dict()\n",
    "    info['제품명'] = name.get_text()\n",
    "    info['최저가'] = price.get_text() if price else None\n",
    "    info['링크'] = url\n",
    "    info['이미지'] = image_url['src']\n",
    "    for tit, dsc in tbl:\n",
    "        if tit.get_text() in ['안전확인인증','적합성평가인증']:\n",
    "            continue\n",
    "        text = dsc.get_text()\n",
    "        text = text.replace('\\n','')\n",
    "        text = text.replace('\\t','')\n",
    "        text = text.replace('(제조사 웹사이트 바로가기)','')\n",
    "        info[tit.get_text()] = text.strip()\n",
    "    \n",
    "    # pprint.pprint(info)\n",
    "    \n",
    "   \n",
    "    m2i_bit = 0\n",
    "    m2f_bit = 0\n",
    "    wl_bit = 0\n",
    "    wls = 0\n",
    "    \n",
    "    \n",
    "    \n",
    "    ssd['name'].append(name.get_text()[:name.get_text().index('(') if '(' in name.get_text() else None].rstrip())\n",
    "    ssd['price'].append(price.get_text().replace(',','') if price else None)\n",
    "    ssd['link'].append(url)\n",
    "    ssd['company'].append(info.get('제조회사'))\n",
    "    ssd['product_seq'].append(seq)\n",
    "    ssd['image'].append(image_url.get('src'))\n",
    "    \n",
    "    ssd['form_factor'].append(info.get('폼팩터'))\n",
    "    ssd['interface'].append(info.get('인터페이스'))\n",
    "    ssd['protocol'].append(info.get('프로토콜'))\n",
    "    ssd['volume'].append(info.get('용량'))\n",
    "    \n",
    "    ssd['memory_type'].append(info.get('메모리 타입'))\n",
    "    ssd['nand'].append(info.get('낸드 구조'))\n",
    "    \n",
    "    ssd['ram_mounted'].append(info.get('RAM 탑재'))\n",
    "    ssd['ram_type'].append(info.get('RAM 타입'))\n",
    "    \n",
    "    ssd['sequential_read'].append(info.get('순차읽기'))\n",
    "    ssd['sequential_write'].append(info.get('순차쓰기'))\n",
    "    \n",
    "    ssd['read_iops'].append(info.get('읽기IOPS'))\n",
    "    ssd['write_iops'].append(info.get('쓰기IOPS'))\n",
    "\n",
    "    ssd['heatsink'].append(1 if info.get('히트싱크')=='방열판' else 0)\n",
    "    \n",
    "    \n",
    "    ssd['rgbled'].append(1 if info.get('RGB/LED') else 0)\n",
    "    \n",
    "    for year in as_years:\n",
    "        if year in info.keys():\n",
    "            ssd['as_year'].append(year)\n",
    "            break\n",
    "    else:\n",
    "        ssd['as_year'].append(None)\n",
    "    \n",
    "    support_bit = 0\n",
    "    for i in range(len(support_bitmask)):\n",
    "        if support_bitmask[i] in info.keys(): support_bit |= 1 << i\n",
    "    ssd['support_option'].append(support_bit)\n",
    "\n",
    "                          \n",
    "    ssd['reg_date'].append(re.sub('(년| |월)', '', info.get('등록년월')))\n",
    "    ssd['bookmark'].append(info.get('북마크'))\n",
    "    \n",
    "    recent = time.time()\n",
    "    \n",
    "    remain = int(recent-start)//ntime*(len_seq-ntime)\n",
    "    \n",
    "    print(f'\\r{ntime} / {len_seq} : {int(ntime/len_seq*100)}% / 남은시간: {remain//3600}:{remain%3600//60}:{remain%60}',end='')\n",
    "    \n",
    "    ntime+=1\n",
    "    \n",
    "\n",
    "\n",
    "end = time.time()\n",
    "\n",
    "print(f\"\\n걸린 시간: {end-start:.2f}sec\")\n",
    "driver.quit()\n",
    "# 크롤링 끝)"
   ]
  },
  {
   "cell_type": "code",
   "execution_count": null,
   "id": "5c14848d-bf34-49fd-a338-0d1bad347083",
   "metadata": {
    "tags": []
   },
   "outputs": [],
   "source": [
    "ssd_df = pd.DataFrame(ssd)\n",
    "ssd_df.tail()"
   ]
  },
  {
   "cell_type": "code",
   "execution_count": null,
   "id": "cf7b3eee-a826-4f2a-a306-a0deb1d8788d",
   "metadata": {},
   "outputs": [],
   "source": [
    "pd.DataFssde(ssd).to_csv(\"ssd.csv\")"
   ]
  },
  {
   "cell_type": "code",
   "execution_count": 62,
   "id": "d0ba507e-80ec-4d9c-8b1c-c1b0fa0847df",
   "metadata": {},
   "outputs": [
    {
     "data": {
      "text/plain": [
       "'KINGMAX 3.5 브라켓'"
      ]
     },
     "execution_count": 62,
     "metadata": {},
     "output_type": "execute_result"
    }
   ],
   "source": [
    "name.get_text()[:name.get_text().index('(') if '(' in name.get_text() else None].rstrip()"
   ]
  },
  {
   "cell_type": "code",
   "execution_count": null,
   "id": "dd7f6102-cf58-4c33-9e1e-f537039e2aff",
   "metadata": {},
   "outputs": [],
   "source": []
  },
  {
   "cell_type": "code",
   "execution_count": null,
   "id": "04936dfe-2aef-4429-87f6-ac8130cf8263",
   "metadata": {},
   "outputs": [],
   "source": []
  },
  {
   "cell_type": "code",
   "execution_count": null,
   "id": "2e552695-1db3-491e-988e-2a9e6e6171b6",
   "metadata": {},
   "outputs": [],
   "source": []
  }
 ],
 "metadata": {
  "kernelspec": {
   "display_name": "Python 3 (ipykernel)",
   "language": "python",
   "name": "python3"
  },
  "language_info": {
   "codemirror_mode": {
    "name": "ipython",
    "version": 3
   },
   "file_extension": ".py",
   "mimetype": "text/x-python",
   "name": "python",
   "nbconvert_exporter": "python",
   "pygments_lexer": "ipython3",
   "version": "3.11.4"
  }
 },
 "nbformat": 4,
 "nbformat_minor": 5
}
