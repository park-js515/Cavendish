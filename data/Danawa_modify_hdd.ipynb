{
 "cells": [
  {
   "cell_type": "code",
   "execution_count": 7,
   "id": "8017fc7e",
   "metadata": {
    "tags": []
   },
   "outputs": [],
   "source": [
    "import pandas as pd\n",
    "import numpy as np\n",
    "import time"
   ]
  },
  {
   "cell_type": "code",
   "execution_count": 8,
   "id": "7ccc2430",
   "metadata": {
    "tags": []
   },
   "outputs": [],
   "source": [
    "a = pd.read_csv('hdd230918_2.csv')"
   ]
  },
  {
   "cell_type": "code",
   "execution_count": 9,
   "id": "8604df36",
   "metadata": {
    "tags": []
   },
   "outputs": [],
   "source": [
    "col = 'rpm'\n",
    "for i in range(len(a)):\n",
    "    if pd.isnull(a[col][i]): continue\n",
    "    if ' 가변' in a[col][i]:\n",
    "        a.loc[i, col] = a.loc[i, col].replace(' 가변', '')"
   ]
  },
  {
   "cell_type": "code",
   "execution_count": 10,
   "id": "8b3854c3-0a3b-4fd6-87d2-b4826a813044",
   "metadata": {
    "tags": []
   },
   "outputs": [],
   "source": [
    "col = 'transfer_rate'\n",
    "for i in range(len(a)):\n",
    "    if pd.isnull(a[col][i]): continue\n",
    "    if '최대 ' in a[col][i]:\n",
    "        a.loc[i, col] = a.loc[i, col].replace('최대 ', '')"
   ]
  },
  {
   "cell_type": "code",
   "execution_count": 11,
   "id": "16f43b12",
   "metadata": {
    "tags": []
   },
   "outputs": [],
   "source": [
    "today = time.strftime('%y%m%d')\n",
    "pd.DataFrame(a).to_csv(f'hdd{today}.csv', index=None)"
   ]
  },
  {
   "cell_type": "code",
   "execution_count": null,
   "id": "c16d9521",
   "metadata": {},
   "outputs": [],
   "source": []
  }
 ],
 "metadata": {
  "kernelspec": {
   "display_name": "Python 3 (ipykernel)",
   "language": "python",
   "name": "python3"
  },
  "language_info": {
   "codemirror_mode": {
    "name": "ipython",
    "version": 3
   },
   "file_extension": ".py",
   "mimetype": "text/x-python",
   "name": "python",
   "nbconvert_exporter": "python",
   "pygments_lexer": "ipython3",
   "version": "3.11.4"
  }
 },
 "nbformat": 4,
 "nbformat_minor": 5
}
