{
 "cells": [
  {
   "cell_type": "code",
   "execution_count": 1,
   "id": "f60f6f9d",
   "metadata": {
    "tags": []
   },
   "outputs": [],
   "source": [
    "from selenium import webdriver\n",
    "from selenium.webdriver.chrome.service import Service\n",
    "from selenium.webdriver.chrome.options import Options\n",
    "from selenium.webdriver.common.by import By\n",
    "from selenium.webdriver.support.select import Select\n",
    "from selenium.webdriver.support.ui import WebDriverWait\n",
    "from selenium.webdriver.support import expected_conditions as EC\n",
    "from selenium.common.exceptions import NoSuchElementException\n",
    "from selenium.common.exceptions import StaleElementReferenceException\n",
    "from bs4 import BeautifulSoup\n",
    "import pandas as pd\n",
    "import pprint\n",
    "import time\n",
    "import csv\n",
    "import re\n",
    "\n",
    "# 크롬 드라이버 자동 업데이트\n",
    "from webdriver_manager.chrome import ChromeDriverManager"
   ]
  },
  {
   "cell_type": "code",
   "execution_count": 2,
   "id": "58be2346",
   "metadata": {
    "tags": []
   },
   "outputs": [],
   "source": [
    "class RetriesExceededError(Exception):\n",
    "    def __init__(self, message):\n",
    "        super().__init__(message)\n",
    "\n",
    "        \n",
    "def find_element_with_retry(driver_, by, value, waiting_sec=2.5, max_retries=10):\n",
    "    retries = 0\n",
    "    while retries < max_retries:\n",
    "        try:\n",
    "            element = WebDriverWait(driver_, waiting_sec).until(EC.presence_of_element_located((by, value)))\n",
    "            return element\n",
    "        except (NoSuchElementException, StaleElementReferenceException):\n",
    "            retries += 1\n",
    "            \n",
    "    raise RetriesExceededError(f'{value}를 찾을 수 없음\\n재시도 횟수 초과: {waiting_sec}초로 {max_retries}회 시도')"
   ]
  },
  {
   "cell_type": "code",
   "execution_count": 3,
   "id": "3d4e4c0f",
   "metadata": {
    "tags": []
   },
   "outputs": [],
   "source": [
    "# 브라우저 꺼짐 방지\n",
    "chrome_options = Options()\n",
    "chrome_options.add_experimental_option(\"detach\", True)\n",
    "\n",
    "user_agent = \"Mozilla/5.0 (Windows NT 10.0; Win64; x64) AppleWebKit/537.36 (KHTML, like Gecko) Chrome/116.0.0.0 Safari/537.36\"\n",
    "chrome_options.add_argument(f'user-agent={user_agent}')\n",
    "# 불필요한 에러 메세지 없애기\n",
    "chrome_options.add_experimental_option(\"excludeSwitches\", [\"enable-logging\"])\n",
    "driver = webdriver.Chrome(ChromeDriverManager().install(), options=chrome_options)\n",
    "# service = Service(executable_path=ChromeDriverManager().install())\n",
    "# driver = webdriver.Chrome(service=service, options=chrome_options)\n",
    "\n",
    "save_file = True  # 파일 저장 여부\n",
    "waiting_sec = 2.5"
   ]
  },
  {
   "cell_type": "code",
   "execution_count": 4,
   "id": "e74b15d6",
   "metadata": {
    "tags": []
   },
   "outputs": [
    {
     "name": "stdout",
     "output_type": "stream",
     "text": [
      "           seq\n",
      "0     18212909\n",
      "1     18419840\n",
      "2     11884207\n",
      "3     14705840\n",
      "4     10423167\n",
      "...        ...\n",
      "1441   2186578\n",
      "1442   1983723\n",
      "1443   1983654\n",
      "1444   1517662\n",
      "1445   1517658\n",
      "\n",
      "[1446 rows x 1 columns]\n"
     ]
    }
   ],
   "source": [
    "# seq 파일 읽기\n",
    "category = 112775  # 케이스\n",
    "\n",
    "seq_file = f'./seq_{category}.csv'\n",
    "seq_df = pd.read_csv(seq_file)\n",
    "print(seq_df)"
   ]
  },
  {
   "cell_type": "code",
   "execution_count": 5,
   "id": "148efb0e",
   "metadata": {
    "tags": []
   },
   "outputs": [],
   "source": [
    "header = ['name', 'price', 'link', 'company', 'product_seq', 'image', 'category', 'size',\n",
    "          'power_included', 'power_support', 'board_support', 'bay_133', 'bay_89', 'bay_64',\n",
    "          'pci_horizontal', 'pci_vertical', 'cooling_fan', 'led_fan', 'front_type', 'side_open',\n",
    "          'side_type', 'back_vent', 'front_vent', 'top_vent', 'bottom_vent', 'external_port',\n",
    "          'width', 'height', 'depth', 'gpu_size', 'cpu_cooler_size', 'power_size', 'liquid_cooler',\n",
    "          'radiator_top', 'radiator_front', 'radiator_rear', 'radiator_side', 'feature', 'led_color',\n",
    "          'reg_date', 'bookmark']"
   ]
  },
  {
   "cell_type": "code",
   "execution_count": 6,
   "id": "48547d85",
   "metadata": {},
   "outputs": [],
   "source": [
    "bs_bitmask = ['Extended-ATX', '표준-ATX', 'Micro-ATX', 'Flex-ATX', '표준-ITX', 'Mini-ITX',\n",
    "              'SSI-CEB', 'SSI-EEB', 'Mini-DTX']\n",
    "ep_bitmask = ['USB', 'USB 3.0', 'USB 3.0 (Type-C)', 'USB 3.1 (Type-C)', 'USB 3.1 (Type-A)',\n",
    "              'USB 3.2 (Type-C)', 'eSATA', 'HDMI', '카드리더기']\n",
    "feat_bitmask = ['LED 라이트', '방음패드 내장', '상태표시 창', 'HDD 도킹', 'PC방 전용', \n",
    "                '수랭쿨링홀', '채굴용(마이닝)', '켄싱턴 락', '상단 패널 탈착', '그래픽카드 지지대']"
   ]
  },
  {
   "cell_type": "code",
   "execution_count": 7,
   "id": "f0d812e7",
   "metadata": {
    "tags": []
   },
   "outputs": [],
   "source": [
    "case = dict()\n",
    "\n",
    "for col in header:\n",
    "    case[col] = []"
   ]
  },
  {
   "cell_type": "code",
   "execution_count": 8,
   "id": "17fd1553",
   "metadata": {},
   "outputs": [],
   "source": [
    "ntime = 0\n",
    "total = len(seq_df)\n",
    "start = time.time()"
   ]
  },
  {
   "cell_type": "code",
   "execution_count": 23,
   "id": "da317ee2",
   "metadata": {},
   "outputs": [
    {
     "name": "stdout",
     "output_type": "stream",
     "text": [
      "57/1446 (3.94%) (남은 시간: 17477s)"
     ]
    },
    {
     "ename": "KeyboardInterrupt",
     "evalue": "",
     "output_type": "error",
     "traceback": [
      "\u001b[1;31m---------------------------------------------------------------------------\u001b[0m",
      "\u001b[1;31mKeyboardInterrupt\u001b[0m                         Traceback (most recent call last)",
      "Cell \u001b[1;32mIn[23], line 4\u001b[0m\n\u001b[0;32m      2\u001b[0m \u001b[38;5;28;01mfor\u001b[39;00m seq \u001b[38;5;129;01min\u001b[39;00m seq_df\u001b[38;5;241m.\u001b[39mseq[ntime:]:\n\u001b[0;32m      3\u001b[0m     url \u001b[38;5;241m=\u001b[39m \u001b[38;5;124mf\u001b[39m\u001b[38;5;124m'\u001b[39m\u001b[38;5;124mhttps://prod.danawa.com/info/?pcode=\u001b[39m\u001b[38;5;132;01m{\u001b[39;00mseq\u001b[38;5;132;01m}\u001b[39;00m\u001b[38;5;124m&cate=\u001b[39m\u001b[38;5;132;01m{\u001b[39;00mcategory\u001b[38;5;132;01m}\u001b[39;00m\u001b[38;5;124m'\u001b[39m\n\u001b[1;32m----> 4\u001b[0m     driver\u001b[38;5;241m.\u001b[39mget(url)\n\u001b[0;32m      5\u001b[0m     driver\u001b[38;5;241m.\u001b[39mimplicitly_wait(\u001b[38;5;241m10\u001b[39m)\n\u001b[0;32m      7\u001b[0m     time\u001b[38;5;241m.\u001b[39msleep(waiting_sec)\n",
      "File \u001b[1;32m~\\anaconda3\\Lib\\site-packages\\selenium\\webdriver\\remote\\webdriver.py:333\u001b[0m, in \u001b[0;36mWebDriver.get\u001b[1;34m(self, url)\u001b[0m\n\u001b[0;32m    329\u001b[0m \u001b[38;5;28;01mdef\u001b[39;00m \u001b[38;5;21mget\u001b[39m(\u001b[38;5;28mself\u001b[39m, url):\n\u001b[0;32m    330\u001b[0m \u001b[38;5;250m    \u001b[39m\u001b[38;5;124;03m\"\"\"\u001b[39;00m\n\u001b[0;32m    331\u001b[0m \u001b[38;5;124;03m    Loads a web page in the current browser session.\u001b[39;00m\n\u001b[0;32m    332\u001b[0m \u001b[38;5;124;03m    \"\"\"\u001b[39;00m\n\u001b[1;32m--> 333\u001b[0m     \u001b[38;5;28mself\u001b[39m\u001b[38;5;241m.\u001b[39mexecute(Command\u001b[38;5;241m.\u001b[39mGET, {\u001b[38;5;124m'\u001b[39m\u001b[38;5;124murl\u001b[39m\u001b[38;5;124m'\u001b[39m: url})\n",
      "File \u001b[1;32m~\\anaconda3\\Lib\\site-packages\\selenium\\webdriver\\remote\\webdriver.py:319\u001b[0m, in \u001b[0;36mWebDriver.execute\u001b[1;34m(self, driver_command, params)\u001b[0m\n\u001b[0;32m    316\u001b[0m         params[\u001b[38;5;124m'\u001b[39m\u001b[38;5;124msessionId\u001b[39m\u001b[38;5;124m'\u001b[39m] \u001b[38;5;241m=\u001b[39m \u001b[38;5;28mself\u001b[39m\u001b[38;5;241m.\u001b[39msession_id\n\u001b[0;32m    318\u001b[0m params \u001b[38;5;241m=\u001b[39m \u001b[38;5;28mself\u001b[39m\u001b[38;5;241m.\u001b[39m_wrap_value(params)\n\u001b[1;32m--> 319\u001b[0m response \u001b[38;5;241m=\u001b[39m \u001b[38;5;28mself\u001b[39m\u001b[38;5;241m.\u001b[39mcommand_executor\u001b[38;5;241m.\u001b[39mexecute(driver_command, params)\n\u001b[0;32m    320\u001b[0m \u001b[38;5;28;01mif\u001b[39;00m response:\n\u001b[0;32m    321\u001b[0m     \u001b[38;5;28mself\u001b[39m\u001b[38;5;241m.\u001b[39merror_handler\u001b[38;5;241m.\u001b[39mcheck_response(response)\n",
      "File \u001b[1;32m~\\anaconda3\\Lib\\site-packages\\selenium\\webdriver\\remote\\remote_connection.py:374\u001b[0m, in \u001b[0;36mRemoteConnection.execute\u001b[1;34m(self, command, params)\u001b[0m\n\u001b[0;32m    372\u001b[0m data \u001b[38;5;241m=\u001b[39m utils\u001b[38;5;241m.\u001b[39mdump_json(params)\n\u001b[0;32m    373\u001b[0m url \u001b[38;5;241m=\u001b[39m \u001b[38;5;124m'\u001b[39m\u001b[38;5;132;01m%s\u001b[39;00m\u001b[38;5;132;01m%s\u001b[39;00m\u001b[38;5;124m'\u001b[39m \u001b[38;5;241m%\u001b[39m (\u001b[38;5;28mself\u001b[39m\u001b[38;5;241m.\u001b[39m_url, path)\n\u001b[1;32m--> 374\u001b[0m \u001b[38;5;28;01mreturn\u001b[39;00m \u001b[38;5;28mself\u001b[39m\u001b[38;5;241m.\u001b[39m_request(command_info[\u001b[38;5;241m0\u001b[39m], url, body\u001b[38;5;241m=\u001b[39mdata)\n",
      "File \u001b[1;32m~\\anaconda3\\Lib\\site-packages\\selenium\\webdriver\\remote\\remote_connection.py:397\u001b[0m, in \u001b[0;36mRemoteConnection._request\u001b[1;34m(self, method, url, body)\u001b[0m\n\u001b[0;32m    394\u001b[0m     body \u001b[38;5;241m=\u001b[39m \u001b[38;5;28;01mNone\u001b[39;00m\n\u001b[0;32m    396\u001b[0m \u001b[38;5;28;01mif\u001b[39;00m \u001b[38;5;28mself\u001b[39m\u001b[38;5;241m.\u001b[39mkeep_alive:\n\u001b[1;32m--> 397\u001b[0m     resp \u001b[38;5;241m=\u001b[39m \u001b[38;5;28mself\u001b[39m\u001b[38;5;241m.\u001b[39m_conn\u001b[38;5;241m.\u001b[39mrequest(method, url, body\u001b[38;5;241m=\u001b[39mbody, headers\u001b[38;5;241m=\u001b[39mheaders)\n\u001b[0;32m    399\u001b[0m     statuscode \u001b[38;5;241m=\u001b[39m resp\u001b[38;5;241m.\u001b[39mstatus\n\u001b[0;32m    400\u001b[0m \u001b[38;5;28;01melse\u001b[39;00m:\n",
      "File \u001b[1;32m~\\anaconda3\\Lib\\site-packages\\urllib3\\request.py:78\u001b[0m, in \u001b[0;36mRequestMethods.request\u001b[1;34m(self, method, url, fields, headers, **urlopen_kw)\u001b[0m\n\u001b[0;32m     74\u001b[0m     \u001b[38;5;28;01mreturn\u001b[39;00m \u001b[38;5;28mself\u001b[39m\u001b[38;5;241m.\u001b[39mrequest_encode_url(\n\u001b[0;32m     75\u001b[0m         method, url, fields\u001b[38;5;241m=\u001b[39mfields, headers\u001b[38;5;241m=\u001b[39mheaders, \u001b[38;5;241m*\u001b[39m\u001b[38;5;241m*\u001b[39murlopen_kw\n\u001b[0;32m     76\u001b[0m     )\n\u001b[0;32m     77\u001b[0m \u001b[38;5;28;01melse\u001b[39;00m:\n\u001b[1;32m---> 78\u001b[0m     \u001b[38;5;28;01mreturn\u001b[39;00m \u001b[38;5;28mself\u001b[39m\u001b[38;5;241m.\u001b[39mrequest_encode_body(\n\u001b[0;32m     79\u001b[0m         method, url, fields\u001b[38;5;241m=\u001b[39mfields, headers\u001b[38;5;241m=\u001b[39mheaders, \u001b[38;5;241m*\u001b[39m\u001b[38;5;241m*\u001b[39murlopen_kw\n\u001b[0;32m     80\u001b[0m     )\n",
      "File \u001b[1;32m~\\anaconda3\\Lib\\site-packages\\urllib3\\request.py:170\u001b[0m, in \u001b[0;36mRequestMethods.request_encode_body\u001b[1;34m(self, method, url, fields, headers, encode_multipart, multipart_boundary, **urlopen_kw)\u001b[0m\n\u001b[0;32m    167\u001b[0m extra_kw[\u001b[38;5;124m\"\u001b[39m\u001b[38;5;124mheaders\u001b[39m\u001b[38;5;124m\"\u001b[39m]\u001b[38;5;241m.\u001b[39mupdate(headers)\n\u001b[0;32m    168\u001b[0m extra_kw\u001b[38;5;241m.\u001b[39mupdate(urlopen_kw)\n\u001b[1;32m--> 170\u001b[0m \u001b[38;5;28;01mreturn\u001b[39;00m \u001b[38;5;28mself\u001b[39m\u001b[38;5;241m.\u001b[39murlopen(method, url, \u001b[38;5;241m*\u001b[39m\u001b[38;5;241m*\u001b[39mextra_kw)\n",
      "File \u001b[1;32m~\\anaconda3\\Lib\\site-packages\\urllib3\\poolmanager.py:376\u001b[0m, in \u001b[0;36mPoolManager.urlopen\u001b[1;34m(self, method, url, redirect, **kw)\u001b[0m\n\u001b[0;32m    374\u001b[0m     response \u001b[38;5;241m=\u001b[39m conn\u001b[38;5;241m.\u001b[39murlopen(method, url, \u001b[38;5;241m*\u001b[39m\u001b[38;5;241m*\u001b[39mkw)\n\u001b[0;32m    375\u001b[0m \u001b[38;5;28;01melse\u001b[39;00m:\n\u001b[1;32m--> 376\u001b[0m     response \u001b[38;5;241m=\u001b[39m conn\u001b[38;5;241m.\u001b[39murlopen(method, u\u001b[38;5;241m.\u001b[39mrequest_uri, \u001b[38;5;241m*\u001b[39m\u001b[38;5;241m*\u001b[39mkw)\n\u001b[0;32m    378\u001b[0m redirect_location \u001b[38;5;241m=\u001b[39m redirect \u001b[38;5;129;01mand\u001b[39;00m response\u001b[38;5;241m.\u001b[39mget_redirect_location()\n\u001b[0;32m    379\u001b[0m \u001b[38;5;28;01mif\u001b[39;00m \u001b[38;5;129;01mnot\u001b[39;00m redirect_location:\n",
      "File \u001b[1;32m~\\anaconda3\\Lib\\site-packages\\urllib3\\connectionpool.py:714\u001b[0m, in \u001b[0;36mHTTPConnectionPool.urlopen\u001b[1;34m(self, method, url, body, headers, retries, redirect, assert_same_host, timeout, pool_timeout, release_conn, chunked, body_pos, **response_kw)\u001b[0m\n\u001b[0;32m    711\u001b[0m     \u001b[38;5;28mself\u001b[39m\u001b[38;5;241m.\u001b[39m_prepare_proxy(conn)\n\u001b[0;32m    713\u001b[0m \u001b[38;5;66;03m# Make the request on the httplib connection object.\u001b[39;00m\n\u001b[1;32m--> 714\u001b[0m httplib_response \u001b[38;5;241m=\u001b[39m \u001b[38;5;28mself\u001b[39m\u001b[38;5;241m.\u001b[39m_make_request(\n\u001b[0;32m    715\u001b[0m     conn,\n\u001b[0;32m    716\u001b[0m     method,\n\u001b[0;32m    717\u001b[0m     url,\n\u001b[0;32m    718\u001b[0m     timeout\u001b[38;5;241m=\u001b[39mtimeout_obj,\n\u001b[0;32m    719\u001b[0m     body\u001b[38;5;241m=\u001b[39mbody,\n\u001b[0;32m    720\u001b[0m     headers\u001b[38;5;241m=\u001b[39mheaders,\n\u001b[0;32m    721\u001b[0m     chunked\u001b[38;5;241m=\u001b[39mchunked,\n\u001b[0;32m    722\u001b[0m )\n\u001b[0;32m    724\u001b[0m \u001b[38;5;66;03m# If we're going to release the connection in ``finally:``, then\u001b[39;00m\n\u001b[0;32m    725\u001b[0m \u001b[38;5;66;03m# the response doesn't need to know about the connection. Otherwise\u001b[39;00m\n\u001b[0;32m    726\u001b[0m \u001b[38;5;66;03m# it will also try to release it and we'll have a double-release\u001b[39;00m\n\u001b[0;32m    727\u001b[0m \u001b[38;5;66;03m# mess.\u001b[39;00m\n\u001b[0;32m    728\u001b[0m response_conn \u001b[38;5;241m=\u001b[39m conn \u001b[38;5;28;01mif\u001b[39;00m \u001b[38;5;129;01mnot\u001b[39;00m release_conn \u001b[38;5;28;01melse\u001b[39;00m \u001b[38;5;28;01mNone\u001b[39;00m\n",
      "File \u001b[1;32m~\\anaconda3\\Lib\\site-packages\\urllib3\\connectionpool.py:466\u001b[0m, in \u001b[0;36mHTTPConnectionPool._make_request\u001b[1;34m(self, conn, method, url, timeout, chunked, **httplib_request_kw)\u001b[0m\n\u001b[0;32m    461\u001b[0m             httplib_response \u001b[38;5;241m=\u001b[39m conn\u001b[38;5;241m.\u001b[39mgetresponse()\n\u001b[0;32m    462\u001b[0m         \u001b[38;5;28;01mexcept\u001b[39;00m \u001b[38;5;167;01mBaseException\u001b[39;00m \u001b[38;5;28;01mas\u001b[39;00m e:\n\u001b[0;32m    463\u001b[0m             \u001b[38;5;66;03m# Remove the TypeError from the exception chain in\u001b[39;00m\n\u001b[0;32m    464\u001b[0m             \u001b[38;5;66;03m# Python 3 (including for exceptions like SystemExit).\u001b[39;00m\n\u001b[0;32m    465\u001b[0m             \u001b[38;5;66;03m# Otherwise it looks like a bug in the code.\u001b[39;00m\n\u001b[1;32m--> 466\u001b[0m             six\u001b[38;5;241m.\u001b[39mraise_from(e, \u001b[38;5;28;01mNone\u001b[39;00m)\n\u001b[0;32m    467\u001b[0m \u001b[38;5;28;01mexcept\u001b[39;00m (SocketTimeout, BaseSSLError, SocketError) \u001b[38;5;28;01mas\u001b[39;00m e:\n\u001b[0;32m    468\u001b[0m     \u001b[38;5;28mself\u001b[39m\u001b[38;5;241m.\u001b[39m_raise_timeout(err\u001b[38;5;241m=\u001b[39me, url\u001b[38;5;241m=\u001b[39murl, timeout_value\u001b[38;5;241m=\u001b[39mread_timeout)\n",
      "File \u001b[1;32m<string>:3\u001b[0m, in \u001b[0;36mraise_from\u001b[1;34m(value, from_value)\u001b[0m\n",
      "File \u001b[1;32m~\\anaconda3\\Lib\\site-packages\\urllib3\\connectionpool.py:461\u001b[0m, in \u001b[0;36mHTTPConnectionPool._make_request\u001b[1;34m(self, conn, method, url, timeout, chunked, **httplib_request_kw)\u001b[0m\n\u001b[0;32m    458\u001b[0m \u001b[38;5;28;01mexcept\u001b[39;00m \u001b[38;5;167;01mTypeError\u001b[39;00m:\n\u001b[0;32m    459\u001b[0m     \u001b[38;5;66;03m# Python 3\u001b[39;00m\n\u001b[0;32m    460\u001b[0m     \u001b[38;5;28;01mtry\u001b[39;00m:\n\u001b[1;32m--> 461\u001b[0m         httplib_response \u001b[38;5;241m=\u001b[39m conn\u001b[38;5;241m.\u001b[39mgetresponse()\n\u001b[0;32m    462\u001b[0m     \u001b[38;5;28;01mexcept\u001b[39;00m \u001b[38;5;167;01mBaseException\u001b[39;00m \u001b[38;5;28;01mas\u001b[39;00m e:\n\u001b[0;32m    463\u001b[0m         \u001b[38;5;66;03m# Remove the TypeError from the exception chain in\u001b[39;00m\n\u001b[0;32m    464\u001b[0m         \u001b[38;5;66;03m# Python 3 (including for exceptions like SystemExit).\u001b[39;00m\n\u001b[0;32m    465\u001b[0m         \u001b[38;5;66;03m# Otherwise it looks like a bug in the code.\u001b[39;00m\n\u001b[0;32m    466\u001b[0m         six\u001b[38;5;241m.\u001b[39mraise_from(e, \u001b[38;5;28;01mNone\u001b[39;00m)\n",
      "File \u001b[1;32m~\\anaconda3\\Lib\\http\\client.py:1378\u001b[0m, in \u001b[0;36mHTTPConnection.getresponse\u001b[1;34m(self)\u001b[0m\n\u001b[0;32m   1376\u001b[0m \u001b[38;5;28;01mtry\u001b[39;00m:\n\u001b[0;32m   1377\u001b[0m     \u001b[38;5;28;01mtry\u001b[39;00m:\n\u001b[1;32m-> 1378\u001b[0m         response\u001b[38;5;241m.\u001b[39mbegin()\n\u001b[0;32m   1379\u001b[0m     \u001b[38;5;28;01mexcept\u001b[39;00m \u001b[38;5;167;01mConnectionError\u001b[39;00m:\n\u001b[0;32m   1380\u001b[0m         \u001b[38;5;28mself\u001b[39m\u001b[38;5;241m.\u001b[39mclose()\n",
      "File \u001b[1;32m~\\anaconda3\\Lib\\http\\client.py:318\u001b[0m, in \u001b[0;36mHTTPResponse.begin\u001b[1;34m(self)\u001b[0m\n\u001b[0;32m    316\u001b[0m \u001b[38;5;66;03m# read until we get a non-100 response\u001b[39;00m\n\u001b[0;32m    317\u001b[0m \u001b[38;5;28;01mwhile\u001b[39;00m \u001b[38;5;28;01mTrue\u001b[39;00m:\n\u001b[1;32m--> 318\u001b[0m     version, status, reason \u001b[38;5;241m=\u001b[39m \u001b[38;5;28mself\u001b[39m\u001b[38;5;241m.\u001b[39m_read_status()\n\u001b[0;32m    319\u001b[0m     \u001b[38;5;28;01mif\u001b[39;00m status \u001b[38;5;241m!=\u001b[39m CONTINUE:\n\u001b[0;32m    320\u001b[0m         \u001b[38;5;28;01mbreak\u001b[39;00m\n",
      "File \u001b[1;32m~\\anaconda3\\Lib\\http\\client.py:279\u001b[0m, in \u001b[0;36mHTTPResponse._read_status\u001b[1;34m(self)\u001b[0m\n\u001b[0;32m    278\u001b[0m \u001b[38;5;28;01mdef\u001b[39;00m \u001b[38;5;21m_read_status\u001b[39m(\u001b[38;5;28mself\u001b[39m):\n\u001b[1;32m--> 279\u001b[0m     line \u001b[38;5;241m=\u001b[39m \u001b[38;5;28mstr\u001b[39m(\u001b[38;5;28mself\u001b[39m\u001b[38;5;241m.\u001b[39mfp\u001b[38;5;241m.\u001b[39mreadline(_MAXLINE \u001b[38;5;241m+\u001b[39m \u001b[38;5;241m1\u001b[39m), \u001b[38;5;124m\"\u001b[39m\u001b[38;5;124miso-8859-1\u001b[39m\u001b[38;5;124m\"\u001b[39m)\n\u001b[0;32m    280\u001b[0m     \u001b[38;5;28;01mif\u001b[39;00m \u001b[38;5;28mlen\u001b[39m(line) \u001b[38;5;241m>\u001b[39m _MAXLINE:\n\u001b[0;32m    281\u001b[0m         \u001b[38;5;28;01mraise\u001b[39;00m LineTooLong(\u001b[38;5;124m\"\u001b[39m\u001b[38;5;124mstatus line\u001b[39m\u001b[38;5;124m\"\u001b[39m)\n",
      "File \u001b[1;32m~\\anaconda3\\Lib\\socket.py:706\u001b[0m, in \u001b[0;36mSocketIO.readinto\u001b[1;34m(self, b)\u001b[0m\n\u001b[0;32m    704\u001b[0m \u001b[38;5;28;01mwhile\u001b[39;00m \u001b[38;5;28;01mTrue\u001b[39;00m:\n\u001b[0;32m    705\u001b[0m     \u001b[38;5;28;01mtry\u001b[39;00m:\n\u001b[1;32m--> 706\u001b[0m         \u001b[38;5;28;01mreturn\u001b[39;00m \u001b[38;5;28mself\u001b[39m\u001b[38;5;241m.\u001b[39m_sock\u001b[38;5;241m.\u001b[39mrecv_into(b)\n\u001b[0;32m    707\u001b[0m     \u001b[38;5;28;01mexcept\u001b[39;00m timeout:\n\u001b[0;32m    708\u001b[0m         \u001b[38;5;28mself\u001b[39m\u001b[38;5;241m.\u001b[39m_timeout_occurred \u001b[38;5;241m=\u001b[39m \u001b[38;5;28;01mTrue\u001b[39;00m\n",
      "\u001b[1;31mKeyboardInterrupt\u001b[0m: "
     ]
    }
   ],
   "source": [
    "# 크롤링 시작\n",
    "for seq in seq_df.seq[ntime:]:\n",
    "    url = f'https://prod.danawa.com/info/?pcode={seq}&cate={category}'\n",
    "    driver.get(url)\n",
    "    driver.implicitly_wait(10)\n",
    "    \n",
    "    time.sleep(waiting_sec)\n",
    "    soup = BeautifulSoup(driver.page_source, 'html.parser')\n",
    "    \n",
    "    spec_tbl = soup.select(\"#productDescriptionArea > div > div.prod_spec > table > tbody\")\n",
    "    spec_tbl_tit = soup.select(\"#productDescriptionArea > div > div.prod_spec > table > tbody > tr > th.tit\")\n",
    "    spec_tbl_dsc = soup.select(\"#productDescriptionArea > div > div.prod_spec > table > tbody > tr > td.dsc\")\n",
    "    name = soup.select_one(\"#blog_content > div.summary_info > div.top_summary > h3 > span\")\n",
    "    price = soup.select_one(\"#blog_content > div.summary_info > div.detail_summary > div.summary_left > div.lowest_area > div.lowest_top > div.row.lowest_price > span.lwst_prc > a > em\")\n",
    "    image_url = soup.select_one(\"#baseImage\")\n",
    "    led_color_u = soup.select_one(\"#blog_content > div.summary_info > div.top_summary > div > div.sub_dsc > div > dl > dd > div > div > span > u:-soup-contains('LED 색상')\")\n",
    "    led_color = None\n",
    "    if led_color_u is not None:\n",
    "        led_color = led_color_u.find_parent().find_next_sibling().get_text()\n",
    "    tbl = zip(spec_tbl_tit, spec_tbl_dsc)\n",
    "\n",
    "    info = dict()\n",
    "    info['제품명'] = name.get_text()\n",
    "    info['최저가'] = price.get_text() if price is not None else None\n",
    "    info['링크'] = url\n",
    "    info['이미지'] = image_url['src']\n",
    "    for tit, dsc in tbl:\n",
    "        text = dsc.get_text()\n",
    "        text = text.replace('\\n','')\n",
    "        text = text.replace('\\t','')\n",
    "        text = text.replace('(제조사 웹사이트 바로가기)','')\n",
    "        info[tit.get_text()] = text.strip()\n",
    "    \n",
    "    bs_bit = 0\n",
    "    ep_bit = 0\n",
    "    feat_bit = 0\n",
    "\n",
    "    if len(case['name']) >= ntime:\n",
    "        for key in case.keys(): case[key] = case[key][:ntime]\n",
    "    case['name'].append(name.get_text())\n",
    "    case['price'].append(price.get_text().replace(',', '') if price is not None else None)\n",
    "    case['link'].append(url)\n",
    "    case['company'].append(info.get('제조회사'))\n",
    "    case['product_seq'].append(seq)\n",
    "    case['image'].append(image_url['src'])\n",
    "    case['category'].append(info.get('제품 분류'))\n",
    "    case['size'].append(info.get('케이스 크기'))\n",
    "    case['power_included'].append(info.get('파워포함여부'))\n",
    "    case['power_support'].append(info.get('지원파워규격'))\n",
    "    for i in range(len(bs_bitmask)):\n",
    "        if bs_bitmask[i] in info.keys(): bs_bit |= 1 << i\n",
    "    case['board_support'].append(bs_bit)\n",
    "    case['bay_133'].append(info.get('13.3cm베이').replace('개', '')\n",
    "                           if '13.3cm베이' in info.keys() else None)\n",
    "    case['bay_89'].append(info.get('8.9cm베이').replace('개', '')\n",
    "                           if '8.9cm베이' in info.keys() else None)\n",
    "    case['bay_64'].append(info.get('6.4cm베이').replace('개', '')\n",
    "                           if '6.4cm베이' in info.keys() else None)\n",
    "    pci_h = re.sub('(개| |이하|LP|타입|\\([^)]*\\))', '', info.get('PCI 슬롯(수평)')) if 'PCI 슬롯(수평)' in info.keys() else None\n",
    "    case['pci_horizontal'].append(eval(pci_h) if pci_h != None else None)\n",
    "    case['pci_vertical'].append(info.get('PCI 슬롯(수직)').replace('개', '')\n",
    "                                if 'PCI 슬롯(수직)' in info.keys() else None)\n",
    "    case['cooling_fan'].append(re.sub('(총|개)', '', info.get('쿨링팬'))\n",
    "                               if '쿨링팬' in info.keys() else None)\n",
    "    case['led_fan'].append(info.get('LED팬').replace('개', '') if 'LED팬' in info.keys() else None)\n",
    "    case['front_type'].append(info.get('전면 패널 타입'))\n",
    "    case['side_open'].append(info.get('측면 개폐 방식'))\n",
    "    case['side_type'].append(info.get('측면'))\n",
    "    case['back_vent'].append(info.get('후면'))\n",
    "    case['front_vent'].append(info.get('전면'))\n",
    "    case['top_vent'].append(info.get('상단'))\n",
    "    case['bottom_vent'].append(info.get('하단'))\n",
    "    for i in range(len(ep_bitmask)):\n",
    "        if ep_bitmask[i] in info.keys(): ep_bit |= 1 << i\n",
    "    case['external_port'].append(ep_bit)\n",
    "    case['width'].append(info.get('너비(W)').replace('mm' ,'')\n",
    "                         if '너비(W)' in info.keys() else None)\n",
    "    case['height'].append(info.get('높이(H)').replace('mm' ,'')\n",
    "                          if '높이(H)' in info.keys() else None)\n",
    "    case['depth'].append(info.get('깊이(D)').replace('mm' ,'')\n",
    "                         if '깊이(D)' in info.keys() else None)\n",
    "    case['gpu_size'].append(info.get('GPU 장착').replace('mm' ,'')\n",
    "                            if 'GPU 장착' in info.keys() else None)\n",
    "    case['cpu_cooler_size'].append(info.get('CPU쿨러 장착').replace('mm' ,'')\n",
    "                         if 'CPU쿨러 장착' in info.keys() else None)\n",
    "    case['power_size'].append(info.get('파워 장착').replace('mm' ,'')\n",
    "                         if '파워 장착' in info.keys() else None)\n",
    "    case['liquid_cooler'].append(re.sub('(최대|열 지원)', '', info.get('수랭쿨러 규격'))\n",
    "                                 if '수랭쿨러 규격' in info.keys() else None)\n",
    "    case['radiator_top'].append(max(list(map(int, re.sub('(최대| |mm|\\([^)]*\\))', '', info.get('라디에이터(상단)')).split(','))))\n",
    "                                if '라디에이터(상단)' in info.keys() else None)\n",
    "    case['radiator_front'].append(max(list(map(int, re.sub('(최대| |mm|x2|x3|\\([^)]*\\))', '', info.get('라디에이터(전면)')).split(','))))\n",
    "                                  if '라디에이터(전면)' in info.keys() else None)\n",
    "    case['radiator_rear'].append(max(list(map(int, re.sub('(최대| |mm|\\([^)]*\\))', '', info.get('라디에이터(후면)')).split(','))))\n",
    "                                 if '라디에이터(후면)' in info.keys() else None)\n",
    "    case['radiator_side'].append(max(list(map(int, re.sub('(최대| |mm|\\([^)]*\\))', '', info.get('라디에이터(측면)')).split(','))))\n",
    "                                 if '라디에이터(측면)' in info.keys() else None)\n",
    "    for i in range(len(feat_bitmask)):\n",
    "        if feat_bitmask[i] in info.keys(): feat_bit |= 1 << i\n",
    "    case['feature'].append(feat_bit)\n",
    "    case['led_color'].append(led_color)\n",
    "    case['reg_date'].append(re.sub('(년| |월)', '', info.get('등록년월')))\n",
    "    case['bookmark'].append(None)\n",
    "    \n",
    "    ## 테스트용\n",
    "    ntime += 1\n",
    "    rest_time = (time.time() - start) / ntime * (total - ntime)\n",
    "    print(f'\\r{ntime}/{total} ({ntime/total*100:.2f}%) (남은 시간: {rest_time:.0f}s)', end='')\n",
    "    if ntime == 3: break\n",
    "    \n",
    "end = time.time()\n",
    "print(f'\\n걸린 시간: {end-start:.2f} sec')\n",
    "driver.quit()\n",
    "# 크롤링 끝"
   ]
  },
  {
   "cell_type": "code",
   "execution_count": 24,
   "id": "cc8af698",
   "metadata": {
    "tags": []
   },
   "outputs": [],
   "source": [
    "# 파일 저장\n",
    "if save_file:\n",
    "    today = time.strftime('%y%m%d')\n",
    "    pd.DataFrame(case).to_csv(f'case{today}.csv', index=None)"
   ]
  },
  {
   "cell_type": "code",
   "execution_count": null,
   "id": "ac98c702",
   "metadata": {
    "tags": []
   },
   "outputs": [],
   "source": [
    "for key in case.keys():\n",
    "    print(f'{key}: {len(case[key])}')"
   ]
  },
  {
   "cell_type": "code",
   "execution_count": 22,
   "id": "a0e949ec-6947-4b16-8b2f-833b82d98413",
   "metadata": {
    "tags": []
   },
   "outputs": [],
   "source": [
    "a"
   ]
  },
  {
   "cell_type": "code",
   "execution_count": null,
   "id": "b7431e14-0759-495a-bf7b-a82ea370a605",
   "metadata": {},
   "outputs": [],
   "source": []
  }
 ],
 "metadata": {
  "kernelspec": {
   "display_name": "Python 3 (ipykernel)",
   "language": "python",
   "name": "python3"
  },
  "language_info": {
   "codemirror_mode": {
    "name": "ipython",
    "version": 3
   },
   "file_extension": ".py",
   "mimetype": "text/x-python",
   "name": "python",
   "nbconvert_exporter": "python",
   "pygments_lexer": "ipython3",
   "version": "3.11.4"
  }
 },
 "nbformat": 4,
 "nbformat_minor": 5
}
