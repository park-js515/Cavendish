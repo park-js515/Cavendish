{
 "cells": [
  {
   "cell_type": "code",
   "execution_count": 61,
   "id": "9697bf03-1731-43dc-ac97-fb49847ce56b",
   "metadata": {
    "tags": []
   },
   "outputs": [],
   "source": [
    "import pandas as pd\n",
    "import numpy as np\n",
    "\n",
    "import matplotlib.pyplot as plt\n",
    "\n",
    "from sklearn.cluster import KMeans"
   ]
  },
  {
   "cell_type": "code",
   "execution_count": 62,
   "id": "860aedd9-7775-4182-a347-52136300338f",
   "metadata": {
    "tags": []
   },
   "outputs": [
    {
     "name": "stdout",
     "output_type": "stream",
     "text": [
      "len: 1080\n"
     ]
    },
    {
     "data": {
      "text/html": [
       "<div>\n",
       "<style scoped>\n",
       "    .dataframe tbody tr th:only-of-type {\n",
       "        vertical-align: middle;\n",
       "    }\n",
       "\n",
       "    .dataframe tbody tr th {\n",
       "        vertical-align: top;\n",
       "    }\n",
       "\n",
       "    .dataframe thead th {\n",
       "        text-align: right;\n",
       "    }\n",
       "</style>\n",
       "<table border=\"1\" class=\"dataframe\">\n",
       "  <thead>\n",
       "    <tr style=\"text-align: right;\">\n",
       "      <th></th>\n",
       "      <th>cpu</th>\n",
       "      <th>mainboard</th>\n",
       "      <th>ram</th>\n",
       "      <th>gpu</th>\n",
       "      <th>case</th>\n",
       "      <th>power</th>\n",
       "      <th>cooler</th>\n",
       "      <th>ssd</th>\n",
       "    </tr>\n",
       "  </thead>\n",
       "  <tbody>\n",
       "    <tr>\n",
       "      <th>0</th>\n",
       "      <td>18640280.0</td>\n",
       "      <td>18652877.0</td>\n",
       "      <td>16443341.0</td>\n",
       "      <td>27613427.0</td>\n",
       "      <td>21583046.0</td>\n",
       "      <td>19813847.0</td>\n",
       "      <td>21550985.0</td>\n",
       "      <td>12338942.0</td>\n",
       "    </tr>\n",
       "    <tr>\n",
       "      <th>1</th>\n",
       "      <td>18039569.0</td>\n",
       "      <td>18652877.0</td>\n",
       "      <td>18700841.0</td>\n",
       "      <td>18021914.0</td>\n",
       "      <td>18419840.0</td>\n",
       "      <td>19023932.0</td>\n",
       "      <td>NaN</td>\n",
       "      <td>13538642.0</td>\n",
       "    </tr>\n",
       "    <tr>\n",
       "      <th>2</th>\n",
       "      <td>19627808.0</td>\n",
       "      <td>18021440.0</td>\n",
       "      <td>18911780.0</td>\n",
       "      <td>18668606.0</td>\n",
       "      <td>12969350.0</td>\n",
       "      <td>21206702.0</td>\n",
       "      <td>18714860.0</td>\n",
       "      <td>17454683.0</td>\n",
       "    </tr>\n",
       "    <tr>\n",
       "      <th>3</th>\n",
       "      <td>19174175.0</td>\n",
       "      <td>21628184.0</td>\n",
       "      <td>18911780.0</td>\n",
       "      <td>21629063.0</td>\n",
       "      <td>NaN</td>\n",
       "      <td>19814027.0</td>\n",
       "      <td>NaN</td>\n",
       "      <td>17001050.0</td>\n",
       "    </tr>\n",
       "    <tr>\n",
       "      <th>4</th>\n",
       "      <td>17913710.0</td>\n",
       "      <td>18021491.0</td>\n",
       "      <td>18911780.0</td>\n",
       "      <td>18303401.0</td>\n",
       "      <td>16571885.0</td>\n",
       "      <td>18442058.0</td>\n",
       "      <td>18076145.0</td>\n",
       "      <td>16587443.0</td>\n",
       "    </tr>\n",
       "  </tbody>\n",
       "</table>\n",
       "</div>"
      ],
      "text/plain": [
       "          cpu   mainboard         ram         gpu        case       power  \\\n",
       "0  18640280.0  18652877.0  16443341.0  27613427.0  21583046.0  19813847.0   \n",
       "1  18039569.0  18652877.0  18700841.0  18021914.0  18419840.0  19023932.0   \n",
       "2  19627808.0  18021440.0  18911780.0  18668606.0  12969350.0  21206702.0   \n",
       "3  19174175.0  21628184.0  18911780.0  21629063.0         NaN  19814027.0   \n",
       "4  17913710.0  18021491.0  18911780.0  18303401.0  16571885.0  18442058.0   \n",
       "\n",
       "       cooler         ssd  \n",
       "0  21550985.0  12338942.0  \n",
       "1         NaN  13538642.0  \n",
       "2  18714860.0  17454683.0  \n",
       "3         NaN  17001050.0  \n",
       "4  18076145.0  16587443.0  "
      ]
     },
     "execution_count": 62,
     "metadata": {},
     "output_type": "execute_result"
    }
   ],
   "source": [
    "quotations = pd.read_csv(\"../quotations231001.csv\").drop(columns='sys_cooler')\n",
    "print('len:', len(quotations))\n",
    "quotations.head()"
   ]
  },
  {
   "cell_type": "code",
   "execution_count": 63,
   "id": "28954021-b049-47ac-8afd-7ac341cb807e",
   "metadata": {
    "tags": []
   },
   "outputs": [],
   "source": [
    "cpus = quotations.cpu"
   ]
  },
  {
   "cell_type": "code",
   "execution_count": 64,
   "id": "b786d9a6-5af7-453a-bc53-df8da7683757",
   "metadata": {
    "tags": []
   },
   "outputs": [],
   "source": [
    "cpu_df = pd.read_csv(\"../part_cpu_wb230922.csv\")\n",
    "mainboard_df = pd.read_csv(\"../part_mainboard230926.csv\")\n",
    "ram_df = pd.read_csv(\"../part_ram230921.csv\")\n",
    "gpu_df = pd.read_csv(\"../part_gpu_wb230921.csv\")\n",
    "case_df = pd.read_csv(\"../part_case230920.csv\")\n",
    "power_df = pd.read_csv(\"../part_power230920.csv\")\n",
    "cooler_df = pd.read_csv(\"../part_cooler230920.csv\")\n",
    "ssd_df = pd.read_csv(\"../part_ssd230926.csv\")"
   ]
  },
  {
   "cell_type": "code",
   "execution_count": 65,
   "id": "2dd99753-57c4-4fcb-9004-8fed073e059d",
   "metadata": {
    "tags": []
   },
   "outputs": [],
   "source": [
    "mcb = max(cpu_df['bench_mark'])\n",
    "mgb = max(gpu_df['bench_mark'])\n",
    "mrc = max(ram_df['capacity'])\n",
    "mncb = min(cpu_df['bench_mark'])\n",
    "mngb = min(gpu_df['bench_mark'])\n",
    "mnrc = min(ram_df['capacity'])\n",
    "mmp = max(mainboard_df['price'])\n",
    "mnmp = min(mainboard_df['price'])\n",
    "mpp = max(power_df['price'])\n",
    "mnpp = min(power_df['price'])\n",
    "mcap = max(case_df['price'])\n",
    "mncap = min(case_df['price'])\n",
    "mcop = max(cooler_df['price'])\n",
    "mncop = min(cooler_df['price'])\n",
    "msp = max(ssd_df['price'])\n",
    "mnsp = min(ssd_df['price'])"
   ]
  },
  {
   "cell_type": "code",
   "execution_count": 99,
   "id": "91cc3f76-50bb-47ec-96c9-cbeb1c64c0ba",
   "metadata": {
    "tags": []
   },
   "outputs": [],
   "source": [
    "prices_r = dict({'cpu': [], 'gpu': [], 'ram': [], 'mainboard': [], 'power': [], 'case': [], 'cooler': [], 'ssd': [], 'total': []})\n",
    "prices = dict({'cpu': [], 'gpu': [], 'ram': [], 'total': []})\n",
    "pseqs = dict({'cpu': [], 'gpu': [], 'ram': [], 'mainboard': [], 'power': [], 'case': [], 'cooler': [], 'ssd': []})\n",
    "# bench_r = dict({'cpu': [], 'gpu': [], 'ram': []})\n",
    "bench_r = dict({'cpu': [], 'gpu': [], 'ram': [], 'total': []})\n",
    "bench_rr = dict({'cpu': [], 'gpu': [], 'ram': [], 'total': []})\n",
    "\n",
    "for row in quotations.values:\n",
    "    try:\n",
    "        cpu_price = cpu_df.loc[cpu_df['product_seq'] == row[0], 'price'].iloc[0]\n",
    "        ram_price = ram_df.loc[ram_df['product_seq'] == row[2], 'price'].iloc[0]\n",
    "        gpu_price = gpu_df.loc[gpu_df['product_seq'] == row[3], 'price'].iloc[0]\n",
    "        mainboard_price = mainboard_df.loc[mainboard_df['product_seq'] == row[1], 'price']\n",
    "        case_price = case_df.loc[case_df['product_seq'] == row[4], 'price']\n",
    "        power_price = power_df.loc[power_df['product_seq'] == row[5], 'price']\n",
    "        cooler_price = cooler_df.loc[cooler_df['product_seq'] == row[6], 'price']\n",
    "        ssd_price = ssd_df.loc[ssd_df['product_seq'] == row[7], 'price']\n",
    "        \n",
    "        cpu_bench = cpu_df.loc[cpu_df['product_seq'] == row[0], 'bench_mark'].iloc[0]\n",
    "        ram_capa = ram_df.loc[ram_df['product_seq'] == row[2], 'capacity'].iloc[0]\n",
    "        gpu_bench = gpu_df.loc[gpu_df['product_seq'] == row[3], 'bench_mark'].iloc[0]\n",
    "\n",
    "        others = []\n",
    "        others.append(mainboard_df.loc[mainboard_df['product_seq'] == row[1], 'price'])\n",
    "        others.append(case_df.loc[case_df['product_seq'] == row[4], 'price'])\n",
    "        others.append(power_df.loc[power_df['product_seq'] == row[5], 'price'])\n",
    "        others.append(cooler_df.loc[cooler_df['product_seq'] == row[6], 'price'])\n",
    "        others.append(ssd_df.loc[ssd_df['product_seq'] == row[7], 'price'])\n",
    "        \n",
    "        total = cpu_price+gpu_price+ram_price\n",
    "        for o in others:\n",
    "            if not o.empty: total += o.iloc[0]\n",
    "        if np.isnan(total) or np.isnan(gpu_price) or np.isnan(ram_price): continue\n",
    "        prices_r['cpu'].append(cpu_price / total)\n",
    "        prices_r['gpu'].append(gpu_price / total)\n",
    "        prices_r['ram'].append(ram_price / total)\n",
    "        # prices_r['mainboard'].append(mainboard_price / total)\n",
    "        # prices_r['case'].append(case_price / total)\n",
    "        # prices_r['cooler'].append(cooler_price / total)\n",
    "        # prices_r['ssd'].append(ssd_price / total)\n",
    "        # prices_r['power'].append(power_price / total)\n",
    "        prices_r['total'].append(np.log(total / 10000000))\n",
    "        \n",
    "        bench_r['cpu'].append(np.log((cpu_bench - mncb) / (mcb - mncb) + 1))\n",
    "        bench_r['gpu'].append(np.log((gpu_bench - mngb) / (mgb - mngb) + 1))\n",
    "        bench_r['ram'].append(np.log((ram_capa - mnrc) / (mrc - mnrc) + 1))\n",
    "        bench_r['total'].append(np.log(total / 10000000 + 2))\n",
    "        \n",
    "        clog = np.log((cpu_bench - mncb) / (mcb - mncb) + 1)\n",
    "        glog = np.log((gpu_bench - mngb) / (mgb - mngb) + 1)\n",
    "        rlog = np.log((ram_capa - mnrc) / (mrc - mnrc) + 1)\n",
    "        tlog = np.log(total / 10000000 + 2)\n",
    "        total_log = clog + glog + rlog\n",
    "        bench_rr['cpu'].append(clog / total_log)\n",
    "        bench_rr['gpu'].append(glog / total_log)\n",
    "        bench_rr['ram'].append(rlog / total_log)\n",
    "        bench_rr['total'].append(tlog / total_log)\n",
    "        \n",
    "        prices['cpu'].append(cpu_price)\n",
    "        prices['gpu'].append(gpu_price)\n",
    "        prices['ram'].append(ram_price)\n",
    "        prices['mainboard'].append(mainboard_price)\n",
    "        prices['case'].append(case_price)\n",
    "        prices['cooler'].append(cooler_price)\n",
    "        prices['ssd'].append(ssd_price)\n",
    "        prices['power'].append(power_price)\n",
    "        \n",
    "        prices['total'].append(total)\n",
    "        \n",
    "        pseqs['cpu'].append(cpu_df.loc[cpu_df['product_seq'] == row[0], 'product_seq'].iloc[0])\n",
    "        pseqs['gpu'].append(gpu_df.loc[gpu_df['product_seq'] == row[2], 'product_seq'].iloc[0])\n",
    "        pseqs['ram'].append(ram_df.loc[ram_df['product_seq'] == row[3], 'product_seq'].iloc[0])\n",
    "        pseqs['mainboard'].append(mainboard_df.loc[mainboard_df['product_seq'] == row[1], 'price'].iloc[0])\n",
    "        pseqs['power'].append(power_df.loc[power_df['product_seq'] == row[5], 'price'].iloc[0])\n",
    "        pseqs['case'].append(case_df.loc[case_df['product_seq'] == row[4], 'price'].iloc[0])\n",
    "        pseqs['cooler'].append(cooler_df.loc[cooler_df['product_seq'] == row[6], 'price'].iloc[0])\n",
    "        pseqs['ssd'].append(ssd_df.loc[ssd_df['product_seq'] == row[7], 'price'].iloc[0])\n",
    "        \n",
    "    except Exception as e:\n",
    "        continue"
   ]
  },
  {
   "cell_type": "code",
   "execution_count": 100,
   "id": "527a1dc0-7559-4871-8aab-b159bda6d54f",
   "metadata": {
    "tags": []
   },
   "outputs": [
    {
     "name": "stdout",
     "output_type": "stream",
     "text": [
      "430\n",
      "430\n",
      "430\n",
      "430\n"
     ]
    }
   ],
   "source": [
    "for i in bench_rr:\n",
    "    print(len(bench_rr[i]))"
   ]
  },
  {
   "cell_type": "code",
   "execution_count": 59,
   "id": "92e5f42e-a0ac-46d5-9195-c9763ab8ff2f",
   "metadata": {
    "tags": []
   },
   "outputs": [
    {
     "ename": "ValueError",
     "evalue": "min() arg is an empty sequence",
     "output_type": "error",
     "traceback": [
      "\u001b[1;31m---------------------------------------------------------------------------\u001b[0m",
      "\u001b[1;31mValueError\u001b[0m                                Traceback (most recent call last)",
      "Cell \u001b[1;32mIn[59], line 1\u001b[0m\n\u001b[1;32m----> 1\u001b[0m minc \u001b[38;5;241m=\u001b[39m \u001b[38;5;28mmin\u001b[39m(prices[\u001b[38;5;124m'\u001b[39m\u001b[38;5;124mcpu\u001b[39m\u001b[38;5;124m'\u001b[39m])\n\u001b[0;32m      2\u001b[0m maxc \u001b[38;5;241m=\u001b[39m \u001b[38;5;28mmax\u001b[39m(prices[\u001b[38;5;124m'\u001b[39m\u001b[38;5;124mcpu\u001b[39m\u001b[38;5;124m'\u001b[39m])\n\u001b[0;32m      3\u001b[0m ming \u001b[38;5;241m=\u001b[39m \u001b[38;5;28mmin\u001b[39m(prices[\u001b[38;5;124m'\u001b[39m\u001b[38;5;124mgpu\u001b[39m\u001b[38;5;124m'\u001b[39m])\n",
      "\u001b[1;31mValueError\u001b[0m: min() arg is an empty sequence"
     ]
    }
   ],
   "source": [
    "minc = min(prices['cpu'])\n",
    "maxc = max(prices['cpu'])\n",
    "ming = min(prices['gpu'])\n",
    "maxg = max(prices['gpu'])\n",
    "minr = min(prices['ram'])\n",
    "maxr = max(prices['ram'])\n",
    "mint = min(prices['total'])\n",
    "maxt = max(prices['total'])"
   ]
  },
  {
   "cell_type": "code",
   "execution_count": 10,
   "id": "4b77b0fd-5c85-41af-b734-6a1a1799d4df",
   "metadata": {
    "tags": []
   },
   "outputs": [],
   "source": [
    "cpn = [(x - minc) / (maxc - minc) for x in prices['cpu']]\n",
    "gpn = [(x - ming) / (maxg - ming) for x in prices['gpu']]\n",
    "rpn = [(x - minr) / (maxr - minr) for x in prices['ram']]\n",
    "tpn = [(x - mint) / (maxt - mint) for x in prices['total']]"
   ]
  },
  {
   "cell_type": "code",
   "execution_count": 11,
   "id": "8e7955bb-a7d9-40a1-9fd0-bf2b48a7b942",
   "metadata": {
    "tags": []
   },
   "outputs": [],
   "source": [
    "for t in prices['cpu']:\n",
    "    if np.isnan(t):\n",
    "        print(t)"
   ]
  },
  {
   "cell_type": "markdown",
   "id": "0aede9d9-e22f-4405-ab95-71b95a7efdc2",
   "metadata": {},
   "source": [
    "# 프로그램 사양 분석"
   ]
  },
  {
   "cell_type": "code",
   "execution_count": 25,
   "id": "69eb930d-ca05-46f2-93f7-668bd1e00b1a",
   "metadata": {
    "tags": []
   },
   "outputs": [],
   "source": [
    "gp = pd.read_csv('../gameprograms230921.csv')\n",
    "ep = pd.read_csv('../etc_programs_utf.csv')\n",
    "gr = pd.read_csv(f'../gamerequirements230926.csv')\n",
    "er = pd.read_csv(f'../etc_requirements231002.csv')"
   ]
  },
  {
   "cell_type": "code",
   "execution_count": 26,
   "id": "bf3ca42e-0118-4e94-8c2e-7cfe46c00756",
   "metadata": {
    "tags": []
   },
   "outputs": [],
   "source": [
    "programs = pd.concat([gp, ep], ignore_index=True)\n",
    "reqs = pd.concat([gr, er], ignore_index=True)"
   ]
  },
  {
   "cell_type": "code",
   "execution_count": 27,
   "id": "32210002-9fb1-4c1c-9b1f-a42e7904dae4",
   "metadata": {
    "tags": []
   },
   "outputs": [
    {
     "name": "stdout",
     "output_type": "stream",
     "text": [
      "  CPU |   GPU |  RAM |\n",
      "----------------------\n",
      " 3109 |  2968 |  5.4 | 게임 (12094개)\n",
      " 5852 |  1332 |  3.8 | 사무 (6개)\n",
      " 4874 |     0 |  5.8 | 개발 (16개)\n",
      " 6118 |  1341 | 16.0 | 영상 편집 (12개)\n",
      "25142 | 10948 | 13.6 | 방송 (5개)\n",
      " 7903 |  5386 |  8.4 | 이미지 편집 (15개)\n",
      " 6690 |  3139 | 12.6 | 모델링 (26개)\n",
      " 6461 |  1448 |  7.4 | 인코딩 (8개)\n",
      " 4316 |   200 |  7.5 | 음악 작업 (16개)\n"
     ]
    }
   ],
   "source": [
    "headers = programs.usage.unique()\n",
    "avg_cpu_bench = [0] * len(headers)\n",
    "avg_gpu_bench = [0] * len(headers)\n",
    "avg_ram_capa = [0] * len(headers)\n",
    "total_counts = []\n",
    "\n",
    "for usage in headers:\n",
    "    programs_usage = reqs[reqs['program_id'].isin(programs.loc[programs.usage == usage].index)]\n",
    "    \n",
    "    cpu_bench = 0\n",
    "    gpu_bench = 0\n",
    "    ram_capa = 0\n",
    "    total = len(programs_usage)\n",
    "    \n",
    "    for cid in programs_usage.cpu_id:\n",
    "        cpu_bench += cpu_df.loc[cid-1, 'bench_mark']\n",
    "    \n",
    "    for gid in programs_usage.gpu_id:\n",
    "        if np.isnan(gid): continue\n",
    "        gpu_bench += gpu_df.loc[gid-1, 'bench_mark']\n",
    "        \n",
    "    for rc in programs_usage.ram:\n",
    "        if np.isnan(rc): continue\n",
    "        ram_capa += rc\n",
    "        \n",
    "    avg_cpu_bench[np.where(headers == usage)[0][0]] = cpu_bench / total\n",
    "    avg_gpu_bench[np.where(headers == usage)[0][0]] = gpu_bench / total\n",
    "    avg_ram_capa[np.where(headers == usage)[0][0]] = ram_capa / total\n",
    "    total_counts.append(total)\n",
    "\n",
    "print('  CPU |   GPU |  RAM |')\n",
    "print('----------------------')\n",
    "for h, acb, agb, arc, tt in zip(headers, avg_cpu_bench, avg_gpu_bench, avg_ram_capa, total_counts):\n",
    "    print(f'{acb:5.0f} | {agb:5.0f} | {arc:4.1f} | {h} ({tt}개)')"
   ]
  },
  {
   "cell_type": "markdown",
   "id": "08eb43fc-28fc-43a7-a5c9-dce48eac51ab",
   "metadata": {},
   "source": [
    "# 뚜"
   ]
  },
  {
   "cell_type": "code",
   "execution_count": 56,
   "id": "62234121-5873-4b62-bf31-58acd7c4ae89",
   "metadata": {
    "tags": []
   },
   "outputs": [],
   "source": [
    "bdata = np.array(pd.DataFrame(bench_rr))"
   ]
  },
  {
   "cell_type": "code",
   "execution_count": 57,
   "id": "6c8b6c73-ffb2-4876-a4f4-2f9c2ab1ba5f",
   "metadata": {
    "tags": []
   },
   "outputs": [
    {
     "data": {
      "text/plain": [
       "array([], shape=(0, 9), dtype=float64)"
      ]
     },
     "execution_count": 57,
     "metadata": {},
     "output_type": "execute_result"
    }
   ],
   "source": [
    "bdata"
   ]
  },
  {
   "cell_type": "code",
   "execution_count": 42,
   "id": "81fe29de-560a-4ce4-ad95-75f161ff4979",
   "metadata": {
    "tags": []
   },
   "outputs": [],
   "source": [
    "k = 16\n",
    "model_b = KMeans(n_clusters=k, n_init='auto')"
   ]
  },
  {
   "cell_type": "code",
   "execution_count": 43,
   "id": "90295d83-f3f6-4338-a848-a158d2bd2881",
   "metadata": {
    "tags": []
   },
   "outputs": [
    {
     "name": "stderr",
     "output_type": "stream",
     "text": [
      "C:\\Users\\SSAFY\\anaconda3\\Lib\\site-packages\\sklearn\\cluster\\_kmeans.py:1436: UserWarning: KMeans is known to have a memory leak on Windows with MKL, when there are less chunks than available threads. You can avoid it by setting the environment variable OMP_NUM_THREADS=3.\n",
      "  warnings.warn(\n"
     ]
    },
    {
     "data": {
      "text/html": [
       "<style>#sk-container-id-3 {color: black;}#sk-container-id-3 pre{padding: 0;}#sk-container-id-3 div.sk-toggleable {background-color: white;}#sk-container-id-3 label.sk-toggleable__label {cursor: pointer;display: block;width: 100%;margin-bottom: 0;padding: 0.3em;box-sizing: border-box;text-align: center;}#sk-container-id-3 label.sk-toggleable__label-arrow:before {content: \"▸\";float: left;margin-right: 0.25em;color: #696969;}#sk-container-id-3 label.sk-toggleable__label-arrow:hover:before {color: black;}#sk-container-id-3 div.sk-estimator:hover label.sk-toggleable__label-arrow:before {color: black;}#sk-container-id-3 div.sk-toggleable__content {max-height: 0;max-width: 0;overflow: hidden;text-align: left;background-color: #f0f8ff;}#sk-container-id-3 div.sk-toggleable__content pre {margin: 0.2em;color: black;border-radius: 0.25em;background-color: #f0f8ff;}#sk-container-id-3 input.sk-toggleable__control:checked~div.sk-toggleable__content {max-height: 200px;max-width: 100%;overflow: auto;}#sk-container-id-3 input.sk-toggleable__control:checked~label.sk-toggleable__label-arrow:before {content: \"▾\";}#sk-container-id-3 div.sk-estimator input.sk-toggleable__control:checked~label.sk-toggleable__label {background-color: #d4ebff;}#sk-container-id-3 div.sk-label input.sk-toggleable__control:checked~label.sk-toggleable__label {background-color: #d4ebff;}#sk-container-id-3 input.sk-hidden--visually {border: 0;clip: rect(1px 1px 1px 1px);clip: rect(1px, 1px, 1px, 1px);height: 1px;margin: -1px;overflow: hidden;padding: 0;position: absolute;width: 1px;}#sk-container-id-3 div.sk-estimator {font-family: monospace;background-color: #f0f8ff;border: 1px dotted black;border-radius: 0.25em;box-sizing: border-box;margin-bottom: 0.5em;}#sk-container-id-3 div.sk-estimator:hover {background-color: #d4ebff;}#sk-container-id-3 div.sk-parallel-item::after {content: \"\";width: 100%;border-bottom: 1px solid gray;flex-grow: 1;}#sk-container-id-3 div.sk-label:hover label.sk-toggleable__label {background-color: #d4ebff;}#sk-container-id-3 div.sk-serial::before {content: \"\";position: absolute;border-left: 1px solid gray;box-sizing: border-box;top: 0;bottom: 0;left: 50%;z-index: 0;}#sk-container-id-3 div.sk-serial {display: flex;flex-direction: column;align-items: center;background-color: white;padding-right: 0.2em;padding-left: 0.2em;position: relative;}#sk-container-id-3 div.sk-item {position: relative;z-index: 1;}#sk-container-id-3 div.sk-parallel {display: flex;align-items: stretch;justify-content: center;background-color: white;position: relative;}#sk-container-id-3 div.sk-item::before, #sk-container-id-3 div.sk-parallel-item::before {content: \"\";position: absolute;border-left: 1px solid gray;box-sizing: border-box;top: 0;bottom: 0;left: 50%;z-index: -1;}#sk-container-id-3 div.sk-parallel-item {display: flex;flex-direction: column;z-index: 1;position: relative;background-color: white;}#sk-container-id-3 div.sk-parallel-item:first-child::after {align-self: flex-end;width: 50%;}#sk-container-id-3 div.sk-parallel-item:last-child::after {align-self: flex-start;width: 50%;}#sk-container-id-3 div.sk-parallel-item:only-child::after {width: 0;}#sk-container-id-3 div.sk-dashed-wrapped {border: 1px dashed gray;margin: 0 0.4em 0.5em 0.4em;box-sizing: border-box;padding-bottom: 0.4em;background-color: white;}#sk-container-id-3 div.sk-label label {font-family: monospace;font-weight: bold;display: inline-block;line-height: 1.2em;}#sk-container-id-3 div.sk-label-container {text-align: center;}#sk-container-id-3 div.sk-container {/* jupyter's `normalize.less` sets `[hidden] { display: none; }` but bootstrap.min.css set `[hidden] { display: none !important; }` so we also need the `!important` here to be able to override the default hidden behavior on the sphinx rendered scikit-learn.org. See: https://github.com/scikit-learn/scikit-learn/issues/21755 */display: inline-block !important;position: relative;}#sk-container-id-3 div.sk-text-repr-fallback {display: none;}</style><div id=\"sk-container-id-3\" class=\"sk-top-container\"><div class=\"sk-text-repr-fallback\"><pre>KMeans(n_clusters=16, n_init=&#x27;auto&#x27;)</pre><b>In a Jupyter environment, please rerun this cell to show the HTML representation or trust the notebook. <br />On GitHub, the HTML representation is unable to render, please try loading this page with nbviewer.org.</b></div><div class=\"sk-container\" hidden><div class=\"sk-item\"><div class=\"sk-estimator sk-toggleable\"><input class=\"sk-toggleable__control sk-hidden--visually\" id=\"sk-estimator-id-3\" type=\"checkbox\" checked><label for=\"sk-estimator-id-3\" class=\"sk-toggleable__label sk-toggleable__label-arrow\">KMeans</label><div class=\"sk-toggleable__content\"><pre>KMeans(n_clusters=16, n_init=&#x27;auto&#x27;)</pre></div></div></div></div></div>"
      ],
      "text/plain": [
       "KMeans(n_clusters=16, n_init='auto')"
      ]
     },
     "execution_count": 43,
     "metadata": {},
     "output_type": "execute_result"
    }
   ],
   "source": [
    "model_b.fit(bdata)"
   ]
  },
  {
   "cell_type": "code",
   "execution_count": 44,
   "id": "a232119a-16e2-47f1-af0f-f1af1be2449d",
   "metadata": {
    "tags": []
   },
   "outputs": [],
   "source": [
    "res_b = model_b.predict(bdata)"
   ]
  },
  {
   "cell_type": "code",
   "execution_count": 45,
   "id": "bbea40b4-a46e-461c-bcea-3221a1e14e14",
   "metadata": {
    "tags": []
   },
   "outputs": [],
   "source": [
    "k = [1]"
   ]
  },
  {
   "cell_type": "code",
   "execution_count": 46,
   "id": "28f5b128-5b7e-43a0-8935-4409e222265a",
   "metadata": {
    "tags": []
   },
   "outputs": [],
   "source": [
    "if not k: print(1)"
   ]
  },
  {
   "cell_type": "code",
   "execution_count": 47,
   "id": "c9d3f99c-fe55-41ca-b5a9-8c7e8b02c8b9",
   "metadata": {
    "tags": []
   },
   "outputs": [
    {
     "ename": "TypeError",
     "evalue": "'list' object cannot be interpreted as an integer",
     "output_type": "error",
     "traceback": [
      "\u001b[1;31m---------------------------------------------------------------------------\u001b[0m",
      "\u001b[1;31mTypeError\u001b[0m                                 Traceback (most recent call last)",
      "Cell \u001b[1;32mIn[47], line 3\u001b[0m\n\u001b[0;32m      1\u001b[0m plt\u001b[38;5;241m.\u001b[39mfigure(figsize \u001b[38;5;241m=\u001b[39m (\u001b[38;5;241m8\u001b[39m, \u001b[38;5;241m8\u001b[39m))\n\u001b[1;32m----> 3\u001b[0m \u001b[38;5;28;01mfor\u001b[39;00m i \u001b[38;5;129;01min\u001b[39;00m \u001b[38;5;28mrange\u001b[39m(k):\n\u001b[0;32m      4\u001b[0m     plt\u001b[38;5;241m.\u001b[39mscatter(price_rate[res_b \u001b[38;5;241m==\u001b[39m i, \u001b[38;5;241m0\u001b[39m], pdata[res_b \u001b[38;5;241m==\u001b[39m i, \u001b[38;5;241m3\u001b[39m] \u001b[38;5;241m*\u001b[39m (maxt \u001b[38;5;241m-\u001b[39m mint) \u001b[38;5;241m+\u001b[39m mint, alpha\u001b[38;5;241m=\u001b[39m\u001b[38;5;241m0.5\u001b[39m, label\u001b[38;5;241m=\u001b[39m\u001b[38;5;124mf\u001b[39m\u001b[38;5;124m'\u001b[39m\u001b[38;5;124mGroup \u001b[39m\u001b[38;5;132;01m{\u001b[39;00mi\u001b[38;5;241m+\u001b[39m\u001b[38;5;241m1\u001b[39m\u001b[38;5;132;01m}\u001b[39;00m\u001b[38;5;124m'\u001b[39m)\n\u001b[0;32m      6\u001b[0m plt\u001b[38;5;241m.\u001b[39mtitle(\u001b[38;5;124m'\u001b[39m\u001b[38;5;124mK = \u001b[39m\u001b[38;5;132;01m%d\u001b[39;00m\u001b[38;5;124m results\u001b[39m\u001b[38;5;124m'\u001b[39m\u001b[38;5;241m%\u001b[39mk , size \u001b[38;5;241m=\u001b[39m \u001b[38;5;241m15\u001b[39m)\n",
      "\u001b[1;31mTypeError\u001b[0m: 'list' object cannot be interpreted as an integer"
     ]
    },
    {
     "data": {
      "text/plain": [
       "<Figure size 800x800 with 0 Axes>"
      ]
     },
     "metadata": {},
     "output_type": "display_data"
    }
   ],
   "source": [
    "plt.figure(figsize = (8, 8))\n",
    "\n",
    "for i in range(k):\n",
    "    plt.scatter(price_rate[res_b == i, 0], pdata[res_b == i, 3] * (maxt - mint) + mint, alpha=0.5, label=f'Group {i+1}')\n",
    "\n",
    "plt.title('K = %d results'%k , size = 15)\n",
    "plt.legend()\n",
    "plt.xlabel('CPU Price Rate')\n",
    "plt.ylabel('Total Quotation Price')\n",
    "plt.show()"
   ]
  },
  {
   "cell_type": "code",
   "execution_count": null,
   "id": "93fd82e3-c377-4050-98ba-12a7007935cc",
   "metadata": {
    "tags": []
   },
   "outputs": [],
   "source": [
    "for i in range(k):\n",
    "    total_avg = np.average(np.array(prices['total'])[res_b == i])\n",
    "    print(f'Group{i+1} Average Total Price: {total_avg:.0f}')"
   ]
  },
  {
   "cell_type": "code",
   "execution_count": null,
   "id": "72d8f907-5cd5-42d1-a873-b5069bb19116",
   "metadata": {
    "tags": []
   },
   "outputs": [],
   "source": [
    "for i in range(k):\n",
    "    cpu_bench = 0\n",
    "    for cseq in np.array(pseqs['cpu'])[res_b == i]:\n",
    "        cpu_bench += cpu_df.loc[cpu_df['product_seq'] == cseq, 'bench_mark'].iloc[0]\n",
    "    group_len = len(np.array(pseqs['cpu'])[res_b == i])\n",
    "    print(f'Group{i+1} Average Bench: {cpu_bench/group_len:.0f}')"
   ]
  },
  {
   "cell_type": "code",
   "execution_count": null,
   "id": "89dfe8dc-048e-446f-b4a2-4ae40b61ce1e",
   "metadata": {
    "tags": []
   },
   "outputs": [],
   "source": [
    "lst = []\n",
    "for i in range(k):\n",
    "    cpu_price = 0\n",
    "    for cseq in np.array(pseqs['cpu'])[res_b == i]:\n",
    "        cpu_price += cpu_df.loc[cpu_df['product_seq'] == cseq, 'price'].iloc[0]\n",
    "    group_len = len(np.array(pseqs['cpu'])[res_b == i])\n",
    "    lst.append(cpu_price/group_len)\n",
    "    print(f'Group{i+1} Average Price: {cpu_price/group_len:.0f}')"
   ]
  },
  {
   "cell_type": "code",
   "execution_count": null,
   "id": "6acc7485-d352-4cca-b72b-c8ab1fd5daca",
   "metadata": {
    "tags": []
   },
   "outputs": [],
   "source": [
    "crate = []\n",
    "grate = []\n",
    "rrate = []\n",
    "for i in range(k):\n",
    "    cpu_rate = np.average(price_rate[res_b == i, 0]) * 100\n",
    "    gpu_rate = np.average(price_rate[res_b == i, 1]) * 100\n",
    "    ram_rate = np.average(price_rate[res_b == i, 2]) * 100\n",
    "    crate.append(cpu_rate)\n",
    "    grate.append(gpu_rate)\n",
    "    rrate.append(ram_rate)\n",
    "    total_avg = np.average(np.array(prices['total'])[res_b == i])\n",
    "    print(f'Group{i+1:2d} Average Rate: {cpu_rate:2.0f}%: {gpu_rate:2.0f}%: {ram_rate:1.0f}%: {np.sum([cpu_rate, gpu_rate, ram_rate]):2.0f}%: {total_avg:>7.0f}')"
   ]
  },
  {
   "cell_type": "code",
   "execution_count": null,
   "id": "a5262ce2-aa54-43ce-b2bb-5a3b4923ebbb",
   "metadata": {
    "tags": []
   },
   "outputs": [],
   "source": [
    "grouped = np.array([crate, grate, rrate]).T"
   ]
  },
  {
   "cell_type": "code",
   "execution_count": null,
   "id": "46de5382-df4c-45a6-b124-d667ba53c568",
   "metadata": {
    "tags": []
   },
   "outputs": [],
   "source": [
    "grouped[5, 0]"
   ]
  },
  {
   "cell_type": "markdown",
   "id": "01446a1b-4099-4156-8429-1b1ae17440b2",
   "metadata": {},
   "source": [
    "# 모델 저장"
   ]
  },
  {
   "cell_type": "code",
   "execution_count": null,
   "id": "b4a5a4de-db1e-45dc-99dc-8308b6a549e7",
   "metadata": {
    "tags": []
   },
   "outputs": [],
   "source": [
    "import pickle"
   ]
  },
  {
   "cell_type": "code",
   "execution_count": null,
   "id": "b7f98b16-ba8b-4cf0-832a-0326dccfe3d0",
   "metadata": {
    "tags": []
   },
   "outputs": [],
   "source": [
    "pickle.dump(model_b, open(\"rate_by_bench.pkl\", \"wb\"))"
   ]
  },
  {
   "cell_type": "code",
   "execution_count": null,
   "id": "9cd3fd77-4bc2-4683-8c35-c3bbb14f7418",
   "metadata": {
    "tags": []
   },
   "outputs": [],
   "source": [
    "pickle.dump(grouped, open(\"rate_group.pkl\", \"wb\"))"
   ]
  },
  {
   "cell_type": "code",
   "execution_count": null,
   "id": "aa8c14a1-9a4e-4cca-b26a-355393b51ba0",
   "metadata": {
    "tags": []
   },
   "outputs": [],
   "source": [
    "load_model = pickle.load(open(\"rate_by_bench.pkl\", \"rb\"))"
   ]
  },
  {
   "cell_type": "code",
   "execution_count": null,
   "id": "ad97085f-7a5e-485e-98ce-e3fad69b7280",
   "metadata": {
    "tags": []
   },
   "outputs": [],
   "source": [
    "load_group = pickle.load(open(\"rate_group.pkl\", \"rb\"))"
   ]
  },
  {
   "cell_type": "code",
   "execution_count": null,
   "id": "e6da6773-065b-4942-b679-a8141b8e9ed9",
   "metadata": {
    "tags": []
   },
   "outputs": [],
   "source": [
    "lres = load_model.predict(bdata)"
   ]
  },
  {
   "cell_type": "code",
   "execution_count": null,
   "id": "70dd062c-3468-4d51-a685-c10a87dd1eb0",
   "metadata": {},
   "outputs": [],
   "source": [
    "crate = []\n",
    "grate = []\n",
    "rrate = []\n",
    "for i in range(k):\n",
    "    cpu_rate = np.average(price_rate[lres == i, 0]) * 100\n",
    "    gpu_rate = np.average(price_rate[lres == i, 1]) * 100\n",
    "    ram_rate = np.average(price_rate[lres == i, 2]) * 100\n",
    "    crate.append(cpu_rate)\n",
    "    grate.append(gpu_rate)\n",
    "    rrate.append(ram_rate)\n",
    "    total_avg = np.average(np.array(prices['total'])[lres == i])\n",
    "    print(f'Group{i:2d} Average Rate: {cpu_rate:2.0f}%: {gpu_rate:2.0f}%: {ram_rate:1.0f}%: {np.sum([cpu_rate, gpu_rate, ram_rate]):2.0f}%: {total_avg:>7.0f}')"
   ]
  },
  {
   "cell_type": "code",
   "execution_count": null,
   "id": "645505b0-975d-4a0a-ada4-94c6b1b9008f",
   "metadata": {
    "tags": []
   },
   "outputs": [],
   "source": [
    "import time"
   ]
  },
  {
   "cell_type": "code",
   "execution_count": null,
   "id": "a61dceb2-7861-4f6e-b278-5ba39cb0e634",
   "metadata": {
    "tags": []
   },
   "outputs": [],
   "source": [
    "time.localtime().tm_year"
   ]
  },
  {
   "cell_type": "code",
   "execution_count": null,
   "id": "5dd6b52e-eda9-43bf-a3fa-769e8cbed4e5",
   "metadata": {},
   "outputs": [],
   "source": []
  }
 ],
 "metadata": {
  "kernelspec": {
   "display_name": "Python 3 (ipykernel)",
   "language": "python",
   "name": "python3"
  },
  "language_info": {
   "codemirror_mode": {
    "name": "ipython",
    "version": 3
   },
   "file_extension": ".py",
   "mimetype": "text/x-python",
   "name": "python",
   "nbconvert_exporter": "python",
   "pygments_lexer": "ipython3",
   "version": "3.11.4"
  }
 },
 "nbformat": 4,
 "nbformat_minor": 5
}
