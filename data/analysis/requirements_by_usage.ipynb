{
 "cells": [
  {
   "cell_type": "code",
   "execution_count": 2,
   "id": "45d15502-2b91-4ca9-ad0a-3a9f1f72d450",
   "metadata": {
    "tags": []
   },
   "outputs": [],
   "source": [
    "import numpy as np\n",
    "import pandas as pd"
   ]
  },
  {
   "cell_type": "code",
   "execution_count": 3,
   "id": "bf2672ec-c61f-4c74-9115-794638f03bb8",
   "metadata": {
    "tags": []
   },
   "outputs": [],
   "source": [
    "gr = pd.read_csv(f'../gamerequirements230926.csv')\n",
    "er = pd.read_csv(f'../etc_requirements231002.csv')"
   ]
  },
  {
   "cell_type": "code",
   "execution_count": 5,
   "id": "e98ad663-8dad-421a-91ba-d7d479adc8ad",
   "metadata": {
    "tags": []
   },
   "outputs": [],
   "source": [
    "reqs = pd.concat([gr, er])"
   ]
  },
  {
   "cell_type": "code",
   "execution_count": null,
   "id": "50be0599-061d-4b4d-aed4-0355e1bf35e6",
   "metadata": {},
   "outputs": [],
   "source": []
  }
 ],
 "metadata": {
  "kernelspec": {
   "display_name": "Python 3 (ipykernel)",
   "language": "python",
   "name": "python3"
  },
  "language_info": {
   "codemirror_mode": {
    "name": "ipython",
    "version": 3
   },
   "file_extension": ".py",
   "mimetype": "text/x-python",
   "name": "python",
   "nbconvert_exporter": "python",
   "pygments_lexer": "ipython3",
   "version": "3.11.4"
  }
 },
 "nbformat": 4,
 "nbformat_minor": 5
}
