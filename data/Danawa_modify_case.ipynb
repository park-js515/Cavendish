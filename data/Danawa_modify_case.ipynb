{
 "cells": [
  {
   "cell_type": "code",
   "execution_count": 1,
   "id": "8017fc7e",
   "metadata": {
    "tags": []
   },
   "outputs": [],
   "source": [
    "import pandas as pd\n",
    "import numpy as np\n",
    "import time\n",
    "import re"
   ]
  },
  {
   "cell_type": "code",
   "execution_count": 26,
   "id": "a29cdc90-5582-46c3-8bf4-38a2f5c2cec4",
   "metadata": {},
   "outputs": [],
   "source": [
    "case = pd.read_csv('case_final.csv')"
   ]
  },
  {
   "cell_type": "code",
   "execution_count": 29,
   "id": "ec1ec07e-3733-4f60-bba1-28fad5260aaa",
   "metadata": {},
   "outputs": [],
   "source": [
    "cols = ['bay_133', 'bay_89', 'bay_64']"
   ]
  },
  {
   "cell_type": "code",
   "execution_count": 30,
   "id": "2f130987-4acf-495a-a34d-fc98894ff361",
   "metadata": {},
   "outputs": [
    {
     "name": "stdout",
     "output_type": "stream",
     "text": [
      "[nan '최대 3' '1' '2' 'ODD 1' '4' '3' '슬림 ODD 1' '최대 1' '최대 2' '슬림 1' '최대 4'\n",
      " '9' '5' '3 이하' '3, 슬림ODD 1']\n",
      "[nan '3' '1' '2' '4' '9' '5']\n",
      "['2' '1' '3' '4' '10' nan '13' '5' '6' '최대 3' '8' '최대 2' '최대 4' '7' '최대 6'\n",
      " '최대 8' '최대 9' '12' '최대 1' '최대 10' '16' '최대 5' '9' '최대 7' '최대 15' '15'\n",
      " '최대 12' '28']\n",
      "['2' '1' '3' '4' '10' nan '13' '5' '6' '8' '7' '9' '12' '16' '15' '28']\n",
      "['2' '3' '1' nan '4' '8' '최대 6' '최대 3' '최대 7' '5' '6' '최대 2' '10' '최대 8'\n",
      " '최대 1' '11' '최대 5' '최대 4' '최대 9' '최대 15' '9' '7' '최대 14' '최대 10' '최대 12'\n",
      " '25']\n",
      "['2' '3' '1' nan '4' '8' '6' '7' '5' '10' '11' '9' '15' '14' '12' '25']\n"
     ]
    }
   ],
   "source": [
    "for col in cols:\n",
    "    print(case[col].unique())\n",
    "    for i in range(len(case[col])):\n",
    "        if pd.isnull(case[col][i]): continue\n",
    "        case.loc[i, col] = re.sub('(최대| |슬림|ODD|이하)', '', case.loc[i, col])\n",
    "        case.loc[i, col] = case.loc[i, col].replace(',1', '')\n",
    "    print(case[col].unique())"
   ]
  },
  {
   "cell_type": "code",
   "execution_count": 33,
   "id": "74c43114-c1e9-4ad8-acfc-6e76a0845624",
   "metadata": {},
   "outputs": [
    {
     "data": {
      "text/plain": [
       "array(['RGB', 'ARGB', nan, '화이트', '블루', 'RGB , White', '오렌지', '레드', '그린'],\n",
       "      dtype=object)"
      ]
     },
     "execution_count": 33,
     "metadata": {},
     "output_type": "execute_result"
    }
   ],
   "source": [
    "col = 'led_color'\n",
    "case[col].unique()"
   ]
  },
  {
   "cell_type": "code",
   "execution_count": 37,
   "id": "e3a74abc-18f8-4aed-abf1-bda75e74705b",
   "metadata": {},
   "outputs": [],
   "source": [
    "for i in range(len(case[col])):\n",
    "    if pd.isnull(case[col][i]): continue\n",
    "    case.loc[i, col] = case.loc[i, col].replace('RGB , White', 'RGB')"
   ]
  },
  {
   "cell_type": "code",
   "execution_count": 38,
   "id": "2c52f321-94bb-4a0f-8fc4-47aba1fd509e",
   "metadata": {},
   "outputs": [
    {
     "data": {
      "text/plain": [
       "array(['RGB', 'ARGB', nan, '화이트', '블루', '오렌지', '레드', '그린'], dtype=object)"
      ]
     },
     "execution_count": 38,
     "metadata": {},
     "output_type": "execute_result"
    }
   ],
   "source": [
    "case[col].unique()"
   ]
  },
  {
   "cell_type": "code",
   "execution_count": 40,
   "id": "fa9b763a-9d7e-4b15-827d-c55569aef331",
   "metadata": {},
   "outputs": [
    {
     "data": {
      "text/plain": [
       "array(['파워미포함', nan, '750W', '850W', '2000W', '(M-ATX)500W', '200W',\n",
       "       'DC to DC'], dtype=object)"
      ]
     },
     "execution_count": 40,
     "metadata": {},
     "output_type": "execute_result"
    }
   ],
   "source": [
    "col = 'power_included'\n",
    "case[col].unique()"
   ]
  },
  {
   "cell_type": "code",
   "execution_count": 39,
   "id": "8c3ee675-52f6-4bc8-b0ca-90396eb16150",
   "metadata": {},
   "outputs": [],
   "source": [
    "today = time.strftime('%y%m%d')\n",
    "pd.DataFrame(case).to_csv(f'part_case{today}.csv', index=None)"
   ]
  },
  {
   "cell_type": "code",
   "execution_count": null,
   "id": "3384dde8-8dda-42a9-a88e-24c81ff57b4d",
   "metadata": {},
   "outputs": [],
   "source": []
  }
 ],
 "metadata": {
  "kernelspec": {
   "display_name": "Python 3 (ipykernel)",
   "language": "python",
   "name": "python3"
  },
  "language_info": {
   "codemirror_mode": {
    "name": "ipython",
    "version": 3
   },
   "file_extension": ".py",
   "mimetype": "text/x-python",
   "name": "python",
   "nbconvert_exporter": "python",
   "pygments_lexer": "ipython3",
   "version": "3.9.12"
  }
 },
 "nbformat": 4,
 "nbformat_minor": 5
}
